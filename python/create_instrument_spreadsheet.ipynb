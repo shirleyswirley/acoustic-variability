{
 "cells": [
  {
   "cell_type": "code",
   "execution_count": 6,
   "metadata": {},
   "outputs": [],
   "source": [
    "import matplotlib.pyplot as plt\n",
    "import numpy as np\n",
    "import os\n",
    "import pandas as pd\n",
    "import re\n",
    "import xarray as xr"
   ]
  },
  {
   "cell_type": "code",
   "execution_count": 7,
   "metadata": {},
   "outputs": [],
   "source": [
    "# - Set data path\n",
    "dpath = '/opt/acoustic-variability/data/'"
   ]
  },
  {
   "cell_type": "code",
   "execution_count": 8,
   "metadata": {},
   "outputs": [],
   "source": [
    "# - Set saved out figure path\n",
    "figpath = '/opt/acoustic-variability/python/figures/'"
   ]
  },
  {
   "cell_type": "markdown",
   "metadata": {},
   "source": [
    "# Compile JASADCP metadata"
   ]
  },
  {
   "cell_type": "markdown",
   "metadata": {},
   "source": [
    "### Read JASADCP metadata into df"
   ]
  },
  {
   "cell_type": "code",
   "execution_count": 9,
   "metadata": {},
   "outputs": [],
   "source": [
    "fnames = sorted(os.listdir(dpath + 'JASADCP/ncfiles'))"
   ]
  },
  {
   "cell_type": "code",
   "execution_count": 10,
   "metadata": {},
   "outputs": [],
   "source": [
    "nc_counter = len(fnames)\n",
    "hardware_model = [None]*nc_counter\n",
    "serial_numbers = [None]*nc_counter\n",
    "transmit_frequency = [None]*nc_counter\n",
    "phased_array = [None]*nc_counter\n",
    "cruise_beg_date = [None]*nc_counter\n",
    "blanking_interval = [None]*nc_counter\n",
    "bin_length = [None]*nc_counter\n",
    "transducer_beam_angle = [None]*nc_counter\n",
    "transmit_pulse_length = [None]*nc_counter\n",
    "comments = [None]*nc_counter\n",
    "biomass_dtmn = [None]*nc_counter"
   ]
  },
  {
   "cell_type": "code",
   "execution_count": 11,
   "metadata": {},
   "outputs": [],
   "source": [
    "ifile = 0\n",
    "for fname in fnames:\n",
    "    ncfile = dpath + 'JASADCP/ncfiles/' + fname\n",
    "    ncnow = xr.open_dataset(ncfile)\n",
    "    strnow = ncnow.attrs['cruise_sonar_summary']\n",
    "    # 1.) hardware_model\n",
    "    hardware_modelnow = re.findall(\"HARDWARE MODEL *: *((?:\\S+ )*\\S+)\", strnow)\n",
    "    if hardware_modelnow:\n",
    "        hardware_model[ifile] = hardware_modelnow[0]\n",
    "    elif not hardware_modelnow: # if hardware_modelnow is empty\n",
    "        manufacturernow = re.findall(\"MANUFACTURER *: *((?:\\S+ )*\\S+)\", strnow)\n",
    "        if manufacturernow:\n",
    "            hardware_model[ifile] = manufacturernow[0]\n",
    "    # 2.) serial_numbers\n",
    "    serial_numbersnow = re.findall(\"SERIAL NUMBERS *: *((?:\\S+ )*\\S+)\", strnow)\n",
    "    if serial_numbersnow:\n",
    "        serial_numbers[ifile] = serial_numbersnow[0]\n",
    "    # 3.) transmit_frequency\n",
    "    transmit_frequencynow = re.findall(\"TRANSMIT FREQUENCY *: *((?:\\S+ )*\\S+)\", strnow)\n",
    "    if transmit_frequencynow:\n",
    "        transmit_frequency[ifile] = transmit_frequencynow[0]\n",
    "    # 4.) phased_array \n",
    "    phased_arraynow = re.findall(\"phased.array\", strnow, re.IGNORECASE)\n",
    "    if phased_arraynow:\n",
    "        sep = '///'; phased_arraynow = sep.join(phased_arraynow)\n",
    "        phased_array[ifile] = phased_arraynow\n",
    "    # 5.) cruise_beg_date\n",
    "    cruise_beg_date[ifile] = ncnow['time'][0].values\n",
    "    # 6.) blanking_interval\n",
    "    blanking_intervalnow = re.findall(\"BLANKING INTERVAL *: *((?:\\S+ )*\\S+)\", strnow)\n",
    "    if blanking_intervalnow:\n",
    "        blanking_interval[ifile] = blanking_intervalnow[0]\n",
    "    # 7.) bin_length\n",
    "    bin_lengthnow = re.findall(\"BIN LENGTH *: *((?:\\S+ )*\\S+)\", strnow)\n",
    "    if bin_lengthnow:\n",
    "        bin_length[ifile] = bin_lengthnow[0]\n",
    "    # 8.) transducer_beam_angle\n",
    "    transducer_beam_anglenow = re.findall(\"TRANSDUCER BEAM ANGLE *: *((?:\\S+ )*\\S+)\", strnow)\n",
    "    if transducer_beam_anglenow:\n",
    "        transducer_beam_angle[ifile] = transducer_beam_anglenow[0]\n",
    "    # 9.) transmit_pulse_length\n",
    "    transmit_pulse_lengthnow = re.findall(\"TRANSMIT PULSE LENGTH *: *((?:\\S+ )*\\S+)\", strnow)\n",
    "    if transmit_pulse_lengthnow:\n",
    "        transmit_pulse_length[ifile] = transmit_pulse_lengthnow[0]\n",
    "    # 10.) comments\n",
    "    commentsnow = re.findall(\"COMMENTS *: *((?:\\S+ )*\\S+)\", strnow)\n",
    "    if commentsnow:\n",
    "        sep = '///'; commentsnow = sep.join(commentsnow)\n",
    "        comments[ifile] = commentsnow\n",
    "    # 11.) biomass_dtmn\n",
    "    biomass_dtmnnow = re.findall(\"BIOMASS DETERMINATION *: *((?:\\S+ )*\\S+)\", strnow)\n",
    "    if biomass_dtmnnow:\n",
    "        biomass_dtmn[ifile] = biomass_dtmnnow[0]\n",
    "    ifile = ifile+1"
   ]
  },
  {
   "cell_type": "code",
   "execution_count": 12,
   "metadata": {},
   "outputs": [],
   "source": [
    "df = pd.concat(\n",
    "    [pd.Series(hardware_model,name='hardware_model'), pd.Series(serial_numbers,name='serial_numbers'),\n",
    "     pd.Series(transmit_frequency,name='transmit_frequency'),pd.Series(phased_array,name='phased_array'),\n",
    "     pd.Series(cruise_beg_date,name='cruise_beg_date'),pd.Series(blanking_interval,name='blanking_interval'),\n",
    "     pd.Series(bin_length,name='bin_length'),pd.Series(transducer_beam_angle,name='transducer_beam_angle'),\n",
    "     pd.Series(transmit_pulse_length,name='transmit_pulse_length'),pd.Series(comments,name='comments')],\n",
    "     axis=1)"
   ]
  },
  {
   "cell_type": "code",
   "execution_count": 13,
   "metadata": {},
   "outputs": [],
   "source": [
    "# - Define fxns to describe bandwidth from comments and hardware_model\n",
    "\n",
    "# --> Checks for hardware_model names containing NB = narrowband\n",
    "#dfnow = df.dropna(subset=['hardware_model'])\n",
    "#dfnow[dfnow['hardware_model'].str.contains('NB')]['hardware_model'].unique()\n",
    "# --> Results are:\n",
    "# array(['NB 150 (VM-150-18HP)', 'NB 150', 'VM-150 (NB)'], dtype=object)\n",
    "\n",
    "def set_bandwidth_from_comments(row):\n",
    "    if row['comments']:\n",
    "        if (re.search('broad', row['comments'], re.IGNORECASE) and\n",
    "                re.search('narro', row['comments'], re.IGNORECASE)):\n",
    "            return 'both broad and narrow?' \n",
    "        elif (re.search('broad', row['comments'], re.IGNORECASE) and\n",
    "                re.search('phased.array', row['comments'], re.IGNORECASE)):\n",
    "            return 'both broad and phased.array?' \n",
    "        elif re.search('broad', row['comments'], re.IGNORECASE):\n",
    "            return 'broad'\n",
    "        elif (re.search('narro', row['comments'], re.IGNORECASE) or\n",
    "                re.search('phased.array', row['comments'], re.IGNORECASE)): \n",
    "            return 'narrow'\n",
    "        else:\n",
    "            return 'unknown'\n",
    "    else:\n",
    "        return 'unknown'\n",
    "\n",
    "def set_bandwidth_from_hardware_model(row):\n",
    "    if row['hardware_model']:\n",
    "        if re.search('broad', row['hardware_model'], re.IGNORECASE):\n",
    "            return 'broad'\n",
    "        elif (re.search('narro', row['hardware_model'], re.IGNORECASE) or\n",
    "                re.search('nb', row['hardware_model'], re.IGNORECASE) or\n",
    "                  re.search('phased.array', row['hardware_model'], re.IGNORECASE)):\n",
    "            return 'narrow'\n",
    "        else:\n",
    "            return 'unknown'\n",
    "    else:\n",
    "        return 'unknown'"
   ]
  },
  {
   "cell_type": "code",
   "execution_count": 14,
   "metadata": {},
   "outputs": [],
   "source": [
    "df['bw_from_comments']=df.apply(set_bandwidth_from_comments, axis=1)\n",
    "df['bw_from_hardware_model']=df.apply(set_bandwidth_from_hardware_model, axis=1)"
   ]
  },
  {
   "cell_type": "code",
   "execution_count": 15,
   "metadata": {},
   "outputs": [
    {
     "data": {
      "text/html": [
       "<div>\n",
       "<style scoped>\n",
       "    .dataframe tbody tr th:only-of-type {\n",
       "        vertical-align: middle;\n",
       "    }\n",
       "\n",
       "    .dataframe tbody tr th {\n",
       "        vertical-align: top;\n",
       "    }\n",
       "\n",
       "    .dataframe thead th {\n",
       "        text-align: right;\n",
       "    }\n",
       "</style>\n",
       "<table border=\"1\" class=\"dataframe\">\n",
       "  <thead>\n",
       "    <tr style=\"text-align: right;\">\n",
       "      <th></th>\n",
       "      <th>hardware_model</th>\n",
       "      <th>serial_numbers</th>\n",
       "      <th>transmit_frequency</th>\n",
       "      <th>phased_array</th>\n",
       "      <th>cruise_beg_date</th>\n",
       "      <th>blanking_interval</th>\n",
       "      <th>bin_length</th>\n",
       "      <th>transducer_beam_angle</th>\n",
       "      <th>transmit_pulse_length</th>\n",
       "      <th>comments</th>\n",
       "      <th>bw_from_comments</th>\n",
       "      <th>bw_from_hardware_model</th>\n",
       "    </tr>\n",
       "  </thead>\n",
       "  <tbody>\n",
       "    <tr>\n",
       "      <td>0</td>\n",
       "      <td>RD-VM150</td>\n",
       "      <td>None</td>\n",
       "      <td>150 kHz except</td>\n",
       "      <td>None</td>\n",
       "      <td>1992-11-08 02:21:12.000000000</td>\n",
       "      <td>4 m</td>\n",
       "      <td>8 m</td>\n",
       "      <td>30 deg</td>\n",
       "      <td>8 m</td>\n",
       "      <td>very little bottom tracking///At several point...</td>\n",
       "      <td>unknown</td>\n",
       "      <td>unknown</td>\n",
       "    </tr>\n",
       "    <tr>\n",
       "      <td>1</td>\n",
       "      <td>RD-VM150</td>\n",
       "      <td>None</td>\n",
       "      <td>None</td>\n",
       "      <td>None</td>\n",
       "      <td>1992-12-12 02:18:41.000000000</td>\n",
       "      <td>4 m</td>\n",
       "      <td>8 m</td>\n",
       "      <td>None</td>\n",
       "      <td>8 m</td>\n",
       "      <td>None</td>\n",
       "      <td>unknown</td>\n",
       "      <td>unknown</td>\n",
       "    </tr>\n",
       "    <tr>\n",
       "      <td>2</td>\n",
       "      <td>RD-VM150</td>\n",
       "      <td>None</td>\n",
       "      <td>None</td>\n",
       "      <td>None</td>\n",
       "      <td>1993-01-23 09:47:09.000000000</td>\n",
       "      <td>4 m</td>\n",
       "      <td>8 m</td>\n",
       "      <td>None</td>\n",
       "      <td>16 m</td>\n",
       "      <td>None</td>\n",
       "      <td>unknown</td>\n",
       "      <td>unknown</td>\n",
       "    </tr>\n",
       "    <tr>\n",
       "      <td>3</td>\n",
       "      <td>RD-VM150</td>\n",
       "      <td>None</td>\n",
       "      <td>153 kHz</td>\n",
       "      <td>None</td>\n",
       "      <td>1992-10-27 23:36:48.999999996</td>\n",
       "      <td>4 m</td>\n",
       "      <td>8 m</td>\n",
       "      <td>30 deg.</td>\n",
       "      <td>16 m</td>\n",
       "      <td>data quality good</td>\n",
       "      <td>unknown</td>\n",
       "      <td>unknown</td>\n",
       "    </tr>\n",
       "    <tr>\n",
       "      <td>4</td>\n",
       "      <td>RD-VM0150</td>\n",
       "      <td>None</td>\n",
       "      <td>153 kHz</td>\n",
       "      <td>None</td>\n",
       "      <td>1992-12-02 07:00:53.999999996</td>\n",
       "      <td>4m</td>\n",
       "      <td>8m</td>\n",
       "      <td>30 deg.</td>\n",
       "      <td>8m</td>\n",
       "      <td>None</td>\n",
       "      <td>unknown</td>\n",
       "      <td>unknown</td>\n",
       "    </tr>\n",
       "  </tbody>\n",
       "</table>\n",
       "</div>"
      ],
      "text/plain": [
       "  hardware_model serial_numbers transmit_frequency phased_array  \\\n",
       "0       RD-VM150           None     150 kHz except         None   \n",
       "1       RD-VM150           None               None         None   \n",
       "2       RD-VM150           None               None         None   \n",
       "3       RD-VM150           None            153 kHz         None   \n",
       "4      RD-VM0150           None            153 kHz         None   \n",
       "\n",
       "                cruise_beg_date blanking_interval bin_length  \\\n",
       "0 1992-11-08 02:21:12.000000000               4 m        8 m   \n",
       "1 1992-12-12 02:18:41.000000000               4 m        8 m   \n",
       "2 1993-01-23 09:47:09.000000000               4 m        8 m   \n",
       "3 1992-10-27 23:36:48.999999996               4 m        8 m   \n",
       "4 1992-12-02 07:00:53.999999996                4m         8m   \n",
       "\n",
       "  transducer_beam_angle transmit_pulse_length  \\\n",
       "0                30 deg                   8 m   \n",
       "1                  None                   8 m   \n",
       "2                  None                  16 m   \n",
       "3               30 deg.                  16 m   \n",
       "4               30 deg.                    8m   \n",
       "\n",
       "                                            comments bw_from_comments  \\\n",
       "0  very little bottom tracking///At several point...          unknown   \n",
       "1                                               None          unknown   \n",
       "2                                               None          unknown   \n",
       "3                                  data quality good          unknown   \n",
       "4                                               None          unknown   \n",
       "\n",
       "  bw_from_hardware_model  \n",
       "0                unknown  \n",
       "1                unknown  \n",
       "2                unknown  \n",
       "3                unknown  \n",
       "4                unknown  "
      ]
     },
     "execution_count": 15,
     "metadata": {},
     "output_type": "execute_result"
    }
   ],
   "source": [
    "#pd.set_option('max_rows', 100)\n",
    "#pd.set_option('display.max_colwidth', -1)\n",
    "df.head()"
   ]
  },
  {
   "cell_type": "markdown",
   "metadata": {},
   "source": [
    "### Uniformly rename hardware_model names"
   ]
  },
  {
   "cell_type": "code",
   "execution_count": 16,
   "metadata": {},
   "outputs": [],
   "source": [
    "# Save out all unique hardware_model names + # of occurrences\n",
    "df['hardware_model'].value_counts().to_csv('jasadcp_unique_instruments.csv', header=['hardware_model count'])"
   ]
  },
  {
   "cell_type": "markdown",
   "metadata": {},
   "source": [
    "**All names to become 'Ocean Surveyor 38'**:  \n",
    "'Ocean Surveyer 38', 'Ocean Surveyor 38'\n",
    "\n",
    "**All names to become 'Ocean Surveyor 75'**:  \n",
    "'Ocean Surveyor 75', 'OS75 narrowband', 'Ocean Surveyer 75', 'Ocean Surveyor 75 narrowband', 'OS75 (Ocean Surveyor)', 'Ocean Surveyor 75 broadband', 'Ocean Surveyor OS75', 'OS75', 'Ocean Surveryor 75', 'Ocean Surveyor 75 narroband', 'Ocean Surveyor 75 Broadband', 'Ocean Surveyor 75 Narrowband', '75KHz Ocean Surveyor narrowband', 'Ocean Surveyor 75 kHz', 'RDI 75KHz Ocean Surveyor', 'Ocean Surveyor 75 kHz Phased Array', '75KHz Ocean Surveyor'\n",
    "\n",
    "**All names to become 'Ocean Surveyor 150'**:  \n",
    "'Ocean Surveyer 150', 'Ocean Surveryor 150', 'Ocean Surveyor 150 narroband', 'Ocean Surveyor 150 narrowband', 'Ocean Surveyor 150 broadband'\n",
    "\n",
    "**All names to become 'Ocean Surveyor II 38'**:  \n",
    "'Ocean Surveyor II (OS-II 38)'\n",
    "\n",
    "**All names to become 'Ocean Surveyor II 75'**:  \n",
    "'OSII75S phased-array'\n",
    "\n",
    "**All names to become 'VM-75'**:\n",
    "'VM75 narrowband'\n",
    "\n",
    "**All names to become 'VM-150'**:  \n",
    "'VM-150', 'RD-VM150', 'VM-150 Narrowband', 'RD-VM150 Narrow band', 'VM-150 (NB)', 'VM-150 narrowband', 'RDI VM150 narrowband', 'VM150', 'RD-VM150 narrowband', 'RD-VM0150'\n",
    "\n",
    "**All names to become 'VM-300'**:  \n",
    "'VM-300', 'RD-VM300'\n",
    "\n",
    "**All names to become 'VM-150-18HP'**:  \n",
    "'NB 150 (VM-150-18HP)'\n",
    "\n",
    "**All names to become 'Workhorse 300'**:  \n",
    "'WorkHorse 300', 'Workhorse 300', 'Workhorse 300; 300 kHz' \n",
    "\n",
    "**All names to become 'Workhorse 1200'**:  \n",
    "'Workhorse 1200'\n",
    "\n",
    "**All names to become 'Workhorse Mariner 300'**:  \n",
    "'Workhorse Mariner (300 kHz)'\n",
    "\n",
    "**All names to become 'Workhorse Mariner 600'**:  \n",
    "'WorkHorse Mariner 600'\n",
    "\n",
    "**All names to become 'DCP4400A'**:  \n",
    "'DCP4400A'\n",
    "\n",
    "**All unknown**:  \n",
    "'Narrowband 150', 'NB 150', 'VM-150 and VM-300', '150', 'narrowband 75 kHz', 'RDI', '150 narrowband', '150 kHz Narrowband', 'Broadband 150', 'Broad Band 150', 'RD-VM', '150 kHz hull mounted ADCP', 'Narrowband', 'Narrowband 300', '150 kHz', 'Direct-Read 150 kHz Narrowband', 'Vessel-mounted 150 kHz Narrowband', 'Narrow Band 150Khz', 'Vessel-mount 150 kHz Narrowband', '1) Narrow Band 150 kHz', '153.6 kHz hull mounted ADCP', '300 narrow band', '150 kHz broadband', '150 kHz narrow band', '\"150 broad band, concave\"', 'Vessel-Mount 150 kHz Narrowband'"
   ]
  },
  {
   "cell_type": "markdown",
   "metadata": {},
   "source": [
    "### Dealing w/ the unknown hardware_model names"
   ]
  },
  {
   "cell_type": "code",
   "execution_count": 28,
   "metadata": {},
   "outputs": [],
   "source": [
    "# Check a few of the nc files to see if there is more info on the instrument;\n",
    "# after printing out fnamesnow, use ncdump -h on tern to look at metadata of those files\n",
    "# --> doesn't seem to be more info gleaned :( when I looked at a bunch of files\n",
    "idxsnow = df[df['hardware_model']=='VM-150 and VM-300'].index.tolist()\n",
    "fnamesnow = [fnames[i] for i in idxsnow] \n",
    "fnamesnow"
   ]
  },
  {
   "cell_type": "markdown",
   "metadata": {},
   "source": [
    "#### Let's just try to make another spreadsheet for RDI that has some extra info. Maybe they can figure out which instrument it is from this extra info.\n",
    "\n",
    "**Info to add when the hardware model is unknown:**  \n",
    "'CHIEF SCIENTIST ON SHIP', 'PERSONNEL IN CHARGE',\n",
    "'MANUFACTURER', 'HARDWARE MODEL' (already in df), 'SERIAL NUMBERS' (already in df),  \n",
    "'TRANSMIT FREQUENCY' (already in df), 'TRANSDUCER CONFIGURATION',  \n",
    "'DEPTH RANGE', 'BIN LENGTH' (already in df), 'NUMBER OF BINS',  \n",
    "'TRANSMIT PULSE LENGTH' (already in df), 'BLANKING INTERVAL' (already in df), 'ENSEMBLE AVERAGING INTERVAL'"
   ]
  },
  {
   "cell_type": "code",
   "execution_count": null,
   "metadata": {},
   "outputs": [],
   "source": []
  },
  {
   "cell_type": "code",
   "execution_count": null,
   "metadata": {},
   "outputs": [],
   "source": [
    "df.to_csv('jasadcp_metadata_for_TRDI.csv')"
   ]
  },
  {
   "cell_type": "code",
   "execution_count": null,
   "metadata": {},
   "outputs": [],
   "source": [
    "df.dtypes # datetime64 doesn't go to csv right"
   ]
  },
  {
   "cell_type": "markdown",
   "metadata": {},
   "source": [
    "# Compile TAO mooring metadata"
   ]
  },
  {
   "cell_type": "code",
   "execution_count": null,
   "metadata": {},
   "outputs": [],
   "source": [
    "os.listdir(dpath + 'TAO_NDBC/ncfiles')"
   ]
  },
  {
   "cell_type": "code",
   "execution_count": null,
   "metadata": {},
   "outputs": [],
   "source": [
    "ncfile = dpath + 'TAO_NDBC/ncfiles/TAO_T0N170W_KA019-20151201_D_ADCP.nc'\n",
    "nct = xr.open_dataset(ncfile)"
   ]
  },
  {
   "cell_type": "code",
   "execution_count": null,
   "metadata": {},
   "outputs": [],
   "source": [
    "nct['INTENSITY']"
   ]
  },
  {
   "cell_type": "code",
   "execution_count": null,
   "metadata": {},
   "outputs": [],
   "source": [
    "#nct['ADCP_CONFIG'].attrs['model_name']\n",
    "nct['ADCP_CONFIG'].attrs"
   ]
  },
  {
   "cell_type": "code",
   "execution_count": null,
   "metadata": {},
   "outputs": [],
   "source": [
    "nct['INTENSITY'].plot()"
   ]
  },
  {
   "cell_type": "markdown",
   "metadata": {},
   "source": [
    "# TESTING/OLD"
   ]
  },
  {
   "cell_type": "code",
   "execution_count": null,
   "metadata": {},
   "outputs": [],
   "source": [
    "#ncfile = dpath + 'JASADCP/ncfiles/01305_short.nc'\n",
    "#ncfile = dpath + 'JASADCP/ncfiles/00200_short.nc'\n",
    "ncfile = dpath + 'JASADCP/ncfiles/02000_short.nc'\n",
    "ncj = xr.open_dataset(ncfile)\n",
    "ncj.attrs['cruise_sonar_summary'].split('\\n')\n",
    "string = ncj.attrs['cruise_sonar_summary']\n",
    "\n",
    "# USE THIS ONE!!!\n",
    "# hardware_model, serial_numbers, transmit_frequency, phased_array,\n",
    "# cruise_beg_date, blanking_interval, bin_length, transducer_beam_angle,\n",
    "# transmit_pulse_length, ...C (from Mullison 2017 Table 2),\n",
    "# transmit_power (from Mullison 2017 Table 2)??\n",
    "hardware_model = re.findall(\"HARDWARE MODEL *: *((?:\\w+ )*\\w+)\", string)\n",
    "blanking_interval = re.findall(\"BLANKING INTERVAL *: *((?:\\w+ )*\\w+)\", string)\n",
    "phased_array = re.findall(\"(phased array)\", string, re.IGNORECASE)[0]\n",
    "cruise_beg_date = ncj.time[0]\n",
    "# \\w = [A-Za-z0-9]"
   ]
  },
  {
   "cell_type": "code",
   "execution_count": null,
   "metadata": {},
   "outputs": [],
   "source": [
    "print(df[df['phased_array']=='phased array']['hardware_model'].to_string())"
   ]
  },
  {
   "cell_type": "code",
   "execution_count": null,
   "metadata": {},
   "outputs": [],
   "source": [
    "fnames = []\n",
    "for fname in os.listdir(dpath + 'JASADCP/ncfiles/'):\n",
    "    if fname.endswith('.nc'):\n",
    "        fnames.append(fname)"
   ]
  },
  {
   "cell_type": "code",
   "execution_count": null,
   "metadata": {},
   "outputs": [],
   "source": [
    "fnames[2236]"
   ]
  },
  {
   "cell_type": "code",
   "execution_count": null,
   "metadata": {},
   "outputs": [],
   "source": [
    "[i for i,x in enumerate(hardware_model) if not x]"
   ]
  },
  {
   "cell_type": "code",
   "execution_count": null,
   "metadata": {},
   "outputs": [],
   "source": [
    "# hardware_model troubleshooting\n",
    "# 5, 10, 11\n",
    "# 00573_short.nc - NB 150 (VM-150-18HP)\n",
    "# 00139_short.nc - VM-150 \n",
    "# 01305_short.nc - RD-VM150 Narrow band \n",
    "# 43\n",
    "# 00726_short.nc - blank with name under MANUFACTURER "
   ]
  },
  {
   "cell_type": "code",
   "execution_count": null,
   "metadata": {},
   "outputs": [],
   "source": [
    "ncfile = dpath + 'JASADCP/ncfiles/01872_short.nc'\n",
    "ncj = xr.open_dataset(ncfile)\n",
    "ncj.attrs['cruise_sonar_summary'].split('\\n')"
   ]
  }
 ],
 "metadata": {
  "kernelspec": {
   "display_name": "Python 3",
   "language": "python",
   "name": "python3"
  },
  "language_info": {
   "codemirror_mode": {
    "name": "ipython",
    "version": 3
   },
   "file_extension": ".py",
   "mimetype": "text/x-python",
   "name": "python",
   "nbconvert_exporter": "python",
   "pygments_lexer": "ipython3",
   "version": "3.7.3"
  }
 },
 "nbformat": 4,
 "nbformat_minor": 4
}
