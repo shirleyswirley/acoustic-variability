{
 "cells": [
  {
   "cell_type": "code",
   "execution_count": 3,
   "metadata": {},
   "outputs": [],
   "source": [
    "import matplotlib.pyplot as plt\n",
    "import numpy as np\n",
    "import os\n",
    "import pandas as pd\n",
    "import re\n",
    "import xarray as xr"
   ]
  },
  {
   "cell_type": "code",
   "execution_count": 4,
   "metadata": {},
   "outputs": [],
   "source": [
    "%run create_JASADCP_metadata_df.ipynb"
   ]
  },
  {
   "cell_type": "markdown",
   "metadata": {},
   "source": [
    "# Calculate Sv for each ncfile"
   ]
  },
  {
   "cell_type": "markdown",
   "metadata": {},
   "source": [
    "Mean volume backscattering strength eqn:  \n",
    "$S_v = C + 10log((T_x + 273.16)*R^2) - L_{DBM} - P_{DBW} + 2 \\alpha R + 10log(10^{k_c(E-E_r)/10} - 1)$"
   ]
  },
  {
   "cell_type": "markdown",
   "metadata": {},
   "source": [
    "If NBADCP, C eqn:  \n",
    "$C = 10log[\\frac{4.47 x 10^{-20} K_2 K_s}{c}]$"
   ]
  },
  {
   "cell_type": "markdown",
   "metadata": {},
   "source": [
    "# CONTINUE HERE\n",
    "If NBADCP, R eqn:  \n",
    "$C = 10log[\\frac{4.47 x 10^{-20} K_2 K_s}{c}]$"
   ]
  },
  {
   "cell_type": "markdown",
   "metadata": {},
   "source": [
    "For each ncfile, save the following variables along with Sv:\n",
    "- Tx (temp at transducer, dims = time, units = degC)\n",
    "- R (range, NBADCP samples in the last quarter of each depth cell/OS at midpt, dims = depth, units = m)\n",
    "- Kc (RSSI slope, constant, units = dB/count)\n",
    "- E (RSSI, dims = depth x time, units = counts)\n",
    "- Er (noise floor, constant, units = counts) \n",
    "- P (transmit pulse length, 10log(P) = LDBM, constant, units = m)\n",
    "- K1 (assumed or measured transmit power, 10log(K1) = PDBW, dims = time, units = Watts)\n",
    "- alpha (attenuation coefficient)\n",
    "- c (speed of sound, dims = depth x time, units = m/s)\n",
    "- theta (angle of the transducer beams to vertical, constant, units = degrees)\n",
    "- D (depth cell length, constant, units = m)\n",
    "- Ks (if applicable - only for NBADCP?)\n",
    "- K2 (if applicable - only for NBADCP?)\n",
    "- K1c (if applicable - only for NBADCP?)\n",
    "- B (blank beyond transmit, if applicable - only for NBADCP?, constant, units = m)\n",
    "\n",
    "Metadata:\n",
    "- Instrument type\n",
    "- Instrument SN\n",
    "- Transmit frequency"
   ]
  },
  {
   "cell_type": "markdown",
   "metadata": {},
   "source": [
    "### Narrow df down to Pacific region, OS instruments for now"
   ]
  },
  {
   "cell_type": "code",
   "execution_count": 5,
   "metadata": {},
   "outputs": [
    {
     "name": "stdout",
     "output_type": "stream",
     "text": [
      "33\n",
      "2254\n",
      "2221\n",
      "1274\n",
      "611\n"
     ]
    }
   ],
   "source": [
    "print(df['geo_region'].isnull().sum())\n",
    "print(len(df))\n",
    "dfnow = df.dropna(subset=['geo_region'])\n",
    "print(len(dfnow))\n",
    "dfnow = dfnow[dfnow['geo_region'].str.contains('acific')]\n",
    "print(len(dfnow))\n",
    "dfnow = dfnow[dfnow['instrument_name'].str.contains('OS')]\n",
    "print(len(dfnow))\n",
    "dfnow = dfnow[(dfnow['instrument_name']!='OS-II-38')&(dfnow['instrument_name']!='OS-II-75')] "
   ]
  },
  {
   "cell_type": "markdown",
   "metadata": {},
   "source": [
    "## Load table of C, PDBW values"
   ]
  },
  {
   "cell_type": "code",
   "execution_count": null,
   "metadata": {},
   "outputs": [],
   "source": [
    "cpdbw = pd.read_csv(dpath + 'typical_system_characteristics_table2_mullison2017.csv')"
   ]
  },
  {
   "cell_type": "code",
   "execution_count": 9,
   "metadata": {},
   "outputs": [
    {
     "data": {
      "text/html": [
       "<div>\n",
       "<style scoped>\n",
       "    .dataframe tbody tr th:only-of-type {\n",
       "        vertical-align: middle;\n",
       "    }\n",
       "\n",
       "    .dataframe tbody tr th {\n",
       "        vertical-align: top;\n",
       "    }\n",
       "\n",
       "    .dataframe thead th {\n",
       "        text-align: right;\n",
       "    }\n",
       "</style>\n",
       "<table border=\"1\" class=\"dataframe\">\n",
       "  <thead>\n",
       "    <tr style=\"text-align: right;\">\n",
       "      <th></th>\n",
       "      <th>Instrument</th>\n",
       "      <th>C (25%) (dB)</th>\n",
       "      <th>C (6%) (dB)</th>\n",
       "      <th>P_DBW Battery (dB)</th>\n",
       "      <th>P_DBW Power Supply (dB)</th>\n",
       "      <th>Rayleigh Distance (m)</th>\n",
       "    </tr>\n",
       "  </thead>\n",
       "  <tbody>\n",
       "    <tr>\n",
       "      <td>0</td>\n",
       "      <td>ChannelMaster 300</td>\n",
       "      <td>-143.44</td>\n",
       "      <td>-152.26</td>\n",
       "      <td>NaN</td>\n",
       "      <td>15.1</td>\n",
       "      <td>2.69</td>\n",
       "    </tr>\n",
       "    <tr>\n",
       "      <td>1</td>\n",
       "      <td>ChannelMaster 600</td>\n",
       "      <td>-139.08</td>\n",
       "      <td>-147.28</td>\n",
       "      <td>NaN</td>\n",
       "      <td>12.0</td>\n",
       "      <td>2.96</td>\n",
       "    </tr>\n",
       "    <tr>\n",
       "      <td>2</td>\n",
       "      <td>ChannelMaster 1200</td>\n",
       "      <td>-127.13</td>\n",
       "      <td>-137.17</td>\n",
       "      <td>NaN</td>\n",
       "      <td>9.0</td>\n",
       "      <td>1.71</td>\n",
       "    </tr>\n",
       "    <tr>\n",
       "      <td>3</td>\n",
       "      <td>Explorer Phased Array</td>\n",
       "      <td>NaN</td>\n",
       "      <td>-139.14</td>\n",
       "      <td>NaN</td>\n",
       "      <td>9.0</td>\n",
       "      <td>1.67</td>\n",
       "    </tr>\n",
       "    <tr>\n",
       "      <td>4</td>\n",
       "      <td>Explorer Piston</td>\n",
       "      <td>-132.73</td>\n",
       "      <td>-140.95</td>\n",
       "      <td>NaN</td>\n",
       "      <td>3.0</td>\n",
       "      <td>1.35</td>\n",
       "    </tr>\n",
       "  </tbody>\n",
       "</table>\n",
       "</div>"
      ],
      "text/plain": [
       "              Instrument  C (25%) (dB)  C (6%) (dB)  P_DBW Battery (dB)  \\\n",
       "0      ChannelMaster 300       -143.44      -152.26                 NaN   \n",
       "1      ChannelMaster 600       -139.08      -147.28                 NaN   \n",
       "2     ChannelMaster 1200       -127.13      -137.17                 NaN   \n",
       "3  Explorer Phased Array           NaN      -139.14                 NaN   \n",
       "4        Explorer Piston       -132.73      -140.95                 NaN   \n",
       "\n",
       "   P_DBW Power Supply (dB)  Rayleigh Distance (m)  \n",
       "0                     15.1                   2.69  \n",
       "1                     12.0                   2.96  \n",
       "2                      9.0                   1.71  \n",
       "3                      9.0                   1.67  \n",
       "4                      3.0                   1.35  "
      ]
     },
     "execution_count": 9,
     "metadata": {},
     "output_type": "execute_result"
    }
   ],
   "source": [
    "cpdbw.head()"
   ]
  },
  {
   "cell_type": "markdown",
   "metadata": {},
   "source": [
    "## Load table of kc, Er values"
   ]
  },
  {
   "cell_type": "markdown",
   "metadata": {},
   "source": [
    "#### Nominal Kc values from TRDI field service email:\n",
    "BBADCP: 0.45 dB/count  \n",
    "WHADCP: 0.42 dB/count  \n",
    "OS-II-75, SN1508: 0.373 (beam 1), 0.386 (beam 2), 0.388 (beam 3), 0.384 (beam 4) = 0.38275 (avg)  \n",
    "OS-II-75, SN10656: 0.398 (beam 1), 0.389 (beam 2), 0.3988 (beam 3), 0.395 (beam 4) = 0.395 (avg)  \n",
    "#### Nominal Kc values from Jerry Mullison email:\n",
    "Format: min-max, avg, stdev  \n",
    "OS150: 0.41-0.44, 0.42, 0.012   \n",
    "OS75: 0.36-0.42, 0.39, 0.019  \n",
    "OS38: 0.36-0.37, 0.37, 0.004  "
   ]
  },
  {
   "cell_type": "markdown",
   "metadata": {},
   "source": [
    "#### Nominal Er values from Jerry Mullison email:\n",
    "Format: min-max, avg, stdev  \n",
    "OS150: 18-28, 22, 2.08  \n",
    "OS75: 11-25, 19, 2.93  \n",
    "OS38: 5-33, 14, 4.83  "
   ]
  },
  {
   "cell_type": "markdown",
   "metadata": {},
   "source": [
    "#### Further questions:\n",
    "- Are the Kc and Er values in Jerry Mullison's email from phase II or phase I OS?\n",
    "- Where does the speed of sound c in the denominator go comparing 1998 TRDI field service note vs. Mullison 2017? What c should I use for the denominator, 1478.1 m/s like for calculating the depth cells in 1998 TRDI field service note??\n",
    "- So I can just use the lowest measured E per cruise to define Er? Some papers do this, cite them. Or if I know that all cruises used the same ADCP, I could find the lowest measured E out of all of those cruises. (Er should be constant for a given ADCP according to Mullison 2017.)"
   ]
  },
  {
   "cell_type": "code",
   "execution_count": 10,
   "metadata": {},
   "outputs": [
    {
     "name": "stdout",
     "output_type": "stream",
     "text": [
      "0.38275000000000003\n",
      "0.395\n"
     ]
    }
   ],
   "source": [
    "# - Calc avg Kc for OS-II w/ SNs\n",
    "print(np.mean([0.373, 0.386, 0.388, 0.384]))\n",
    "print(np.mean([0.398, 0.389, 0.398, 0.395]))"
   ]
  },
  {
   "cell_type": "markdown",
   "metadata": {},
   "source": [
    "## Load WOD data (T,S)"
   ]
  },
  {
   "cell_type": "markdown",
   "metadata": {},
   "source": [
    "## Compute Sv"
   ]
  },
  {
   "cell_type": "code",
   "execution_count": null,
   "metadata": {},
   "outputs": [],
   "source": []
  },
  {
   "cell_type": "code",
   "execution_count": 20,
   "metadata": {},
   "outputs": [
    {
     "data": {
      "text/plain": [
       "fname                                                       00804_short.nc\n",
       "hardware_model                                           Ocean Surveyer 75\n",
       "instrument_name                                                      OS-75\n",
       "serial_numbers                                                        None\n",
       "transmit_frequency                                                    None\n",
       "phased_array                                                          None\n",
       "cruise_beg_date                                        2004-06-15 06:33:10\n",
       "blanking_interval                                                       8m\n",
       "bin_length                                                              8m\n",
       "transducer_beam_angle                                                 None\n",
       "transmit_pulse_length                                                   8m\n",
       "comments                 narrowband mode///mounted with the ADCP pointi...\n",
       "biomass_dtmn                                                            no\n",
       "geo_region                       Northwest and North Central Pacific Ocean\n",
       "bandwidth                                                       narrowband\n",
       "Name: 754, dtype: object"
      ]
     },
     "execution_count": 20,
     "metadata": {},
     "output_type": "execute_result"
    }
   ],
   "source": [
    "dfnow.iloc[0]"
   ]
  },
  {
   "cell_type": "markdown",
   "metadata": {},
   "source": [
    "Mean volume backscattering strength:  \n",
    "$S_v = C + 10log((T_x + 273.16)*R^2) - L_{DBM} - P_{DBW} + 2 \\alpha R + 10log(10^{k_c(E-E_r)/10} - 1)$"
   ]
  },
  {
   "cell_type": "code",
   "execution_count": null,
   "metadata": {},
   "outputs": [],
   "source": [
    "ncfile = dpath + 'JASADCP/ncfiles/00001_short.nc'\n",
    "nc = xr.open_dataset(ncfile)"
   ]
  },
  {
   "cell_type": "code",
   "execution_count": null,
   "metadata": {},
   "outputs": [],
   "source": [
    "cols = df.columns.values"
   ]
  },
  {
   "cell_type": "code",
   "execution_count": null,
   "metadata": {},
   "outputs": [],
   "source": [
    "cols[0:-1]"
   ]
  },
  {
   "cell_type": "code",
   "execution_count": null,
   "metadata": {},
   "outputs": [],
   "source": [
    "nc"
   ]
  },
  {
   "cell_type": "code",
   "execution_count": null,
   "metadata": {},
   "outputs": [],
   "source": [
    "nc['depth']"
   ]
  },
  {
   "cell_type": "code",
   "execution_count": null,
   "metadata": {},
   "outputs": [],
   "source": [
    "nc['amp']"
   ]
  },
  {
   "cell_type": "code",
   "execution_count": null,
   "metadata": {},
   "outputs": [],
   "source": [
    "nc['amp'].plot()"
   ]
  },
  {
   "cell_type": "code",
   "execution_count": null,
   "metadata": {},
   "outputs": [],
   "source": [
    "nc['depth'].values"
   ]
  },
  {
   "cell_type": "code",
   "execution_count": null,
   "metadata": {},
   "outputs": [],
   "source": []
  },
  {
   "cell_type": "code",
   "execution_count": null,
   "metadata": {},
   "outputs": [],
   "source": [
    "#nct['ADCP_CONFIG'].attrs['model_name']\n",
    "nct['ADCP_CONFIG'].attrs"
   ]
  },
  {
   "cell_type": "code",
   "execution_count": null,
   "metadata": {},
   "outputs": [],
   "source": []
  },
  {
   "cell_type": "code",
   "execution_count": null,
   "metadata": {},
   "outputs": [],
   "source": []
  },
  {
   "cell_type": "markdown",
   "metadata": {},
   "source": [
    "# TESTING/OLD"
   ]
  },
  {
   "cell_type": "code",
   "execution_count": null,
   "metadata": {},
   "outputs": [],
   "source": [
    "fnames = sorted(os.listdir(dpath + 'JASADCP/ncfiles'))"
   ]
  },
  {
   "cell_type": "code",
   "execution_count": null,
   "metadata": {},
   "outputs": [],
   "source": [
    "nc_counter = len(fnames)\n",
    "geo_region = [None]*nc_counter"
   ]
  },
  {
   "cell_type": "code",
   "execution_count": null,
   "metadata": {},
   "outputs": [],
   "source": [
    "ifile = 0\n",
    "for fname in fnames:\n",
    "    ncfile = dpath + 'JASADCP/ncfiles/' + fname\n",
    "    ncnow = xr.open_dataset(ncfile)\n",
    "    strnow = ncnow.attrs['cruise_sonar_summary']\n",
    "    geo_regionnow = re.findall(\"GEOGRAPHIC_REGION *: *((?:\\S+ )*\\S+)\", strnow)\n",
    "    if geo_regionnow:\n",
    "        geo_region[ifile] = geo_regionnow[0]\n",
    "    ifile = ifile+1"
   ]
  },
  {
   "cell_type": "code",
   "execution_count": null,
   "metadata": {},
   "outputs": [],
   "source": [
    "df = pd.concat(\n",
    "    [pd.Series(fnames,name='fname'), pd.Series(geo_region,name='geo_region')],\n",
    "    axis=1)"
   ]
  }
 ],
 "metadata": {
  "kernelspec": {
   "display_name": "Python 3",
   "language": "python",
   "name": "python3"
  },
  "language_info": {
   "codemirror_mode": {
    "name": "ipython",
    "version": 3
   },
   "file_extension": ".py",
   "mimetype": "text/x-python",
   "name": "python",
   "nbconvert_exporter": "python",
   "pygments_lexer": "ipython3",
   "version": "3.7.3"
  }
 },
 "nbformat": 4,
 "nbformat_minor": 4
}
