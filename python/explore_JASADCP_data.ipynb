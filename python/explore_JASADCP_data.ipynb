{
 "cells": [
  {
   "cell_type": "code",
   "execution_count": 1,
   "metadata": {},
   "outputs": [
    {
     "name": "stdout",
     "output_type": "stream",
     "text": [
      "# of files w/o bandwidth: 57\n",
      "NB-VM-150         1088\n",
      "OS-38              519\n",
      "OS-75              363\n",
      "WH-300             188\n",
      "OS-150              26\n",
      "NB-VM-300           25\n",
      "NB-VM-75            14\n",
      "BB-VM-150           13\n",
      "OS-II-38             6\n",
      "WH-Mariner-300       3\n",
      "NB-DR-150            3\n",
      "WH-1200              1\n",
      "OS-II-75             1\n",
      "DCP4400A             1\n",
      "WH-Mariner-600       1\n",
      "Name: instrument_name, dtype: int64\n"
     ]
    }
   ],
   "source": [
    "%run setup_Sv_compute.ipynb"
   ]
  },
  {
   "cell_type": "code",
   "execution_count": 2,
   "metadata": {},
   "outputs": [],
   "source": [
    "%run fxns_Sv_compute.ipynb"
   ]
  },
  {
   "cell_type": "markdown",
   "metadata": {},
   "source": [
    "# Compute Sv for all files assuming constant T, S, pH"
   ]
  },
  {
   "cell_type": "code",
   "execution_count": null,
   "metadata": {},
   "outputs": [],
   "source": [
    "for fname in fnames:\n",
    "    ncfile = dpath + 'JASADCP/ncfiles/' + fname\n",
    "    nc = xr.open_dataset(ncfile)\n",
    "    \n",
    "    amp = nc['amp']\n",
    "    Tx = nc['tr_temp']\n",
    "    depth = nc['depth']\n",
    "    row = df[df['fname']==fname].iloc[0]\n",
    "    \n",
    "    Er = get_Er_constant(row,amp)\n",
    "    #print('Er: ',Er)\n",
    "    \n",
    "    if 'NB' not in row['instrument_name']:\n",
    "        Kc = get_Kc_constant(row)\n",
    "    elif 'NB' in row['instrument_name']:\n",
    "        Kc = get_Kc_tdresolved(row,amp,Tx)\n",
    "    #print('Kc: ',Kc)\n",
    "    \n",
    "    LDBM = get_LDBM_constant(row)\n",
    "    #print('LDBM: ',LDBM)\n",
    "    \n",
    "    if 'NB' not in row['instrument_name']:\n",
    "        PDBW = get_PDBW_constant(row)\n",
    "    elif 'NB' in row['instrument_name']:\n",
    "        #PDBW = get_PDBW_tdresolved(row)\n",
    "        PDBW = get_PDBW_constant(row)\n",
    "    #print('PDBW: ',PDBW)\n",
    "    \n",
    "    R = get_R_tdresolved(row, depth, method_num=5)\n",
    "    #print('R: ',R)\n",
    "    \n",
    "    c = calc_c_tdresolved(depth,T=25,S=35)\n",
    "    #print('c: ',c)\n",
    "    \n",
    "    if 'NB' not in row['instrument_name']:\n",
    "        C = get_C_constant(row)\n",
    "    elif 'NB' in row['instrument_name']:\n",
    "        C = get_C_tdresolved(row,c)\n",
    "    #print('C: ',C)\n",
    "    \n",
    "    Tnow = depth; Tnow.name = 'temperature'; Tnow[:,:] = 25\n",
    "    alpha = calc_alpha_tdresolved(row,depth,c,Tnow,S=35,pH=8.1)\n",
    "    #print('alpha: ',alpha)\n",
    "    \n",
    "    alphaR = calc_alphaR_tdresolved(alpha,R)\n",
    "    #print('alphaR: ',alphaR)\n",
    "\n",
    "    Sv = C + 10*np.log10((Tx+273.16)*R**2) - LDBM + PDBW \\\n",
    "        + 2*alphaR + 10*np.log10(10**(Kc*(amp-Er)/10) - 1)\n",
    "\n",
    "    # - CONTINUE HERE!!!\n",
    "    # - ADD DANIELE ALGORITHM"
   ]
  },
  {
   "cell_type": "markdown",
   "metadata": {},
   "source": [
    "# Load WOD data (T,S)"
   ]
  }
 ],
 "metadata": {
  "kernelspec": {
   "display_name": "Python 3",
   "language": "python",
   "name": "python3"
  },
  "language_info": {
   "codemirror_mode": {
    "name": "ipython",
    "version": 3
   },
   "file_extension": ".py",
   "mimetype": "text/x-python",
   "name": "python",
   "nbconvert_exporter": "python",
   "pygments_lexer": "ipython3",
   "version": "3.7.3"
  }
 },
 "nbformat": 4,
 "nbformat_minor": 4
}
