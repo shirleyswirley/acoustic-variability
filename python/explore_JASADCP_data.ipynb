{
 "cells": [
  {
   "cell_type": "code",
   "execution_count": 5,
   "metadata": {},
   "outputs": [
    {
     "name": "stdout",
     "output_type": "stream",
     "text": [
      "# of files w/o bandwidth: 57\n",
      "NB-VM-150         1088\n",
      "OS-38              519\n",
      "OS-75              363\n",
      "WH-300             188\n",
      "OS-150              26\n",
      "NB-VM-300           25\n",
      "NB-VM-75            14\n",
      "BB-VM-150           13\n",
      "OS-II-38             6\n",
      "WH-Mariner-300       3\n",
      "NB-DR-150            3\n",
      "DCP4400A             1\n",
      "WH-1200              1\n",
      "WH-Mariner-600       1\n",
      "OS-II-75             1\n",
      "Name: instrument_name, dtype: int64\n"
     ]
    }
   ],
   "source": [
    "%run setup_Sv_compute.ipynb"
   ]
  },
  {
   "cell_type": "code",
   "execution_count": 6,
   "metadata": {},
   "outputs": [],
   "source": [
    "%run fxns_Sv_compute.ipynb"
   ]
  },
  {
   "cell_type": "markdown",
   "metadata": {},
   "source": [
    "# Testing"
   ]
  },
  {
   "cell_type": "code",
   "execution_count": 7,
   "metadata": {},
   "outputs": [
    {
     "name": "stderr",
     "output_type": "stream",
     "text": [
      "/opt/conda/lib/python3.7/site-packages/xarray/core/computation.py:601: RuntimeWarning: divide by zero encountered in log10\n",
      "  result_data = func(*input_data)\n"
     ]
    }
   ],
   "source": [
    "fname = '00890_short.nc' # --> Sv computation works for this! Uses OS, in central eq pac\n",
    "#fname = '00111_short.nc' # --> Sv computation works for this! Uses NB-VM-150, in w eq pac\n",
    "ncfile = dpath + 'JASADCP/ncfiles/' + fname\n",
    "nc = xr.open_dataset(ncfile)\n",
    "\n",
    "amp = nc['amp']\n",
    "Tx = nc['tr_temp']\n",
    "depth = nc['depth']\n",
    "row = df[df['fname']==fname].iloc[0]\n",
    "# - no bandwidth for a file; pretend it's narrowband for now\n",
    "row['bandwidth']='narrowband'\n",
    "\n",
    "Er = get_Er_constant(row,amp)\n",
    "#print('Er: ',Er)\n",
    "\n",
    "if 'NB' not in row['instrument_name']:\n",
    "    Kc = get_Kc_constant(row)\n",
    "elif 'NB' in row['instrument_name']:\n",
    "    Kc = get_Kc_tdresolved(row,amp,Tx)\n",
    "#print('Kc: ',Kc)\n",
    "\n",
    "LDBM = get_LDBM_constant(row)\n",
    "#print('LDBM: ',LDBM)\n",
    "\n",
    "if 'NB' not in row['instrument_name']:\n",
    "    PDBW = get_PDBW_constant(row)\n",
    "elif 'NB' in row['instrument_name']:\n",
    "    #PDBW = get_PDBW_tdresolved(row)\n",
    "    PDBW = get_PDBW_constant(row)\n",
    "#print('PDBW: ',PDBW)\n",
    "\n",
    "R = get_R_tdresolved(row, depth, method_num=5)\n",
    "#print('R: ',R)\n",
    "\n",
    "c = calc_c_tdresolved(depth,T=25,S=35)\n",
    "#print('c: ',c)\n",
    "\n",
    "if 'NB' not in row['instrument_name']:\n",
    "    C = get_C_constant(row)\n",
    "elif 'NB' in row['instrument_name']:\n",
    "    C = get_C_tdresolved(row,c)\n",
    "#print('C: ',C)\n",
    "\n",
    "Tnow = depth; Tnow.name = 'temperature'; Tnow[:,:] = 25\n",
    "alpha = calc_alpha_tdresolved(row,depth,c,Tnow,S=35,pH=8.1)\n",
    "#print('alpha: ',alpha)\n",
    "\n",
    "alphaR = calc_alphaR_tdresolved(alpha,R)\n",
    "#print('alphaR: ',alphaR)\n",
    "\n",
    "Sv = C + 10*np.log10((Tx+273.16)*R**2) - LDBM + PDBW \\\n",
    "    + 2*alphaR + 10*np.log10(10**(Kc*(amp-Er)/10) - 1)"
   ]
  },
  {
   "cell_type": "code",
   "execution_count": 8,
   "metadata": {},
   "outputs": [],
   "source": [
    "import matplotlib.dates as mdates"
   ]
  },
  {
   "cell_type": "code",
   "execution_count": 9,
   "metadata": {},
   "outputs": [
    {
     "name": "stdout",
     "output_type": "stream",
     "text": [
      "2020-02-06 20:48:28.924302-05:00\n",
      "2020\n",
      "20\n"
     ]
    }
   ],
   "source": [
    "# - METHOD 1 (same as METHOD 2)\n",
    "# https://stackoverflow.com/questions/4563272/convert-a-python-utc-datetime-to-a-local-datetime-using-only-python-standard-lib\n",
    "# answer by Lennart Regebro\n",
    "from datetime import datetime\n",
    "now = datetime.utcnow()\n",
    "from dateutil import tz\n",
    "#HERE = tz.tzlocal()\n",
    "HERE = tz.gettz('America/New_York')\n",
    "UTC = tz.gettz('UTC')\n",
    "gmt = now.replace(tzinfo=UTC)\n",
    "test = gmt.astimezone(HERE)\n",
    "print(test)\n",
    "print(test.year)\n",
    "print(test.hour)"
   ]
  },
  {
   "cell_type": "code",
   "execution_count": 10,
   "metadata": {},
   "outputs": [
    {
     "name": "stdout",
     "output_type": "stream",
     "text": [
      "2011-01-20 21:37:21-05:00\n",
      "2011\n",
      "21\n"
     ]
    }
   ],
   "source": [
    "# - METHOD 2 (same as METHOD 1)\n",
    "# https://stackoverflow.com/questions/4770297/convert-utc-datetime-string-to-local-datetime\n",
    "# USE 1: Hardcode zones:\n",
    "from_zone = tz.gettz('UTC')\n",
    "to_zone = tz.gettz('America/New_York')\n",
    "# USE 2: Auto-detect zones:\n",
    "#from_zone = tz.tzutc()\n",
    "#to_zone = tz.tzlocal()\n",
    "# utc = datetime.utcnow()\n",
    "utc = datetime.strptime('2011-01-21 02:37:21', '%Y-%m-%d %H:%M:%S')\n",
    "# Tell the datetime object that it's in UTC time zone since \n",
    "# datetime objects are 'naive' by default\n",
    "utc = utc.replace(tzinfo=from_zone)\n",
    "# Convert time zone\n",
    "test = utc.astimezone(to_zone)\n",
    "print(test)\n",
    "print(test.year)\n",
    "print(test.hour)"
   ]
  },
  {
   "cell_type": "code",
   "execution_count": 11,
   "metadata": {},
   "outputs": [
    {
     "name": "stdout",
     "output_type": "stream",
     "text": [
      "2004-05-19 16:22:29-04:00\n",
      "2004\n",
      "16\n"
     ]
    }
   ],
   "source": [
    "# - MY USE OF METHODS 1 AND 2\n",
    "test = pd.to_datetime(Sv.time.values[0]).replace(tzinfo=tz.gettz('UTC')).astimezone(tz.gettz('America/New_York'))\n",
    "print(test)\n",
    "print(test.year)\n",
    "print(test.hour)"
   ]
  },
  {
   "cell_type": "code",
   "execution_count": 12,
   "metadata": {},
   "outputs": [
    {
     "data": {
      "text/plain": [
       "datetime.datetime(2020, 2, 6, 20, 48, 28, 959701, tzinfo=tzfile('/usr/share/zoneinfo/America/New_York'))"
      ]
     },
     "execution_count": 12,
     "metadata": {},
     "output_type": "execute_result"
    }
   ],
   "source": [
    "# - METHOD 3\n",
    "# https://stackoverflow.com/questions/25264811/pytz-converting-utc-and-timezone-to-local-time\n",
    "import pytz\n",
    "from datetime import datetime\n",
    "from dateutil import tz\n",
    "pytz.utc.localize(datetime.utcnow()).astimezone(tz.gettz('America/New_York'))"
   ]
  },
  {
   "cell_type": "code",
   "execution_count": 13,
   "metadata": {},
   "outputs": [
    {
     "name": "stdout",
     "output_type": "stream",
     "text": [
      "2004-05-19 16:22:29-04:00\n",
      "2004\n",
      "16\n"
     ]
    }
   ],
   "source": [
    "# - MY USE OF METHOD 3\n",
    "test = pytz.utc.localize(pd.to_datetime(Sv.time.values[0])).astimezone(tz.gettz('America/New_York'))\n",
    "print(test)\n",
    "print(test.year)\n",
    "print(test.hour)"
   ]
  },
  {
   "cell_type": "code",
   "execution_count": 14,
   "metadata": {},
   "outputs": [
    {
     "data": {
      "text/plain": [
       "datetime.datetime(2011, 1, 20, 21, 37, 21, tzinfo=<DstTzInfo 'America/New_York' EST-1 day, 19:00:00 STD>)"
      ]
     },
     "execution_count": 14,
     "metadata": {},
     "output_type": "execute_result"
    }
   ],
   "source": [
    "# - METHOD 4\n",
    "# https://stackoverflow.com/questions/25264811/pytz-converting-utc-and-timezone-to-local-time\n",
    "# combines answers by N Randhawa and user8808265 \n",
    "utc_time = datetime.strptime('2011-01-21 02:37:21', '%Y-%m-%d %H:%M:%S')\n",
    "tznow = pytz.timezone('America/New_York')\n",
    "tznow.fromutc(utc_time)"
   ]
  },
  {
   "cell_type": "code",
   "execution_count": 15,
   "metadata": {},
   "outputs": [
    {
     "name": "stdout",
     "output_type": "stream",
     "text": [
      "2004-05-19 16:22:29-04:00\n",
      "2004\n",
      "16\n"
     ]
    }
   ],
   "source": [
    "# - MY USE OF METHOD 4\n",
    "tznow = pytz.timezone('America/New_York')\n",
    "test = tznow.fromutc(pd.to_datetime(Sv.time.values[0]))\n",
    "print(test)\n",
    "print(test.year)\n",
    "print(test.hour)"
   ]
  },
  {
   "cell_type": "code",
   "execution_count": 17,
   "metadata": {},
   "outputs": [],
   "source": [
    "# https://pypi.org/project/timezonefinder/\n",
    "from timezonefinder import TimezoneFinder\n",
    "tf = TimezoneFinder()\n",
    "#print(timezonefinder.__file__)"
   ]
  },
  {
   "cell_type": "code",
   "execution_count": 18,
   "metadata": {},
   "outputs": [
    {
     "name": "stdout",
     "output_type": "stream",
     "text": [
      "2011-01-21 03:37:21+01:00\n",
      "2011\n",
      "3\n"
     ]
    }
   ],
   "source": [
    "latitude, longitude = 52.5061, 13.358\n",
    "tznow = tf.timezone_at(lng=longitude, lat=latitude) # returns 'Europe/Berlin'\n",
    "tznow = pytz.timezone(tznow)\n",
    "utc_time = datetime.strptime('2011-01-21 02:37:21', '%Y-%m-%d %H:%M:%S')\n",
    "#test = tznow.fromutc(pd.to_datetime(Sv.time.values[0]))\n",
    "test = tznow.fromutc(utc_time)\n",
    "print(test)\n",
    "print(test.year)\n",
    "print(test.hour)"
   ]
  },
  {
   "cell_type": "code",
   "execution_count": 19,
   "metadata": {},
   "outputs": [
    {
     "name": "stdout",
     "output_type": "stream",
     "text": [
      "Pacific/Marquesas\n",
      "2011-01-20 17:07:21-09:30\n",
      "2011\n",
      "17\n"
     ]
    }
   ],
   "source": [
    "latitude, longitude = float(nc['lat'][0]), float(nc['lon'][0])\n",
    "tzstr = tf.timezone_at(lng=longitude, lat=latitude)\n",
    "print(tzstr)\n",
    "tznow = pytz.timezone(tzstr)\n",
    "utc_time = datetime.strptime('2011-01-21 02:37:21', '%Y-%m-%d %H:%M:%S')\n",
    "#test = tznow.fromutc(pd.to_datetime(Sv.time.values[0]))\n",
    "test = tznow.fromutc(utc_time)\n",
    "print(test)\n",
    "print(test.year)\n",
    "print(test.hour)"
   ]
  },
  {
   "cell_type": "code",
   "execution_count": 23,
   "metadata": {},
   "outputs": [],
   "source": [
    "local_time = [None]*len(Sv['time'])"
   ]
  },
  {
   "cell_type": "code",
   "execution_count": null,
   "metadata": {},
   "outputs": [],
   "source": [
    "def fxn(lon,lat,search_rad):\n",
    "    try:\n",
    "        tzstr = tf.closest_timezone_at(lng=lon, lat=lat, delta_degree=search_rad)\n",
    "        return tzstr\n",
    "    except:\n",
    "        return search_rad+1"
   ]
  },
  {
   "cell_type": "code",
   "execution_count": null,
   "metadata": {},
   "outputs": [],
   "source": [
    "result = None\n",
    "while result is None:\n",
    "    try:\n",
    "        # connect\n",
    "        result = get_data(...)\n",
    "    except:\n",
    "         pass"
   ]
  },
  {
   "cell_type": "code",
   "execution_count": null,
   "metadata": {},
   "outputs": [],
   "source": [
    "# https://timezonefinder.readthedocs.io/en/latest/2_use_cases.html \n",
    "# check \"Use other data\" section for getting better ocn timezone coverage\n",
    "print(datetime.now().strftime(\"%H:%M:%S\"))\n",
    "search_rad = 0\n",
    "for itime in range(0,len(Sv['time'])):\n",
    "    lon = float(nc['lon'][itime])\n",
    "    lat = float(nc['lat'][itime]) \n",
    "    try:\n",
    "        tzstr = tf.timezone_at(lng=lon, lat=lat)\n",
    "        tznow = pytz.timezone(tzstr)\n",
    "        local_time[itime] = tznow.fromutc(pd.to_datetime(Sv.time.values[itime]))\n",
    "    except: \n",
    "        tzstr = None\n",
    "        search_rad = 1\n",
    "        while tzstr is None:\n",
    "            try:\n",
    "                tzstr = tf.closest_timezone_at(lng=lon, lat=lat, delta_degree=search_rad)\n",
    "            except: \n",
    "                if search_rad < 5:\n",
    "                    search_rad = search_rad + 1\n",
    "                elif search_rad >= 5:\n",
    "                    search_rad = search_rad + 5\n",
    "                pass\n",
    "        tznow = pytz.timezone(tzstr)\n",
    "        local_time[itime] = tznow.fromutc(pd.to_datetime(Sv.time.values[itime]))\n",
    "    print(itime, tzstr, search_rad)\n",
    "print(datetime.now().strftime(\"%H:%M:%S\"))"
   ]
  },
  {
   "cell_type": "code",
   "execution_count": null,
   "metadata": {},
   "outputs": [],
   "source": [
    "# https://timezonefinder.readthedocs.io/en/latest/2_use_cases.html \n",
    "# check \"Use other data\" section for getting better ocn timezone coverage\n",
    "print(datetime.now().strftime(\"%H:%M:%S\"))\n",
    "for itime in range(0,len(Sv['time'])):\n",
    "    tzstr = tf.timezone_at(lng=float(nc['lon'][itime]), lat=float(nc['lat'][itime]))\n",
    "    search_rad = 1\n",
    "    while tzstr==None:\n",
    "        tzstr = tf.closest_timezone_at(lng=float(nc['lon'][itime]), lat=float(nc['lat'][itime]), delta_degree=search_rad)\n",
    "        search_rad += 1\n",
    "    #print(itime, tzstr, search_rad)\n",
    "    tznow = pytz.timezone(tzstr)\n",
    "    local_time[itime] = tznow.fromutc(pd.to_datetime(Sv.time.values[itime]))\n",
    "print(datetime.now().strftime(\"%H:%M:%S\"))"
   ]
  },
  {
   "cell_type": "code",
   "execution_count": null,
   "metadata": {},
   "outputs": [],
   "source": [
    "search_rad"
   ]
  },
  {
   "cell_type": "code",
   "execution_count": null,
   "metadata": {},
   "outputs": [],
   "source": []
  },
  {
   "cell_type": "code",
   "execution_count": null,
   "metadata": {},
   "outputs": [],
   "source": [
    "fig,axes = plt.subplots(nrows=4, ncols=1, figsize=(16,21))\n",
    "daynum = 19\n",
    "for isp in np.arange(0,4):\n",
    "    Sv.plot(ax=axes[isp],y='depth_cell', vmax=0, yincrease=False)\n",
    "    axes[isp].xaxis.set_major_formatter(mdates.DateFormatter('%m-%d:%H'))\n",
    "    axes[isp].set_xlim(['2004-05-'+str(daynum),'2004-05-'+str(daynum+3)])\n",
    "    axes[isp].set_ylim([40,0])\n",
    "    axes[isp].set_xticks(np.arange('2004-05-'+str(daynum), '2004-05-'+str(daynum+3), dtype='datetime64[h]')[0::6])\n",
    "    #axes[isp].set_title(str(pd.to_datetime(Sv.time[0].values).year) + ', ' + fname)\n",
    "    axes[isp].set_title(str(row['cruise_beg_date'].year) + ' / ' + fname + ' / ' + row['geo_region'])\n",
    "    axes[isp].set_xlabel('')\n",
    "    daynum = daynum + 3\n",
    "#fig.savefig(figpath + os.path.splitext(fname)[0] + '_Sv.png', bbox_inches='tight', pad_inches = 0, dpi = 200)"
   ]
  },
  {
   "cell_type": "code",
   "execution_count": null,
   "metadata": {},
   "outputs": [],
   "source": [
    "fig,axes = plt.subplots(nrows=4, ncols=1, figsize=(16,21))\n",
    "daynum = 19\n",
    "for isp in np.arange(0,4):\n",
    "    Sv.plot(ax=axes[isp],y='depth_cell', vmax=0, yincrease=False)\n",
    "    axes[isp].xaxis.set_major_formatter(mdates.DateFormatter('%m-%d:%H'))\n",
    "    axes[isp].set_xlim(['2004-05-'+str(daynum),'2004-05-'+str(daynum+3)])\n",
    "    axes[isp].set_ylim([40,0])\n",
    "    axes[isp].set_xticks(np.arange('2004-05-'+str(daynum), '2004-05-'+str(daynum+3), dtype='datetime64[h]')[0::6])\n",
    "    #axes[isp].set_title(str(pd.to_datetime(Sv.time[0].values).year) + ', ' + fname)\n",
    "    axes[isp].set_title(str(row['cruise_beg_date'].year) + ' / ' + fname + ' / ' + row['geo_region'])\n",
    "    axes[isp].set_xlabel('')\n",
    "    daynum = daynum + 3\n",
    "fig.savefig(figpath + os.path.splitext(fname)[0] + '_Sv.png', bbox_inches='tight', pad_inches = 0, dpi = 200)"
   ]
  },
  {
   "cell_type": "code",
   "execution_count": null,
   "metadata": {},
   "outputs": [],
   "source": []
  },
  {
   "cell_type": "code",
   "execution_count": null,
   "metadata": {},
   "outputs": [],
   "source": [
    "fname = '00890_short.nc' # --> Sv computation works for this! Uses OS, in central eq pac\n",
    "#fname = '00111_short.nc' # --> Sv computation works for this! Uses NB-VM-150, in w eq pac\n",
    "ncfile = dpath + 'JASADCP/ncfiles/' + fname\n",
    "nc = xr.open_dataset(ncfile)\n",
    "\n",
    "amp = nc['amp']\n",
    "Tx = nc['tr_temp']\n",
    "depth = nc['depth']\n",
    "row = df[df['fname']==fname].iloc[0]\n",
    "# - no bandwidth for a file; pretend it's narrowband for now\n",
    "row['bandwidth']='narrowband'\n",
    "\n",
    "Er = get_Er_constant(row,amp)\n",
    "#print('Er: ',Er)\n",
    "\n",
    "if 'NB' not in row['instrument_name']:\n",
    "    Kc = get_Kc_constant(row)\n",
    "elif 'NB' in row['instrument_name']:\n",
    "    Kc = get_Kc_tdresolved(row,amp,Tx)\n",
    "#print('Kc: ',Kc)\n",
    "\n",
    "LDBM = get_LDBM_constant(row)\n",
    "#print('LDBM: ',LDBM)\n",
    "\n",
    "if 'NB' not in row['instrument_name']:\n",
    "    PDBW = get_PDBW_constant(row)\n",
    "elif 'NB' in row['instrument_name']:\n",
    "    #PDBW = get_PDBW_tdresolved(row)\n",
    "    PDBW = get_PDBW_constant(row)\n",
    "#print('PDBW: ',PDBW)\n",
    "\n",
    "R = get_R_tdresolved(row, depth, method_num=5)\n",
    "#print('R: ',R)\n",
    "\n",
    "c = calc_c_tdresolved(depth,T=25,S=35)\n",
    "#print('c: ',c)\n",
    "\n",
    "if 'NB' not in row['instrument_name']:\n",
    "    C = get_C_constant(row)\n",
    "elif 'NB' in row['instrument_name']:\n",
    "    C = get_C_tdresolved(row,c)\n",
    "#print('C: ',C)\n",
    "\n",
    "Tnow = depth; Tnow.name = 'temperature'; Tnow[:,:] = 25\n",
    "alpha = calc_alpha_tdresolved(row,depth,c,Tnow,S=35,pH=8.1)\n",
    "#print('alpha: ',alpha)\n",
    "\n",
    "alphaR = calc_alphaR_tdresolved(alpha,R)\n",
    "#print('alphaR: ',alphaR)\n",
    "\n",
    "Sv = C + 10*np.log10((Tx+273.16)*R**2) - LDBM + PDBW \\\n",
    "    + 2*alphaR + 10*np.log10(10**(Kc*(amp-Er)/10) - 1)"
   ]
  },
  {
   "cell_type": "code",
   "execution_count": null,
   "metadata": {},
   "outputs": [],
   "source": [
    "fig,axes = plt.subplots(nrows=4, ncols=1, figsize=(16,21))\n",
    "daynum = 19\n",
    "for isp in np.arange(0,4):\n",
    "    Sv.plot(ax=axes[isp],y='depth_cell', vmax=0, yincrease=False)\n",
    "    axes[isp].xaxis.set_major_formatter(mdates.DateFormatter('%m-%d:%H'))\n",
    "    axes[isp].set_xlim(['2004-05-'+str(daynum),'2004-05-'+str(daynum+3)])\n",
    "    axes[isp].set_ylim([40,0])\n",
    "    axes[isp].set_xticks(np.arange('2004-05-'+str(daynum), '2004-05-'+str(daynum+3), dtype='datetime64[h]')[0::6])\n",
    "    #axes[isp].set_title(str(pd.to_datetime(Sv.time[0].values).year) + ', ' + fname)\n",
    "    axes[isp].set_title(str(row['cruise_beg_date'].year) + ' / ' + fname + ' / ' + row['geo_region'])\n",
    "    axes[isp].set_xlabel('')\n",
    "    daynum = daynum + 3\n",
    "#fig.savefig(figpath + os.path.splitext(fname)[0] + '_Sv.png', bbox_inches='tight', pad_inches = 0, dpi = 200)"
   ]
  },
  {
   "cell_type": "markdown",
   "metadata": {},
   "source": [
    "# Compute Sv for all files assuming constant T, S, pH"
   ]
  },
  {
   "cell_type": "code",
   "execution_count": null,
   "metadata": {},
   "outputs": [],
   "source": [
    "for fname in fnames:\n",
    "    ncfile = dpath + 'JASADCP/ncfiles/' + fname\n",
    "    nc = xr.open_dataset(ncfile)\n",
    "    \n",
    "    amp = nc['amp']\n",
    "    Tx = nc['tr_temp']\n",
    "    depth = nc['depth']\n",
    "    row = df[df['fname']==fname].iloc[0]\n",
    "    \n",
    "    Er = get_Er_constant(row,amp)\n",
    "    #print('Er: ',Er)\n",
    "    \n",
    "    if 'NB' not in row['instrument_name']:\n",
    "        Kc = get_Kc_constant(row)\n",
    "    elif 'NB' in row['instrument_name']:\n",
    "        Kc = get_Kc_tdresolved(row,amp,Tx)\n",
    "    #print('Kc: ',Kc)\n",
    "    \n",
    "    LDBM = get_LDBM_constant(row)\n",
    "    #print('LDBM: ',LDBM)\n",
    "    \n",
    "    if 'NB' not in row['instrument_name']:\n",
    "        PDBW = get_PDBW_constant(row)\n",
    "    elif 'NB' in row['instrument_name']:\n",
    "        #PDBW = get_PDBW_tdresolved(row)\n",
    "        PDBW = get_PDBW_constant(row)\n",
    "    #print('PDBW: ',PDBW)\n",
    "    \n",
    "    R = get_R_tdresolved(row, depth, method_num=5)\n",
    "    #print('R: ',R)\n",
    "    \n",
    "    c = calc_c_tdresolved(depth,T=25,S=35)\n",
    "    #print('c: ',c)\n",
    "    \n",
    "    if 'NB' not in row['instrument_name']:\n",
    "        C = get_C_constant(row)\n",
    "    elif 'NB' in row['instrument_name']:\n",
    "        C = get_C_tdresolved(row,c)\n",
    "    #print('C: ',C)\n",
    "    \n",
    "    Tnow = depth; Tnow.name = 'temperature'; Tnow[:,:] = 25\n",
    "    alpha = calc_alpha_tdresolved(row,depth,c,Tnow,S=35,pH=8.1)\n",
    "    #print('alpha: ',alpha)\n",
    "    \n",
    "    alphaR = calc_alphaR_tdresolved(alpha,R)\n",
    "    #print('alphaR: ',alphaR)\n",
    "\n",
    "    Sv = C + 10*np.log10((Tx+273.16)*R**2) - LDBM + PDBW \\\n",
    "        + 2*alphaR + 10*np.log10(10**(Kc*(amp-Er)/10) - 1)\n",
    "\n",
    "    # - CONTINUE HERE!!!\n",
    "    # - ADD DANIELE ALGORITHM"
   ]
  },
  {
   "cell_type": "markdown",
   "metadata": {},
   "source": [
    "From Bianchi et al. (2013) supplementary info:\n",
    "\n",
    "\"For each detectable DVM event (4640 in total) we estimated the daytime DVM depth from:\n",
    "- (1) the maximum subsurface day-to-night echo intensity difference, and\n",
    "- (2) the maximum subsurface daytime backscatter.\n",
    "\n",
    "In the first case we calculated the difference in ADCP echo intensity averaged over a 3-hour interval centered at the time of maximum solar elevation (midday) and the ADCP echo intensity averaged over a 3-hour interval centered at the time of minimum solar elevation (midnight) for the nights surrounding the DVM event. We then detected the depth of the maximum subsurface echo intensity difference.\n",
    "\n",
    "In the second case, we estimated the depth of the midday subsurface backscatter maximum. Backscatter was estimated from the ADCP echo intensity by correcting for both sound-wave spherical attenuation and water absorption using the formulation of [Deines, 1999]. The use of the two methods increased the number of records for which the daytime DVM depth could be isolated. Whenever both methods provided a valid daytime DVM depth, the average of the two values was taken.\"\n"
   ]
  },
  {
   "cell_type": "markdown",
   "metadata": {},
   "source": [
    "# Load WOD data (T,S)"
   ]
  }
 ],
 "metadata": {
  "kernelspec": {
   "display_name": "Python 3",
   "language": "python",
   "name": "python3"
  },
  "language_info": {
   "codemirror_mode": {
    "name": "ipython",
    "version": 3
   },
   "file_extension": ".py",
   "mimetype": "text/x-python",
   "name": "python",
   "nbconvert_exporter": "python",
   "pygments_lexer": "ipython3",
   "version": "3.7.3"
  }
 },
 "nbformat": 4,
 "nbformat_minor": 4
}
