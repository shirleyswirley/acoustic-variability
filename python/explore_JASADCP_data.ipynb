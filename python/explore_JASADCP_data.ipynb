{
 "cells": [
  {
   "cell_type": "markdown",
   "metadata": {},
   "source": [
    "# Further questions:\n",
    "- Are the Kc and Er values in Jerry Mullison's email from phase II or phase I OS?\n",
    "- Where does the speed of sound c in the denominator go comparing 1998 TRDI field service note vs. Mullison 2017? What c should I use for the denominator, 1478.1 m/s like for calculating the depth cells in 1998 TRDI field service note??\n",
    "- So I can just use the lowest measured E per cruise to define Er? Some papers do this, cite them. Or if I know that all cruises used the same ADCP, I could find the lowest measured E out of all of those cruises. (Er should be constant for a given ADCP according to Mullison 2017.)\n",
    "- What year did TRDI switch from OS to OS-II?\n",
    "- If the angle from the vertical is missing, can I assume 30 degrees? This is true for all configs? What are the usual/standard thetas for each instrument type?\n",
    "- What years were all these instruments available? Can I potentially use cruise year to figure what instrument was being used? Diagram of evolution of ADCP models? Or years when you were supporting them?\n",
    "- Send TRDI a spreadsheet of all VM-150, VM-300 to see if they can help figure out which is BB and which is NB.\n",
    "- Get mis-timed cruises from Peter Gaube.\n",
    "- Is direct-reading (DR) meaning that it's moored? (can try to check website)\n",
    "- If blank distance/blanking interval (or whatever it's called) is missing, can I assume it's the same as bin length (or transmit pulse length maybe)? Other specific calculation questions like this.\n",
    "- WH300 had only bb or nb before some time? Are all WH broadband? If so, why does Mullison 2017 have C (25%) and C (6%) values for WH?\n",
    "- VM150 and/or VM300 had only bb or nb before some time?\n",
    "- How to derive formula for R? Get rid of D/4 when instrument samples at midpt of depth cell?\n",
    "- To TRDI FS: no frequency associated w/ BBADCP and WHADCP nominal Kc values?"
   ]
  },
  {
   "cell_type": "code",
   "execution_count": 2,
   "metadata": {},
   "outputs": [],
   "source": [
    "import matplotlib.pyplot as plt\n",
    "import numpy as np\n",
    "import os\n",
    "import pandas as pd\n",
    "import re\n",
    "import xarray as xr"
   ]
  },
  {
   "cell_type": "code",
   "execution_count": 3,
   "metadata": {},
   "outputs": [
    {
     "name": "stdout",
     "output_type": "stream",
     "text": [
      "# of files w/o bandwidth: 57\n"
     ]
    }
   ],
   "source": [
    "%run create_JASADCP_metadata_df.ipynb"
   ]
  },
  {
   "cell_type": "code",
   "execution_count": 10,
   "metadata": {},
   "outputs": [
    {
     "data": {
      "text/plain": [
       "NB-VM-150         1088\n",
       "OS-38              519\n",
       "OS-75              363\n",
       "WH-300             188\n",
       "OS-150              26\n",
       "NB-VM-300           25\n",
       "NB-VM-75            14\n",
       "BB-VM-150           13\n",
       "OS-II-38             6\n",
       "NB-DR-150            3\n",
       "WH-Mariner-300       3\n",
       "DCP4400A             1\n",
       "WH-1200              1\n",
       "OS-II-75             1\n",
       "WH-Mariner-600       1\n",
       "Name: instrument_name, dtype: int64"
      ]
     },
     "execution_count": 10,
     "metadata": {},
     "output_type": "execute_result"
    }
   ],
   "source": [
    "# - How many files for each type of instrument?\n",
    "df['instrument_name'].value_counts()"
   ]
  },
  {
   "cell_type": "markdown",
   "metadata": {},
   "source": [
    "# Mean volume backscattering strength eqn **(EQUATION 1)**:  \n",
    "$S_v = \\color{red}{C} + \\color{blue}{10log((T_x + 273.16)*R^2)} - \\color{orange}{L_{DBM}} - \\color{green}{P_{DBW}} + \\color{purple}{2 \\alpha R} + 10log(10^{k_c(E-E_r)/10} - 1)$, where:  \n",
    "- C = constant combining several params specific to each instrument\n",
    "- $T_x$ = temperature measured at the transducer ($^{\\circ}$C)\n",
    "- R = along-beam range to the measurement, taken in the last quarter of the bin for Workhorse, Long Ranger, and Quartermaster, and at midpt of the bin for other instruments\n",
    "- $L_{DBM}$ = 10log(transmit pulse length, meters)\n",
    "- $P_{DBW}$ = 10log(transmit power, Watts)\n",
    "- $\\alpha$ = absorption coefficient of the water\n",
    "- $k_c$ = RSSI slope (dB/count)\n",
    "- $E_r$ = noise floor (counts)\n",
    "- Units = dB, referenced to [meters × 4π]-1\n",
    "- From Mullison 2017, meant for newer generation ADCPs, I guess"
   ]
  },
  {
   "cell_type": "markdown",
   "metadata": {},
   "source": [
    "# Mean volume backscattering strength eqn (fst-003) **(EQUATION 2)**:  \n",
    "$S_v = \\color{red}{10log(\\frac{4.47 \\times 10^{-20} K_2 K_S}{c})} + \\color{blue}{10log((T_x + 273.16)*R^2)} - \\color{orange}{10log(P)} - \\color{green}{10log(K_1)} + \\color{purple}{2 \\alpha R} + 10log(10^{k_c(E-E_r)/10} - 1)$\n",
    "- $K_2$ = system noise factor (dimensionless)\n",
    "- $K_S$ = system constant, depends on NBADCP frequency\n",
    "- c = speed of sound at the scattering layer being measured\n",
    "- P = transmit pulse length\n",
    "- $K_1$ = real-time power into the water (Watts) \n",
    "- All others the same as Mullison 2017 eqn\n",
    "- Units = dB, referenced to [meters × 4π]-1\n",
    "- From fst-003, meant for NBADCPs technically"
   ]
  },
  {
   "cell_type": "markdown",
   "metadata": {},
   "source": [
    "# NBADCP-specific values and calculations (fst-003):"
   ]
  },
  {
   "cell_type": "markdown",
   "metadata": {},
   "source": [
    "**$C$: constant to match eqn 1 to 2 (dB)**  \n",
    "$C = 10log[\\frac{4.47 x 10^{-20} K_2 K_s}{c}]$, where c = speed of sound at the scattering layer being measured"
   ]
  },
  {
   "cell_type": "markdown",
   "metadata": {},
   "source": [
    "**$K_2$: system noise factor (dimensionless)**"
   ]
  },
  {
   "cell_type": "code",
   "execution_count": 31,
   "metadata": {},
   "outputs": [
    {
     "data": {
      "text/html": [
       "<div>\n",
       "<style scoped>\n",
       "    .dataframe tbody tr th:only-of-type {\n",
       "        vertical-align: middle;\n",
       "    }\n",
       "\n",
       "    .dataframe tbody tr th {\n",
       "        vertical-align: top;\n",
       "    }\n",
       "\n",
       "    .dataframe thead th {\n",
       "        text-align: right;\n",
       "    }\n",
       "</style>\n",
       "<table border=\"1\" class=\"dataframe\">\n",
       "  <thead>\n",
       "    <tr style=\"text-align: right;\">\n",
       "      <th></th>\n",
       "      <th></th>\n",
       "      <th>K2</th>\n",
       "    </tr>\n",
       "    <tr>\n",
       "      <th>NBADCP Model</th>\n",
       "      <th>Frequency (kHz)</th>\n",
       "      <th></th>\n",
       "    </tr>\n",
       "  </thead>\n",
       "  <tbody>\n",
       "    <tr>\n",
       "      <td rowspan=\"5\" valign=\"top\">VM</td>\n",
       "      <td>75</td>\n",
       "      <td>2.5</td>\n",
       "    </tr>\n",
       "    <tr>\n",
       "      <td>150</td>\n",
       "      <td>4.3</td>\n",
       "    </tr>\n",
       "    <tr>\n",
       "      <td>300</td>\n",
       "      <td>4.5</td>\n",
       "    </tr>\n",
       "    <tr>\n",
       "      <td>600</td>\n",
       "      <td>9.1</td>\n",
       "    </tr>\n",
       "    <tr>\n",
       "      <td>1200</td>\n",
       "      <td>10.5</td>\n",
       "    </tr>\n",
       "    <tr>\n",
       "      <td rowspan=\"5\" valign=\"top\">DR</td>\n",
       "      <td>75</td>\n",
       "      <td>2.2</td>\n",
       "    </tr>\n",
       "    <tr>\n",
       "      <td>150</td>\n",
       "      <td>3.6</td>\n",
       "    </tr>\n",
       "    <tr>\n",
       "      <td>300</td>\n",
       "      <td>4.2</td>\n",
       "    </tr>\n",
       "    <tr>\n",
       "      <td>600</td>\n",
       "      <td>7.1</td>\n",
       "    </tr>\n",
       "    <tr>\n",
       "      <td>1200</td>\n",
       "      <td>8.1</td>\n",
       "    </tr>\n",
       "  </tbody>\n",
       "</table>\n",
       "</div>"
      ],
      "text/plain": [
       "                                K2\n",
       "NBADCP Model Frequency (kHz)      \n",
       "VM           75                2.5\n",
       "             150               4.3\n",
       "             300               4.5\n",
       "             600               9.1\n",
       "             1200             10.5\n",
       "DR           75                2.2\n",
       "             150               3.6\n",
       "             300               4.2\n",
       "             600               7.1\n",
       "             1200              8.1"
      ]
     },
     "execution_count": 31,
     "metadata": {},
     "output_type": "execute_result"
    }
   ],
   "source": [
    "# From fst-003, pg 6:\n",
    "arrays = [['VM', 'VM', 'VM', 'VM', 'VM', 'DR', 'DR', 'DR', 'DR', 'DR'],\n",
    "          [75, 150, 300, 600, 1200, 75, 150, 300, 600, 1200]]\n",
    "tuples = list(zip(*arrays))\n",
    "index = pd.MultiIndex.from_tuples(tuples, names = ['NBADCP Model', 'Frequency (kHz)'])\n",
    "NB_K2_values = pd.DataFrame([2.5, 4.3, 4.5, 9.1, 10.5, 2.2, 3.6, 4.2, 7.1, 8.1],index=index,columns=['K2'])\n",
    "NB_K2_values"
   ]
  },
  {
   "cell_type": "markdown",
   "metadata": {},
   "source": [
    "**$K_S$: system constant, depends on NBADCP freq**"
   ]
  },
  {
   "cell_type": "code",
   "execution_count": 32,
   "metadata": {},
   "outputs": [
    {
     "data": {
      "text/html": [
       "<div>\n",
       "<style scoped>\n",
       "    .dataframe tbody tr th:only-of-type {\n",
       "        vertical-align: middle;\n",
       "    }\n",
       "\n",
       "    .dataframe tbody tr th {\n",
       "        vertical-align: top;\n",
       "    }\n",
       "\n",
       "    .dataframe thead th {\n",
       "        text-align: right;\n",
       "    }\n",
       "</style>\n",
       "<table border=\"1\" class=\"dataframe\">\n",
       "  <thead>\n",
       "    <tr style=\"text-align: right;\">\n",
       "      <th></th>\n",
       "      <th>NBADCP frequency (kHz)</th>\n",
       "      <th>Ks</th>\n",
       "    </tr>\n",
       "  </thead>\n",
       "  <tbody>\n",
       "    <tr>\n",
       "      <td>0</td>\n",
       "      <td>75</td>\n",
       "      <td>109000.0</td>\n",
       "    </tr>\n",
       "    <tr>\n",
       "      <td>1</td>\n",
       "      <td>150</td>\n",
       "      <td>417000.0</td>\n",
       "    </tr>\n",
       "    <tr>\n",
       "      <td>2</td>\n",
       "      <td>300</td>\n",
       "      <td>769000.0</td>\n",
       "    </tr>\n",
       "    <tr>\n",
       "      <td>3</td>\n",
       "      <td>600</td>\n",
       "      <td>1560000.0</td>\n",
       "    </tr>\n",
       "    <tr>\n",
       "      <td>4</td>\n",
       "      <td>1200</td>\n",
       "      <td>5650000.0</td>\n",
       "    </tr>\n",
       "  </tbody>\n",
       "</table>\n",
       "</div>"
      ],
      "text/plain": [
       "   NBADCP frequency (kHz)         Ks\n",
       "0                      75   109000.0\n",
       "1                     150   417000.0\n",
       "2                     300   769000.0\n",
       "3                     600  1560000.0\n",
       "4                    1200  5650000.0"
      ]
     },
     "execution_count": 32,
     "metadata": {},
     "output_type": "execute_result"
    }
   ],
   "source": [
    "# From fst-003, pg 10:\n",
    "Ks_values = {\n",
    "    'NBADCP frequency (kHz)' : [75, 150, 300, 600, 1200],\n",
    "    'Ks' : [1.09E5, 4.17E5, 7.69E5, 1.56E6, 5.65E6]\n",
    "}\n",
    "NB_Ks_values = pd.DataFrame(Ks_values)\n",
    "NB_Ks_values"
   ]
  },
  {
   "cell_type": "markdown",
   "metadata": {},
   "source": [
    "**$K_1$: real-time power into the water (Watts)**"
   ]
  },
  {
   "cell_type": "markdown",
   "metadata": {},
   "source": [
    "$K_1 = [\\frac{(V_s \\times a)-b}{c}]^2 \\times K_{1c}$\n",
    "- $V_s$ = real-time supply voltage to NBADCP transmitter (counts, V)\n",
    "- a, b, c constants shown in table below\n",
    "- $K_{1c}$ = power into the water during calibration at RDI factory (Watts), see table below"
   ]
  },
  {
   "cell_type": "code",
   "execution_count": 33,
   "metadata": {},
   "outputs": [
    {
     "data": {
      "text/html": [
       "<div>\n",
       "<style scoped>\n",
       "    .dataframe tbody tr th:only-of-type {\n",
       "        vertical-align: middle;\n",
       "    }\n",
       "\n",
       "    .dataframe tbody tr th {\n",
       "        vertical-align: top;\n",
       "    }\n",
       "\n",
       "    .dataframe thead th {\n",
       "        text-align: right;\n",
       "    }\n",
       "</style>\n",
       "<table border=\"1\" class=\"dataframe\">\n",
       "  <thead>\n",
       "    <tr style=\"text-align: right;\">\n",
       "      <th></th>\n",
       "      <th>Model</th>\n",
       "      <th>a</th>\n",
       "      <th>b</th>\n",
       "      <th>c</th>\n",
       "    </tr>\n",
       "  </thead>\n",
       "  <tbody>\n",
       "    <tr>\n",
       "      <td>0</td>\n",
       "      <td>DR</td>\n",
       "      <td>1.397</td>\n",
       "      <td>6.30</td>\n",
       "      <td>35.10</td>\n",
       "    </tr>\n",
       "    <tr>\n",
       "      <td>1</td>\n",
       "      <td>VM (110V)</td>\n",
       "      <td>1.397</td>\n",
       "      <td>4.27</td>\n",
       "      <td>37.14</td>\n",
       "    </tr>\n",
       "    <tr>\n",
       "      <td>2</td>\n",
       "      <td>VM (220V)</td>\n",
       "      <td>0.699</td>\n",
       "      <td>4.27</td>\n",
       "      <td>37.14</td>\n",
       "    </tr>\n",
       "    <tr>\n",
       "      <td>3</td>\n",
       "      <td>SC</td>\n",
       "      <td>0.170</td>\n",
       "      <td>5.76</td>\n",
       "      <td>34.24</td>\n",
       "    </tr>\n",
       "  </tbody>\n",
       "</table>\n",
       "</div>"
      ],
      "text/plain": [
       "       Model      a     b      c\n",
       "0         DR  1.397  6.30  35.10\n",
       "1  VM (110V)  1.397  4.27  37.14\n",
       "2  VM (220V)  0.699  4.27  37.14\n",
       "3         SC  0.170  5.76  34.24"
      ]
     },
     "execution_count": 33,
     "metadata": {},
     "output_type": "execute_result"
    }
   ],
   "source": [
    "abc_values = {\n",
    "    'Model' : ['DR', 'VM (110V)', 'VM (220V)', 'SC'],\n",
    "    'a' : [1.397, 1.397, 0.699, 0.170],\n",
    "    'b' : [6.30, 4.27, 4.27, 5.76],\n",
    "    'c' : [35.10, 37.14, 37.14, 34.24]\n",
    "}\n",
    "NB_abc_values = pd.DataFrame(abc_values)\n",
    "NB_abc_values"
   ]
  },
  {
   "cell_type": "markdown",
   "metadata": {},
   "source": [
    "**$K_{1c}$: power into the water during calibration at RDI factory (Watts)**"
   ]
  },
  {
   "cell_type": "code",
   "execution_count": 34,
   "metadata": {},
   "outputs": [
    {
     "data": {
      "text/html": [
       "<div>\n",
       "<style scoped>\n",
       "    .dataframe tbody tr th:only-of-type {\n",
       "        vertical-align: middle;\n",
       "    }\n",
       "\n",
       "    .dataframe tbody tr th {\n",
       "        vertical-align: top;\n",
       "    }\n",
       "\n",
       "    .dataframe thead th {\n",
       "        text-align: right;\n",
       "    }\n",
       "</style>\n",
       "<table border=\"1\" class=\"dataframe\">\n",
       "  <thead>\n",
       "    <tr style=\"text-align: right;\">\n",
       "      <th></th>\n",
       "      <th></th>\n",
       "      <th>K1c (Watts)</th>\n",
       "    </tr>\n",
       "    <tr>\n",
       "      <th>NBADCP Model</th>\n",
       "      <th>Frequency (kHz)</th>\n",
       "      <th></th>\n",
       "    </tr>\n",
       "  </thead>\n",
       "  <tbody>\n",
       "    <tr>\n",
       "      <td rowspan=\"5\" valign=\"top\">VM</td>\n",
       "      <td>75</td>\n",
       "      <td>5.5</td>\n",
       "    </tr>\n",
       "    <tr>\n",
       "      <td>150</td>\n",
       "      <td>3.3</td>\n",
       "    </tr>\n",
       "    <tr>\n",
       "      <td>300</td>\n",
       "      <td>3.6</td>\n",
       "    </tr>\n",
       "    <tr>\n",
       "      <td>600</td>\n",
       "      <td>1.7</td>\n",
       "    </tr>\n",
       "    <tr>\n",
       "      <td>1200</td>\n",
       "      <td>1.2</td>\n",
       "    </tr>\n",
       "    <tr>\n",
       "      <td rowspan=\"5\" valign=\"top\">DR</td>\n",
       "      <td>75</td>\n",
       "      <td>6.1</td>\n",
       "    </tr>\n",
       "    <tr>\n",
       "      <td>150</td>\n",
       "      <td>3.9</td>\n",
       "    </tr>\n",
       "    <tr>\n",
       "      <td>300</td>\n",
       "      <td>4.1</td>\n",
       "    </tr>\n",
       "    <tr>\n",
       "      <td>600</td>\n",
       "      <td>1.9</td>\n",
       "    </tr>\n",
       "    <tr>\n",
       "      <td>1200</td>\n",
       "      <td>1.3</td>\n",
       "    </tr>\n",
       "  </tbody>\n",
       "</table>\n",
       "</div>"
      ],
      "text/plain": [
       "                              K1c (Watts)\n",
       "NBADCP Model Frequency (kHz)             \n",
       "VM           75                       5.5\n",
       "             150                      3.3\n",
       "             300                      3.6\n",
       "             600                      1.7\n",
       "             1200                     1.2\n",
       "DR           75                       6.1\n",
       "             150                      3.9\n",
       "             300                      4.1\n",
       "             600                      1.9\n",
       "             1200                     1.3"
      ]
     },
     "execution_count": 34,
     "metadata": {},
     "output_type": "execute_result"
    }
   ],
   "source": [
    "# From fst-003, pg 10:\n",
    "arrays = [['VM', 'VM', 'VM', 'VM', 'VM', 'DR', 'DR', 'DR', 'DR', 'DR'],\n",
    "          [75, 150, 300, 600, 1200, 75, 150, 300, 600, 1200]]\n",
    "tuples = list(zip(*arrays))\n",
    "index = pd.MultiIndex.from_tuples(tuples, names = ['NBADCP Model', 'Frequency (kHz)'])\n",
    "K1c_values = pd.DataFrame([5.5, 3.3, 3.6, 1.7, 1.2, 6.1, 3.9, 4.1, 1.9, 1.3],index=index,columns=['K1c (Watts)'])\n",
    "NB_K1c_values = pd.DataFrame(K1c_values)\n",
    "NB_K1c_values"
   ]
  },
  {
   "cell_type": "markdown",
   "metadata": {},
   "source": [
    "**$K_c$: conversion factor for echo intensity (dB/counts)**"
   ]
  },
  {
   "cell_type": "markdown",
   "metadata": {},
   "source": [
    "- For E < 200 counts, $K_c = \\frac{127.3}{T_e+271}$  \n",
    "- If E is 200-230 counts, calibration of $K_c$ must be done at RDI.\n",
    "- If E > 230 counts, $K_c$ can't be calibrated.  \n",
    "- $T_e$ = temperature of system electronics\n",
    "- \"$T_e$ is used to calculate $K_c$ and $E_r$. $E_r$...is particularly sensitive to changes in $T_e$, so it is crucial to obtain an accurate record of $T_e$.\"  \n",
    "- \"For DR-NBADCPs in which both system electronics and transducer assembly are immersed, $T_x$ can be substituted for $T_e$.\"  \n",
    "- \"The ambient temp for the sm electronics will generally differ from the temp recorded at the transducer. Therefore, you must independently measure and record the temperature of the system electronics.\""
   ]
  },
  {
   "cell_type": "markdown",
   "metadata": {},
   "source": [
    "# OS-specific values and calculations:"
   ]
  },
  {
   "cell_type": "code",
   "execution_count": 23,
   "metadata": {},
   "outputs": [],
   "source": [
    "# - From Mullison (2017)\n",
    "mullison_table2 = pd.read_csv(dpath + 'typical_system_characteristics_table2_mullison2017.csv')\n",
    "OS_C_PDBW_values = mullison_table2.iloc[6:9]\n",
    "OS_C_PDBW_values"
   ]
  },
  {
   "cell_type": "code",
   "execution_count": 17,
   "metadata": {},
   "outputs": [
    {
     "data": {
      "text/html": [
       "<div>\n",
       "<style scoped>\n",
       "    .dataframe tbody tr th:only-of-type {\n",
       "        vertical-align: middle;\n",
       "    }\n",
       "\n",
       "    .dataframe tbody tr th {\n",
       "        vertical-align: top;\n",
       "    }\n",
       "\n",
       "    .dataframe thead th {\n",
       "        text-align: right;\n",
       "    }\n",
       "</style>\n",
       "<table border=\"1\" class=\"dataframe\">\n",
       "  <thead>\n",
       "    <tr style=\"text-align: right;\">\n",
       "      <th></th>\n",
       "      <th>instrument_name</th>\n",
       "      <th>Kc_min</th>\n",
       "      <th>Kc_mean</th>\n",
       "      <th>Kc_max</th>\n",
       "      <th>Kc_sigma</th>\n",
       "      <th>Er_min</th>\n",
       "      <th>Er_mean</th>\n",
       "      <th>Er_max</th>\n",
       "      <th>Er_sigma</th>\n",
       "    </tr>\n",
       "  </thead>\n",
       "  <tbody>\n",
       "    <tr>\n",
       "      <td>0</td>\n",
       "      <td>OS-150</td>\n",
       "      <td>0.41</td>\n",
       "      <td>0.42</td>\n",
       "      <td>0.44</td>\n",
       "      <td>0.012</td>\n",
       "      <td>18</td>\n",
       "      <td>22</td>\n",
       "      <td>28</td>\n",
       "      <td>2.08</td>\n",
       "    </tr>\n",
       "    <tr>\n",
       "      <td>1</td>\n",
       "      <td>OS-75</td>\n",
       "      <td>0.36</td>\n",
       "      <td>0.39</td>\n",
       "      <td>0.42</td>\n",
       "      <td>0.019</td>\n",
       "      <td>11</td>\n",
       "      <td>19</td>\n",
       "      <td>25</td>\n",
       "      <td>2.93</td>\n",
       "    </tr>\n",
       "    <tr>\n",
       "      <td>2</td>\n",
       "      <td>OS-38</td>\n",
       "      <td>0.36</td>\n",
       "      <td>0.37</td>\n",
       "      <td>0.37</td>\n",
       "      <td>0.004</td>\n",
       "      <td>5</td>\n",
       "      <td>14</td>\n",
       "      <td>33</td>\n",
       "      <td>4.83</td>\n",
       "    </tr>\n",
       "  </tbody>\n",
       "</table>\n",
       "</div>"
      ],
      "text/plain": [
       "  instrument_name  Kc_min  Kc_mean  Kc_max  Kc_sigma  Er_min  Er_mean  Er_max  \\\n",
       "0          OS-150    0.41     0.42    0.44     0.012      18       22      28   \n",
       "1           OS-75    0.36     0.39    0.42     0.019      11       19      25   \n",
       "2           OS-38    0.36     0.37    0.37     0.004       5       14      33   \n",
       "\n",
       "   Er_sigma  \n",
       "0      2.08  \n",
       "1      2.93  \n",
       "2      4.83  "
      ]
     },
     "execution_count": 17,
     "metadata": {},
     "output_type": "execute_result"
    }
   ],
   "source": [
    "# - From Jerry Mullison emails in Jan 2020:\n",
    "OS_Kc_Er_values = {\n",
    "    'instrument_name' : ['OS-150','OS-75','OS-38'],\n",
    "    'Kc_min' : [0.41,0.36,0.36],\n",
    "    'Kc_mean' : [0.42,0.39,0.37],\n",
    "    'Kc_max' : [0.44,0.42,0.37],\n",
    "    'Kc_sigma' : [0.012,0.019,0.004],\n",
    "    'Er_min' : [18,11,5],\n",
    "    'Er_mean' : [22,19,14],\n",
    "    'Er_max' : [28,25,33],\n",
    "    'Er_sigma' : [2.08,2.93,4.83]\n",
    "}\n",
    "df_OS_Kc_Er_values = pd.DataFrame(OS_Kc_Er_values)\n",
    "df_OS_Kc_Er_values"
   ]
  },
  {
   "cell_type": "markdown",
   "metadata": {},
   "source": [
    "# WH-specific values and calculations:"
   ]
  },
  {
   "cell_type": "code",
   "execution_count": 26,
   "metadata": {},
   "outputs": [
    {
     "data": {
      "text/html": [
       "<div>\n",
       "<style scoped>\n",
       "    .dataframe tbody tr th:only-of-type {\n",
       "        vertical-align: middle;\n",
       "    }\n",
       "\n",
       "    .dataframe tbody tr th {\n",
       "        vertical-align: top;\n",
       "    }\n",
       "\n",
       "    .dataframe thead th {\n",
       "        text-align: right;\n",
       "    }\n",
       "</style>\n",
       "<table border=\"1\" class=\"dataframe\">\n",
       "  <thead>\n",
       "    <tr style=\"text-align: right;\">\n",
       "      <th></th>\n",
       "      <th>Instrument</th>\n",
       "      <th>C (25%) (dB)</th>\n",
       "      <th>C (6%) (dB)</th>\n",
       "      <th>P_DBW Battery (dB)</th>\n",
       "      <th>P_DBW Power Supply (dB)</th>\n",
       "      <th>Rayleigh Distance (m)</th>\n",
       "    </tr>\n",
       "  </thead>\n",
       "  <tbody>\n",
       "    <tr>\n",
       "      <td>20</td>\n",
       "      <td>Workhorse 300</td>\n",
       "      <td>-140.87</td>\n",
       "      <td>-151.64</td>\n",
       "      <td>14.0</td>\n",
       "      <td>17.5</td>\n",
       "      <td>0.87</td>\n",
       "    </tr>\n",
       "    <tr>\n",
       "      <td>21</td>\n",
       "      <td>Workhorse 600</td>\n",
       "      <td>-139.09</td>\n",
       "      <td>-149.14</td>\n",
       "      <td>9.0</td>\n",
       "      <td>12.5</td>\n",
       "      <td>1.75</td>\n",
       "    </tr>\n",
       "    <tr>\n",
       "      <td>22</td>\n",
       "      <td>Workhorse 1200</td>\n",
       "      <td>-129.44</td>\n",
       "      <td>-139.57</td>\n",
       "      <td>4.8</td>\n",
       "      <td>8.3</td>\n",
       "      <td>1.71</td>\n",
       "    </tr>\n",
       "  </tbody>\n",
       "</table>\n",
       "</div>"
      ],
      "text/plain": [
       "        Instrument  C (25%) (dB)  C (6%) (dB)  P_DBW Battery (dB)  \\\n",
       "20   Workhorse 300       -140.87      -151.64                14.0   \n",
       "21   Workhorse 600       -139.09      -149.14                 9.0   \n",
       "22  Workhorse 1200       -129.44      -139.57                 4.8   \n",
       "\n",
       "    P_DBW Power Supply (dB)  Rayleigh Distance (m)  \n",
       "20                     17.5                   0.87  \n",
       "21                     12.5                   1.75  \n",
       "22                      8.3                   1.71  "
      ]
     },
     "execution_count": 26,
     "metadata": {},
     "output_type": "execute_result"
    }
   ],
   "source": [
    "# - From Mullison (2017)\n",
    "WH_C_PDBW_values = mullison_table2.iloc[20:23]\n",
    "WH_C_PDBW_values"
   ]
  },
  {
   "cell_type": "code",
   "execution_count": null,
   "metadata": {},
   "outputs": [],
   "source": [
    "# - From TRDI field service emails in Jan 2020:\n",
    "# (they didn't specify a frequency)\n",
    "WH_Kc_value = 0.42 # dB/count"
   ]
  },
  {
   "cell_type": "markdown",
   "metadata": {},
   "source": [
    "# BBADCP-specific values and calculations:"
   ]
  },
  {
   "cell_type": "code",
   "execution_count": 27,
   "metadata": {},
   "outputs": [],
   "source": [
    "# - From TRDI field service emails in Jan 2020:\n",
    "# (they didn't specify a frequency)\n",
    "BB_Kc_value = 0.45 # dB/count"
   ]
  },
  {
   "cell_type": "markdown",
   "metadata": {},
   "source": [
    "# Calculations common to all ADCP:"
   ]
  },
  {
   "cell_type": "markdown",
   "metadata": {},
   "source": [
    "**$R$: slant range to depth cell (m)**"
   ]
  },
  {
   "cell_type": "markdown",
   "metadata": {},
   "source": [
    "$R = \\frac{B + |(P-D)/2| + (N \\times D) + (D/4)}{cos(\\theta)} \\times \\frac{c'}{1475.1}$ **[method 1]**\n",
    "- B = blank beyond transmit (m) (same as blanking interval?)\n",
    "- P = transmit pulse length (m)\n",
    "- D = depth cell length (m)\n",
    "- N = depth cell number of the scattering layer being measured\n",
    "- c' = wted avg of sound speed btwn transducer and depth cell (m/s)\n",
    "- $\\theta$ = angle of transducer beams from vertical (degrees)\n",
    "- NBADCP, BBADCP, and WH sample echo intensity in the last quarter of each depth cell, not the center --> D/4 accts for this\n",
    "- All other instruments sample at midpt of bin --> remove D/4, I think?\n",
    "- NBADCP assumes the speed of sound is 1475.1 m/s in dtmning depth cell size; c'/1475.1 m/s corrects for variations from this value\n",
    "- From fst-003, used in Lee et al. (2004) and Dwinovantyo et al. (2019)"
   ]
  },
  {
   "cell_type": "markdown",
   "metadata": {},
   "source": [
    "$R = \\frac{B + (L+D)/2 + ((N-1) \\times D) + (D/4)}{cos(\\theta)} \\times \\frac{c'}{c_1}$ **[method 2]**\n",
    "- B = blank beyond transmit (m) (same as blanking interval?)\n",
    "- D = depth cell length (m)\n",
    "- N = depth cell number of the scattering layer being measured\n",
    "- c' = wted avg of sound speed btwn transducer and depth cell (m/s)\n",
    "- $c_1$ = sound speed used by the instrument (m/s)\n",
    "- $\\theta$ = angle of transducer beams from vertical (degrees)\n",
    "- From Deines (1999)"
   ]
  },
  {
   "cell_type": "markdown",
   "metadata": {},
   "source": [
    "$R = \\frac{B + (L + D + L_a)/2 + D/4 + (n-1)D}{cos(\\theta)}$ **[method 3]**\n",
    "- B = blank length (m)\n",
    "- D = depth cell length (m)\n",
    "- n = depth cell number of the scattering layer being measured\n",
    "- L = transmit pulse length\n",
    "- $L_a$ = transmit lag distance (m) \n",
    "- $\\theta$ = angle of transducer beams from vertical (degrees)\n",
    "- This expression differs from Deines (1999), where the transmit lag distance is not included\n",
    "- From Gostiaux and van Haren (2010)"
   ]
  },
  {
   "cell_type": "markdown",
   "metadata": {},
   "source": [
    "**$2 \\alpha R$: total absorption (dB)**"
   ]
  },
  {
   "cell_type": "markdown",
   "metadata": {},
   "source": [
    "$2 \\alpha R = \\frac{2 \\alpha_p B}{cos(\\theta)} + \\sum_{n=1}^{b} \\alpha_n$\n",
    "- b = range cell number\n",
    "- $\\alpha_n = \\frac{2 \\alpha D}{cos(\\theta)}$\n",
    "- $\\alpha$ = absorption coefficient at that depth\n",
    "- $\\alpha_p$ = absorption at the profiler\n",
    "- B = blank length (m)\n",
    "- D = depth cell length (m)\n",
    "- n = depth cell number of the scattering layer being measured\n",
    "- $\\theta$ = angle of transducer beams from vertical (degrees)\n",
    "- From Deines (1999)"
   ]
  },
  {
   "cell_type": "markdown",
   "metadata": {},
   "source": [
    "**$E_r$: real-time reference level for echo intensity (counts)**  \n",
    "\n",
    "If $E_r$ isn't specified, use the minimum echo intensity in all of the received data, as in the following papers:\n",
    "- Lee et al., 2004: \"In the present paper, $E_r$ of each beam was chosen as the minimum echo intensity in all of the received data.\"\n",
    "- Gostiaux and van Haren, 2010: \"The term $E_{noise}$ is the tail value of the minimum RSSI profile over the total record.\""
   ]
  },
  {
   "cell_type": "markdown",
   "metadata": {},
   "source": [
    "**c: speed of sound (m/s)**  "
   ]
  },
  {
   "cell_type": "markdown",
   "metadata": {},
   "source": [
    "$C = 1448.96 + 4.591T - 0.05304T^2 + 2.374 \\times 10^{-4}T^3 + 1.34(S-35) + 0.0163z + 1.675 \\times 10^{-7}z^2 - 0.01025T(S-35) - 7.139 \\times 10^{-13}Tz^3$ **[method 1]**\n",
    "- T = temp in degC\n",
    "- S = salinity in PSU, parts per thousand\n",
    "- z = depth in meters  \n",
    "- Valid for temps from -2-30degC, salinities from 25-40 ppt, depths from 0-8000m\n",
    "- Std error of the predicted SS is 0.07 m/s\n",
    "- Above 1000m, $Tz^3$ term is very small and may be ignored\n",
    "- From Mackenzie (1981) from Simmonds and MacLennan (2008)"
   ]
  },
  {
   "cell_type": "markdown",
   "metadata": {},
   "source": [
    "$C = 1449.2 + 4.6T - 0.055T^2 + 0.00029T^3 + (1.34-0.01T)(S-35) + 0.016D$ **[method 2]**\n",
    "- T = temp in degC\n",
    "- S = salinity in PSU, parts per thousand\n",
    "- D = depth in meters  \n",
    "- From Urick (1983) from \"ADCP Principles of Operation: A Practical Primer\""
   ]
  },
  {
   "cell_type": "markdown",
   "metadata": {},
   "source": [
    "$C = 1492.9 + 3(T-10) - 0.006(T-10)^2 - 0.04(T-18)^2 + 1.2(S-35) - 0.01(T-18)(S-35) + D/61$\n",
    "- T = temp in degC\n",
    "- S = salinity in PSU, parts per thousand\n",
    "- D = depth in meters  \n",
    "- Predicts c correctly to within 0.1 m/s for temps from -2-23degC, salinities from 30-40ppt, depths above 500m\n",
    "- Less accurate, but simpler formula good enough for many fishery applications\n",
    "- From Leroy (1969) from Simmonds and MacLennan (2008)"
   ]
  },
  {
   "cell_type": "markdown",
   "metadata": {},
   "source": [
    "**$\\alpha$: absorption coefficient (dB/km)**"
   ]
  },
  {
   "cell_type": "markdown",
   "metadata": {},
   "source": [
    "$\\alpha = \\frac{A_1 P_1 f_1 f^2}{f^2 + f_1^2} + \\frac{A_2 P_2 f_2 f^2}{f^2 + f_2^2} + A_3 P_3 f^2$  \n",
    "$A_1 = (8.86/c) 10^{0.78pH-5}$  \n",
    "$f_1 = 2.8(S/35)^{0.5} 10^{[4-1245/(T+273)]}$  \n",
    "$P_1 = 1$  \n",
    "$A_2 = 21.44(S/c)(1+0.025T)$  \n",
    "$P_2 = 1-1.37 \\times 10^{-4}z + 6.2 \\times 10^{-9}z^2$  \n",
    "$f_2 = 8.17 \\times 10^{[8-1990/(T+273)]} /[1 + 0.0018(S-35)]$  \n",
    "$P_3 = 1-3.83 \\times 10^{-5}z + 4.9 \\times 10^{-10}z^2$  \n",
    "$A_3 = \\begin{cases}\n",
    "  4.937 \\times 10^{-4} - 2.59 \\times 10^{-5}T + 9.11 \\times 10^{-7}T^2 - 1.5 \\times 10^{-8}T^3, & \\text{if } T \\le 20^{\\circ}C, \\\\\n",
    "  3.964 \\times 10^{-4} - 1.146 \\times 10^{-5}T + 1.45 \\times 10^{-7}T^2 - 6.5 \\times 10^{-10}T^3, & \\text{if } T \\gt 20^{\\circ}C.\n",
    "\\end{cases}$\n",
    "- f = frequency in kHz\n",
    "- T = temp in $^{\\circ}$C\n",
    "- S = salinity in PSU, parts per thousand\n",
    "- z = depth in meters  \n",
    "- pH = pH (unitless)\n",
    "- c = sound speed in m/s\n",
    "- Claimed to predict $\\alpha$ to an accuracy of 5% for temps from -1.8-30$^{\\circ}$C, salinities from 30-35ppt, frequencies from 400Hz-1MHz\n",
    "- pH of sw 7.8-8.2. Reasonable to assume pH=8.\n",
    "- From Francois and Garrison (1982) from Simmonds and MacLennan (2008)"
   ]
  },
  {
   "cell_type": "markdown",
   "metadata": {},
   "source": [
    "# For each ncfile, save the following variables along with Sv:\n",
    "- Tx (temp at transducer, dims = time, units = degC)\n",
    "- R (range, NBADCP samples in the last quarter of each depth cell/OS at midpt, dims = depth, units = m)\n",
    "- Kc (RSSI slope, constant, units = dB/count)\n",
    "- E (RSSI, dims = depth x time, units = counts)\n",
    "- Er (noise floor, constant, units = counts) \n",
    "- P (transmit pulse length, 10log(P) = LDBM, constant, units = m)\n",
    "- K1 (assumed or measured transmit power, 10log(K1) = PDBW, dims = time, units = Watts)\n",
    "- alpha (attenuation coefficient)\n",
    "- c (speed of sound, dims = depth x time, units = m/s)\n",
    "- theta (angle of the transducer beams to vertical, constant, units = degrees)\n",
    "- D (depth cell length, constant, units = m)\n",
    "- Ks (if applicable - only for NBADCP?)\n",
    "- K2 (if applicable - only for NBADCP?)\n",
    "- K1c (if applicable - only for NBADCP?)\n",
    "- B (blank beyond transmit (same as blanking interval?), constant, units = m)\n",
    "\n",
    "Metadata should include:\n",
    "- Instrument type\n",
    "- Instrument SN\n",
    "- Transmit frequency"
   ]
  },
  {
   "cell_type": "markdown",
   "metadata": {},
   "source": [
    "### Narrow df down to Pacific region, OS instruments for now"
   ]
  },
  {
   "cell_type": "code",
   "execution_count": null,
   "metadata": {},
   "outputs": [],
   "source": [
    "print(df['geo_region'].isnull().sum())\n",
    "print(len(df))\n",
    "dfnow = df.dropna(subset=['geo_region'])\n",
    "print(len(dfnow))\n",
    "dfnow = dfnow[dfnow['geo_region'].str.contains('acific')]\n",
    "print(len(dfnow))\n",
    "dfnow = dfnow[dfnow['instrument_name'].str.contains('OS')]\n",
    "print(len(dfnow))\n",
    "dfnow = dfnow[(dfnow['instrument_name']!='OS-II-38')&(dfnow['instrument_name']!='OS-II-75')] "
   ]
  },
  {
   "cell_type": "markdown",
   "metadata": {},
   "source": [
    "## Load table of C, PDBW values"
   ]
  },
  {
   "cell_type": "code",
   "execution_count": null,
   "metadata": {},
   "outputs": [],
   "source": [
    "cpdbw = pd.read_csv(dpath + 'typical_system_characteristics_table2_mullison2017.csv')"
   ]
  },
  {
   "cell_type": "code",
   "execution_count": null,
   "metadata": {},
   "outputs": [],
   "source": [
    "cpdbw.head()"
   ]
  },
  {
   "cell_type": "markdown",
   "metadata": {},
   "source": [
    "## Load table of kc, Er values"
   ]
  },
  {
   "cell_type": "markdown",
   "metadata": {},
   "source": [
    "#### Nominal Kc values from TRDI field service email:\n",
    "BBADCP: 0.45 dB/count  \n",
    "WHADCP: 0.42 dB/count  \n",
    "OS-II-75, SN1508: 0.373 (beam 1), 0.386 (beam 2), 0.388 (beam 3), 0.384 (beam 4) = 0.38275 (avg)  \n",
    "OS-II-75, SN10656: 0.398 (beam 1), 0.389 (beam 2), 0.3988 (beam 3), 0.395 (beam 4) = 0.395 (avg)  \n",
    "#### Nominal Kc values from Jerry Mullison email:\n",
    "Format: min-max, avg, stdev  \n",
    "OS150: 0.41-0.44, 0.42, 0.012   \n",
    "OS75: 0.36-0.42, 0.39, 0.019  \n",
    "OS38: 0.36-0.37, 0.37, 0.004  "
   ]
  },
  {
   "cell_type": "markdown",
   "metadata": {},
   "source": [
    "#### Nominal Er values from Jerry Mullison email:\n",
    "Format: min-max, avg, stdev  \n",
    "OS150: 18-28, 22, 2.08  \n",
    "OS75: 11-25, 19, 2.93  \n",
    "OS38: 5-33, 14, 4.83  "
   ]
  },
  {
   "cell_type": "code",
   "execution_count": null,
   "metadata": {},
   "outputs": [],
   "source": [
    "# - Calc avg Kc for OS-II w/ SNs\n",
    "print(np.mean([0.373, 0.386, 0.388, 0.384]))\n",
    "print(np.mean([0.398, 0.389, 0.398, 0.395]))"
   ]
  },
  {
   "cell_type": "markdown",
   "metadata": {},
   "source": [
    "## Load WOD data (T,S)"
   ]
  },
  {
   "cell_type": "markdown",
   "metadata": {},
   "source": [
    "## Compute Sv"
   ]
  },
  {
   "cell_type": "code",
   "execution_count": 11,
   "metadata": {},
   "outputs": [
    {
     "data": {
      "text/plain": [
       "[' #DATA_DATES: 1992/05/01 16:35:00 --- to --- 1992/05/26 06:19:00',\n",
       " ' #LON_RANGE: 112.67 W --- to ---  71.50 W',\n",
       " ' #LAT_RANGE:  33.04 S --- to ---  27.90 S',\n",
       " ' #DEPTH_RANGE:     12 --- to --- 484 m',\n",
       " ' #SAC_CRUISE_ID: 00216 ',\n",
       " ' #PLATFORM_NAME: R/V Knorr',\n",
       " ' #PRINCIPAL_INVESTIGATOR_NAME: M.Kosro',\n",
       " ' #PI_INSTITUTION: Oregon State University ',\n",
       " ' #PI_COUNTRY:  USA',\n",
       " ' #PROJECT: WOCE (One-time line)',\n",
       " ' #CRUISE_NAME: ship_tag=kn9205 woce_tag=P06E EXPOCODE=316N138_3',\n",
       " ' #PORTS: Valpariso to Easter Island',\n",
       " ' #GEOGRAPHIC_REGION: SE Pacific                                  ',\n",
       " ' #PROCESSED_BY:  Oregon State University',\n",
       " ' #NAVIGATION: GPS                          ',\n",
       " ' #QUALITY_NAV: good ',\n",
       " ' #GENERAL_INFORMATION: ',\n",
       " 'CRUISE NOTES',\n",
       " '  CHIEF SCIENTIST ON SHIP     : H.Bryden',\n",
       " '    INSTITUTE                 : James Rennell Centre for Ocean Research',\n",
       " '    COUNTRY                   : UK ',\n",
       " '  SIGNIFICANT DATA GAPS       : some short gaps',\n",
       " '  SPECIAL SHIP TRACK PATTERNS :',\n",
       " '  COMMENTS                    :  ',\n",
       " 'WHP P6 was carried out from the R/V Knorr in May- July 1992. This quasi-',\n",
       " 'zonal section spanned the subtropical South Pacific Ocean at 30 -32 30 S. As ',\n",
       " 'such, it was defined as the WOCE Heat Flux line for this ocean basin. In ',\n",
       " 'addition to the hydrographic section, moored current meter measurements were ',\n",
       " 'being maintained in the East Australian Current and the Deep Western ',\n",
       " 'Boundary Current east of the Tonga Kermadac Ridge at the time of our cruise.',\n",
       " '',\n",
       " 'P6 represented the first WHP leg aboard the recently reengined and jumboized ',\n",
       " 'R/V Knorr. Perhaps not unexpectedly, numerous start-up problems were ',\n",
       " \"experienced on P6, as problems with the vessel's systems became apparant. \",\n",
       " 'Frequent power black-outs were experienced, as well as more subtle ',\n",
       " 'instrument problems related to the line voltage. Complicating matters, the ',\n",
       " 'break-down of the facility at Easter Island meant that no fuel was available ',\n",
       " 'at Easter Island. Extreme conservation requirements dictated reduced ship ',\n",
       " \"speed for the first two legs of the program. CTD's and water sample rosettes \",\n",
       " 'also presented their share of problems during the expedition. Significant ',\n",
       " \"credit must be given to the Knorr's personnel, and the seagoing scientific \",\n",
       " 'teams for carrying on with the work despite the difficulties.',\n",
       " '',\n",
       " 'ADCP INSTRUMENTATION',\n",
       " '  MANUFACTURER                : RD Instruments (RDI)',\n",
       " '  HARDWARE MODEL              : RD-VM150',\n",
       " '',\n",
       " 'ADCP INSTALLATION',\n",
       " '  METHOD/DESCRIPTION OF THE',\n",
       " '    ATTACHMENT TO THE HULL    :',\n",
       " 'There is a hole in the hull plating slightly larger than the transducer',\n",
       " 'clover leaf. Unfortunately, the hull is not flat and horizontal at the',\n",
       " \"transducer's off-centerline location so the plate is at an angle to the plane\",\n",
       " 'of the transducer array.  The transducers closest to the centerline are',\n",
       " 'slightly recessed and the outboard pair are approximately flush.  The',\n",
       " 'transducer assembly is held in place by bolting its upper flange to the',\n",
       " 'underside of a mounting \"top-hat\" adapter assembly.  Therefore the entire',\n",
       " 'assembly is in water and inspection of the electronics requires pulling the',\n",
       " 'unit.',\n",
       " '  LOCATION/DEPTH ON HULL      :  ',\n",
       " 'Transducer is located at frame 39, approximately 6 feet off centerline to',\n",
       " 'the port side, at a depth of 14 feet.',\n",
       " '  REPEATABLE ATTACHMENT       :  < YES > Mounting arrangement has',\n",
       " 'alignment pins intended to allow repeatable installations but this seems to be',\n",
       " 'a continuing problem.',\n",
       " '',\n",
       " 'ADCP INSTRUMENT CONFIGURATION     ',\n",
       " '  DEPTH RANGE                 : 17 - 489 m',\n",
       " '  BIN LENGTH                  :   8 m',\n",
       " '  NUMBER OF BINS              :  60',\n",
       " '  TRANSMIT PULSE LENGTH       :   8 m',\n",
       " '  BLANKING INTERVAL           :   4 m',\n",
       " '  ENSEMBLE AVERAGING INTERVAL :  150 s (except short periods of 60s during 1st 3 days)',\n",
       " '  SOUND SPEED CALCULATION     : CONSTANT = 1520 m/s; later adjusted for temperature',\n",
       " '  BOTTOM TRACKING             : yes',\n",
       " '  DIRECT COMMANDS             : ',\n",
       " '  COMMENTS                    :',\n",
       " '',\n",
       " 'ADCP DATA ACQUISITION SYSTEM',\n",
       " '  SOFTWARE VERSIONS           : RDI DAS 2.48, GPIB interface',\n",
       " '  USER BUFFER VERSION         : ub_1320',\n",
       " '  CLOCK                       : pc clock',\n",
       " '  COMMENTS                    : time correction applied',\n",
       " ' ',\n",
       " 'SHIP HEADING',\n",
       " '  INSTRUMENT MAKE/MODEL       : Sperry MK37',\n",
       " '  SYNCHRO OR STEPPER          : synchro',\n",
       " '  SYNCHRO RATIO               : 1:1',\n",
       " '  COMPENSATION APPLIED        : uncertain',\n",
       " '  GPS ATTITUDE SYSTEM         :  YES, Ashtech 3DF, firmware 6H-1.1',\n",
       " '    LOCATION OF ANTENNAS      :  ',\n",
       " 'Antennas are aircraft type with 10\" dia ground planes, mounted in a rectangular',\n",
       " 'array above the aft deck observational tower.  All antennas are at the same',\n",
       " 'height; approximately 5 feet above the tower top, 52 feet above the baseline.',\n",
       " 'One fore/aft pair is spaced at 3 meters, the other pair at 2 meters.  There is',\n",
       " '2 meter spacing between the pairs (p/s separation).  The array center is',\n",
       " 'approximately 2 feet port of ship centerline, at frame 106.',\n",
       " '',\n",
       " 'ANCILLARY MEASUREMENTS            ',\n",
       " '  SURFACE TEMP AND SALINITY   : yes',\n",
       " '  PITCH/ROLL MEASUREMENTS     :',\n",
       " '  HYDRO CAST MEASUREMENTS     : yes',\n",
       " '  BIOMASS DETERMINATION       : no',\n",
       " '',\n",
       " 'ADCP DATA PROCESSING/EDITING',\n",
       " '  PERSONNEL IN CHARGE         : M.Kosro',\n",
       " '  DATE OF PROCESSING          : 1992-7',\n",
       " '  ADDED TO NODC DB            : Dec 1997',\n",
       " '  NOTABLE SCATTERING LAYERS   :',\n",
       " '  COMMENTS                    : ',\n",
       " '',\n",
       " 'NAVIGATION',\n",
       " '  GPS                         : YES ',\n",
       " '    MAKE/MODEL                : unconfirmed',\n",
       " '    SELECTIVE AVAILABILITY    : YES ',\n",
       " '    P-CODE                    : NO ',\n",
       " '    SAMPLE INTERVAL           : 1 Hz',\n",
       " '    LOCATION OF ANTENNA       : Antenna is 89 feet above the waterline on',\n",
       " '                                the main mast at frame 61, 14 feet',\n",
       " \"                                port of ship's centerline.\",\n",
       " '      RELATIVE TO TRANSDUCER  : transducer was about 40 ft in the',\n",
       " '                                horizontal from the P-code antenna ',\n",
       " '    TIME OBTAINED RELATIVE TO',\n",
       " '      START/END OF ENSEMBLE   : unconfirmed',\n",
       " '    AVERAGING/EDITING APPLIED : unconfirmed',\n",
       " '    LOGGED WITH ADCP DATA     : YES using user exit program',\n",
       " '    LOGGED INDEPENDENTLY      : YES ',\n",
       " '',\n",
       " 'CALIBRATION ',\n",
       " '    GYROCOMPASS CORRECTION      : YES; using Ashtech data  ',\n",
       " '    BOTTOM TRACK METHOD         : not applied',\n",
       " '    WATER TRACK METHOD          : YES performed after gyrocompass correction',\n",
       " '                                  Amplitude: 0.999   Phase: -1.8',\n",
       " '',\n",
       " 'NAVIGATION CALCULATION',\n",
       " '    NAVIGATION USED             : gps',\n",
       " '    REFERENCE LAYER DEPTH RANGE : bins 5 - 20',\n",
       " '    FILTERING METHOD FOR',\n",
       " '      SMOOTHING REFERENCE LAYER',\n",
       " '      VELOCITY (FORM/WIDTH)     :a Blackman window function of width T:',\n",
       " '         w(t) = 0.42 - 0.5 * cos(2 * pi *t / T) + 0.08 * cos(4 * pi * t / T).',\n",
       " '         filter_hwidth=        0.0208333     /* half an hour */',\n",
       " '    FINALIZED SHIP VEL/POSITIONS',\n",
       " '    STORED IN DATABASE          : YES',\n",
       " '    COMMENTS                    :',\n",
       " '',\n",
       " ' GENERAL_ASSESSMENT             :',\n",
       " '    ON-STATION VS. UNDERWAY     : good',\n",
       " '    VECTOR, CONTOUR, STICK PLOTS: good',\n",
       " '    COMMENTS                    : data quality good',\n",
       " '',\n",
       " ' REFERENCES (DATA REPORTS,ETC.) : WOCE P6 Cruise Report. International',\n",
       " '   WOCE Project Office.',\n",
       " '']"
      ]
     },
     "execution_count": 11,
     "metadata": {},
     "output_type": "execute_result"
    }
   ],
   "source": [
    "ncfile = '/opt/acoustic-variability/data/JASADCP/ncfiles/00216_short.nc'\n",
    "ncnow = xr.open_dataset(ncfile)\n",
    "strnow = ncnow.attrs['cruise_sonar_summary']\n",
    "#re.findall('arro', strnow, re.IGNORECASE)\n",
    "ncnow.attrs['cruise_sonar_summary'].split('\\n')"
   ]
  },
  {
   "cell_type": "code",
   "execution_count": null,
   "metadata": {},
   "outputs": [],
   "source": []
  },
  {
   "cell_type": "code",
   "execution_count": null,
   "metadata": {},
   "outputs": [],
   "source": [
    "dfnow.iloc[0]"
   ]
  },
  {
   "cell_type": "markdown",
   "metadata": {},
   "source": [
    "Mean volume backscattering strength:  \n",
    "$S_v = C + 10log((T_x + 273.16)*R^2) - L_{DBM} - P_{DBW} + 2 \\alpha R + 10log(10^{k_c(E-E_r)/10} - 1)$"
   ]
  },
  {
   "cell_type": "code",
   "execution_count": null,
   "metadata": {},
   "outputs": [],
   "source": [
    "ncfile = dpath + 'JASADCP/ncfiles/00001_short.nc'\n",
    "nc = xr.open_dataset(ncfile)"
   ]
  },
  {
   "cell_type": "code",
   "execution_count": null,
   "metadata": {},
   "outputs": [],
   "source": [
    "cols = df.columns.values"
   ]
  },
  {
   "cell_type": "code",
   "execution_count": null,
   "metadata": {},
   "outputs": [],
   "source": [
    "cols[0:-1]"
   ]
  },
  {
   "cell_type": "code",
   "execution_count": null,
   "metadata": {},
   "outputs": [],
   "source": [
    "nc"
   ]
  },
  {
   "cell_type": "code",
   "execution_count": null,
   "metadata": {},
   "outputs": [],
   "source": [
    "nc['depth']"
   ]
  },
  {
   "cell_type": "code",
   "execution_count": null,
   "metadata": {},
   "outputs": [],
   "source": [
    "nc['amp']"
   ]
  },
  {
   "cell_type": "code",
   "execution_count": null,
   "metadata": {},
   "outputs": [],
   "source": [
    "nc['amp'].plot()"
   ]
  },
  {
   "cell_type": "code",
   "execution_count": null,
   "metadata": {},
   "outputs": [],
   "source": [
    "nc['depth'].values"
   ]
  },
  {
   "cell_type": "code",
   "execution_count": null,
   "metadata": {},
   "outputs": [],
   "source": []
  },
  {
   "cell_type": "code",
   "execution_count": null,
   "metadata": {},
   "outputs": [],
   "source": [
    "#nct['ADCP_CONFIG'].attrs['model_name']\n",
    "nct['ADCP_CONFIG'].attrs"
   ]
  },
  {
   "cell_type": "code",
   "execution_count": null,
   "metadata": {},
   "outputs": [],
   "source": []
  },
  {
   "cell_type": "code",
   "execution_count": null,
   "metadata": {},
   "outputs": [],
   "source": []
  },
  {
   "cell_type": "markdown",
   "metadata": {},
   "source": [
    "# TESTING/OLD"
   ]
  },
  {
   "cell_type": "code",
   "execution_count": null,
   "metadata": {},
   "outputs": [],
   "source": [
    "fnames = sorted(os.listdir(dpath + 'JASADCP/ncfiles'))"
   ]
  },
  {
   "cell_type": "code",
   "execution_count": null,
   "metadata": {},
   "outputs": [],
   "source": [
    "nc_counter = len(fnames)\n",
    "geo_region = [None]*nc_counter"
   ]
  },
  {
   "cell_type": "code",
   "execution_count": null,
   "metadata": {},
   "outputs": [],
   "source": [
    "ifile = 0\n",
    "for fname in fnames:\n",
    "    ncfile = dpath + 'JASADCP/ncfiles/' + fname\n",
    "    ncnow = xr.open_dataset(ncfile)\n",
    "    strnow = ncnow.attrs['cruise_sonar_summary']\n",
    "    geo_regionnow = re.findall(\"GEOGRAPHIC_REGION *: *((?:\\S+ )*\\S+)\", strnow)\n",
    "    if geo_regionnow:\n",
    "        geo_region[ifile] = geo_regionnow[0]\n",
    "    ifile = ifile+1"
   ]
  },
  {
   "cell_type": "code",
   "execution_count": null,
   "metadata": {},
   "outputs": [],
   "source": [
    "df = pd.concat(\n",
    "    [pd.Series(fnames,name='fname'), pd.Series(geo_region,name='geo_region')],\n",
    "    axis=1)"
   ]
  }
 ],
 "metadata": {
  "kernelspec": {
   "display_name": "Python 3",
   "language": "python",
   "name": "python3"
  },
  "language_info": {
   "codemirror_mode": {
    "name": "ipython",
    "version": 3
   },
   "file_extension": ".py",
   "mimetype": "text/x-python",
   "name": "python",
   "nbconvert_exporter": "python",
   "pygments_lexer": "ipython3",
   "version": "3.7.3"
  }
 },
 "nbformat": 4,
 "nbformat_minor": 4
}
