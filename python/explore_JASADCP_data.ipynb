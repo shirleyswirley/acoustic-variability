{
 "cells": [
  {
   "cell_type": "code",
   "execution_count": null,
   "metadata": {},
   "outputs": [],
   "source": [
    "%run setup_Sv_compute.ipynb"
   ]
  },
  {
   "cell_type": "markdown",
   "metadata": {},
   "source": [
    "# Compute Sv, for OS samples at first "
   ]
  },
  {
   "cell_type": "code",
   "execution_count": 89,
   "metadata": {},
   "outputs": [],
   "source": [
    "pd.options.display.max_rows = 999\n",
    "dfnow = df[df['geo_region'].notnull()]\n",
    "dfnow = dfnow[dfnow['geo_region'].str.contains('acific')]\n",
    "#dfnow[dfnow['geo_region'].str.contains('acific')][['fname','geo_region']]\n",
    "# --> I like \"central equatorial pacific\" --> choose 00890_short.nc\n",
    "#fnamenow = '00890_short.nc'\n",
    "#fnamenow = '00249_short.nc'\n",
    "fnamenow = '01006_short.nc'\n",
    "attrsnow = df[df['fname']==fnamenow]"
   ]
  },
  {
   "cell_type": "code",
   "execution_count": 90,
   "metadata": {},
   "outputs": [
    {
     "data": {
      "text/plain": [
       "[' #DATA_DATES: 2001/09/10 15:26:00 --- to --- 2001/10/25 10:47:00',\n",
       " ' #LON_RANGE: 101.50 W --- to ---  70.35 W',\n",
       " ' #LAT_RANGE:  20.31 S --- to ---  13.62 N',\n",
       " ' #DEPTH_RANGE:     13 --- to --- 489 m',\n",
       " ' #SAC_CRUISE_ID: 01006 ',\n",
       " ' #PLATFORM_NAME: R/V Ron Brown',\n",
       " ' #PRINCIPAL_INVESTIGATOR_NAME: E.Firing, J.Hummon',\n",
       " ' #PI_INSTITUTION:  University of Hawaii',\n",
       " ' #PI_COUNTRY:      USA',\n",
       " ' #PROJECT: STRATUS, stratus clouds of the eastern tropical Pacific',\n",
       " ' #CRUISE_NAME: RB0108',\n",
       " ' #PORTS: San Diego to Galapagos, Galapagos to Arica, Chile',\n",
       " ' #GEOGRAPHIC_REGION: eastern tropical and southeast Pacific',\n",
       " ' #PROCESSED_BY: University of Hawaii',\n",
       " ' #NAVIGATION: GPS ',\n",
       " ' #QUALITY_NAV: good (no Ashtech)',\n",
       " ' #GENERAL_INFORMATION: ',\n",
       " 'CRUISE NOTES',\n",
       " '  CHIEF SCIENTIST ON SHIP     : unconfirmed',\n",
       " '    INSTITUTE                 : unconfirmed',\n",
       " '  SIGNIFICANT DATA GAPS       : many gaps during first leg of cruise',\n",
       " '  SPECIAL SHIP TRACK PATTERNS : ',\n",
       " '  COMMENTS                    : ',\n",
       " '         Sch. leg1 09/10 - 10/06; leg2 10/09 - 10/25',\n",
       " '',\n",
       " 'ADCP INSTRUMENTATION',\n",
       " '  MANUFACTURER                : RDI',\n",
       " '  HARDWARE MODEL              : NB 150 (VM-150-18HP)',\n",
       " '  SERIAL NUMBERS              :',\n",
       " '  FIRMWARE VERSION            :',\n",
       " '  TRANSMIT FREQUENCY          : 153.6 KHz',\n",
       " '  ACOUSTIC BEAM WIDTH         :',\n",
       " '  TRANSDUCER BEAM ANGLE       :',\n",
       " '  COMMENTS                    : ',\n",
       " '',\n",
       " 'ADCP INSTALLATION',\n",
       " '  METHOD/DESCRIPTION OF THE',\n",
       " '    ATTACHMENT TO THE HULL    : Position roughly midship on hull.',\n",
       " '                                Bolted onto stand inside seachest.',\n",
       " \"  LOCATION/DEPTH ON HULL      : transducer depth nominally at 5m (19')\",\n",
       " '  REPEATABLE ATTACHMENT       : yes',\n",
       " '  DATE OF MOST RECENT ATTACH. : 1997',\n",
       " '  ACOUSTIC WINDOW             :  no',\n",
       " '  COMMENTS                    : ',\n",
       " '',\n",
       " 'ADCP INSTRUMENT CONFIGURATION     ',\n",
       " '  DEPTH RANGE                 : 13 to 489 m',\n",
       " '  BIN LENGTH                  : vary',\n",
       " '  NUMBER OF BINS              : vary',\n",
       " '  TRANSMIT PULSE LENGTH       : vary',\n",
       " '  BLANKING INTERVAL           : vary',\n",
       " '  ENSEMBLE AVERAGING INTERVAL : vary',\n",
       " '  SOUND SPEED CALCULATION     : Function of transducer temperature ',\n",
       " '  BOTTOM TRACKING             :',\n",
       " '  DIRECT COMMANDS             :',\n",
       " '  COMMENTS                    :',\n",
       " ' Configuration History File ',\n",
       " '',\n",
       " 'Columns are as follows: ',\n",
       " '',\n",
       " ' B : CODAS logical block number  ',\n",
       " '',\n",
       " 'BT : bottom track mode (on or off)  ',\n",
       " '',\n",
       " 'SI : sampling interval or averaging period for ensemble (sec)',\n",
       " 'NB : number of bins',\n",
       " '',\n",
       " 'BL : bin length (m)',\n",
       " 'PL : pulse length (m)',\n",
       " 'TD : transducer depth (m)',\n",
       " 'BK : blanking length (m)',\n",
       " '',\n",
       " 'TR : top reference bin (m)',\n",
       " 'BR : bottom reference bin (m)',\n",
       " '',\n",
       " 'HO : heading offset applied by DAS (deg)',\n",
       " 'HB : heading bias (deg)',\n",
       " 'CRPH : compensation for roll-pitch-heading, 1:on, 0:off)',\n",
       " '',\n",
       " '  yy/mm/dd  hh:mm:ss   B    BT    SI  NB   BL PL TD BK   TR BR       HO     HB CRPH',\n",
       " '2001/09/10  15:26:52   0   off    60  90    4  4  5  4    3 10    45.00  -1.80 0001  ',\n",
       " '2001/09/10  23:16:10   4   off   180  90    4  4  5  4    3 10    45.00  -1.80 0001  ',\n",
       " '2001/09/12  17:41:46  11   off    60  90    4  4  5  4    3 10    45.00  -1.80 0001  ',\n",
       " '2001/10/01  10:03:32 205   off   300  90    4  4  5  4    3 10    45.00  -1.80 0001  ',\n",
       " '2001/10/06  04:17:46 216    on   300  90    4  4  5  4    3 10    45.00  -1.80 0001  ',\n",
       " '2001/10/09  17:05:34 218    on   300  60    8  8  5  4    3 10    45.00   1.80 0001  ',\n",
       " '2001/10/09  19:03:28 219   off   300  60    8  8  5  4    3 10    45.00   1.80 0001  ',\n",
       " '',\n",
       " 'ADCP DATA ACQUISITION SYSTEM',\n",
       " '  SOFTWARE DEVELOPERS         : RDI',\n",
       " '  SOFTWARE VERSIONS           : RDI DAS 2.48 with UE4',\n",
       " '  DATA LOGGER, MAKE/MODEL     : 100 mb zip drive',\n",
       " '  ADCP/LOGGER COMMUNICATION   : ',\n",
       " '  USER BUFFER VERSION         : 1920',\n",
       " '  CLOCK                       : ',\n",
       " '  COMMENTS                    :',\n",
       " '',\n",
       " 'SHIP HEADING                      ',\n",
       " '  INSTRUMENT MAKE/MODEL       : Sperry Mark 37 gyro and ',\n",
       " '                                a Sperry Mark 39 Mod 0 laser ring gyro',\n",
       " '  SYNCHRO OR STEPPER          : synchro',\n",
       " '  SYNCHRO RATIO               :',\n",
       " '  COMPENSATION APPLIED        :',\n",
       " '  GPS ATTITUDE SYSTEM         : no',\n",
       " '    LOCATION OF ANTENNAS      :  ',\n",
       " '    RIGID ATTACHMENT          : ',\n",
       " '    LOGGING RATE              : ',\n",
       " '  COMMENT                     : The Mark 37 gyro relies on manual latitude ',\n",
       " 'and speed corrections, the Mark 39 gyro relies on automatic speed log corrections.',\n",
       " '       ',\n",
       " 'ANCILLARY MEASUREMENTS            ',\n",
       " '  SURFACE TEMP AND SALINITY   : yes',\n",
       " '  PITCH/ROLL MEASUREMENTS     : ',\n",
       " '  HYDRO CAST MEASUREMENTS     : ',\n",
       " '  BIOMASS DETERMINATION       :',\n",
       " '    DATE OF LAST CALIBRATION  :',\n",
       " '    CALIBRATION COEFFICIENTS  :',\n",
       " '    BEAM-AVERAGED AGC AVAILABLE?: < NO > < YES >',\n",
       " '    CALIBRATION NET TOWS?     :   < NO > < YES >',\n",
       " '  COMMENTS                    :',\n",
       " '',\n",
       " 'ADCP DATA PROCESSING/EDITING',\n",
       " '  PERSONNEL IN CHARGE         : Jules Hummon',\n",
       " '  DATE OF PROCESSING          : ',\n",
       " '  NOTABLE SCATTERING LAYERS   : ',\n",
       " '  ADDED TO NODC DB            : Aug 2006',\n",
       " '  COMMENTS                    : ',\n",
       " '',\n",
       " 'NAVIGATION',\n",
       " '  GPS                         : Three primary - a Trimble Centurian P-code GPS, ',\n",
       " '                                a Magnavox MX-200 GPS, ',\n",
       " '                                and a Northstar 941x differential GPS',\n",
       " '    MAKE/MODEL                :',\n",
       " '    SELECTIVE AVAILABILITY    : yes',\n",
       " '    P-CODE                    : yes',\n",
       " '    DIFFERENTIAL              : yes',\n",
       " '    SAMPLE INTERVAL           : ',\n",
       " '    LOCATION OF ANTENNA',\n",
       " '      RELATIVE TO TRANSDUCER  : ',\n",
       " '                                    4 ft. 4 in. to starboard',\n",
       " '                                    86 ft. 7 in. aft',\n",
       " '                                    59 ft. 9 in. vertical',\n",
       " '                                    this is the p-code gps antenna ',\n",
       " '    TIME OBTAINED RELATIVE TO',\n",
       " '      START/END OF ENSEMBLE   : start and end of ensemble',\n",
       " '    AVERAGING/EDITING APPLIED : ensemble position is average of end of present',\n",
       " '                                ensemble and start of following ensemble',\n",
       " '    LOGGED WITH ADCP DATA     : yes',\n",
       " '    LOGGED INDEPENDENTLY      : yes',\n",
       " '    COMMENTS                  :',\n",
       " '  OTHER                       : ',\n",
       " '',\n",
       " 'CALIBRATION ',\n",
       " '    GYROCOMPASS CORRECTION    : no Ashtech',\n",
       " '    COMMENTS                    : ',\n",
       " '         BOTTOM TRACK:  yes',\n",
       " '                          botmtrk  (combined): 58 of 63',\n",
       " '                          amplitude   0.9963   0.9964   0.0037',\n",
       " '                          phase      -0.0191  -0.0061   0.1715',\n",
       " '         WATERTRACK:    yes',\n",
       " '                          rb0108(_9) overall:',\n",
       " '                          watertrk (combined): 200 of 265',\n",
       " '                          amplitude   0.9980   1.0009   0.0163',\n",
       " '                          phase       0.0355   0.0545   1.0529',\n",
       " '',\n",
       " '    FINAL: before dday 279: AMPLITUDE: 1.00   PHASE: -3.6',\n",
       " '           after  dday 279: AMPLITUDE: 1.00   PHASE:  0.0',\n",
       " '',\n",
       " 'NAVIGATION CALCULATION             ',\n",
       " '    NAVIGATION USED             : extract GPS data using nmea_gps',\n",
       " '    REFERENCE LAYER DEPTH RANGE : bins 4 to 12',\n",
       " '    FILTERING METHOD FOR ',\n",
       " '      SMOOTHING REFERENCE LAYER ',\n",
       " '      VELOCITY (FORM/WIDTH)     : Blackman window function of width T ( .5 hr):',\n",
       " '         w(t) = 0.42 - 0.5 * cos(2 * pi *t / T) + 0.08 * cos(4 * pi * t / T).',\n",
       " '    FINALIZED SHIP VEL/POSITIONS ',\n",
       " '    STORED IN DATABASE          : YES',\n",
       " '    COMMENTS                    : ',\n",
       " '',\n",
       " ' GENERAL_ASSESSMENT             : ok',\n",
       " '    ON-STATION VS. UNDERWAY     : ok',\n",
       " '    VECTOR, CONTOUR, STICK PLOTS: ok ',\n",
       " '    COMMENTS                    : ',\n",
       " '',\n",
       " ' REFERENCES (DATA REPORTS,ETC.) :',\n",
       " '']"
      ]
     },
     "execution_count": 90,
     "metadata": {},
     "output_type": "execute_result"
    }
   ],
   "source": [
    "ncfile = dpath + 'JASADCP/ncfiles/' + fnamenow\n",
    "nc = xr.open_dataset(ncfile)\n",
    "#strnow = nc.attrs['cruise_sonar_summary']\n",
    "#re.findall('arro', strnow, re.IGNORECASE)\n",
    "nc.attrs['cruise_sonar_summary'].split('\\n')\n",
    "#nc\n",
    "#print(nc['depth'])\n",
    "#nc['amp']\n",
    "#nc['amp'].plot()\n",
    "#nc['depth'].values\n",
    "#nc['ADCP_CONFIG'].attrs['model_name']\n",
    "#nc['ADCP_CONFIG'].attrs"
   ]
  },
  {
   "cell_type": "code",
   "execution_count": null,
   "metadata": {},
   "outputs": [],
   "source": [
    "def calc_c_tdresolved(T=25,S=35,z):\n",
    "# returns time-depth resolved c, sound speed in m/s\n",
    "    return c\n",
    "def calc_alpha_tdresolved(T,S,z):\n",
    "# returns time-depth alpha, absorption coefficient in dB/m\n",
    "    return alpha"
   ]
  },
  {
   "cell_type": "code",
   "execution_count": null,
   "metadata": {},
   "outputs": [],
   "source": [
    "def get_C_constant(row):\n",
    "# returns constant C in dB\n",
    "    if row['bandwidth']=='narrowband':\n",
    "        Cnow = 'C_6%'\n",
    "    elif row['bandwidth']=='broadband':\n",
    "        Cnow = 'C_25%'\n",
    "        \n",
    "    if (re.search('OS', row['instrument_name'])):\n",
    "        if (re.search('OS-II'), row['instrument_name']):\n",
    "            instrument_prefixnow = 'OS-II'\n",
    "        else:\n",
    "            instrument_prefixnow = 'OS'\n",
    "        return OS_C_PDBW_Kc_Er_values[\n",
    "            (OS_C_PDBW_Kc_Er_values['instrument_prefix']==instrument_prefixnow)\n",
    "            & (OS_C_PDBW_Kc_Er_values['freq_round_kHz']==row['freq_round_kHz'])\n",
    "            ][Cnow]\n",
    "    elif (re.search('WH', row['instrument_name'])):\n",
    "        if (re.search('WH-Mariner'), row['instrument_name']):\n",
    "            instrument_prefixnow = 'WH-Mariner'\n",
    "        else:\n",
    "            instrument_prefixnow = 'WH'\n",
    "        return WH_C_PDBW_Kc_Er_values[\n",
    "            (WH_C_PDBW_Kc_Er_values['instrument_prefix']==instrument_prefixnow)\n",
    "            & (WH_C_PDBW_Kc_Er_values['freq_round_kHz']==row['freq_round_kHz'])\n",
    "            ][Cnow]\n",
    "    elif (re.search('BB', row['instrument_name'])):\n",
    "        instrument_prefixnow = 'BB-VM'\n",
    "        return BB_C_PDBW_Kc_Er_values[\n",
    "            (BB_C_PDBW_Kc_Er_values['instrument_prefix']==instrument_prefixnow)\n",
    "            & (BB_C_PDBW_Kc_Er_values['freq_round_kHz']==row['freq_round_kHz'])\n",
    "            ][Cnow]\n",
    "    \n",
    "def get_C_tdresolved(row,c):\n",
    "# returns time-depth resolved C in dB\n",
    "    if (re.search('NB'), row['instrument_name']):\n",
    "        if (re.search('NB-VM', row['instrument_name'])):\n",
    "            instrument_prefixnow = 'NB-VM'\n",
    "        elif (re.search('NB-DR', row['instrument_name'])):\n",
    "            instrument_prefixnow = 'NB-DR'\n",
    "        K2 = NB_K2_values[(NB_K2_values['instrument_prefix']==instrument_prefixnow)\n",
    "                          & (NB_K2_values['freq_round_kHz']==row['freq_round_kHz'])\n",
    "                         ]['K2']\n",
    "        Ks = NB_Ks_values[(NB_Ks_values['freq_round_kHz']==row['freq_round_kHz'])\n",
    "                         ]['Ks']\n",
    "        C = 10*np.log10(4.47*10^(-20)*K2*Ks/c)\n",
    "        return C"
   ]
  },
  {
   "cell_type": "code",
   "execution_count": null,
   "metadata": {},
   "outputs": [],
   "source": [
    "def get_R_tdresolved(row, depth, method_num=5, c_wtavg=1475.1): # m\n",
    "# return time-depth resolved R in m\n",
    "    if method_num==4:\n",
    "        return depth\n",
    "    if method_num==5:\n",
    "        return depth/np.cos(row['theta']*np.pi/180)\n",
    "    if method_num==6:\n",
    "        # c_wtavg can be time-depth resolved, just like depth\n",
    "        return depth/np.cos(row['theta']*np.pi/180)*c_wtavg/1475.1"
   ]
  },
  {
   "cell_type": "markdown",
   "metadata": {},
   "source": [
    "$S_v = \\color{red}{C} + \\color{blue}{10log((T_x + 273.16)*R^2)} - \\color{orange}{L_{DBM}} - \\color{green}{P_{DBW}} + \\color{purple}{2 \\alpha R} + 10log(10^{k_c(E-E_r)/10} - 1)$  \n",
    "$S_v = \\color{red}{10log(\\frac{4.47 \\times 10^{-20} K_2 K_S}{c})} + \\color{blue}{10log((T_x + 273.16)*R^2)} - \\color{orange}{10log(P)} - \\color{green}{10log(K_1)} + \\color{purple}{2 \\alpha R} + 10log(10^{k_c(E-E_r)/10} - 1)$"
   ]
  },
  {
   "cell_type": "code",
   "execution_count": null,
   "metadata": {},
   "outputs": [],
   "source": [
    "def get_LDBM_tdresolved(row, \n",
    "    return np.log10(row['transmit_pulse_length'])"
   ]
  },
  {
   "cell_type": "code",
   "execution_count": 82,
   "metadata": {},
   "outputs": [
    {
     "data": {
      "text/plain": [
       "0.4771212547196624"
      ]
     },
     "execution_count": 82,
     "metadata": {},
     "output_type": "execute_result"
    }
   ],
   "source": [
    "np.log10(24)-np.log10(8)"
   ]
  },
  {
   "cell_type": "code",
   "execution_count": 96,
   "metadata": {},
   "outputs": [
    {
     "data": {
      "text/plain": [
       "306    00342_short.nc\n",
       "307    00343_short.nc\n",
       "308    00344_short.nc\n",
       "309    00345_short.nc\n",
       "Name: fname, dtype: object"
      ]
     },
     "execution_count": 96,
     "metadata": {},
     "output_type": "execute_result"
    }
   ],
   "source": [
    "dfnow = df[df['transmit_pulse_length'].notnull()]\n",
    "#dfnow[dfnow['transmit_pulse_length'].str.contains('varies')]['fname']\n",
    "dfnow[dfnow['transmit_pulse_length']=='??']['fname']"
   ]
  },
  {
   "cell_type": "code",
   "execution_count": 95,
   "metadata": {},
   "outputs": [
    {
     "name": "stdout",
     "output_type": "stream",
     "text": [
      "instrument_name  transmit_pulse_length                \n",
      "BB-VM-150        2 m                                        1\n",
      "                 8 m                                        1\n",
      "                 8.08 m                                     6\n",
      "                 9.32 m                                     5\n",
      "NB-DR-150        4 m                                        3\n",
      "NB-VM-150        12 m                                       4\n",
      "                 16 m                                     185\n",
      "                 16 m (4 briefly at beginning and end)      1\n",
      "                 16 m (4 m at times on shelf)              10\n",
      "                 16 m (at times 24 or 32)                   1\n",
      "                 16m                                        5\n",
      "                 2, 4, or 8m                                1\n",
      "                 4 - 12 m                                   1\n",
      "                 4 - 16 m                                  26\n",
      "                 4 - 6 m                                   12\n",
      "                 4 m                                       20\n",
      "                 4 m (a few short periods of 4m)            1\n",
      "                 4 m ?                                      1\n",
      "                 4 or 8 m                                   1\n",
      "                 4m                                         6\n",
      "                 8                                          8\n",
      "                 8 m                                      528\n",
      "                 8 m (32 m during bottom tracking)          8\n",
      "                 8 m (a few short periods of 4m)            1\n",
      "                 8, 12, or 16 m                             1\n",
      "                 8m                                       172\n",
      "                 8m (12m used until Apr 2 1994, 20:11)      1\n",
      "                 8m (4m for last 5 hours of cruise)         1\n",
      "                 8m (4m near end)                           1\n",
      "                 ??                                         4\n",
      "                 varies (note below)                        3\n",
      "                 vary                                       1\n",
      "NB-VM-300        1.1 m                                      1\n",
      "                 1.5 m                                      4\n",
      "                 4 m                                       10\n",
      "                 8 m                                       10\n",
      "NB-VM-75         16 m                                      10\n",
      "                 16m                                        2\n",
      "                 4 m                                        1\n",
      "                 8 m                                        1\n",
      "OS-150           12 m                                       1\n",
      "                 16 m                                       1\n",
      "                 4 m                                        2\n",
      "                 4.15 m                                     1\n",
      "                 4m                                         3\n",
      "                 8 m                                       13\n",
      "OS-38            12.74m                                     1\n",
      "                 12m                                        9\n",
      "                 13                                         4\n",
      "                 13 m                                     165\n",
      "                 13.12m                                     3\n",
      "                 13.19m                                     1\n",
      "                 13m                                       15\n",
      "                 17 m                                       4\n",
      "                 2 m                                        1\n",
      "                 24                                         3\n",
      "                 24 m                                     277\n",
      "                 24m                                       36\n",
      "OS-75            16                                        10\n",
      "                 16 m                                     212\n",
      "                 16.49 m                                    1\n",
      "                 16m                                        6\n",
      "                 4 m                                        3\n",
      "                 8                                          4\n",
      "                 8 m                                       80\n",
      "                 8.22 m                                     1\n",
      "                 8.31 m                                     4\n",
      "                 8.33 m                                    10\n",
      "                 8m                                         5\n",
      "OS-II-38         16 m                                       6\n",
      "OS-II-75         16 m                                       1\n",
      "WH-1200          1 m                                        1\n",
      "WH-300           2 m                                      100\n",
      "                 2m                                         1\n",
      "                 4 m                                       83\n",
      "                 4m                                         2\n",
      "WH-Mariner-300   2m                                         2\n",
      "                 2m (4m first 4.6 hours)                    1\n",
      "WH-Mariner-600   1 m                                        1\n",
      "Name: fname, dtype: int64\n"
     ]
    }
   ],
   "source": [
    "# - Standardize transmit_pulse_length to a number\n",
    "pd.options.display.max_rows = 999\n",
    "#print(df['transmit_pulse_length'].value_counts())\n",
    "dfgroupnow = df.groupby(['instrument_name','transmit_pulse_length'])\n",
    "#dfgroupnow = df.groupby(['instrument_name','bandwidth','transmit_pulse_length'])\n",
    "print(dfgroupnow['fname'].nunique())"
   ]
  },
  {
   "cell_type": "code",
   "execution_count": null,
   "metadata": {},
   "outputs": [],
   "source": [
    "def get_Kc_constant(row):\n",
    "# returns constant Kc in dB/count\n",
    "    if (re.search('OS', row['instrument_name'])):\n",
    "        if (re.search('OS-II'), row['instrument_name']):\n",
    "            return OS_C_PDBW_Kc_Er_values[\n",
    "                (OS_C_PDBW_Kc_Er_values['instrument_prefix']=='OS-II')\n",
    "                & (OS_C_PDBW_Kc_Er_values['freq_round_kHz']==row['freq_round_kHz'])\n",
    "                ]['Kc_mean']\n",
    "        else:\n",
    "            return OS_C_PDBW_Kc_Er_values[\n",
    "                (OS_C_PDBW_Kc_Er_values['instrument_prefix']=='OS')\n",
    "                & (OS_C_PDBW_Kc_Er_values['freq_round_kHz']==row['freq_round_kHz'])\n",
    "                ]['Kc_mean']\n",
    "    elif (re.search('WH', row['instrument_name'], re.IGNORECASE)):\n",
    "        if (re.search('WH-Mariner'), row['instrument_name']):\n",
    "            return WH_C_PDBW_Kc_Er_values[\n",
    "                (WH_C_PDBW_Kc_Er_values['instrument_prefix']=='WH-Mariner')\n",
    "                & (WH_C_PDBW_Kc_Er_values['freq_round_kHz']==row['freq_round_kHz'])\n",
    "                ]['Kc_mean']\n",
    "        else:\n",
    "            return WH_C_PDBW_Kc_Er_values[\n",
    "                (WH_C_PDBW_Kc_Er_values['instrument_prefix']=='WH')\n",
    "                & (WH_C_PDBW_Kc_Er_values['freq_round_kHz']==row['freq_round_kHz'])\n",
    "                ]['Kc_mean']\n",
    "    elif (re.search('BB', row['instrument_name'], re.IGNORECASE)):\n",
    "        return BB_C_PDBW_Kc_Er_values[\n",
    "            (BB_C_PDBW_Kc_Er_values['instrument_prefix']=='BB-VM')\n",
    "            & (BB_C_PDBW_Kc_Er_values['freq_round_kHz']==row['freq_round_kHz'])\n",
    "            ]['Kc_mean']\n",
    "\n",
    "def get_Kc_tdresolved(row,amp,Tx):\n",
    "# returns time-depth resolved Kc in dB/count\n",
    "# this assumes that Tx = temp of transducer = Te = temp of system electronics\n",
    "    if (re.search('NB', row['instrument_name'])):\n",
    "        if amp < 200:\n",
    "            Kcnow = 127.3/(Tx+271)\n",
    "        else:\n",
    "            Kcnow = None\n",
    "        return Kcnow"
   ]
  },
  {
   "cell_type": "markdown",
   "metadata": {},
   "source": [
    "# Load WOD data (T,S)"
   ]
  },
  {
   "cell_type": "markdown",
   "metadata": {},
   "source": [
    "# TESTING/OLD"
   ]
  },
  {
   "cell_type": "code",
   "execution_count": null,
   "metadata": {},
   "outputs": [],
   "source": [
    "fnames = sorted(os.listdir(dpath + 'JASADCP/ncfiles'))"
   ]
  },
  {
   "cell_type": "code",
   "execution_count": null,
   "metadata": {},
   "outputs": [],
   "source": [
    "nc_counter = len(fnames)\n",
    "geo_region = [None]*nc_counter"
   ]
  },
  {
   "cell_type": "code",
   "execution_count": null,
   "metadata": {},
   "outputs": [],
   "source": [
    "ifile = 0\n",
    "for fname in fnames:\n",
    "    ncfile = dpath + 'JASADCP/ncfiles/' + fname\n",
    "    ncnow = xr.open_dataset(ncfile)\n",
    "    strnow = ncnow.attrs['cruise_sonar_summary']\n",
    "    geo_regionnow = re.findall(\"GEOGRAPHIC_REGION *: *((?:\\S+ )*\\S+)\", strnow)\n",
    "    if geo_regionnow:\n",
    "        geo_region[ifile] = geo_regionnow[0]\n",
    "    ifile = ifile+1"
   ]
  },
  {
   "cell_type": "code",
   "execution_count": null,
   "metadata": {},
   "outputs": [],
   "source": [
    "df = pd.concat(\n",
    "    [pd.Series(fnames,name='fname'), pd.Series(geo_region,name='geo_region')],\n",
    "    axis=1)"
   ]
  },
  {
   "cell_type": "code",
   "execution_count": null,
   "metadata": {},
   "outputs": [],
   "source": [
    "print(df['geo_region'].isnull().sum())\n",
    "print(len(df))\n",
    "dfnow = df.dropna(subset=['geo_region'])\n",
    "print(len(dfnow))\n",
    "dfnow = dfnow[dfnow['geo_region'].str.contains('acific')]\n",
    "print(len(dfnow))\n",
    "dfnow = dfnow[dfnow['instrument_name'].str.contains('OS')]\n",
    "print(len(dfnow))\n",
    "dfnow = dfnow[(dfnow['instrument_name']!='OS-II-38')&(dfnow['instrument_name']!='OS-II-75')] "
   ]
  },
  {
   "cell_type": "markdown",
   "metadata": {},
   "source": [
    "## Load table of C, PDBW values"
   ]
  },
  {
   "cell_type": "code",
   "execution_count": null,
   "metadata": {},
   "outputs": [],
   "source": [
    "cpdbw = pd.read_csv(dpath + 'typical_system_characteristics_table2_mullison2017.csv')"
   ]
  },
  {
   "cell_type": "code",
   "execution_count": null,
   "metadata": {},
   "outputs": [],
   "source": [
    "cpdbw.head()"
   ]
  },
  {
   "cell_type": "markdown",
   "metadata": {},
   "source": [
    "## Load table of kc, Er values"
   ]
  },
  {
   "cell_type": "markdown",
   "metadata": {},
   "source": [
    "#### Nominal Kc values from TRDI field service email:\n",
    "BBADCP: 0.45 dB/count  \n",
    "WHADCP: 0.42 dB/count  \n",
    "OS-II-75, SN1508: 0.373 (beam 1), 0.386 (beam 2), 0.388 (beam 3), 0.384 (beam 4) = 0.38275 (avg)  \n",
    "OS-II-75, SN10656: 0.398 (beam 1), 0.389 (beam 2), 0.3988 (beam 3), 0.395 (beam 4) = 0.395 (avg)  \n",
    "#### Nominal Kc values from Jerry Mullison email:\n",
    "Format: min-max, avg, stdev  \n",
    "OS150: 0.41-0.44, 0.42, 0.012   \n",
    "OS75: 0.36-0.42, 0.39, 0.019  \n",
    "OS38: 0.36-0.37, 0.37, 0.004  "
   ]
  },
  {
   "cell_type": "markdown",
   "metadata": {},
   "source": [
    "#### Nominal Er values from Jerry Mullison email:\n",
    "Format: min-max, avg, stdev  \n",
    "OS150: 18-28, 22, 2.08  \n",
    "OS75: 11-25, 19, 2.93  \n",
    "OS38: 5-33, 14, 4.83  "
   ]
  },
  {
   "cell_type": "code",
   "execution_count": null,
   "metadata": {},
   "outputs": [],
   "source": [
    "# - Calc avg Kc for OS-II w/ SNs\n",
    "print(np.mean([0.373, 0.386, 0.388, 0.384]))\n",
    "print(np.mean([0.398, 0.389, 0.398, 0.395]))"
   ]
  }
 ],
 "metadata": {
  "kernelspec": {
   "display_name": "Python 3",
   "language": "python",
   "name": "python3"
  },
  "language_info": {
   "codemirror_mode": {
    "name": "ipython",
    "version": 3
   },
   "file_extension": ".py",
   "mimetype": "text/x-python",
   "name": "python",
   "nbconvert_exporter": "python",
   "pygments_lexer": "ipython3",
   "version": "3.7.3"
  }
 },
 "nbformat": 4,
 "nbformat_minor": 4
}
