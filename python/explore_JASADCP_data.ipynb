{
 "cells": [
  {
   "cell_type": "code",
   "execution_count": 2,
   "metadata": {},
   "outputs": [],
   "source": [
    "import matplotlib.pyplot as plt\n",
    "import numpy as np\n",
    "import os\n",
    "import pandas as pd\n",
    "import re\n",
    "import xarray as xr"
   ]
  },
  {
   "cell_type": "code",
   "execution_count": 3,
   "metadata": {},
   "outputs": [
    {
     "name": "stdout",
     "output_type": "stream",
     "text": [
      "['3 deg (???)' 'not specified' 'unconfirmed (narrow band)' 'not listed'\n",
      " 'unknown:' '30 degrees']\n",
      "22\n"
     ]
    }
   ],
   "source": [
    "%run create_JASADCP_metadata_df.ipynb"
   ]
  },
  {
   "cell_type": "code",
   "execution_count": 223,
   "metadata": {},
   "outputs": [
    {
     "data": {
      "text/plain": [
       "Index(['fname', 'hardware_model', 'instrument_name', 'serial_numbers',\n",
       "       'transmit_frequency', 'phased_array', 'cruise_beg_date',\n",
       "       'blanking_interval', 'bin_length', 'transducer_beam_angle',\n",
       "       'transmit_pulse_length', 'comments', 'biomass_dtmn', 'geo_region',\n",
       "       'chief_scientist', 'personnel_charge', 'manufacturer',\n",
       "       'transducer_config', 'depth_range', 'num_bins', 'ens_avg_intvl',\n",
       "       'ss_calc', 'project', 'nb150', 'bandwidth'],\n",
       "      dtype='object')"
      ]
     },
     "execution_count": 223,
     "metadata": {},
     "output_type": "execute_result"
    }
   ],
   "source": [
    "df.columns"
   ]
  },
  {
   "cell_type": "code",
   "execution_count": 254,
   "metadata": {},
   "outputs": [
    {
     "name": "stdout",
     "output_type": "stream",
     "text": [
      "2\n",
      "2\n",
      "166\n"
     ]
    },
    {
     "data": {
      "text/html": [
       "<div>\n",
       "<style scoped>\n",
       "    .dataframe tbody tr th:only-of-type {\n",
       "        vertical-align: middle;\n",
       "    }\n",
       "\n",
       "    .dataframe tbody tr th {\n",
       "        vertical-align: top;\n",
       "    }\n",
       "\n",
       "    .dataframe thead th {\n",
       "        text-align: right;\n",
       "    }\n",
       "</style>\n",
       "<table border=\"1\" class=\"dataframe\">\n",
       "  <thead>\n",
       "    <tr style=\"text-align: right;\">\n",
       "      <th></th>\n",
       "      <th>fname</th>\n",
       "      <th>hardware_model</th>\n",
       "      <th>instrument_name</th>\n",
       "      <th>serial_numbers</th>\n",
       "      <th>transmit_frequency</th>\n",
       "      <th>phased_array</th>\n",
       "      <th>cruise_beg_date</th>\n",
       "      <th>blanking_interval</th>\n",
       "      <th>bin_length</th>\n",
       "      <th>transducer_beam_angle</th>\n",
       "      <th>...</th>\n",
       "      <th>personnel_charge</th>\n",
       "      <th>manufacturer</th>\n",
       "      <th>transducer_config</th>\n",
       "      <th>depth_range</th>\n",
       "      <th>num_bins</th>\n",
       "      <th>ens_avg_intvl</th>\n",
       "      <th>ss_calc</th>\n",
       "      <th>project</th>\n",
       "      <th>nb150</th>\n",
       "      <th>bandwidth</th>\n",
       "    </tr>\n",
       "  </thead>\n",
       "  <tbody>\n",
       "    <tr>\n",
       "      <td>753</td>\n",
       "      <td>00803_short.nc</td>\n",
       "      <td>RD-VM150</td>\n",
       "      <td>VM-150</td>\n",
       "      <td>None</td>\n",
       "      <td>None</td>\n",
       "      <td>None</td>\n",
       "      <td>2004-06-17 00:23:57</td>\n",
       "      <td>4m</td>\n",
       "      <td>8m</td>\n",
       "      <td>None</td>\n",
       "      <td>...</td>\n",
       "      <td>Jules Hummon</td>\n",
       "      <td>RD Instruments (RDI)</td>\n",
       "      <td>None</td>\n",
       "      <td>17m to 571m (bin centers)</td>\n",
       "      <td>70</td>\n",
       "      <td>300 seconds</td>\n",
       "      <td>FUNCTION OF TEMP AT TRANSDUCER</td>\n",
       "      <td>CLIVAR Global Carbon Program;repeat of WOCE One-time Line</td>\n",
       "      <td>nb150///NB150///nb150///nb150</td>\n",
       "      <td>None</td>\n",
       "    </tr>\n",
       "    <tr>\n",
       "      <td>755</td>\n",
       "      <td>00805_short.nc</td>\n",
       "      <td>RD-VM150</td>\n",
       "      <td>VM-150</td>\n",
       "      <td>None</td>\n",
       "      <td>None</td>\n",
       "      <td>None</td>\n",
       "      <td>2004-07-25 07:32:07</td>\n",
       "      <td>4m</td>\n",
       "      <td>8m</td>\n",
       "      <td>None</td>\n",
       "      <td>...</td>\n",
       "      <td>Jules Hummon</td>\n",
       "      <td>RD Instruments (RDI)</td>\n",
       "      <td>None</td>\n",
       "      <td>17m to 571m (bin centers)</td>\n",
       "      <td>70</td>\n",
       "      <td>300 seconds</td>\n",
       "      <td>FUNCTION OF TEMP AT TRANSDUCER</td>\n",
       "      <td>CLIVAR Global Carbon Program;repeat of WOCE One-time Line</td>\n",
       "      <td>nb150///NB150</td>\n",
       "      <td>None</td>\n",
       "    </tr>\n",
       "  </tbody>\n",
       "</table>\n",
       "<p>2 rows × 25 columns</p>\n",
       "</div>"
      ],
      "text/plain": [
       "              fname hardware_model instrument_name serial_numbers  \\\n",
       "753  00803_short.nc  RD-VM150       VM-150          None            \n",
       "755  00805_short.nc  RD-VM150       VM-150          None            \n",
       "\n",
       "    transmit_frequency phased_array     cruise_beg_date blanking_interval  \\\n",
       "753  None               None        2004-06-17 00:23:57  4m                 \n",
       "755  None               None        2004-07-25 07:32:07  4m                 \n",
       "\n",
       "    bin_length transducer_beam_angle  ... personnel_charge  \\\n",
       "753  8m         None                  ...  Jules Hummon      \n",
       "755  8m         None                  ...  Jules Hummon      \n",
       "\n",
       "             manufacturer transducer_config                depth_range  \\\n",
       "753  RD Instruments (RDI)  None              17m to 571m (bin centers)   \n",
       "755  RD Instruments (RDI)  None              17m to 571m (bin centers)   \n",
       "\n",
       "    num_bins ens_avg_intvl                         ss_calc  \\\n",
       "753  70       300 seconds   FUNCTION OF TEMP AT TRANSDUCER   \n",
       "755  70       300 seconds   FUNCTION OF TEMP AT TRANSDUCER   \n",
       "\n",
       "                                                       project  \\\n",
       "753  CLIVAR Global Carbon Program;repeat of WOCE One-time Line   \n",
       "755  CLIVAR Global Carbon Program;repeat of WOCE One-time Line   \n",
       "\n",
       "                             nb150 bandwidth  \n",
       "753  nb150///NB150///nb150///nb150  None      \n",
       "755  nb150///NB150                  None      \n",
       "\n",
       "[2 rows x 25 columns]"
      ]
     },
     "execution_count": 254,
     "metadata": {},
     "output_type": "execute_result"
    }
   ],
   "source": [
    "#'VM-150', 'RD-VM150', 'VM150', 'RD-VM0150'\n",
    "#'VM-300', 'RD-VM300'\n",
    "hwmodelnow = 'RD-VM150'\n",
    "print(len(df[(df['hardware_model']==hwmodelnow)\n",
    "             & (df['nb150'].notnull())\n",
    "             & (df['geo_region'].str.contains('acific'))]))\n",
    "print(len(df[(df['hardware_model']==hwmodelnow) & (df['nb150'].notnull())]))\n",
    "print(len(df[(df['hardware_model']==hwmodelnow)]))\n",
    "df[(df['hardware_model']==hwmodelnow) & (df['nb150'].notnull())]"
   ]
  },
  {
   "cell_type": "code",
   "execution_count": 249,
   "metadata": {},
   "outputs": [
    {
     "name": "stdout",
     "output_type": "stream",
     "text": [
      "10\n",
      "130\n",
      "578\n"
     ]
    }
   ],
   "source": [
    "# - Look at all VM-150 w/ something about nb150 in metadata\n",
    "df[(df['hardware_model']=='VM-150') & (df['nb150'].notnull()) &\n",
    "   (df['geo_region'].str.contains('acific'))\n",
    "  ][['fname','cruise_beg_date','geo_region','project','bandwidth','comments','nb150']]\n",
    "print(len(df[(df['hardware_model']=='VM-150')\n",
    "             & (df['nb150'].notnull())\n",
    "             & (df['geo_region'].str.contains('acific'))]))\n",
    "# --> All 10 of these are confirmed to be NB!\n",
    "print(len(df[(df['hardware_model']=='VM-150') & (df['nb150'].notnull())]))\n",
    "# --> I also checked 1 Southern Ocean one and it was confirmed to be NB\n",
    "# --> Let's just assume all 130 w/ something about nb150 in metadata==NB\n",
    "print(len(df[(df['hardware_model']=='VM-150')]))"
   ]
  },
  {
   "cell_type": "code",
   "execution_count": null,
   "metadata": {},
   "outputs": [],
   "source": [
    "df[(df['hardware_model']=='VM-150')][['fname','cruise_beg_date','geo_region','project','bandwidth','comments','nb150']]"
   ]
  },
  {
   "cell_type": "code",
   "execution_count": null,
   "metadata": {},
   "outputs": [],
   "source": [
    "df[(df['hardware_model']=='VM-150') & (df['project']=='Hawaii Ocean Time-series (JGOFS, WOCE (time-series))')]['fname'].values"
   ]
  },
  {
   "cell_type": "code",
   "execution_count": null,
   "metadata": {},
   "outputs": [],
   "source": [
    "df[df['hardware_model']=='VM-150']['fname'].values"
   ]
  },
  {
   "cell_type": "code",
   "execution_count": null,
   "metadata": {},
   "outputs": [],
   "source": [
    "# - Figuring out whether VM-150 is BB or NB (1996 might be the cutoff)\n",
    "#00039-00050 --> ? 1988-1991, HOT cruises, doesn't even say here: http://hahana.soest.hawaii.edu/hot/reports/rep_y1.pdf\n",
    "#00057-00077 --> ? 1991-1994, HOT cruises, doesn't even say here: http://hahana.soest.hawaii.edu/hot/reports/rep_y3.pdf, to y6.pdf\n",
    "#00080-00082 --> ? 1994\n",
    "#00096-00106 --> ? 1994-1995, HOT cruises\n",
    "#00124, 00134, 00135 --> ? 1996\n",
    "#00136 --> ? 1995\n",
    "#00137 --> ? 1995\n",
    "#...didn't check\n",
    "#01695 --> NB from CRUISE_NAME, COMMENTS, ATTACHMENT TO THE HULL\n",
    "#...didn't check\n",
    "#02180 --> NB from COMMENTS "
   ]
  },
  {
   "cell_type": "code",
   "execution_count": 216,
   "metadata": {},
   "outputs": [
    {
     "data": {
      "text/plain": [
       "[]"
      ]
     },
     "execution_count": 216,
     "metadata": {},
     "output_type": "execute_result"
    }
   ],
   "source": [
    "#'road' in strnow\n",
    "re.findall('band', strnow, re.IGNORECASE)"
   ]
  },
  {
   "cell_type": "code",
   "execution_count": 3,
   "metadata": {},
   "outputs": [
    {
     "data": {
      "text/plain": [
       "[' #DATA_DATES: 2008/07/01 18:52:00 --- to --- 2008/07/22 16:52:00',\n",
       " ' #LON_RANGE: 157.98 W --- to --- 138.74 W',\n",
       " ' #LAT_RANGE:  21.20 N --- to ---  33.00 N',\n",
       " ' #DEPTH_RANGE:     8 --- to --- 132 m',\n",
       " ' #SAC_CRUISE_ID: 01447 ',\n",
       " ' #PLATFORM_NAME: R/V Kilo Moana',\n",
       " ' #PRINCIPAL_INVESTIGATOR_NAME: E.Firing,J.Hummon',\n",
       " ' #PI_INSTITUTION: University of Hawaii at Manoa',\n",
       " ' #PI_COUNTRY: USA',\n",
       " ' #PROJECT: North Pacific Subtropical Gyre (NPSG) Silica Cycling',\n",
       " ' #CRUISE_NAME: km0812:wh300',\n",
       " ' #PORTS: Honolulu, HI to Honolulu, HI',\n",
       " ' #GEOGRAPHIC_REGION: central north Pacific',\n",
       " ' #PROCESSED_BY: University of Hawaii at Manoa',\n",
       " ' #NAVIGATION: GPS',\n",
       " ' #QUALITY_NAV: excellent',\n",
       " ' #GENERAL_INFORMATION: ',\n",
       " 'CRUISE NOTES',\n",
       " '  CHIEF SCIENTIST ON SHIP     : Mark A. Brzezinski',\n",
       " '    INSTITUTE                 : University of California, Santa Barbara',\n",
       " '    COUNTRY                   : USA',\n",
       " '  SIGNIFICANT DATA GAPS       : none',\n",
       " '  SPECIAL SHIP TRACK PATTERNS :',\n",
       " '  COMMENTS                    :',\n",
       " 'This cruise has two instruments, 38kHz phased array (\"Ocean Surveyor\",',\n",
       " '\"OS38\") capable of pinging in broadband or narrowband (or interleaved) modes,',\n",
       " 'and a 300kHz broadband \"Workhorse\" ADCP (\"WH300\"). Each instrument and pingtype',\n",
       " 'was processed separately, producing 3 ADCP datasets for this cruise.',\n",
       " 'These datasets OS38 broadband, OS38 narrowband, WH300, have',\n",
       " 'NODC SAC IDs 01445, 01446, and 01447, respectively.',\n",
       " '',\n",
       " 'Broadband data from an Ocean Surveyor gives greater resolution but less',\n",
       " 'depth penetration, Narrowband mode from the same instrument gives lower',\n",
       " 'resolution but deeper penetration.',\n",
       " '',\n",
       " 'The Workhorse 300 has the highest time- and depth- resolution, but',\n",
       " 'rarely reaches deeper than 80m.',\n",
       " '',\n",
       " 'Rolling Deck to Repository (R2R) link: http://www.rvdata.us/catalog/KM0812',\n",
       " 'NODC accession of R2R shipboard ADCP set:',\n",
       " 'http://www.nodc.noaa.gov/cgi-bin/OAS/prd/accession/details/67826',\n",
       " '',\n",
       " 'Note: the shipboard ADCP data of the R2R set is considered preliminary with',\n",
       " 'an unconfirmed level of processing and calibration.',\n",
       " 'The JASADCP set has received complete calibration, processing, and documentation.',\n",
       " '',\n",
       " 'ADCP INSTRUMENTATION',\n",
       " '  MANUFACTURER                : RD Instruments (RDI)',\n",
       " '  HARDWARE MODEL              : WorkHorse 300',\n",
       " '  SERIAL NUMBERS              :',\n",
       " '  FIRMWARE VERSION            :',\n",
       " '  TRANSMIT FREQUENCY          : 300kHz ',\n",
       " '  ACOUSTIC BEAM WIDTH         :',\n",
       " '  TRANSDUCER BEAM ANGLE       : 30 degrees',\n",
       " '  COMMENTS                    :',\n",
       " '',\n",
       " 'ADCP INSTALLATION',\n",
       " '  METHOD/DESCRIPTION OF THE',\n",
       " '    ATTACHMENT TO THE HULL    : The 38kHz Ocean Surveyor is mounted in the ',\n",
       " '                                starboard hull.  The 300kHz WorkHorse is ',\n",
       " '                                mounted in the port hull ',\n",
       " '  LOCATION/DEPTH ON HULL      : nominally 7 or 8m ',\n",
       " '  REPEATABLE ATTACHMENT       : yes for OS38 and WH300',\n",
       " '  DATE OF MOST RECENT ATTACH. : OS38: installed Dec, 2003',\n",
       " '                                WH300: installed March, 2005',\n",
       " '  ACOUSTIC WINDOW             : OS38 is behind a window; ',\n",
       " '                                No window for the WH300',\n",
       " '  COMMENTS                    :',\n",
       " '',\n",
       " 'ADCP INSTRUMENT CONFIGURATION: ',\n",
       " '  DEPTH RANGE                 : 15 to 139 m',\n",
       " '  BIN LENGTH                  : 4 m',\n",
       " '  NUMBER OF BINS              : 32',\n",
       " '  TRANSMIT PULSE LENGTH       : 4 m',\n",
       " '  BLANKING INTERVAL           : 4 m',\n",
       " '  ENSEMBLE AVERAGING INTERVAL : 120 s',\n",
       " '  SOUND SPEED CALCULATION     : function of temp at transducer',\n",
       " '  BOTTOM TRACKING             : yes, from and to port',\n",
       " '  DIRECT COMMANDS             :',\n",
       " '  COMMENTS                    : ',\n",
       " '',\n",
       " 'ADCP DATA ACQUISITION SYSTEM',\n",
       " '  SOFTWARE DEVELOPERS         : E.Firing, J.Hummon',\n",
       " '  SOFTWARE VERSIONS           : UHDAS',\n",
       " '  DATA LOGGER, MAKE/MODEL     :',\n",
       " '  ADCP/LOGGER COMMUNICATION   :',\n",
       " '  USER BUFFER VERSION         : none',\n",
       " '  CLOCK                       :',\n",
       " \"  COMMENTS                    : single-ping data files QC'ed then averaged\",\n",
       " '                                by UHDAS',\n",
       " 'SHIP HEADING                      ',\n",
       " '  INSTRUMENT MAKE/MODEL       : gyro compass: Raytheon STD-20',\n",
       " '  SYNCHRO OR STEPPER          :',\n",
       " '  SYNCHRO RATIO               :',\n",
       " '  COMPENSATION APPLIED        :',\n",
       " '  GPS ATTITUDE SYSTEM         : 1) Ashtech, 2) TSS, Inc. Model POS/MV 320',\n",
       " '    LOCATION OF ANTENNAS      :',\n",
       " '    RIGID ATTACHMENT          : ',\n",
       " '    LOGGING RATE              :',\n",
       " '',\n",
       " 'ANCILLARY MEASUREMENTS            ',\n",
       " '  SURFACE TEMP AND SALINITY   : yes',\n",
       " '  PITCH/ROLL MEASUREMENTS     : yes, but not applied to ADCP data',\n",
       " '  HYDRO CAST MEASUREMENTS     : yes',\n",
       " '  BIOMASS DETERMINATION       :',\n",
       " '    DATE OF LAST CALIBRATION  :',\n",
       " '    CALIBRATION COEFFICIENTS  :',\n",
       " '    BEAM-AVERAGED AGC AVAILABLE?: yes',\n",
       " '    CALIBRATION NET TOWS?     :   < NO > < YES >',\n",
       " '  COMMENTS                    :',\n",
       " '',\n",
       " 'ADCP DATA PROCESSING/EDITING',\n",
       " '  PERSONNEL IN CHARGE         : Jules Hummon, Badema Grcic',\n",
       " '  DATE OF PROCESSING          :',\n",
       " '  ADDED TO NODC DB            : January 2011',\n",
       " '  NOTABLE SCATTERING LAYERS   :',\n",
       " '  COMMENTS                    :',\n",
       " '',\n",
       " 'NAVIGATION',\n",
       " '  GPS                         : ',\n",
       " '    MAKE/MODEL                : TTS, Inc. Model POS/MV 320',\n",
       " '    SELECTIVE AVAILABILITY    : ',\n",
       " '    P-CODE                    : ',\n",
       " '    DIFFERENTIAL              : Raytheon Raychart 420',\n",
       " '    SAMPLE INTERVAL           :',\n",
       " '    LOCATION OF ANTENNA',\n",
       " '      RELATIVE TO TRANSDUCER  :',\n",
       " '    TIME OBTAINED RELATIVE TO',\n",
       " '      START/END OF ENSEMBLE   : end',\n",
       " '    AVERAGING/EDITING APPLIED : yes',\n",
       " '    LOGGED WITH ADCP DATA     : YES, time stamp of ADCP and GPS use',\n",
       " '                                same clock.  Made available to CODAS ',\n",
       " '                                onboard processing. ',\n",
       " '    LOGGED INDEPENDENTLY      : YES ',\n",
       " '    COMMENTS                  :',\n",
       " '  OTHER                       : ',\n",
       " '',\n",
       " 'CALIBRATION ',\n",
       " '    GYROCOMPASS CORRECTION      : yes, POS/MV data applied',\n",
       " '    BOTTOM TRACK METHOD         : yes',\n",
       " '    WATER TRACK METHOD          : yes',\n",
       " '                  original heading alignment: 45.52',\n",
       " '                  additional rotation -0.1 deg',\n",
       " '                  final transducer angle is:',\n",
       " '                       45.52 - (-0.1) = 45.62 deg starboard of fwd',\n",
       " '    FINAL SELECTION             : AMPLITUDE=  1.000 ',\n",
       " '    AGREEMENT WITH PREVIOUS ',\n",
       " '      CRUISES                   : ',\n",
       " '    SOUND SPEED CORRECTIONS     : yes',\n",
       " '    COMMENTS                    : ',\n",
       " '',\n",
       " 'NAVIGATION CALCULATION             ',\n",
       " '    NAVIGATION USED             :  GPS',\n",
       " '    REFERENCE LAYER DEPTH RANGE :  bins 2 to 20',\n",
       " '    FILTERING METHOD FOR ',\n",
       " '      SMOOTHING REFERENCE LAYER ',\n",
       " '      VELOCITY (FORM/WIDTH)     : Blackman window function of width T ( .5 hr):',\n",
       " '         w(t) = 0.42 - 0.5 * cos(2 * pi *t / T) + 0.08 * cos(4 * pi * t / T).',\n",
       " '    FINALIZED SHIP VEL/POSITIONS ',\n",
       " '    STORED IN DATABASE          : yes',\n",
       " '    COMMENTS                    : ',\n",
       " '',\n",
       " ' GENERAL_ASSESSMENT             : ',\n",
       " '    ON-STATION VS. UNDERWAY     : OK',\n",
       " '    VECTOR, CONTOUR, STICK PLOTS: OK',\n",
       " '    COMMENTS                    : OK',\n",
       " '',\n",
       " ' REFERENCES (DATA REPORTS,ETC.) : ',\n",
       " '',\n",
       " 'The following are notes from the post-cruise processing by the ',\n",
       " '\"Currents\" group at University of Hawaii, SOEST, Department of Oceanography,',\n",
       " 'http://currents.soest.hawaii.edu/',\n",
       " '',\n",
       " '',\n",
       " 'LAST CHANGED    : 2010/12/16 10:50:35',\n",
       " 'CRUISE NAME(S)  : km0812',\n",
       " 'CRUISE DATES    : 2008/07/01 to 2008/07/22',\n",
       " 'SHIP NAME       : Kilo Moana',\n",
       " 'PORTS           : Honolulu, HI to Honolulu, HI',\n",
       " 'CHIEF SCIENTIST : Mark A. Brzezinski',\n",
       " 'DATABASE NAME   : a_km',\n",
       " 'DATA FILES      : unspecified',\n",
       " '',\n",
       " 'STATUS          :  to do                           done',\n",
       " '                  ------                       -----------',\n",
       " '                  averaged                       [  X  ] at sea processing',\n",
       " '                  loaded                         [  X  ] at sea processing',\n",
       " '                  check heading correction       [  X  ]',\n",
       " '                  calibration                    [  X  ]',\n",
       " '                  edited                         [  X  ]',\n",
       " '                  re-check heading correction    [  X  ]',\n",
       " '                  check editing                  [  X  ]',\n",
       " '                  figures                        [  X  ]',\n",
       " '',\n",
       " 'INSTRUMENT      : wh300',\n",
       " '',\n",
       " 'ACQUISITION     : ',\n",
       " '     PROGRAM    : uhdas',\n",
       " '     PING TYPE  : bb',\n",
       " '',\n",
       " '     PARAMETERS : BT : bottom track mode (on or off)',\n",
       " '                  SI : sampling interval or averaging period for ensemble (sec)',\n",
       " '                  NB : number of bins',\n",
       " '                  BL : bin length (m)',\n",
       " '                  TD : transducer depth (m)',\n",
       " '                  BK : blanking length (m)',\n",
       " '                  HO : heading offset applied by DAS (deg)',\n",
       " '                  HB : heading bias (deg)',\n",
       " '                  CRPH : compensation for roll-pitch-heading, 1:on, 0:off)',\n",
       " '                  ',\n",
       " '                  yy/mm/dd  hh:mm:ss   BT   SI  NB  BL  TD BK     HO     HB CRPH',\n",
       " '                  2008/07/01 18:52:18  off  120  32   4   7  4  45.52   0.00 0001',\n",
       " '                  2008/07/03 05:00:49  off  120  32   4   7  4  45.52   0.00 0001',\n",
       " '                  2008/07/04 10:18:58  off  120  32   4   7  4  45.52   0.00 0001',\n",
       " '                  2008/07/05 10:44:46  off  120  32   4   7  4  45.52   0.00 0001',\n",
       " '                  2008/07/05 15:37:07  off  120  32   4   7  4  45.52   0.00 0001',\n",
       " '                  2008/07/07 01:43:38  off  120  32   4   7  4  45.52   0.00 0001',\n",
       " '                  2008/07/13 08:48:44  off  120  32   4   7  4  45.52   0.00 0001',\n",
       " '                  2008/07/14 14:02:53  off  120  32   4   7  4  45.52   0.00 0001',\n",
       " '                  2008/07/14 18:55:14  off  120  32   4   7  4  45.52   0.00 0001',\n",
       " '                  2008/07/15 14:26:40  off  120  32   4   7  4  45.52   0.00 0001',\n",
       " '                  2008/07/16 00:11:23  off  120  32   4   7  4  45.52   0.00 0001',\n",
       " '                  2008/07/16 14:50:28  off  120  32   4   7  4  45.52   0.00 0001',\n",
       " '                  2008/07/17 00:35:11  off  120  32   4   7  4  45.52   0.00 0001',\n",
       " '                  2008/07/17 05:27:32  off  120  32   4   7  4  45.52   0.00 0001',\n",
       " '                  2008/07/17 10:19:54  off  120  32   4   7  4  45.52   0.00 0001',\n",
       " '                  2008/07/17 20:04:36  off  120  32   4   7  4  45.52   0.00 0001',\n",
       " '                  2008/07/18 00:56:58  off  120  32   4   7  4  45.52   0.00 0001',\n",
       " '                  2008/07/18 20:26:24  off  120  32   4   7  4  45.52   0.00 0001',\n",
       " '                  2008/07/20 16:19:38  off  120  32   4   7  4  45.52   0.00 0001',\n",
       " '',\n",
       " 'HEADING         : ',\n",
       " '     PRIMARY    : gyro',\n",
       " '     CORRECTION : posmv',\n",
       " '',\n",
       " 'POSITIONS       : gps (specify more detail if available)',\n",
       " '',\n",
       " 'CALIBRATION     : original heading alignment: 45.52',\n",
       " '                  additional rotation -0.1 deg',\n",
       " '                  final transducer angle is:',\n",
       " '                       45.52 - (-0.1) = 45.62 deg starboard of fwd',\n",
       " '                  original scale factor 1',\n",
       " '                  ',\n",
       " 'COMMENTS        : no gaps in POSMV',\n",
       " '',\n",
       " 'PROCESSOR       : J.Hummon, B.Grcic',\n",
       " '',\n",
       " '-------------------------------------------',\n",
       " '',\n",
       " '',\n",
       " '(1) look at heading correction: are there gaps?',\n",
       " '',\n",
       " 'figview.py cal/rotate/*png',\n",
       " '',\n",
       " 'No gaps; it says everything is fine.',\n",
       " '',\n",
       " '=========================',\n",
       " '',\n",
       " '(2) check calibration -- what remains to be done?',\n",
       " '',\n",
       " '\\t** watertrack **   (tail -20 cal/watertrk/adcpcal.out)',\n",
       " '\\t',\n",
       " '\\tNumber of edited points:  73 out of  82',\n",
       " '        amp   = -0.0001  + 1.0039 (t - 193.7)',\n",
       " '        phase =  -0.00  + -0.1063 (t - 193.7)',\n",
       " '                    median     mean      std',\n",
       " '        amplitude   1.0020   1.0039   0.0078',\n",
       " '        phase      -0.0870  -0.1063   0.3271',\n",
       " '        ',\n",
       " '        (a) amplitude is within 0.5%  (.995 - 1.005) so \"good enough\" for the next step',\n",
       " '        (b) phase (angle) is between (-0.2, 0.2) so  \"good enough\" for the next step',\n",
       " '',\n",
       " '        ',\n",
       " '=========================',\n",
       " '',\n",
       " '(3) edit: matlab, cd edit, gautoedit  ',\n",
       " '',\n",
       " '    (a) reset the flag -reason ???',\n",
       " '    ',\n",
       " '    (b)  exit from gautoedit',\n",
       " '',\n",
       " '    (c)  from directory \"edit\"',\n",
       " '    \\t       cp setflags.tmp clearflags.tmp',\n",
       " '               emacs clearflags.tmp',\n",
       " '      ',\n",
       " '             /* this is the new clearflags.tmp */    \\t',\n",
       " '\\t\\tdbname:     ../adcpdb/a_km',\n",
       " '        \\tpg_min:      50',\n",
       " '\\t\\tclear_range',\n",
       " '        \\tclear_all_bits',\n",
       " '        \\ttime_ranges:',\n",
       " '             \\t     all',\n",
       " '             /* end of clearflags.tmp */',\n",
       " '',\n",
       " '',\n",
       " '    (d)  run:',\n",
       " '',\n",
       " '\\t\\t setflags clearflags.tmp',\n",
       " '',\n",
       " '    (e)  delete old files (because these contain flags to be applied,',\n",
       " '         left over from defaults and at-sea editing',\n",
       " '',\n",
       " '         ls *.asc',\n",
       " ' \\t \\\\rm a*.asc',\n",
       " '',\n",
       " '    (f) run gautoedit',\n",
       " '',\n",
       " '    ',\n",
       " '    (h) from gautoedit, for every screen do',\n",
       " '        - show now',\n",
       " '\\t    - additional manual editing if necessary',\n",
       " '\\t    - list to disk (creates/appends new a*.asc files with new flags)',\n",
       " '',\n",
       " '',\n",
       " '=========================',\n",
       " '',\n",
       " '(4) apply editing: ',\n",
       " '',\n",
       " 'from dir wh300:',\n",
       " '',\n",
       " 'using control file q_pyedit.cnt',\n",
       " '',\n",
       " 'quick_adcp.py --cntfile q_pyedit.cnt --npycalc  all --mplplots all  ',\n",
       " '',\n",
       " '=========================',\n",
       " '',\n",
       " '(5) phase and amplitude calibration:',\n",
       " '',\n",
       " 'from dir wh300:',\n",
       " '',\n",
       " 'using control file q_pycalib.cnt',\n",
       " '',\n",
       " '',\n",
       " '',\n",
       " '** applied corrections: **',\n",
       " '',\n",
       " '          phase=-0.1',\n",
       " '',\n",
       " '** watertrack **   (tail -20 cal/watertrk/adcpcal.out)',\n",
       " '',\n",
       " 'Number of edited points:  74 out of  82',\n",
       " '   amp   = -0.0001  + 1.0039 (t - 193.6)',\n",
       " '   phase =  -0.00  + -0.0100 (t - 193.6)',\n",
       " '            median     mean      std',\n",
       " 'amplitude   1.0025   1.0039   0.0077',\n",
       " 'phase       0.0115  -0.0100   0.3359',\n",
       " '',\n",
       " '=========================',\n",
       " '',\n",
       " '(6) web plots:',\n",
       " '',\n",
       " 'mkdir webpy',\n",
       " '',\n",
       " 'quick_web.py --cruiseid km0812 --instping wh300 --redo',\n",
       " '',\n",
       " '=========================      ',\n",
       " '']"
      ]
     },
     "execution_count": 3,
     "metadata": {},
     "output_type": "execute_result"
    }
   ],
   "source": [
    "ncfile = '/opt/acoustic-variability/data/JASADCP/ncfiles/01447_short.nc'\n",
    "ncnow = xr.open_dataset(ncfile)\n",
    "strnow = ncnow.attrs['cruise_sonar_summary']\n",
    "ncnow.attrs['cruise_sonar_summary'].split('\\n')"
   ]
  },
  {
   "cell_type": "markdown",
   "metadata": {},
   "source": [
    "# Further questions:\n",
    "- Are the Kc and Er values in Jerry Mullison's email from phase II or phase I OS?\n",
    "- Where does the speed of sound c in the denominator go comparing 1998 TRDI field service note vs. Mullison 2017? What c should I use for the denominator, 1478.1 m/s like for calculating the depth cells in 1998 TRDI field service note??\n",
    "- So I can just use the lowest measured E per cruise to define Er? Some papers do this, cite them. Or if I know that all cruises used the same ADCP, I could find the lowest measured E out of all of those cruises. (Er should be constant for a given ADCP according to Mullison 2017.)\n",
    "- What year did TRDI switch from OS to OS-II?\n",
    "- If the angle from the vertical is missing, can I assume 30 degrees? This is true for all configs? What are the usual/standard thetas for each instrument type?\n",
    "- What years were all these instruments available? Can I potentially use cruise year to figure what instrument was being used? Diagram of evolution of ADCP models? Or years when you were supporting them?\n",
    "- Send TRDI a spreadsheet of all VM-150, VM-300 to see if they can help figure out which is BB and which is NB.\n",
    "- Get mis-timed cruises from Peter Gaube.\n",
    "- Is direct-reading (DR) meaning that it's moored? (can try to check website)\n",
    "- If blank distance/blanking interval (or whatever it's called) is missing, can I assume it's the same as bin length (or transmit pulse length maybe)? Other specific calculation questions like this.\n",
    "- WH300 had only bb or nb before some time?\n",
    "- VM150 and/or VM300 had only bb or nb before some time?"
   ]
  },
  {
   "cell_type": "markdown",
   "metadata": {},
   "source": [
    "# Quick stats from create_JASADCP_instrument_spreadsheet.ipynb df"
   ]
  },
  {
   "cell_type": "markdown",
   "metadata": {},
   "source": [
    "**All names to become 'VM-150'**:\\\n",
    "'VM-150', 'RD-VM150', 'VM150', 'RD-VM0150'\n",
    "\n",
    "**All names to become 'VM-300'**:\\\n",
    "'VM-300', 'RD-VM300'\n",
    "\n",
    "**All names to become 'UNCLEAR'**:\\\n",
    "'150' (1990-1998; assume RDI + VM + NB or BB),  \n",
    "'RDI' (1985-1993; some give you transmit frequency, w/ those just assume VM + either NB or BB),  \n",
    "'150 kHz hull mounted ADCP' (1991; assume RDI + VM + NB or BB),  \n",
    "'Narrowband' (1994-1996; all 153.6kHz transmit frequency; assume RDI + VM + NB),  \n",
    "'150 kHz' (1994; assume RDI + VM + NB or BB),  \n",
    "'153.6 kHz hull mounted ADCP' (2002; assume RDI + maybe OS?)"
   ]
  },
  {
   "cell_type": "code",
   "execution_count": 125,
   "metadata": {},
   "outputs": [
    {
     "name": "stdout",
     "output_type": "stream",
     "text": [
      "0.3580301685891748\n",
      "0.34072759538598046\n",
      "0.17701863354037267\n",
      "0.17213842058562556\n",
      "0.6313220940550133\n",
      "2000-08-31 00:01:35\n",
      "2018-11-15 17:22:09\n",
      "0\n",
      "178\n",
      "0\n",
      "178\n"
     ]
    }
   ],
   "source": [
    "#pd.set_option('max_rows', 1000)\n",
    "#pd.set_option('display.max_colwidth', -1)\n",
    "\n",
    "# - fraction of cruises w/ weird names\n",
    "weird_names = ['VM-150', 'RD-VM150', 'VM150', 'RD-VM0150', 'VM-300', 'RD-VM300', '150',\n",
    "               'RDI', '150 kHz hull mounted ADCP', 'Narrowband', '150 kHz', '153.6 kHz hull mounted ADCP'] \n",
    "weird_names_vm = ['VM-150', 'RD-VM150', 'VM150', 'RD-VM0150', 'VM-300', 'RD-VM300']\n",
    "print(len(df[df['hardware_model'].isin(weird_names)])/len(df)) # --> 0.3580301685891748\n",
    "print(len(df[df['hardware_model'].isin(weird_names_vm)])/len(df)) # --> 0.34072759538598046\n",
    "print(len(df[df['hardware_model']=='VM-150'])/len(df)) # --> 0.25643300798580304\n",
    "print(len(df[df['hardware_model']=='RD-VM150'])/len(df)) # --> 0.07364685004436557\n",
    "print(len(df[df['hardware_model']=='VM150'])/len(df)) # --> 0.0008873114463176575\n",
    "print(len(df[df['hardware_model']=='RD-VM0150'])/len(df)) # --> 0.00044365572315882877\n",
    "print(len(df[df['hardware_model']=='VM-300'])/len(df)) # --> 0.005767524401064774\n",
    "print(len(df[df['hardware_model']=='RD-VM300'])/len(df)) # --> 0.00354924578527063\n",
    "\n",
    "# - fraction of cruises w/ weird names in Pacific\n",
    "print(len(df[(df['hardware_model'].isin(weird_names)) & (\n",
    "    df['geo_region'].str.contains('acific') |\n",
    "    df['geo_region'].str.contains('alifornia'))])/len(df)) # --> 0.17701863354037267\n",
    "print(len(df[(df['hardware_model'].isin(weird_names_vm)) & (\n",
    "    df['geo_region'].str.contains('acific') |\n",
    "    df['geo_region'].str.contains('alifornia'))])/len(df)) # --> 0.17213842058562556\n",
    "\n",
    "# - fraction of cruises in Pacific\n",
    "print(len(df[df['geo_region'].str.contains('acific') |\n",
    "             df['geo_region'].str.contains('alifornia')])/len(df)) # --> 0.6313220940550133\n",
    "\n",
    "# - earliest and latest cruises using OS \n",
    "print(df[(df['instrument_name'].str.contains('OS-'))]['cruise_beg_date'].min()) # --> '2000-08-31 00:01:35'\n",
    "print(df[(df['instrument_name'].str.contains('OS-'))]['cruise_beg_date'].max()) # --> '2018-11-15 17:22:09'\n",
    "\n",
    "# - earliest and latest cruises using NB-VM\n",
    "print(df[(df['instrument_name'].str.contains('VM')) &\n",
    "         (df['bandwidth']=='narrowband')]['cruise_beg_date'].min()) # --> '1989-08-15 10:20:00'\n",
    "print(df[(df['instrument_name'].str.contains('VM')) &\n",
    "         (df['bandwidth']=='narrowband')]['cruise_beg_date'].max()) # --> '2014-03-20 10:06:28'\n",
    "\n",
    "# - earliest and latest cruises using BB\n",
    "print(df[(df['hardware_model'].str.contains('road')) &\n",
    "         ~(df['instrument_name'].str.contains('OS'))]['cruise_beg_date'].min()) # --> '1996-07-02 04:42:00'\n",
    "print(df[(df['hardware_model'].str.contains('road')) &\n",
    "         ~(df['instrument_name'].str.contains('OS'))]['cruise_beg_date'].max() # --> '2014-08-01 12:11:31'\n",
    "# --> It could be that cruises that ONLY say VM and not BB or NB are NB and happened BEFORE BB existed\n",
    "\n",
    "# - justification that VM usually means narrowband (though doesn't really work,\n",
    "# given that 25.6% of all cruises are VM-150 w/ unknown BB or NB)\n",
    "print(len(df[(df['instrument_name'].str.contains('VM-')) & (df['bandwidth']=='broadband')]['bandwidth'])) # --> 0\n",
    "print(len(df[(df['instrument_name'].str.contains('VM-')) & (df['bandwidth']=='narrowband')]['bandwidth'])) # --> 178\n",
    "print(len(df[(df['hardware_model'].str.contains('VM')) & (df['bandwidth']=='broadband')]['bandwidth'])) # --> 0\n",
    "print(len(df[(df['hardware_model'].str.contains('VM')) & (df['bandwidth']=='narrowband')]['bandwidth'])) # --> 178"
   ]
  },
  {
   "cell_type": "code",
   "execution_count": null,
   "metadata": {},
   "outputs": [],
   "source": [
    "# - Look at broadband instruments\n",
    "#df[df['bandwidth']=='broadband'] # --> too hard to look at\n",
    "\n",
    "# - Look at only specific OS-75 cruises where they separated broadband and narrowband measurements\n",
    "#dfnow = df.dropna(subset=['comments'])\n",
    "#dfnow[dfnow['comments'].str.contains('separate set')]\n",
    "# --> looks like broadband/narrowband always has bin_length, transmit_pulse_length, depth_range, num_bins, ens_avg_intvl\n",
    "# as 8m/16m, 8m/16m, 25-657m/32-1136m, 80/70, 300s/300s\n",
    "\n",
    "# - Look at instruments w/ broadband in hardware_model\n",
    "#df[(df['hardware_model'].str.contains('road'))]\n",
    "#df[(df['hardware_model'].str.contains('road')) & (df.index>1367)]\n",
    "# --> ignore OS for now\n",
    "# --> BB-150: blank = 4, bin = 8, range = 17-413/16-408, numbins = 50, ens = 300/60/180\n",
    "# --> BB-150 concave: blank = 5, bin = 8, range = 30-332, numbins = 40, ens = 60\n",
    "\n",
    "# - Look at narrowband instruments\n",
    "#df[(df['instrument_name'].str.contains('VM')) & (df['bandwidth']=='narrowband')]\n",
    "# --> VM-150 (NB): blank = 4, bin = 8, range = 400, numbins = 60, ens = 3min\n",
    "# --> lots more, but doesn't seem any different from BB :("
   ]
  },
  {
   "cell_type": "markdown",
   "metadata": {},
   "source": [
    "# Calculate Sv for each ncfile"
   ]
  },
  {
   "cell_type": "markdown",
   "metadata": {},
   "source": [
    "#### Mean volume backscattering strength eqn (Mullison 2017):  \n",
    "$S_v = C + 10log((T_x + 273.16)*R^2) - L_{DBM} - P_{DBW} + 2 \\alpha R + 10log(10^{k_c(E-E_r)/10} - 1)$, where:  \n",
    "- C = constant combining several params specific to each instrument\n",
    "- $T_x$ = temperature measured at the transducer ($^{\\circ}$C)\n",
    "- R = along-beam range to the measurement, taken in the last quarter of the bin for Workhorse, Long Ranger, and Quartermaster, and at midpt of the bin for other instruments\n",
    "- $L_{DBM}$ = 10log(transmit pulse length, meters)\n",
    "- $P_{DBW}$ = 10log(transmit power, Watts)\n",
    "- $\\alpha$ = absorption coefficient of the water\n",
    "- $k_c$ = RSSI slope (dB/count)\n",
    "- $E_r$ = noise floor (counts)"
   ]
  },
  {
   "cell_type": "markdown",
   "metadata": {},
   "source": [
    "#### Mean volume backscattering strength eqn (fst-003):  \n",
    "$S_v = 10log(\\frac{4.47 \\times 10^{-20} K_2 K_S}{c}) + 10log((T_x + 273.16)*R^2) - 10log(P) - 10log(K_1) + 2 \\alpha R + 10log(10^{k_c(E-E_r)/10} - 1)$\n",
    "- $K_2$ = system noise factor (dimensionless)\n",
    "- $K_S$ = system constant, depends on NBADCP frequency\n",
    "- c = speed of sound at the scattering layer being measured\n",
    "- P = transmit pulse length\n",
    "- $K_1$ = real-time power into the water (Watts) \n",
    "- All others the same as Mullison 2017 eqn"
   ]
  },
  {
   "cell_type": "markdown",
   "metadata": {},
   "source": [
    "#### NBADCP-specific values and calculations (fst-003):"
   ]
  },
  {
   "cell_type": "markdown",
   "metadata": {},
   "source": [
    "$C$:  \n",
    "$C = 10log[\\frac{4.47 x 10^{-20} K_2 K_s}{c}]$"
   ]
  },
  {
   "cell_type": "markdown",
   "metadata": {},
   "source": [
    "$K_2$:"
   ]
  },
  {
   "cell_type": "code",
   "execution_count": 18,
   "metadata": {},
   "outputs": [
    {
     "data": {
      "text/html": [
       "<div>\n",
       "<style scoped>\n",
       "    .dataframe tbody tr th:only-of-type {\n",
       "        vertical-align: middle;\n",
       "    }\n",
       "\n",
       "    .dataframe tbody tr th {\n",
       "        vertical-align: top;\n",
       "    }\n",
       "\n",
       "    .dataframe thead th {\n",
       "        text-align: right;\n",
       "    }\n",
       "</style>\n",
       "<table border=\"1\" class=\"dataframe\">\n",
       "  <thead>\n",
       "    <tr style=\"text-align: right;\">\n",
       "      <th></th>\n",
       "      <th></th>\n",
       "      <th>K2</th>\n",
       "    </tr>\n",
       "    <tr>\n",
       "      <th>NBADCP Model</th>\n",
       "      <th>Frequency (kHz)</th>\n",
       "      <th></th>\n",
       "    </tr>\n",
       "  </thead>\n",
       "  <tbody>\n",
       "    <tr>\n",
       "      <td rowspan=\"5\" valign=\"top\">VM</td>\n",
       "      <td>75</td>\n",
       "      <td>2.5</td>\n",
       "    </tr>\n",
       "    <tr>\n",
       "      <td>150</td>\n",
       "      <td>4.3</td>\n",
       "    </tr>\n",
       "    <tr>\n",
       "      <td>300</td>\n",
       "      <td>4.5</td>\n",
       "    </tr>\n",
       "    <tr>\n",
       "      <td>600</td>\n",
       "      <td>9.1</td>\n",
       "    </tr>\n",
       "    <tr>\n",
       "      <td>1200</td>\n",
       "      <td>10.5</td>\n",
       "    </tr>\n",
       "    <tr>\n",
       "      <td rowspan=\"5\" valign=\"top\">DR</td>\n",
       "      <td>75</td>\n",
       "      <td>2.2</td>\n",
       "    </tr>\n",
       "    <tr>\n",
       "      <td>150</td>\n",
       "      <td>3.6</td>\n",
       "    </tr>\n",
       "    <tr>\n",
       "      <td>300</td>\n",
       "      <td>4.2</td>\n",
       "    </tr>\n",
       "    <tr>\n",
       "      <td>600</td>\n",
       "      <td>7.1</td>\n",
       "    </tr>\n",
       "    <tr>\n",
       "      <td>1200</td>\n",
       "      <td>8.1</td>\n",
       "    </tr>\n",
       "  </tbody>\n",
       "</table>\n",
       "</div>"
      ],
      "text/plain": [
       "                                K2\n",
       "NBADCP Model Frequency (kHz)      \n",
       "VM           75                2.5\n",
       "             150               4.3\n",
       "             300               4.5\n",
       "             600               9.1\n",
       "             1200             10.5\n",
       "DR           75                2.2\n",
       "             150               3.6\n",
       "             300               4.2\n",
       "             600               7.1\n",
       "             1200              8.1"
      ]
     },
     "execution_count": 18,
     "metadata": {},
     "output_type": "execute_result"
    }
   ],
   "source": [
    "# From fst-003, pg 6:\n",
    "arrays = [['VM', 'VM', 'VM', 'VM', 'VM', 'DR', 'DR', 'DR', 'DR', 'DR'],\n",
    "          [75, 150, 300, 600, 1200, 75, 150, 300, 600, 1200]]\n",
    "tuples = list(zip(*arrays))\n",
    "index = pd.MultiIndex.from_tuples(tuples, names = ['NBADCP Model', 'Frequency (kHz)'])\n",
    "K2_values = pd.DataFrame([2.5, 4.3, 4.5, 9.1, 10.5, 2.2, 3.6, 4.2, 7.1, 8.1],index=index,columns=['K2'])\n",
    "df_K2_values = pd.DataFrame(K2_values)\n",
    "df_K2_values"
   ]
  },
  {
   "cell_type": "markdown",
   "metadata": {},
   "source": [
    "$K_S$:"
   ]
  },
  {
   "cell_type": "code",
   "execution_count": 11,
   "metadata": {},
   "outputs": [
    {
     "data": {
      "text/html": [
       "<div>\n",
       "<style scoped>\n",
       "    .dataframe tbody tr th:only-of-type {\n",
       "        vertical-align: middle;\n",
       "    }\n",
       "\n",
       "    .dataframe tbody tr th {\n",
       "        vertical-align: top;\n",
       "    }\n",
       "\n",
       "    .dataframe thead th {\n",
       "        text-align: right;\n",
       "    }\n",
       "</style>\n",
       "<table border=\"1\" class=\"dataframe\">\n",
       "  <thead>\n",
       "    <tr style=\"text-align: right;\">\n",
       "      <th></th>\n",
       "      <th>NBADCP frequency (kHz)</th>\n",
       "      <th>Ks</th>\n",
       "    </tr>\n",
       "  </thead>\n",
       "  <tbody>\n",
       "    <tr>\n",
       "      <td>0</td>\n",
       "      <td>75</td>\n",
       "      <td>109000.0</td>\n",
       "    </tr>\n",
       "    <tr>\n",
       "      <td>1</td>\n",
       "      <td>150</td>\n",
       "      <td>417000.0</td>\n",
       "    </tr>\n",
       "    <tr>\n",
       "      <td>2</td>\n",
       "      <td>300</td>\n",
       "      <td>769000.0</td>\n",
       "    </tr>\n",
       "    <tr>\n",
       "      <td>3</td>\n",
       "      <td>600</td>\n",
       "      <td>1560000.0</td>\n",
       "    </tr>\n",
       "    <tr>\n",
       "      <td>4</td>\n",
       "      <td>1200</td>\n",
       "      <td>5650000.0</td>\n",
       "    </tr>\n",
       "  </tbody>\n",
       "</table>\n",
       "</div>"
      ],
      "text/plain": [
       "   NBADCP frequency (kHz)         Ks\n",
       "0                      75   109000.0\n",
       "1                     150   417000.0\n",
       "2                     300   769000.0\n",
       "3                     600  1560000.0\n",
       "4                    1200  5650000.0"
      ]
     },
     "execution_count": 11,
     "metadata": {},
     "output_type": "execute_result"
    }
   ],
   "source": [
    "# From fst-003, pg 10:\n",
    "Ks_values = {\n",
    "    'NBADCP frequency (kHz)' : [75, 150, 300, 600, 1200],\n",
    "    'Ks' : [1.09E5, 4.17E5, 7.69E5, 1.56E6, 5.65E6]\n",
    "}\n",
    "df_Ks_values = pd.DataFrame(Ks_values)\n",
    "df_Ks_values"
   ]
  },
  {
   "cell_type": "markdown",
   "metadata": {},
   "source": [
    "$K_1$:"
   ]
  },
  {
   "cell_type": "markdown",
   "metadata": {},
   "source": [
    "$K_1 = [\\frac{(V_s \\times a)-b}{c}]^2 \\times K_{1c}$"
   ]
  },
  {
   "cell_type": "markdown",
   "metadata": {},
   "source": [
    "$K_{1c}$:"
   ]
  },
  {
   "cell_type": "code",
   "execution_count": 11,
   "metadata": {},
   "outputs": [
    {
     "data": {
      "text/html": [
       "<div>\n",
       "<style scoped>\n",
       "    .dataframe tbody tr th:only-of-type {\n",
       "        vertical-align: middle;\n",
       "    }\n",
       "\n",
       "    .dataframe tbody tr th {\n",
       "        vertical-align: top;\n",
       "    }\n",
       "\n",
       "    .dataframe thead th {\n",
       "        text-align: right;\n",
       "    }\n",
       "</style>\n",
       "<table border=\"1\" class=\"dataframe\">\n",
       "  <thead>\n",
       "    <tr style=\"text-align: right;\">\n",
       "      <th></th>\n",
       "      <th>NBADCP frequency (kHz)</th>\n",
       "      <th>Ks</th>\n",
       "    </tr>\n",
       "  </thead>\n",
       "  <tbody>\n",
       "    <tr>\n",
       "      <td>0</td>\n",
       "      <td>75</td>\n",
       "      <td>109000.0</td>\n",
       "    </tr>\n",
       "    <tr>\n",
       "      <td>1</td>\n",
       "      <td>150</td>\n",
       "      <td>417000.0</td>\n",
       "    </tr>\n",
       "    <tr>\n",
       "      <td>2</td>\n",
       "      <td>300</td>\n",
       "      <td>769000.0</td>\n",
       "    </tr>\n",
       "    <tr>\n",
       "      <td>3</td>\n",
       "      <td>600</td>\n",
       "      <td>1560000.0</td>\n",
       "    </tr>\n",
       "    <tr>\n",
       "      <td>4</td>\n",
       "      <td>1200</td>\n",
       "      <td>5650000.0</td>\n",
       "    </tr>\n",
       "  </tbody>\n",
       "</table>\n",
       "</div>"
      ],
      "text/plain": [
       "   NBADCP frequency (kHz)         Ks\n",
       "0                      75   109000.0\n",
       "1                     150   417000.0\n",
       "2                     300   769000.0\n",
       "3                     600  1560000.0\n",
       "4                    1200  5650000.0"
      ]
     },
     "execution_count": 11,
     "metadata": {},
     "output_type": "execute_result"
    }
   ],
   "source": [
    "# From fst-003, pg 10:\n",
    "Ks_values = {\n",
    "    'NBADCP frequency (kHz)' : [75, 150, 300, 600, 1200],\n",
    "    'Ks' : [1.09E5, 4.17E5, 7.69E5, 1.56E6, 5.65E6]\n",
    "}\n",
    "df_Ks_values = pd.DataFrame(Ks_values)\n",
    "df_Ks_values"
   ]
  },
  {
   "cell_type": "markdown",
   "metadata": {},
   "source": [
    "$R$:"
   ]
  },
  {
   "cell_type": "markdown",
   "metadata": {},
   "source": [
    "$R = \\frac{B + |(P-D)/2| + (N \\times D) + (D/4)}{cos(\\theta)} \\times \\frac{c'}{1475.1}$"
   ]
  },
  {
   "cell_type": "markdown",
   "metadata": {},
   "source": [
    "$K_c$:"
   ]
  },
  {
   "cell_type": "markdown",
   "metadata": {},
   "source": [
    "For E < 200 counts, $K_c = \\frac{127.3}{T_e+271}$  \n",
    "If E is 200-230 counts, calibration of $K_c$ must be done at RDI. If E > 230 counts, $K_c$ can't be calibrated.  \n",
    "$T_e$ = \"temperature of system electronics - $T_e$ is used to calculate $K_c$ and $E_r$. $E_r$...is particularly sensitive to changes in $T_e$, so it is crucial to obtain an accurate record of $T_e$.\"  \n",
    "\"For DR-NBADCPs in which both system electronics and transducer assembly are immersed, $T_x$ can be substituted for $T_e$.\"  \n",
    "\"The ambient temp for the sm electronics will generally differ from the temp recorded at the transducer. Therefore, you must independently measure and record the temperature of the system electronics.\""
   ]
  },
  {
   "cell_type": "markdown",
   "metadata": {},
   "source": [
    "$E_r$:"
   ]
  },
  {
   "cell_type": "markdown",
   "metadata": {},
   "source": []
  },
  {
   "cell_type": "markdown",
   "metadata": {},
   "source": [
    "#### For each ncfile, save the following variables along with Sv:\n",
    "- Tx (temp at transducer, dims = time, units = degC)\n",
    "- R (range, NBADCP samples in the last quarter of each depth cell/OS at midpt, dims = depth, units = m)\n",
    "- Kc (RSSI slope, constant, units = dB/count)\n",
    "- E (RSSI, dims = depth x time, units = counts)\n",
    "- Er (noise floor, constant, units = counts) \n",
    "- P (transmit pulse length, 10log(P) = LDBM, constant, units = m)\n",
    "- K1 (assumed or measured transmit power, 10log(K1) = PDBW, dims = time, units = Watts)\n",
    "- alpha (attenuation coefficient)\n",
    "- c (speed of sound, dims = depth x time, units = m/s)\n",
    "- theta (angle of the transducer beams to vertical, constant, units = degrees)\n",
    "- D (depth cell length, constant, units = m)\n",
    "- Ks (if applicable - only for NBADCP?)\n",
    "- K2 (if applicable - only for NBADCP?)\n",
    "- K1c (if applicable - only for NBADCP?)\n",
    "- B (blank beyond transmit, if applicable - only for NBADCP?, constant, units = m)\n",
    "\n",
    "Metadata should include:\n",
    "- Instrument type\n",
    "- Instrument SN\n",
    "- Transmit frequency"
   ]
  },
  {
   "cell_type": "markdown",
   "metadata": {},
   "source": [
    "### Narrow df down to Pacific region, OS instruments for now"
   ]
  },
  {
   "cell_type": "code",
   "execution_count": 5,
   "metadata": {},
   "outputs": [
    {
     "name": "stdout",
     "output_type": "stream",
     "text": [
      "33\n",
      "2254\n",
      "2221\n",
      "1274\n",
      "611\n"
     ]
    }
   ],
   "source": [
    "print(df['geo_region'].isnull().sum())\n",
    "print(len(df))\n",
    "dfnow = df.dropna(subset=['geo_region'])\n",
    "print(len(dfnow))\n",
    "dfnow = dfnow[dfnow['geo_region'].str.contains('acific')]\n",
    "print(len(dfnow))\n",
    "dfnow = dfnow[dfnow['instrument_name'].str.contains('OS')]\n",
    "print(len(dfnow))\n",
    "dfnow = dfnow[(dfnow['instrument_name']!='OS-II-38')&(dfnow['instrument_name']!='OS-II-75')] "
   ]
  },
  {
   "cell_type": "markdown",
   "metadata": {},
   "source": [
    "## Load table of C, PDBW values"
   ]
  },
  {
   "cell_type": "code",
   "execution_count": null,
   "metadata": {},
   "outputs": [],
   "source": [
    "cpdbw = pd.read_csv(dpath + 'typical_system_characteristics_table2_mullison2017.csv')"
   ]
  },
  {
   "cell_type": "code",
   "execution_count": 9,
   "metadata": {},
   "outputs": [
    {
     "data": {
      "text/html": [
       "<div>\n",
       "<style scoped>\n",
       "    .dataframe tbody tr th:only-of-type {\n",
       "        vertical-align: middle;\n",
       "    }\n",
       "\n",
       "    .dataframe tbody tr th {\n",
       "        vertical-align: top;\n",
       "    }\n",
       "\n",
       "    .dataframe thead th {\n",
       "        text-align: right;\n",
       "    }\n",
       "</style>\n",
       "<table border=\"1\" class=\"dataframe\">\n",
       "  <thead>\n",
       "    <tr style=\"text-align: right;\">\n",
       "      <th></th>\n",
       "      <th>Instrument</th>\n",
       "      <th>C (25%) (dB)</th>\n",
       "      <th>C (6%) (dB)</th>\n",
       "      <th>P_DBW Battery (dB)</th>\n",
       "      <th>P_DBW Power Supply (dB)</th>\n",
       "      <th>Rayleigh Distance (m)</th>\n",
       "    </tr>\n",
       "  </thead>\n",
       "  <tbody>\n",
       "    <tr>\n",
       "      <td>0</td>\n",
       "      <td>ChannelMaster 300</td>\n",
       "      <td>-143.44</td>\n",
       "      <td>-152.26</td>\n",
       "      <td>NaN</td>\n",
       "      <td>15.1</td>\n",
       "      <td>2.69</td>\n",
       "    </tr>\n",
       "    <tr>\n",
       "      <td>1</td>\n",
       "      <td>ChannelMaster 600</td>\n",
       "      <td>-139.08</td>\n",
       "      <td>-147.28</td>\n",
       "      <td>NaN</td>\n",
       "      <td>12.0</td>\n",
       "      <td>2.96</td>\n",
       "    </tr>\n",
       "    <tr>\n",
       "      <td>2</td>\n",
       "      <td>ChannelMaster 1200</td>\n",
       "      <td>-127.13</td>\n",
       "      <td>-137.17</td>\n",
       "      <td>NaN</td>\n",
       "      <td>9.0</td>\n",
       "      <td>1.71</td>\n",
       "    </tr>\n",
       "    <tr>\n",
       "      <td>3</td>\n",
       "      <td>Explorer Phased Array</td>\n",
       "      <td>NaN</td>\n",
       "      <td>-139.14</td>\n",
       "      <td>NaN</td>\n",
       "      <td>9.0</td>\n",
       "      <td>1.67</td>\n",
       "    </tr>\n",
       "    <tr>\n",
       "      <td>4</td>\n",
       "      <td>Explorer Piston</td>\n",
       "      <td>-132.73</td>\n",
       "      <td>-140.95</td>\n",
       "      <td>NaN</td>\n",
       "      <td>3.0</td>\n",
       "      <td>1.35</td>\n",
       "    </tr>\n",
       "  </tbody>\n",
       "</table>\n",
       "</div>"
      ],
      "text/plain": [
       "              Instrument  C (25%) (dB)  C (6%) (dB)  P_DBW Battery (dB)  \\\n",
       "0      ChannelMaster 300       -143.44      -152.26                 NaN   \n",
       "1      ChannelMaster 600       -139.08      -147.28                 NaN   \n",
       "2     ChannelMaster 1200       -127.13      -137.17                 NaN   \n",
       "3  Explorer Phased Array           NaN      -139.14                 NaN   \n",
       "4        Explorer Piston       -132.73      -140.95                 NaN   \n",
       "\n",
       "   P_DBW Power Supply (dB)  Rayleigh Distance (m)  \n",
       "0                     15.1                   2.69  \n",
       "1                     12.0                   2.96  \n",
       "2                      9.0                   1.71  \n",
       "3                      9.0                   1.67  \n",
       "4                      3.0                   1.35  "
      ]
     },
     "execution_count": 9,
     "metadata": {},
     "output_type": "execute_result"
    }
   ],
   "source": [
    "cpdbw.head()"
   ]
  },
  {
   "cell_type": "markdown",
   "metadata": {},
   "source": [
    "## Load table of kc, Er values"
   ]
  },
  {
   "cell_type": "markdown",
   "metadata": {},
   "source": [
    "#### Nominal Kc values from TRDI field service email:\n",
    "BBADCP: 0.45 dB/count  \n",
    "WHADCP: 0.42 dB/count  \n",
    "OS-II-75, SN1508: 0.373 (beam 1), 0.386 (beam 2), 0.388 (beam 3), 0.384 (beam 4) = 0.38275 (avg)  \n",
    "OS-II-75, SN10656: 0.398 (beam 1), 0.389 (beam 2), 0.3988 (beam 3), 0.395 (beam 4) = 0.395 (avg)  \n",
    "#### Nominal Kc values from Jerry Mullison email:\n",
    "Format: min-max, avg, stdev  \n",
    "OS150: 0.41-0.44, 0.42, 0.012   \n",
    "OS75: 0.36-0.42, 0.39, 0.019  \n",
    "OS38: 0.36-0.37, 0.37, 0.004  "
   ]
  },
  {
   "cell_type": "markdown",
   "metadata": {},
   "source": [
    "#### Nominal Er values from Jerry Mullison email:\n",
    "Format: min-max, avg, stdev  \n",
    "OS150: 18-28, 22, 2.08  \n",
    "OS75: 11-25, 19, 2.93  \n",
    "OS38: 5-33, 14, 4.83  "
   ]
  },
  {
   "cell_type": "code",
   "execution_count": 10,
   "metadata": {},
   "outputs": [
    {
     "name": "stdout",
     "output_type": "stream",
     "text": [
      "0.38275000000000003\n",
      "0.395\n"
     ]
    }
   ],
   "source": [
    "# - Calc avg Kc for OS-II w/ SNs\n",
    "print(np.mean([0.373, 0.386, 0.388, 0.384]))\n",
    "print(np.mean([0.398, 0.389, 0.398, 0.395]))"
   ]
  },
  {
   "cell_type": "markdown",
   "metadata": {},
   "source": [
    "## Load WOD data (T,S)"
   ]
  },
  {
   "cell_type": "markdown",
   "metadata": {},
   "source": [
    "## Compute Sv"
   ]
  },
  {
   "cell_type": "code",
   "execution_count": null,
   "metadata": {},
   "outputs": [],
   "source": []
  },
  {
   "cell_type": "code",
   "execution_count": 20,
   "metadata": {},
   "outputs": [
    {
     "data": {
      "text/plain": [
       "fname                                                       00804_short.nc\n",
       "hardware_model                                           Ocean Surveyer 75\n",
       "instrument_name                                                      OS-75\n",
       "serial_numbers                                                        None\n",
       "transmit_frequency                                                    None\n",
       "phased_array                                                          None\n",
       "cruise_beg_date                                        2004-06-15 06:33:10\n",
       "blanking_interval                                                       8m\n",
       "bin_length                                                              8m\n",
       "transducer_beam_angle                                                 None\n",
       "transmit_pulse_length                                                   8m\n",
       "comments                 narrowband mode///mounted with the ADCP pointi...\n",
       "biomass_dtmn                                                            no\n",
       "geo_region                       Northwest and North Central Pacific Ocean\n",
       "bandwidth                                                       narrowband\n",
       "Name: 754, dtype: object"
      ]
     },
     "execution_count": 20,
     "metadata": {},
     "output_type": "execute_result"
    }
   ],
   "source": [
    "dfnow.iloc[0]"
   ]
  },
  {
   "cell_type": "markdown",
   "metadata": {},
   "source": [
    "Mean volume backscattering strength:  \n",
    "$S_v = C + 10log((T_x + 273.16)*R^2) - L_{DBM} - P_{DBW} + 2 \\alpha R + 10log(10^{k_c(E-E_r)/10} - 1)$"
   ]
  },
  {
   "cell_type": "code",
   "execution_count": null,
   "metadata": {},
   "outputs": [],
   "source": [
    "ncfile = dpath + 'JASADCP/ncfiles/00001_short.nc'\n",
    "nc = xr.open_dataset(ncfile)"
   ]
  },
  {
   "cell_type": "code",
   "execution_count": null,
   "metadata": {},
   "outputs": [],
   "source": [
    "cols = df.columns.values"
   ]
  },
  {
   "cell_type": "code",
   "execution_count": null,
   "metadata": {},
   "outputs": [],
   "source": [
    "cols[0:-1]"
   ]
  },
  {
   "cell_type": "code",
   "execution_count": null,
   "metadata": {},
   "outputs": [],
   "source": [
    "nc"
   ]
  },
  {
   "cell_type": "code",
   "execution_count": null,
   "metadata": {},
   "outputs": [],
   "source": [
    "nc['depth']"
   ]
  },
  {
   "cell_type": "code",
   "execution_count": null,
   "metadata": {},
   "outputs": [],
   "source": [
    "nc['amp']"
   ]
  },
  {
   "cell_type": "code",
   "execution_count": null,
   "metadata": {},
   "outputs": [],
   "source": [
    "nc['amp'].plot()"
   ]
  },
  {
   "cell_type": "code",
   "execution_count": null,
   "metadata": {},
   "outputs": [],
   "source": [
    "nc['depth'].values"
   ]
  },
  {
   "cell_type": "code",
   "execution_count": null,
   "metadata": {},
   "outputs": [],
   "source": []
  },
  {
   "cell_type": "code",
   "execution_count": null,
   "metadata": {},
   "outputs": [],
   "source": [
    "#nct['ADCP_CONFIG'].attrs['model_name']\n",
    "nct['ADCP_CONFIG'].attrs"
   ]
  },
  {
   "cell_type": "code",
   "execution_count": null,
   "metadata": {},
   "outputs": [],
   "source": []
  },
  {
   "cell_type": "code",
   "execution_count": null,
   "metadata": {},
   "outputs": [],
   "source": []
  },
  {
   "cell_type": "markdown",
   "metadata": {},
   "source": [
    "# TESTING/OLD"
   ]
  },
  {
   "cell_type": "code",
   "execution_count": null,
   "metadata": {},
   "outputs": [],
   "source": [
    "fnames = sorted(os.listdir(dpath + 'JASADCP/ncfiles'))"
   ]
  },
  {
   "cell_type": "code",
   "execution_count": null,
   "metadata": {},
   "outputs": [],
   "source": [
    "nc_counter = len(fnames)\n",
    "geo_region = [None]*nc_counter"
   ]
  },
  {
   "cell_type": "code",
   "execution_count": null,
   "metadata": {},
   "outputs": [],
   "source": [
    "ifile = 0\n",
    "for fname in fnames:\n",
    "    ncfile = dpath + 'JASADCP/ncfiles/' + fname\n",
    "    ncnow = xr.open_dataset(ncfile)\n",
    "    strnow = ncnow.attrs['cruise_sonar_summary']\n",
    "    geo_regionnow = re.findall(\"GEOGRAPHIC_REGION *: *((?:\\S+ )*\\S+)\", strnow)\n",
    "    if geo_regionnow:\n",
    "        geo_region[ifile] = geo_regionnow[0]\n",
    "    ifile = ifile+1"
   ]
  },
  {
   "cell_type": "code",
   "execution_count": null,
   "metadata": {},
   "outputs": [],
   "source": [
    "df = pd.concat(\n",
    "    [pd.Series(fnames,name='fname'), pd.Series(geo_region,name='geo_region')],\n",
    "    axis=1)"
   ]
  }
 ],
 "metadata": {
  "kernelspec": {
   "display_name": "Python 3",
   "language": "python",
   "name": "python3"
  },
  "language_info": {
   "codemirror_mode": {
    "name": "ipython",
    "version": 3
   },
   "file_extension": ".py",
   "mimetype": "text/x-python",
   "name": "python",
   "nbconvert_exporter": "python",
   "pygments_lexer": "ipython3",
   "version": "3.7.3"
  }
 },
 "nbformat": 4,
 "nbformat_minor": 4
}
