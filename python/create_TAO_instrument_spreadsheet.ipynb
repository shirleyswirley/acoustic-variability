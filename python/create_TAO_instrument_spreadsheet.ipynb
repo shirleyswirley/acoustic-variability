{
 "cells": [
  {
   "cell_type": "code",
   "execution_count": 187,
   "metadata": {},
   "outputs": [],
   "source": [
    "import matplotlib.pyplot as plt\n",
    "import numpy as np\n",
    "import os\n",
    "import pandas as pd\n",
    "import re\n",
    "import xarray as xr"
   ]
  },
  {
   "cell_type": "code",
   "execution_count": 188,
   "metadata": {},
   "outputs": [],
   "source": [
    "# - Set data path\n",
    "dpath = '/opt/acoustic-variability/data/'"
   ]
  },
  {
   "cell_type": "code",
   "execution_count": 189,
   "metadata": {},
   "outputs": [],
   "source": [
    "# - Set saved out figure path\n",
    "figpath = '/opt/acoustic-variability/python/figures/'"
   ]
  },
  {
   "cell_type": "markdown",
   "metadata": {},
   "source": [
    "# Compile JASADCP metadata"
   ]
  },
  {
   "cell_type": "markdown",
   "metadata": {},
   "source": [
    "## Read JASADCP metadata into df"
   ]
  },
  {
   "cell_type": "code",
   "execution_count": 190,
   "metadata": {},
   "outputs": [],
   "source": [
    "fnames = sorted(os.listdir(dpath + 'JASADCP/ncfiles'))"
   ]
  },
  {
   "cell_type": "code",
   "execution_count": 191,
   "metadata": {},
   "outputs": [],
   "source": [
    "nc_counter = len(fnames)\n",
    "hardware_model = [None]*nc_counter\n",
    "serial_numbers = [None]*nc_counter\n",
    "transmit_frequency = [None]*nc_counter\n",
    "phased_array = [None]*nc_counter\n",
    "cruise_beg_date = [None]*nc_counter\n",
    "blanking_interval = [None]*nc_counter\n",
    "bin_length = [None]*nc_counter\n",
    "transducer_beam_angle = [None]*nc_counter\n",
    "transmit_pulse_length = [None]*nc_counter\n",
    "comments = [None]*nc_counter\n",
    "biomass_dtmn = [None]*nc_counter"
   ]
  },
  {
   "cell_type": "code",
   "execution_count": 192,
   "metadata": {},
   "outputs": [],
   "source": [
    "ifile = 0\n",
    "for fname in fnames:\n",
    "    ncfile = dpath + 'JASADCP/ncfiles/' + fname\n",
    "    ncnow = xr.open_dataset(ncfile)\n",
    "    strnow = ncnow.attrs['cruise_sonar_summary']\n",
    "    # 1.) hardware_model\n",
    "    hardware_modelnow = re.findall(\"HARDWARE MODEL *: *((?:\\S+ )*\\S+)\", strnow)\n",
    "    if hardware_modelnow:\n",
    "        hardware_model[ifile] = hardware_modelnow[0]\n",
    "    elif not hardware_modelnow: # if hardware_modelnow is empty\n",
    "        manufacturernow = re.findall(\"MANUFACTURER *: *((?:\\S+ )*\\S+)\", strnow)\n",
    "        if manufacturernow:\n",
    "            hardware_model[ifile] = manufacturernow[0]\n",
    "    # 2.) serial_numbers\n",
    "    serial_numbersnow = re.findall(\"SERIAL NUMBERS *: *((?:\\S+ )*\\S+)\", strnow)\n",
    "    if serial_numbersnow:\n",
    "        serial_numbers[ifile] = serial_numbersnow[0]\n",
    "    # 3.) transmit_frequency\n",
    "    transmit_frequencynow = re.findall(\"TRANSMIT FREQUENCY *: *((?:\\S+ )*\\S+)\", strnow)\n",
    "    if transmit_frequencynow:\n",
    "        transmit_frequency[ifile] = transmit_frequencynow[0]\n",
    "    # 4.) phased_array \n",
    "    phased_arraynow = re.findall(\"phased.array\", strnow, re.IGNORECASE)\n",
    "    if phased_arraynow:\n",
    "        sep = '///'; phased_arraynow = sep.join(phased_arraynow)\n",
    "        phased_array[ifile] = phased_arraynow\n",
    "    # 5.) cruise_beg_date\n",
    "    cruise_beg_date[ifile] = ncnow['time'][0].values\n",
    "    # 6.) blanking_interval\n",
    "    blanking_intervalnow = re.findall(\"BLANKING INTERVAL *: *((?:\\S+ )*\\S+)\", strnow)\n",
    "    if blanking_intervalnow:\n",
    "        blanking_interval[ifile] = blanking_intervalnow[0]\n",
    "    # 7.) bin_length\n",
    "    bin_lengthnow = re.findall(\"BIN LENGTH *: *((?:\\S+ )*\\S+)\", strnow)\n",
    "    if bin_lengthnow:\n",
    "        bin_length[ifile] = bin_lengthnow[0]\n",
    "    # 8.) transducer_beam_angle\n",
    "    transducer_beam_anglenow = re.findall(\"TRANSDUCER BEAM ANGLE *: *((?:\\S+ )*\\S+)\", strnow)\n",
    "    if transducer_beam_anglenow:\n",
    "        transducer_beam_angle[ifile] = transducer_beam_anglenow[0]\n",
    "    # 9.) transmit_pulse_length\n",
    "    transmit_pulse_lengthnow = re.findall(\"TRANSMIT PULSE LENGTH *: *((?:\\S+ )*\\S+)\", strnow)\n",
    "    if transmit_pulse_lengthnow:\n",
    "        transmit_pulse_length[ifile] = transmit_pulse_lengthnow[0]\n",
    "    # 10.) comments\n",
    "    commentsnow = re.findall(\"COMMENTS *: *((?:\\S+ )*\\S+)\", strnow)\n",
    "    if commentsnow:\n",
    "        sep = '///'; commentsnow = sep.join(commentsnow)\n",
    "        comments[ifile] = commentsnow\n",
    "    # 11.) biomass_dtmn\n",
    "    biomass_dtmnnow = re.findall(\"BIOMASS DETERMINATION *: *((?:\\S+ )*\\S+)\", strnow)\n",
    "    if biomass_dtmnnow:\n",
    "        biomass_dtmn[ifile] = biomass_dtmnnow[0]\n",
    "    ifile = ifile+1"
   ]
  },
  {
   "cell_type": "code",
   "execution_count": 193,
   "metadata": {},
   "outputs": [],
   "source": [
    "df = pd.concat(\n",
    "    [pd.Series(hardware_model,name='hardware_model'), pd.Series(serial_numbers,name='serial_numbers'),\n",
    "     pd.Series(transmit_frequency,name='transmit_frequency'),pd.Series(phased_array,name='phased_array'),\n",
    "     pd.Series(cruise_beg_date,name='cruise_beg_date'),pd.Series(blanking_interval,name='blanking_interval'),\n",
    "     pd.Series(bin_length,name='bin_length'),pd.Series(transducer_beam_angle,name='transducer_beam_angle'),\n",
    "     pd.Series(transmit_pulse_length,name='transmit_pulse_length'),pd.Series(comments,name='comments')],\n",
    "     axis=1)"
   ]
  },
  {
   "cell_type": "code",
   "execution_count": 194,
   "metadata": {},
   "outputs": [],
   "source": [
    "# - Define fxns to describe bandwidth from comments, hardware_model, and transmit_frequency \n",
    "\n",
    "# --> Checks for hardware_model names containing NB = narrowband\n",
    "#dfnow = df.dropna(subset=['hardware_model'])\n",
    "#dfnow[dfnow['hardware_model'].str.contains('NB')]['hardware_model'].unique()\n",
    "# --> Results are:\n",
    "# array(['NB 150 (VM-150-18HP)', 'NB 150', 'VM-150 (NB)'], dtype=object)\n",
    "\n",
    "def set_bandwidth_from_comments(row):\n",
    "# I use \"broadband\" instead of \"broad\" here b/c we have some cruise comments that say \"broad-scale\"\n",
    "    if row['comments']:\n",
    "        if (re.search('broadband', row['comments'], re.IGNORECASE) and\n",
    "                re.search('narro', row['comments'], re.IGNORECASE)):\n",
    "            return 'both broad and narrowband?' \n",
    "        elif re.search('broadband', row['comments'], re.IGNORECASE):\n",
    "            return 'broadband'\n",
    "        elif re.search('narro', row['comments'], re.IGNORECASE):\n",
    "            return 'narrowband'\n",
    "        else:\n",
    "            return None\n",
    "    else:\n",
    "        return None\n",
    "\n",
    "def set_bandwidth_from_hardware_model(row):\n",
    "    if row['hardware_model']:\n",
    "        if re.search('broad', row['hardware_model'], re.IGNORECASE):\n",
    "            return 'broadband'\n",
    "        elif (re.search('narro', row['hardware_model'], re.IGNORECASE) or\n",
    "                re.search('nb', row['hardware_model'], re.IGNORECASE)):\n",
    "            return 'narrowband'\n",
    "        else:\n",
    "            return None\n",
    "    else:\n",
    "        return None\n",
    "\n",
    "def set_bandwidth_from_transmit_frequency(row):\n",
    "    if row['transmit_frequency']:\n",
    "        if re.search('broadband', row['transmit_frequency'], re.IGNORECASE):\n",
    "            return 'broadband'\n",
    "        elif re.search('narro', row['transmit_frequency'], re.IGNORECASE):\n",
    "            return 'narrowband'\n",
    "        else:\n",
    "            return None\n",
    "    else:\n",
    "        return None\n",
    "    \n",
    "def set_final_bandwidth(row):\n",
    "    lsnow = [row['bw_from_comments'],row['bw_from_hardware_model'],row['bw_from_transmit_frequency']]\n",
    "    idxnow = [i for i,lsitem in enumerate(lsnow) if lsitem != None]\n",
    "    if len(idxnow)>0:\n",
    "        if len(idxnow)==3:\n",
    "            if lsnow[1]!=lsnow[2]:\n",
    "                return 'CHECK NC FILE'\n",
    "            else:\n",
    "                return lsnow[2]\n",
    "        elif len(idxnow)==2:\n",
    "            if idxnow==[0,1]:\n",
    "            # prioritize bw_from_hardware_model over bw_from_comments\n",
    "                return lsnow[1]\n",
    "            elif idxnow==[0,2]:\n",
    "            # prioritize bw_from_transmit_frequency over bw_from_hardware_model\n",
    "                return lsnow[2]\n",
    "            elif (idxnow==[1,2]) and (lsnow[1]==lsnow[2]):\n",
    "                return lsnow[2]\n",
    "            elif (idxnow==[1,2]) and (lsnow[1]!=lsnow[2]):\n",
    "            # equal priority for bw_from_transmit_frequency and bw_from_hardware_model\n",
    "                return 'CHECK NC FILE'            \n",
    "        elif len(idxnow)==1:\n",
    "            return lsnow[idxnow[0]]\n",
    "    else:\n",
    "        return None"
   ]
  },
  {
   "cell_type": "code",
   "execution_count": 195,
   "metadata": {},
   "outputs": [],
   "source": [
    "df['bw_from_comments']=df.apply(set_bandwidth_from_comments, axis=1)\n",
    "df['bw_from_hardware_model']=df.apply(set_bandwidth_from_hardware_model, axis=1)\n",
    "df['bw_from_transmit_frequency']=df.apply(set_bandwidth_from_transmit_frequency, axis=1)\n",
    "df['bandwidth']=df.apply(set_final_bandwidth, axis=1)\n",
    "# - Testing\n",
    "#pd.set_option('max_rows', 500)\n",
    "#pd.set_option('display.max_colwidth', -1)\n",
    "#df[df['bw_from_comments']=='narrowband'][['hardware_model','transmit_frequency','bw_from_comments','bw_from_hardware_model','bw_from_transmit_frequency','bandwidth','comments']]\n",
    "# also looked at: ['bw_from_comments']=='broadband', ['bw_from_hardware_model']=='narrowband',\n",
    "# ['bw_from_hardware_model']=='broadband', ['bw_from_transmit_frequency']=='narrowband',\n",
    "# ['bw_from_hardware_model']=='broadband', ['bandwidth']=='CHECK NC FILE'\n",
    "# --> I CHECKED ALL PRINTED OUT ROWS AND ALL GOT THE RIGHT ANSWER IN THE \n",
    "# FINAL COLUMN NAMED 'bandwidth'; ALSO no files triggered the 'CHECK NC FILE'\n",
    "# designation in the 'bandwidth' column, yay!"
   ]
  },
  {
   "cell_type": "code",
   "execution_count": null,
   "metadata": {},
   "outputs": [],
   "source": [
    "#pd.set_option('max_rows', 1000)\n",
    "#pd.set_option('display.max_colwidth', -1)\n",
    "#df.head()"
   ]
  },
  {
   "cell_type": "markdown",
   "metadata": {},
   "source": [
    "## Uniformly rename hardware_model names"
   ]
  },
  {
   "cell_type": "code",
   "execution_count": 197,
   "metadata": {},
   "outputs": [],
   "source": [
    "# - Save out all unique hardware_model names + # of occurrences to look at in separate window\n",
    "# --> use this output to create the legend below of how to translate different instrument names to a uniform list of names\n",
    "#df['hardware_model'].value_counts().to_csv('jasadcp_unique_instruments.csv', header=['hardware_model count'])"
   ]
  },
  {
   "cell_type": "markdown",
   "metadata": {},
   "source": [
    "#### **List of uniform instrument names:**\n",
    "\n",
    "**All names to become 'OS-38'**:\\\n",
    "'Ocean Surveyer 38', 'Ocean Surveyor 38'\n",
    "\n",
    "**All names to become 'OS-75'**:\\\n",
    "'Ocean Surveyor 75', 'OS75 narrowband', 'Ocean Surveyer 75', 'Ocean Surveyor 75 narrowband', 'OS75 (Ocean Surveyor)', 'Ocean Surveyor 75 broadband', 'Ocean Surveyor OS75', 'OS75', 'Ocean Surveryor 75', 'Ocean Surveyor 75 narroband', 'Ocean Surveyor 75 Broadband', 'Ocean Surveyor 75 Narrowband', '75KHz Ocean Surveyor narrowband', 'Ocean Surveyor 75 kHz', 'RDI 75KHz Ocean Surveyor', 'Ocean Surveyor 75 kHz Phased Array', '75KHz Ocean Surveyor'\n",
    "\n",
    "**All names to become 'OS-150'**:\\\n",
    "'Ocean Surveyer 150', 'Ocean Surveryor 150', 'Ocean Surveyor 150 narroband', 'Ocean Surveyor 150 narrowband', 'Ocean Surveyor 150 broadband'\n",
    "\n",
    "**All names to become 'OS-II-38'**:\\\n",
    "'Ocean Surveyor II (OS-II 38)'\n",
    "\n",
    "**All names to become 'OS-II-75'**:\\\n",
    "'OSII75S phased-array'\n",
    "\n",
    "**All names to become 'VM-75'**:\\\n",
    "'VM75 narrowband'\n",
    "\n",
    "**All names to become 'VM-150'**:\\\n",
    "'VM-150', 'RD-VM150', 'VM-150 Narrowband', 'RD-VM150 Narrow band', 'VM-150 (NB)', 'VM-150 narrowband', 'RDI VM150 narrowband', 'VM150', 'RD-VM150 narrowband', 'RD-VM0150'\n",
    "\n",
    "**All names to become 'VM-300'**:\\\n",
    "'VM-300', 'RD-VM300'\n",
    "\n",
    "**All names to become 'VM-150-18HP'**:\\\n",
    "'NB 150 (VM-150-18HP)'\n",
    "\n",
    "**All names to become 'Workhorse-300'**:\\\n",
    "'WorkHorse 300', 'Workhorse 300', 'Workhorse 300; 300 kHz' \n",
    "\n",
    "**All names to become 'Workhorse-1200'**:\\\n",
    "'Workhorse 1200'\n",
    "\n",
    "**All names to become 'Workhorse-Mariner-300'**:\\\n",
    "'Workhorse Mariner (300 kHz)'\n",
    "\n",
    "**All names to become 'Workhorse-Mariner-600'**:\\\n",
    "'WorkHorse Mariner 600'\n",
    "\n",
    "**All names to become 'DCP4400A'**:\\\n",
    "'DCP4400A'\n",
    "\n",
    "**All names to become 'UNCLEAR'**:\\\n",
    "'Narrowband 150', 'NB 150', '150', 'narrowband 75 kHz', 'RDI', '150 narrowband', '150 kHz Narrowband', 'Broadband 150', 'Broad Band 150', '150 kHz hull mounted ADCP', 'Narrowband', 'Narrowband 300', '150 kHz', 'Direct-Read 150 kHz Narrowband' (HAS ALL SERIAL NUMBERS), 'Vessel-mounted 150 kHz Narrowband' (HAS ALL SERIAL NUMBERS), 'Narrow Band 150Khz', 'Vessel-mount 150 kHz Narrowband', '1) Narrow Band 150 kHz', '153.6 kHz hull mounted ADCP', '300 narrow band', '150 kHz broadband', '150 kHz narrow band', '\"150 broad band, concave\"', 'Vessel-Mount 150 kHz Narrowband' (HAS ALL SERIAL NUMBERS)\n",
    "\n",
    "**Special cases**:\\\n",
    "1.) 'RD-VM' (HAS ALL SERIAL NUMBERS, READ TRANSMIT FREQUENCY, TOO - IF 150 THEN VM-150, ETC.)  \n",
    "2.) 'VM-150 and VM-300' (CHECKED NC FILES - CAN'T DTMN IF IT'S 150 OR 300 --> DISCARD)"
   ]
  },
  {
   "cell_type": "code",
   "execution_count": 198,
   "metadata": {},
   "outputs": [],
   "source": [
    "# - Define fxn to uniformly rename different original hardware_model names\n",
    "def set_uniform_name_orig_hardware_model(row):\n",
    "    if row['hardware_model']:\n",
    "        if row['hardware_model']=='DCP4400A':\n",
    "            return 'DCP4400A'\n",
    "        elif row['hardware_model'] in ['Ocean Surveyer 38', 'Ocean Surveyor 38']:\n",
    "            return 'OS-38' \n",
    "        elif row['hardware_model'] in ['Ocean Surveyor 75', 'OS75 narrowband',\n",
    "                                       'Ocean Surveyer 75', 'Ocean Surveyor 75 narrowband',\n",
    "                                       'OS75 (Ocean Surveyor)', 'Ocean Surveyor 75 broadband',\n",
    "                                       'Ocean Surveyor OS75', 'OS75', 'Ocean Surveryor 75',\n",
    "                                       'Ocean Surveyor 75 narroband', 'Ocean Surveyor 75 Broadband',\n",
    "                                       'Ocean Surveyor 75 Narrowband', '75KHz Ocean Surveyor narrowband',\n",
    "                                       'Ocean Surveyor 75 kHz', 'RDI 75KHz Ocean Surveyor',\n",
    "                                       'Ocean Surveyor 75 kHz Phased Array', '75KHz Ocean Surveyor']:\n",
    "            return 'OS-75' \n",
    "        elif row['hardware_model'] in ['Ocean Surveyer 150', 'Ocean Surveryor 150',\n",
    "                                       'Ocean Surveyor 150 narroband', 'Ocean Surveyor 150 narrowband',\n",
    "                                       'Ocean Surveyor 150 broadband']:\n",
    "            return 'OS-150'\n",
    "        elif row['hardware_model'] in ['Ocean Surveyor II (OS-II 38)']:\n",
    "            return 'OS-II-38'\n",
    "        elif row['hardware_model'] in ['OSII75S phased-array']:\n",
    "            return 'OS-II-75'\n",
    "        elif row['hardware_model'] in ['VM75 narrowband']:\n",
    "            return 'VM-75'\n",
    "        elif row['hardware_model'] in ['VM-150', 'RD-VM150', 'VM-150 Narrowband', 'RD-VM150 Narrow band',\n",
    "                                       'VM-150 (NB)', 'VM-150 narrowband', 'RDI VM150 narrowband',\n",
    "                                       'VM150', 'RD-VM150 narrowband', 'RD-VM0150']:\n",
    "            return 'VM-150'\n",
    "        elif row['hardware_model'] in ['VM-300', 'RD-VM300']:\n",
    "            return 'VM-300'\n",
    "        elif row['hardware_model'] in ['RD-VM']:\n",
    "            if re.search('150', row['transmit_frequency']):\n",
    "                return 'VM-150'\n",
    "        elif row['hardware_model'] in ['NB 150 (VM-150-18HP)']:\n",
    "            return 'VM-150-18HP'\n",
    "        elif row['hardware_model'] in ['WorkHorse 300', 'Workhorse 300', 'Workhorse 300; 300 kHz']:\n",
    "            return 'Workhorse-300'\n",
    "        elif row['hardware_model'] in ['Workhorse 1200']:\n",
    "            return 'Workhorse-1200'\n",
    "        elif row['hardware_model'] in ['Workhorse Mariner (300 kHz)']:\n",
    "            return 'Workhorse-Mariner-300'\n",
    "        elif row['hardware_model'] in ['WorkHorse Mariner 600']:\n",
    "            return 'Workhorse-Mariner-600'\n",
    "        else:\n",
    "            return 'ZUNCLEAR: ' + row['hardware_model']\n",
    "    else:\n",
    "        return None"
   ]
  },
  {
   "cell_type": "code",
   "execution_count": 199,
   "metadata": {},
   "outputs": [],
   "source": [
    "# - Create df w/ uniform instrument names\n",
    "df['instrument_name']=df.apply(set_uniform_name_orig_hardware_model, axis=1)\n",
    "cols = list(df.columns.values)\n",
    "cols = [cols[0]]+['instrument_name']+cols[1:-1]\n",
    "df = df[cols]"
   ]
  },
  {
   "cell_type": "code",
   "execution_count": 213,
   "metadata": {},
   "outputs": [],
   "source": [
    "# - Get rid of NULL instrument_name rows (there's only 1 and it has no other info)\n",
    "# and 'ZUNCLEAR: VM-150 and VM-300' rows\n",
    "df = df[~df['instrument_name'].isnull()]\n",
    "df = df[~(df['instrument_name']=='ZUNCLEAR: VM-150 and VM-300')]"
   ]
  },
  {
   "cell_type": "markdown",
   "metadata": {},
   "source": [
    "## Create csv w/ all NOT unclear instruments w/ or w/o serial numbers\n",
    "(get average Kc, Er, etc. values for these instruments)"
   ]
  },
  {
   "cell_type": "code",
   "execution_count": 221,
   "metadata": {},
   "outputs": [],
   "source": [
    "df_in = df['instrument_name'].value_counts().sort_index().rename('count')\n",
    "df_in = df_in.reset_index().rename(columns={'index':'instrument_name'})\n",
    "df_in_clear = df_in[~df_in['instrument_name'].str.contains('UNCLEAR')]\n",
    "df_in_clear.to_csv(\n",
    "    'jasadcp_metadata_for_TRDI_clear_instruments.csv', index=False)"
   ]
  },
  {
   "cell_type": "markdown",
   "metadata": {},
   "source": [
    "## Create csv w/ only instruments w/ serial numbers\n",
    "(get exact Kc, Er, etc. values for these exact instruments)"
   ]
  },
  {
   "cell_type": "code",
   "execution_count": 222,
   "metadata": {},
   "outputs": [],
   "source": [
    "df_sn = df.dropna(subset = ['serial_numbers']\n",
    "                 )[['instrument_name','serial_numbers',\n",
    "                    'transmit_frequency','bandwidth',\n",
    "                    'cruise_beg_date','comments']]\n",
    "df_sn = df_sn[df_sn['serial_numbers'] != 'unconfirmed']\n",
    "#pd.set_option('max_rows', 1000)\n",
    "#pd.set_option('display.max_colwidth', -1)\n",
    "#df_sn.head()"
   ]
  },
  {
   "cell_type": "code",
   "execution_count": 223,
   "metadata": {},
   "outputs": [],
   "source": [
    "# - Create csv w/ instrument_name + serial_numbers\n",
    "df_sn_gb_in_sn = df_sn.groupby(['instrument_name','serial_numbers']\n",
    "             ).size().reset_index().rename(columns={0:'count'})\n",
    "df_sn_gb_in_sn.sort_values(by=['instrument_name','serial_numbers'])\n",
    "df_sn_gb_in_sn[['instrument_name','serial_numbers']].to_csv(\n",
    "    'jasadcp_metadata_for_TRDI_instruments_with_serial_numbers.csv', index=False)"
   ]
  },
  {
   "cell_type": "code",
   "execution_count": 203,
   "metadata": {},
   "outputs": [],
   "source": [
    "# - Other summaries I thought to send to TRDI, but aren't as good:\n",
    "#df_sn.groupby(['serial_numbers']\n",
    "#             ).size().reset_index().rename(columns={0:'count'})\n",
    "#df_sn['instrument_name'].value_counts()\n",
    "#df_sn['serial_numbers'].value_counts()"
   ]
  },
  {
   "cell_type": "markdown",
   "metadata": {},
   "source": [
    "## Create csv w/ only UNCLEAR instruments w/ or w/o serial numbers\n",
    "(want to figure out what instruments these are + get exact Kc, Er, etc. values for ones w/ serial numbers and average values for particular instrument types)"
   ]
  },
  {
   "cell_type": "code",
   "execution_count": 204,
   "metadata": {},
   "outputs": [],
   "source": [
    "# Check a few of the nc files to see if there is more info on the instrument;\n",
    "# after printing out fnamesnow, use ncdump -h on tern to look at metadata of those files\n",
    "# --> doesn't seem to be more info gleaned :( when I looked at a bunch of files\n",
    "#idxsnow = df[df['hardware_model']=='VM-150 and VM-300'].index.tolist()\n",
    "#fnamesnow = [fnames[i] for i in idxsnow] \n",
    "#fnamesnow"
   ]
  },
  {
   "cell_type": "markdown",
   "metadata": {},
   "source": [
    "#### Let's just try to make another spreadsheet for RDI that has some extra info. Maybe they can figure out which instrument it is from this extra info.\n",
    "\n",
    "**Info to add when the hardware model is unknown:**  \n",
    "'CHIEF SCIENTIST ON SHIP', 'PERSONNEL IN CHARGE',\n",
    "'MANUFACTURER', 'HARDWARE MODEL' (already in df), 'SERIAL NUMBERS' (already in df),  \n",
    "'TRANSMIT FREQUENCY' (already in df), 'TRANSDUCER CONFIGURATION',  \n",
    "'DEPTH RANGE', 'BIN LENGTH' (already in df), 'NUMBER OF BINS',  \n",
    "'TRANSMIT PULSE LENGTH' (already in df), 'BLANKING INTERVAL' (already in df), 'ENSEMBLE AVERAGING INTERVAL'\n",
    "\n",
    "also: 'bandwidth'"
   ]
  },
  {
   "cell_type": "code",
   "execution_count": 244,
   "metadata": {},
   "outputs": [],
   "source": [
    "df_uc = df[df['instrument_name'].str.contains('UNCLEAR')][\n",
    "    ['hardware_model','serial_numbers','transmit_frequency','bin_length',\n",
    "     'transmit_pulse_length','blanking_interval','bandwidth']]"
   ]
  },
  {
   "cell_type": "code",
   "execution_count": 245,
   "metadata": {},
   "outputs": [],
   "source": [
    "df_uc = df_uc.reset_index().rename(columns={'index':'fname_idx'})"
   ]
  },
  {
   "cell_type": "code",
   "execution_count": 246,
   "metadata": {},
   "outputs": [],
   "source": [
    "row_counter = len(df_uc)\n",
    "chief_scientist = [None]*row_counter\n",
    "personnel_charge = [None]*row_counter\n",
    "manufacturer = [None]*row_counter\n",
    "transducer_config = [None]*row_counter\n",
    "depth_range = [None]*row_counter\n",
    "num_bins = [None]*row_counter\n",
    "ens_avg_intvl = [None]*row_counter"
   ]
  },
  {
   "cell_type": "code",
   "execution_count": 192,
   "metadata": {},
   "outputs": [],
   "source": [
    "irow = 0\n",
    "for fnameidx in df_uc['fname_idx']:\n",
    "    ncfile = dpath + 'JASADCP/ncfiles/' + fnames[fnameidx]\n",
    "    ncnow = xr.open_dataset(ncfile)\n",
    "    strnow = ncnow.attrs['cruise_sonar_summary']\n",
    "    # 1.) chief_scientist\n",
    "    chief_scientistnow = re.findall(\"CHIEF SCIENTIST ON SHIP *: *((?:\\S+ )*\\S+)\", strnow)\n",
    "    if chief_scientistnow:\n",
    "        chief_scientist[irow] = chief_scientistnow[0]\n",
    "    # CONTINUE HERE!!!!!!\n",
    "    irow = irow+1"
   ]
  },
  {
   "cell_type": "code",
   "execution_count": 193,
   "metadata": {},
   "outputs": [],
   "source": [
    "df = pd.concat(\n",
    "    [pd.Series(hardware_model,name='hardware_model'), pd.Series(serial_numbers,name='serial_numbers'),\n",
    "     pd.Series(transmit_frequency,name='transmit_frequency'),pd.Series(phased_array,name='phased_array'),\n",
    "     pd.Series(cruise_beg_date,name='cruise_beg_date'),pd.Series(blanking_interval,name='blanking_interval'),\n",
    "     pd.Series(bin_length,name='bin_length'),pd.Series(transducer_beam_angle,name='transducer_beam_angle'),\n",
    "     pd.Series(transmit_pulse_length,name='transmit_pulse_length'),pd.Series(comments,name='comments')],\n",
    "     axis=1)"
   ]
  },
  {
   "cell_type": "code",
   "execution_count": null,
   "metadata": {},
   "outputs": [],
   "source": []
  },
  {
   "cell_type": "code",
   "execution_count": null,
   "metadata": {},
   "outputs": [],
   "source": []
  },
  {
   "cell_type": "code",
   "execution_count": 234,
   "metadata": {},
   "outputs": [],
   "source": [
    "df_uc.to_csv('jasadcp_metadata_for_TRDI_unclear_instruments.csv')"
   ]
  },
  {
   "cell_type": "code",
   "execution_count": null,
   "metadata": {},
   "outputs": [],
   "source": [
    "df_uc.dtypes # datetime64 doesn't go to csv right"
   ]
  },
  {
   "cell_type": "markdown",
   "metadata": {},
   "source": [
    "## Important JASADCP notes"
   ]
  },
  {
   "cell_type": "code",
   "execution_count": null,
   "metadata": {},
   "outputs": [],
   "source": [
    "# --> The following suggests that all VM instruments are narrowband:\n",
    "dfnow = df.dropna(subset=['instrument_name'])\n",
    "dfnow = dfnow[dfnow['instrument_name'].str.contains('VM')]\n",
    "dfnow.groupby(['hardware_model','instrument_name',\n",
    "               'transmit_frequency','bandwidth']\n",
    "             ).size().reset_index().rename(columns={0:'count'})"
   ]
  },
  {
   "cell_type": "code",
   "execution_count": null,
   "metadata": {},
   "outputs": [],
   "source": [
    "# The following suggests that a phased array set up can be broadband\n",
    "# --> Need to ask if that's true b/c Mullison (2017) implies that it's not:\n",
    "# \"Systems w/ piston transducers are capable of bandwidths of 25% and 6%, while phased\n",
    "# array systems do not allow 25% bandwidth.\" Jerry also said that all OS\n",
    "# instruments are narrowband...is that right?\n",
    "dfnow = df.dropna(subset=['instrument_name'])\n",
    "dfnow = dfnow.dropna(subset=['phased_array'])\n",
    "dfnow[dfnow['instrument_name'].str.contains('OS')][['hardware_model','instrument_name',\n",
    "                                                   'transmit_frequency','comments','bw_from_comments',\n",
    "                                                  'bw_from_hardware_model','bandwidth']]"
   ]
  },
  {
   "cell_type": "markdown",
   "metadata": {},
   "source": [
    "# Compile TAO mooring metadata"
   ]
  },
  {
   "cell_type": "code",
   "execution_count": null,
   "metadata": {},
   "outputs": [],
   "source": [
    "os.listdir(dpath + 'TAO_NDBC/ncfiles')"
   ]
  },
  {
   "cell_type": "code",
   "execution_count": null,
   "metadata": {},
   "outputs": [],
   "source": [
    "ncfile = dpath + 'TAO_NDBC/ncfiles/TAO_T0N170W_KA019-20151201_D_ADCP.nc'\n",
    "nct = xr.open_dataset(ncfile)"
   ]
  },
  {
   "cell_type": "code",
   "execution_count": null,
   "metadata": {},
   "outputs": [],
   "source": [
    "nct['INTENSITY']"
   ]
  },
  {
   "cell_type": "code",
   "execution_count": null,
   "metadata": {},
   "outputs": [],
   "source": [
    "#nct['ADCP_CONFIG'].attrs['model_name']\n",
    "nct['ADCP_CONFIG'].attrs"
   ]
  },
  {
   "cell_type": "code",
   "execution_count": null,
   "metadata": {},
   "outputs": [],
   "source": [
    "nct['INTENSITY'].plot()"
   ]
  },
  {
   "cell_type": "markdown",
   "metadata": {},
   "source": [
    "# TESTING/OLD"
   ]
  },
  {
   "cell_type": "code",
   "execution_count": null,
   "metadata": {},
   "outputs": [],
   "source": [
    "#ncfile = dpath + 'JASADCP/ncfiles/01305_short.nc'\n",
    "#ncfile = dpath + 'JASADCP/ncfiles/00200_short.nc'\n",
    "ncfile = dpath + 'JASADCP/ncfiles/02000_short.nc'\n",
    "ncj = xr.open_dataset(ncfile)\n",
    "ncj.attrs['cruise_sonar_summary'].split('\\n')\n",
    "string = ncj.attrs['cruise_sonar_summary']\n",
    "\n",
    "# USE THIS ONE!!!\n",
    "# hardware_model, serial_numbers, transmit_frequency, phased_array,\n",
    "# cruise_beg_date, blanking_interval, bin_length, transducer_beam_angle,\n",
    "# transmit_pulse_length, ...C (from Mullison 2017 Table 2),\n",
    "# transmit_power (from Mullison 2017 Table 2)??\n",
    "hardware_model = re.findall(\"HARDWARE MODEL *: *((?:\\w+ )*\\w+)\", string)\n",
    "blanking_interval = re.findall(\"BLANKING INTERVAL *: *((?:\\w+ )*\\w+)\", string)\n",
    "phased_array = re.findall(\"(phased array)\", string, re.IGNORECASE)[0]\n",
    "cruise_beg_date = ncj.time[0]\n",
    "# \\w = [A-Za-z0-9]"
   ]
  },
  {
   "cell_type": "code",
   "execution_count": null,
   "metadata": {},
   "outputs": [],
   "source": [
    "print(df[df['phased_array']=='phased array']['hardware_model'].to_string())"
   ]
  },
  {
   "cell_type": "code",
   "execution_count": null,
   "metadata": {},
   "outputs": [],
   "source": [
    "fnames = []\n",
    "for fname in os.listdir(dpath + 'JASADCP/ncfiles/'):\n",
    "    if fname.endswith('.nc'):\n",
    "        fnames.append(fname)"
   ]
  },
  {
   "cell_type": "code",
   "execution_count": null,
   "metadata": {},
   "outputs": [],
   "source": [
    "fnames[2236]"
   ]
  },
  {
   "cell_type": "code",
   "execution_count": null,
   "metadata": {},
   "outputs": [],
   "source": [
    "[i for i,x in enumerate(hardware_model) if not x]"
   ]
  },
  {
   "cell_type": "code",
   "execution_count": null,
   "metadata": {},
   "outputs": [],
   "source": [
    "# hardware_model troubleshooting\n",
    "# 5, 10, 11\n",
    "# 00573_short.nc - NB 150 (VM-150-18HP)\n",
    "# 00139_short.nc - VM-150 \n",
    "# 01305_short.nc - RD-VM150 Narrow band \n",
    "# 43\n",
    "# 00726_short.nc - blank with name under MANUFACTURER "
   ]
  },
  {
   "cell_type": "code",
   "execution_count": null,
   "metadata": {},
   "outputs": [],
   "source": [
    "ncfile = dpath + 'JASADCP/ncfiles/01872_short.nc'\n",
    "ncj = xr.open_dataset(ncfile)\n",
    "ncj.attrs['cruise_sonar_summary'].split('\\n')"
   ]
  }
 ],
 "metadata": {
  "kernelspec": {
   "display_name": "Python 3",
   "language": "python",
   "name": "python3"
  },
  "language_info": {
   "codemirror_mode": {
    "name": "ipython",
    "version": 3
   },
   "file_extension": ".py",
   "mimetype": "text/x-python",
   "name": "python",
   "nbconvert_exporter": "python",
   "pygments_lexer": "ipython3",
   "version": "3.7.3"
  }
 },
 "nbformat": 4,
 "nbformat_minor": 4
}
