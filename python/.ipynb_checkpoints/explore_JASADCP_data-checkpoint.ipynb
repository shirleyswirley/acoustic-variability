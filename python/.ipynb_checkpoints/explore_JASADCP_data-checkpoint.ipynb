{
 "cells": [
  {
   "cell_type": "code",
   "execution_count": 2,
   "metadata": {},
   "outputs": [],
   "source": [
    "import matplotlib.pyplot as plt\n",
    "import numpy as np\n",
    "import os\n",
    "import pandas as pd\n",
    "import re\n",
    "import xarray as xr"
   ]
  },
  {
   "cell_type": "code",
   "execution_count": 3,
   "metadata": {},
   "outputs": [],
   "source": [
    "%run create_JASADCP_metadata_df.ipynb"
   ]
  },
  {
   "cell_type": "markdown",
   "metadata": {},
   "source": [
    "**All names to become 'VM-150'**:\\\n",
    "'VM-150', 'RD-VM150', 'VM150', 'RD-VM0150'\n",
    "\n",
    "**All names to become 'VM-300'**:\\\n",
    "'VM-300', 'RD-VM300'\n",
    "\n",
    "**All names to become 'UNCLEAR'**:\\\n",
    "'150' (1990-1998; assume RDI + VM + NB or BB),\n",
    "'RDI' (1985-1993; some give you transmit frequency, w/ those just assume VM + either NB or BB),\n",
    "'150 kHz hull mounted ADCP' (1991; assume RDI + VM + NB or BB),\n",
    "'Narrowband' (1994-1996; all 153.6kHz transmit frequency; assume RDI + VM + NB or BB),\n",
    "'150 kHz' (1994; assume RDI + VM + NB or BB),\n",
    "'153.6 kHz hull mounted ADCP' (2002; assume RDI + maybe OS?)"
   ]
  },
  {
   "cell_type": "code",
   "execution_count": 71,
   "metadata": {},
   "outputs": [
    {
     "data": {
      "text/plain": [
       "Timestamp('2016-05-22 02:58:13')"
      ]
     },
     "execution_count": 71,
     "metadata": {},
     "output_type": "execute_result"
    }
   ],
   "source": [
    "pd.set_option('max_rows', 1000)\n",
    "pd.set_option('display.max_colwidth', -1)\n",
    "#df[(df['instrument_name'].str.contains('VM-')) & (df['bandwidth']=='broadband')]['bandwidth'] # --> none\n",
    "#df[(df['instrument_name'].str.contains('VM-'))]\n",
    "#df[(df['instrument_name'].str.contains('Workhorse')) & (df['bandwidth']=='narrowband')] # --> 2\n",
    "#df[(df['hardware_model']=='150') & (df['bandwidth']=='broadband')]\n",
    "#df[(df['instrument_name'].str.contains('OS-'))]['cruise_beg_date'].min() # --> '2000-08-31 00:01:35'\n",
    "#df[(df['instrument_name'].str.contains('OS-'))]['cruise_beg_date'].max() # --> '2018-11-15 17:22:09'\n",
    "#df[(df['instrument_name'].str.contains('VM-'))]['cruise_beg_date'].min() # --> '1986-11-17 21:07:04'\n",
    "#df[(df['instrument_name'].str.contains('VM-'))]['cruise_beg_date'].max() # --> '2016-05-22 02:58:13'\n",
    "df[(df['hardware_model']=='153.6 kHz hull mounted ADCP')]\n",
    "# next look at the names vm-150 and vm-300; see if you can figure out diff btwn bb and nb"
   ]
  },
  {
   "cell_type": "markdown",
   "metadata": {},
   "source": [
    "# Calculate Sv for each ncfile"
   ]
  },
  {
   "cell_type": "markdown",
   "metadata": {},
   "source": [
    "#### Mean volume backscattering strength eqn (Mullison 2017):  \n",
    "$S_v = C + 10log((T_x + 273.16)*R^2) - L_{DBM} - P_{DBW} + 2 \\alpha R + 10log(10^{k_c(E-E_r)/10} - 1)$, where:  \n",
    "- C = constant combining several params specific to each instrument\n",
    "- $T_x$ = temperature measured at the transducer ($^{\\circ}$C)\n",
    "- R = along-beam range to the measurement, taken in the last quarter of the bin for Workhorse, Long Ranger, and Quartermaster, and at midpt of the bin for other instruments\n",
    "- $L_{DBM}$ = 10log(transmit pulse length, meters)\n",
    "- $P_{DBW}$ = 10log(transmit power, Watts)\n",
    "- $\\alpha$ = absorption coefficient of the water\n",
    "- $k_c$ = RSSI slope (dB/count)\n",
    "- $E_r$ = noise floor (counts)"
   ]
  },
  {
   "cell_type": "markdown",
   "metadata": {},
   "source": [
    "#### Mean volume backscattering strength eqn (fst-003):  \n",
    "$S_v = 10log(\\frac{4.47 \\times 10^{-20} K_2 K_S}{c}) + 10log((T_x + 273.16)*R^2) - 10log(P) - 10log(K_1) + 2 \\alpha R + 10log(10^{k_c(E-E_r)/10} - 1)$\n",
    "- $K_2$ = system noise factor (dimensionless)\n",
    "- $K_S$ = system constant, depends on NBADCP frequency\n",
    "- c = speed of sound at the scattering layer being measured\n",
    "- P = transmit pulse length\n",
    "- $K_1$ = real-time power into the water (Watts) \n",
    "- All others the same as Mullison 2017 eqn"
   ]
  },
  {
   "cell_type": "markdown",
   "metadata": {},
   "source": [
    "#### NBADCP-specific values and calculations (fst-003):"
   ]
  },
  {
   "cell_type": "markdown",
   "metadata": {},
   "source": [
    "$C$:  \n",
    "$C = 10log[\\frac{4.47 x 10^{-20} K_2 K_s}{c}]$"
   ]
  },
  {
   "cell_type": "markdown",
   "metadata": {},
   "source": [
    "$K_2$:"
   ]
  },
  {
   "cell_type": "code",
   "execution_count": 18,
   "metadata": {},
   "outputs": [
    {
     "data": {
      "text/html": [
       "<div>\n",
       "<style scoped>\n",
       "    .dataframe tbody tr th:only-of-type {\n",
       "        vertical-align: middle;\n",
       "    }\n",
       "\n",
       "    .dataframe tbody tr th {\n",
       "        vertical-align: top;\n",
       "    }\n",
       "\n",
       "    .dataframe thead th {\n",
       "        text-align: right;\n",
       "    }\n",
       "</style>\n",
       "<table border=\"1\" class=\"dataframe\">\n",
       "  <thead>\n",
       "    <tr style=\"text-align: right;\">\n",
       "      <th></th>\n",
       "      <th></th>\n",
       "      <th>K2</th>\n",
       "    </tr>\n",
       "    <tr>\n",
       "      <th>NBADCP Model</th>\n",
       "      <th>Frequency (kHz)</th>\n",
       "      <th></th>\n",
       "    </tr>\n",
       "  </thead>\n",
       "  <tbody>\n",
       "    <tr>\n",
       "      <td rowspan=\"5\" valign=\"top\">VM</td>\n",
       "      <td>75</td>\n",
       "      <td>2.5</td>\n",
       "    </tr>\n",
       "    <tr>\n",
       "      <td>150</td>\n",
       "      <td>4.3</td>\n",
       "    </tr>\n",
       "    <tr>\n",
       "      <td>300</td>\n",
       "      <td>4.5</td>\n",
       "    </tr>\n",
       "    <tr>\n",
       "      <td>600</td>\n",
       "      <td>9.1</td>\n",
       "    </tr>\n",
       "    <tr>\n",
       "      <td>1200</td>\n",
       "      <td>10.5</td>\n",
       "    </tr>\n",
       "    <tr>\n",
       "      <td rowspan=\"5\" valign=\"top\">DR</td>\n",
       "      <td>75</td>\n",
       "      <td>2.2</td>\n",
       "    </tr>\n",
       "    <tr>\n",
       "      <td>150</td>\n",
       "      <td>3.6</td>\n",
       "    </tr>\n",
       "    <tr>\n",
       "      <td>300</td>\n",
       "      <td>4.2</td>\n",
       "    </tr>\n",
       "    <tr>\n",
       "      <td>600</td>\n",
       "      <td>7.1</td>\n",
       "    </tr>\n",
       "    <tr>\n",
       "      <td>1200</td>\n",
       "      <td>8.1</td>\n",
       "    </tr>\n",
       "  </tbody>\n",
       "</table>\n",
       "</div>"
      ],
      "text/plain": [
       "                                K2\n",
       "NBADCP Model Frequency (kHz)      \n",
       "VM           75                2.5\n",
       "             150               4.3\n",
       "             300               4.5\n",
       "             600               9.1\n",
       "             1200             10.5\n",
       "DR           75                2.2\n",
       "             150               3.6\n",
       "             300               4.2\n",
       "             600               7.1\n",
       "             1200              8.1"
      ]
     },
     "execution_count": 18,
     "metadata": {},
     "output_type": "execute_result"
    }
   ],
   "source": [
    "# From fst-003, pg 6:\n",
    "arrays = [['VM', 'VM', 'VM', 'VM', 'VM', 'DR', 'DR', 'DR', 'DR', 'DR'],\n",
    "          [75, 150, 300, 600, 1200, 75, 150, 300, 600, 1200]]\n",
    "tuples = list(zip(*arrays))\n",
    "index = pd.MultiIndex.from_tuples(tuples, names = ['NBADCP Model', 'Frequency (kHz)'])\n",
    "K2_values = pd.DataFrame([2.5, 4.3, 4.5, 9.1, 10.5, 2.2, 3.6, 4.2, 7.1, 8.1],index=index,columns=['K2'])\n",
    "df_K2_values = pd.DataFrame(K2_values)\n",
    "df_K2_values"
   ]
  },
  {
   "cell_type": "markdown",
   "metadata": {},
   "source": [
    "$K_S$:"
   ]
  },
  {
   "cell_type": "code",
   "execution_count": 11,
   "metadata": {},
   "outputs": [
    {
     "data": {
      "text/html": [
       "<div>\n",
       "<style scoped>\n",
       "    .dataframe tbody tr th:only-of-type {\n",
       "        vertical-align: middle;\n",
       "    }\n",
       "\n",
       "    .dataframe tbody tr th {\n",
       "        vertical-align: top;\n",
       "    }\n",
       "\n",
       "    .dataframe thead th {\n",
       "        text-align: right;\n",
       "    }\n",
       "</style>\n",
       "<table border=\"1\" class=\"dataframe\">\n",
       "  <thead>\n",
       "    <tr style=\"text-align: right;\">\n",
       "      <th></th>\n",
       "      <th>NBADCP frequency (kHz)</th>\n",
       "      <th>Ks</th>\n",
       "    </tr>\n",
       "  </thead>\n",
       "  <tbody>\n",
       "    <tr>\n",
       "      <td>0</td>\n",
       "      <td>75</td>\n",
       "      <td>109000.0</td>\n",
       "    </tr>\n",
       "    <tr>\n",
       "      <td>1</td>\n",
       "      <td>150</td>\n",
       "      <td>417000.0</td>\n",
       "    </tr>\n",
       "    <tr>\n",
       "      <td>2</td>\n",
       "      <td>300</td>\n",
       "      <td>769000.0</td>\n",
       "    </tr>\n",
       "    <tr>\n",
       "      <td>3</td>\n",
       "      <td>600</td>\n",
       "      <td>1560000.0</td>\n",
       "    </tr>\n",
       "    <tr>\n",
       "      <td>4</td>\n",
       "      <td>1200</td>\n",
       "      <td>5650000.0</td>\n",
       "    </tr>\n",
       "  </tbody>\n",
       "</table>\n",
       "</div>"
      ],
      "text/plain": [
       "   NBADCP frequency (kHz)         Ks\n",
       "0                      75   109000.0\n",
       "1                     150   417000.0\n",
       "2                     300   769000.0\n",
       "3                     600  1560000.0\n",
       "4                    1200  5650000.0"
      ]
     },
     "execution_count": 11,
     "metadata": {},
     "output_type": "execute_result"
    }
   ],
   "source": [
    "# From fst-003, pg 10:\n",
    "Ks_values = {\n",
    "    'NBADCP frequency (kHz)' : [75, 150, 300, 600, 1200],\n",
    "    'Ks' : [1.09E5, 4.17E5, 7.69E5, 1.56E6, 5.65E6]\n",
    "}\n",
    "df_Ks_values = pd.DataFrame(Ks_values)\n",
    "df_Ks_values"
   ]
  },
  {
   "cell_type": "markdown",
   "metadata": {},
   "source": [
    "$K_1$:"
   ]
  },
  {
   "cell_type": "markdown",
   "metadata": {},
   "source": [
    "$K_1 = [\\frac{(V_s \\times a)-b}{c}]^2 \\times K_{1c}$"
   ]
  },
  {
   "cell_type": "markdown",
   "metadata": {},
   "source": [
    "$K_{1c}$:"
   ]
  },
  {
   "cell_type": "code",
   "execution_count": 11,
   "metadata": {},
   "outputs": [
    {
     "data": {
      "text/html": [
       "<div>\n",
       "<style scoped>\n",
       "    .dataframe tbody tr th:only-of-type {\n",
       "        vertical-align: middle;\n",
       "    }\n",
       "\n",
       "    .dataframe tbody tr th {\n",
       "        vertical-align: top;\n",
       "    }\n",
       "\n",
       "    .dataframe thead th {\n",
       "        text-align: right;\n",
       "    }\n",
       "</style>\n",
       "<table border=\"1\" class=\"dataframe\">\n",
       "  <thead>\n",
       "    <tr style=\"text-align: right;\">\n",
       "      <th></th>\n",
       "      <th>NBADCP frequency (kHz)</th>\n",
       "      <th>Ks</th>\n",
       "    </tr>\n",
       "  </thead>\n",
       "  <tbody>\n",
       "    <tr>\n",
       "      <td>0</td>\n",
       "      <td>75</td>\n",
       "      <td>109000.0</td>\n",
       "    </tr>\n",
       "    <tr>\n",
       "      <td>1</td>\n",
       "      <td>150</td>\n",
       "      <td>417000.0</td>\n",
       "    </tr>\n",
       "    <tr>\n",
       "      <td>2</td>\n",
       "      <td>300</td>\n",
       "      <td>769000.0</td>\n",
       "    </tr>\n",
       "    <tr>\n",
       "      <td>3</td>\n",
       "      <td>600</td>\n",
       "      <td>1560000.0</td>\n",
       "    </tr>\n",
       "    <tr>\n",
       "      <td>4</td>\n",
       "      <td>1200</td>\n",
       "      <td>5650000.0</td>\n",
       "    </tr>\n",
       "  </tbody>\n",
       "</table>\n",
       "</div>"
      ],
      "text/plain": [
       "   NBADCP frequency (kHz)         Ks\n",
       "0                      75   109000.0\n",
       "1                     150   417000.0\n",
       "2                     300   769000.0\n",
       "3                     600  1560000.0\n",
       "4                    1200  5650000.0"
      ]
     },
     "execution_count": 11,
     "metadata": {},
     "output_type": "execute_result"
    }
   ],
   "source": [
    "# From fst-003, pg 10:\n",
    "Ks_values = {\n",
    "    'NBADCP frequency (kHz)' : [75, 150, 300, 600, 1200],\n",
    "    'Ks' : [1.09E5, 4.17E5, 7.69E5, 1.56E6, 5.65E6]\n",
    "}\n",
    "df_Ks_values = pd.DataFrame(Ks_values)\n",
    "df_Ks_values"
   ]
  },
  {
   "cell_type": "markdown",
   "metadata": {},
   "source": [
    "$R$:"
   ]
  },
  {
   "cell_type": "markdown",
   "metadata": {},
   "source": [
    "$R = \\frac{B + |(P-D)/2| + (N \\times D) + (D/4)}{cos(\\theta)} \\times \\frac{c'}{1475.1}$"
   ]
  },
  {
   "cell_type": "markdown",
   "metadata": {},
   "source": [
    "$K_c$:"
   ]
  },
  {
   "cell_type": "markdown",
   "metadata": {},
   "source": [
    "For E < 200 counts, $K_c = \\frac{127.3}{T_e+271}$  \n",
    "If E is 200-230 counts, calibration of $K_c$ must be done at RDI. If E > 230 counts, $K_c$ can't be calibrated.  \n",
    "$T_e$ = \"temperature of system electronics - $T_e$ is used to calculate $K_c$ and $E_r$. $E_r$...is particularly sensitive to changes in $T_e$, so it is crucial to obtain an accurate record of $T_e$.\"  \n",
    "\"For DR-NBADCPs in which both system electronics and transducer assembly are immersed, $T_x$ can be substituted for $T_e$.\"  \n",
    "\"The ambient temp for the sm electronics will generally differ from the temp recorded at the transducer. Therefore, you must independently measure and record the temperature of the system electronics.\""
   ]
  },
  {
   "cell_type": "markdown",
   "metadata": {},
   "source": [
    "$E_r$:"
   ]
  },
  {
   "cell_type": "markdown",
   "metadata": {},
   "source": []
  },
  {
   "cell_type": "markdown",
   "metadata": {},
   "source": [
    "#### For each ncfile, save the following variables along with Sv:\n",
    "- Tx (temp at transducer, dims = time, units = degC)\n",
    "- R (range, NBADCP samples in the last quarter of each depth cell/OS at midpt, dims = depth, units = m)\n",
    "- Kc (RSSI slope, constant, units = dB/count)\n",
    "- E (RSSI, dims = depth x time, units = counts)\n",
    "- Er (noise floor, constant, units = counts) \n",
    "- P (transmit pulse length, 10log(P) = LDBM, constant, units = m)\n",
    "- K1 (assumed or measured transmit power, 10log(K1) = PDBW, dims = time, units = Watts)\n",
    "- alpha (attenuation coefficient)\n",
    "- c (speed of sound, dims = depth x time, units = m/s)\n",
    "- theta (angle of the transducer beams to vertical, constant, units = degrees)\n",
    "- D (depth cell length, constant, units = m)\n",
    "- Ks (if applicable - only for NBADCP?)\n",
    "- K2 (if applicable - only for NBADCP?)\n",
    "- K1c (if applicable - only for NBADCP?)\n",
    "- B (blank beyond transmit, if applicable - only for NBADCP?, constant, units = m)\n",
    "\n",
    "Metadata should include:\n",
    "- Instrument type\n",
    "- Instrument SN\n",
    "- Transmit frequency"
   ]
  },
  {
   "cell_type": "markdown",
   "metadata": {},
   "source": [
    "### Narrow df down to Pacific region, OS instruments for now"
   ]
  },
  {
   "cell_type": "code",
   "execution_count": 5,
   "metadata": {},
   "outputs": [
    {
     "name": "stdout",
     "output_type": "stream",
     "text": [
      "33\n",
      "2254\n",
      "2221\n",
      "1274\n",
      "611\n"
     ]
    }
   ],
   "source": [
    "print(df['geo_region'].isnull().sum())\n",
    "print(len(df))\n",
    "dfnow = df.dropna(subset=['geo_region'])\n",
    "print(len(dfnow))\n",
    "dfnow = dfnow[dfnow['geo_region'].str.contains('acific')]\n",
    "print(len(dfnow))\n",
    "dfnow = dfnow[dfnow['instrument_name'].str.contains('OS')]\n",
    "print(len(dfnow))\n",
    "dfnow = dfnow[(dfnow['instrument_name']!='OS-II-38')&(dfnow['instrument_name']!='OS-II-75')] "
   ]
  },
  {
   "cell_type": "markdown",
   "metadata": {},
   "source": [
    "## Load table of C, PDBW values"
   ]
  },
  {
   "cell_type": "code",
   "execution_count": null,
   "metadata": {},
   "outputs": [],
   "source": [
    "cpdbw = pd.read_csv(dpath + 'typical_system_characteristics_table2_mullison2017.csv')"
   ]
  },
  {
   "cell_type": "code",
   "execution_count": 9,
   "metadata": {},
   "outputs": [
    {
     "data": {
      "text/html": [
       "<div>\n",
       "<style scoped>\n",
       "    .dataframe tbody tr th:only-of-type {\n",
       "        vertical-align: middle;\n",
       "    }\n",
       "\n",
       "    .dataframe tbody tr th {\n",
       "        vertical-align: top;\n",
       "    }\n",
       "\n",
       "    .dataframe thead th {\n",
       "        text-align: right;\n",
       "    }\n",
       "</style>\n",
       "<table border=\"1\" class=\"dataframe\">\n",
       "  <thead>\n",
       "    <tr style=\"text-align: right;\">\n",
       "      <th></th>\n",
       "      <th>Instrument</th>\n",
       "      <th>C (25%) (dB)</th>\n",
       "      <th>C (6%) (dB)</th>\n",
       "      <th>P_DBW Battery (dB)</th>\n",
       "      <th>P_DBW Power Supply (dB)</th>\n",
       "      <th>Rayleigh Distance (m)</th>\n",
       "    </tr>\n",
       "  </thead>\n",
       "  <tbody>\n",
       "    <tr>\n",
       "      <td>0</td>\n",
       "      <td>ChannelMaster 300</td>\n",
       "      <td>-143.44</td>\n",
       "      <td>-152.26</td>\n",
       "      <td>NaN</td>\n",
       "      <td>15.1</td>\n",
       "      <td>2.69</td>\n",
       "    </tr>\n",
       "    <tr>\n",
       "      <td>1</td>\n",
       "      <td>ChannelMaster 600</td>\n",
       "      <td>-139.08</td>\n",
       "      <td>-147.28</td>\n",
       "      <td>NaN</td>\n",
       "      <td>12.0</td>\n",
       "      <td>2.96</td>\n",
       "    </tr>\n",
       "    <tr>\n",
       "      <td>2</td>\n",
       "      <td>ChannelMaster 1200</td>\n",
       "      <td>-127.13</td>\n",
       "      <td>-137.17</td>\n",
       "      <td>NaN</td>\n",
       "      <td>9.0</td>\n",
       "      <td>1.71</td>\n",
       "    </tr>\n",
       "    <tr>\n",
       "      <td>3</td>\n",
       "      <td>Explorer Phased Array</td>\n",
       "      <td>NaN</td>\n",
       "      <td>-139.14</td>\n",
       "      <td>NaN</td>\n",
       "      <td>9.0</td>\n",
       "      <td>1.67</td>\n",
       "    </tr>\n",
       "    <tr>\n",
       "      <td>4</td>\n",
       "      <td>Explorer Piston</td>\n",
       "      <td>-132.73</td>\n",
       "      <td>-140.95</td>\n",
       "      <td>NaN</td>\n",
       "      <td>3.0</td>\n",
       "      <td>1.35</td>\n",
       "    </tr>\n",
       "  </tbody>\n",
       "</table>\n",
       "</div>"
      ],
      "text/plain": [
       "              Instrument  C (25%) (dB)  C (6%) (dB)  P_DBW Battery (dB)  \\\n",
       "0      ChannelMaster 300       -143.44      -152.26                 NaN   \n",
       "1      ChannelMaster 600       -139.08      -147.28                 NaN   \n",
       "2     ChannelMaster 1200       -127.13      -137.17                 NaN   \n",
       "3  Explorer Phased Array           NaN      -139.14                 NaN   \n",
       "4        Explorer Piston       -132.73      -140.95                 NaN   \n",
       "\n",
       "   P_DBW Power Supply (dB)  Rayleigh Distance (m)  \n",
       "0                     15.1                   2.69  \n",
       "1                     12.0                   2.96  \n",
       "2                      9.0                   1.71  \n",
       "3                      9.0                   1.67  \n",
       "4                      3.0                   1.35  "
      ]
     },
     "execution_count": 9,
     "metadata": {},
     "output_type": "execute_result"
    }
   ],
   "source": [
    "cpdbw.head()"
   ]
  },
  {
   "cell_type": "markdown",
   "metadata": {},
   "source": [
    "## Load table of kc, Er values"
   ]
  },
  {
   "cell_type": "markdown",
   "metadata": {},
   "source": [
    "#### Nominal Kc values from TRDI field service email:\n",
    "BBADCP: 0.45 dB/count  \n",
    "WHADCP: 0.42 dB/count  \n",
    "OS-II-75, SN1508: 0.373 (beam 1), 0.386 (beam 2), 0.388 (beam 3), 0.384 (beam 4) = 0.38275 (avg)  \n",
    "OS-II-75, SN10656: 0.398 (beam 1), 0.389 (beam 2), 0.3988 (beam 3), 0.395 (beam 4) = 0.395 (avg)  \n",
    "#### Nominal Kc values from Jerry Mullison email:\n",
    "Format: min-max, avg, stdev  \n",
    "OS150: 0.41-0.44, 0.42, 0.012   \n",
    "OS75: 0.36-0.42, 0.39, 0.019  \n",
    "OS38: 0.36-0.37, 0.37, 0.004  "
   ]
  },
  {
   "cell_type": "markdown",
   "metadata": {},
   "source": [
    "#### Nominal Er values from Jerry Mullison email:\n",
    "Format: min-max, avg, stdev  \n",
    "OS150: 18-28, 22, 2.08  \n",
    "OS75: 11-25, 19, 2.93  \n",
    "OS38: 5-33, 14, 4.83  "
   ]
  },
  {
   "cell_type": "markdown",
   "metadata": {},
   "source": [
    "#### Further questions:\n",
    "- Are the Kc and Er values in Jerry Mullison's email from phase II or phase I OS?\n",
    "- Where does the speed of sound c in the denominator go comparing 1998 TRDI field service note vs. Mullison 2017? What c should I use for the denominator, 1478.1 m/s like for calculating the depth cells in 1998 TRDI field service note??\n",
    "- So I can just use the lowest measured E per cruise to define Er? Some papers do this, cite them. Or if I know that all cruises used the same ADCP, I could find the lowest measured E out of all of those cruises. (Er should be constant for a given ADCP according to Mullison 2017.)\n",
    "- What year did TRDI switch from OS to OS-II?\n",
    "- What years were all these instruments available?"
   ]
  },
  {
   "cell_type": "code",
   "execution_count": 10,
   "metadata": {},
   "outputs": [
    {
     "name": "stdout",
     "output_type": "stream",
     "text": [
      "0.38275000000000003\n",
      "0.395\n"
     ]
    }
   ],
   "source": [
    "# - Calc avg Kc for OS-II w/ SNs\n",
    "print(np.mean([0.373, 0.386, 0.388, 0.384]))\n",
    "print(np.mean([0.398, 0.389, 0.398, 0.395]))"
   ]
  },
  {
   "cell_type": "markdown",
   "metadata": {},
   "source": [
    "## Load WOD data (T,S)"
   ]
  },
  {
   "cell_type": "markdown",
   "metadata": {},
   "source": [
    "## Compute Sv"
   ]
  },
  {
   "cell_type": "code",
   "execution_count": null,
   "metadata": {},
   "outputs": [],
   "source": []
  },
  {
   "cell_type": "code",
   "execution_count": 20,
   "metadata": {},
   "outputs": [
    {
     "data": {
      "text/plain": [
       "fname                                                       00804_short.nc\n",
       "hardware_model                                           Ocean Surveyer 75\n",
       "instrument_name                                                      OS-75\n",
       "serial_numbers                                                        None\n",
       "transmit_frequency                                                    None\n",
       "phased_array                                                          None\n",
       "cruise_beg_date                                        2004-06-15 06:33:10\n",
       "blanking_interval                                                       8m\n",
       "bin_length                                                              8m\n",
       "transducer_beam_angle                                                 None\n",
       "transmit_pulse_length                                                   8m\n",
       "comments                 narrowband mode///mounted with the ADCP pointi...\n",
       "biomass_dtmn                                                            no\n",
       "geo_region                       Northwest and North Central Pacific Ocean\n",
       "bandwidth                                                       narrowband\n",
       "Name: 754, dtype: object"
      ]
     },
     "execution_count": 20,
     "metadata": {},
     "output_type": "execute_result"
    }
   ],
   "source": [
    "dfnow.iloc[0]"
   ]
  },
  {
   "cell_type": "markdown",
   "metadata": {},
   "source": [
    "Mean volume backscattering strength:  \n",
    "$S_v = C + 10log((T_x + 273.16)*R^2) - L_{DBM} - P_{DBW} + 2 \\alpha R + 10log(10^{k_c(E-E_r)/10} - 1)$"
   ]
  },
  {
   "cell_type": "code",
   "execution_count": null,
   "metadata": {},
   "outputs": [],
   "source": [
    "ncfile = dpath + 'JASADCP/ncfiles/00001_short.nc'\n",
    "nc = xr.open_dataset(ncfile)"
   ]
  },
  {
   "cell_type": "code",
   "execution_count": null,
   "metadata": {},
   "outputs": [],
   "source": [
    "cols = df.columns.values"
   ]
  },
  {
   "cell_type": "code",
   "execution_count": null,
   "metadata": {},
   "outputs": [],
   "source": [
    "cols[0:-1]"
   ]
  },
  {
   "cell_type": "code",
   "execution_count": null,
   "metadata": {},
   "outputs": [],
   "source": [
    "nc"
   ]
  },
  {
   "cell_type": "code",
   "execution_count": null,
   "metadata": {},
   "outputs": [],
   "source": [
    "nc['depth']"
   ]
  },
  {
   "cell_type": "code",
   "execution_count": null,
   "metadata": {},
   "outputs": [],
   "source": [
    "nc['amp']"
   ]
  },
  {
   "cell_type": "code",
   "execution_count": null,
   "metadata": {},
   "outputs": [],
   "source": [
    "nc['amp'].plot()"
   ]
  },
  {
   "cell_type": "code",
   "execution_count": null,
   "metadata": {},
   "outputs": [],
   "source": [
    "nc['depth'].values"
   ]
  },
  {
   "cell_type": "code",
   "execution_count": null,
   "metadata": {},
   "outputs": [],
   "source": []
  },
  {
   "cell_type": "code",
   "execution_count": null,
   "metadata": {},
   "outputs": [],
   "source": [
    "#nct['ADCP_CONFIG'].attrs['model_name']\n",
    "nct['ADCP_CONFIG'].attrs"
   ]
  },
  {
   "cell_type": "code",
   "execution_count": null,
   "metadata": {},
   "outputs": [],
   "source": []
  },
  {
   "cell_type": "code",
   "execution_count": null,
   "metadata": {},
   "outputs": [],
   "source": []
  },
  {
   "cell_type": "markdown",
   "metadata": {},
   "source": [
    "# TESTING/OLD"
   ]
  },
  {
   "cell_type": "code",
   "execution_count": null,
   "metadata": {},
   "outputs": [],
   "source": [
    "fnames = sorted(os.listdir(dpath + 'JASADCP/ncfiles'))"
   ]
  },
  {
   "cell_type": "code",
   "execution_count": null,
   "metadata": {},
   "outputs": [],
   "source": [
    "nc_counter = len(fnames)\n",
    "geo_region = [None]*nc_counter"
   ]
  },
  {
   "cell_type": "code",
   "execution_count": null,
   "metadata": {},
   "outputs": [],
   "source": [
    "ifile = 0\n",
    "for fname in fnames:\n",
    "    ncfile = dpath + 'JASADCP/ncfiles/' + fname\n",
    "    ncnow = xr.open_dataset(ncfile)\n",
    "    strnow = ncnow.attrs['cruise_sonar_summary']\n",
    "    geo_regionnow = re.findall(\"GEOGRAPHIC_REGION *: *((?:\\S+ )*\\S+)\", strnow)\n",
    "    if geo_regionnow:\n",
    "        geo_region[ifile] = geo_regionnow[0]\n",
    "    ifile = ifile+1"
   ]
  },
  {
   "cell_type": "code",
   "execution_count": null,
   "metadata": {},
   "outputs": [],
   "source": [
    "df = pd.concat(\n",
    "    [pd.Series(fnames,name='fname'), pd.Series(geo_region,name='geo_region')],\n",
    "    axis=1)"
   ]
  }
 ],
 "metadata": {
  "kernelspec": {
   "display_name": "Python 3",
   "language": "python",
   "name": "python3"
  },
  "language_info": {
   "codemirror_mode": {
    "name": "ipython",
    "version": 3
   },
   "file_extension": ".py",
   "mimetype": "text/x-python",
   "name": "python",
   "nbconvert_exporter": "python",
   "pygments_lexer": "ipython3",
   "version": "3.7.3"
  }
 },
 "nbformat": 4,
 "nbformat_minor": 4
}
