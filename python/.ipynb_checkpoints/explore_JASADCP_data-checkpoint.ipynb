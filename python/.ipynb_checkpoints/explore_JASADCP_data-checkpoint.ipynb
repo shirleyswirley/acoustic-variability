{
 "cells": [
  {
   "cell_type": "code",
   "execution_count": 133,
   "metadata": {},
   "outputs": [
    {
     "name": "stdout",
     "output_type": "stream",
     "text": [
      "# of files w/o bandwidth: 57\n",
      "NB-VM-150         1088\n",
      "OS-38              519\n",
      "OS-75              363\n",
      "WH-300             188\n",
      "OS-150              26\n",
      "NB-VM-300           25\n",
      "NB-VM-75            14\n",
      "BB-VM-150           13\n",
      "OS-II-38             6\n",
      "WH-Mariner-300       3\n",
      "NB-DR-150            3\n",
      "WH-Mariner-600       1\n",
      "OS-II-75             1\n",
      "DCP4400A             1\n",
      "WH-1200              1\n",
      "Name: instrument_name, dtype: int64\n"
     ]
    }
   ],
   "source": [
    "%run setup_Sv_compute.ipynb"
   ]
  },
  {
   "cell_type": "code",
   "execution_count": 137,
   "metadata": {},
   "outputs": [],
   "source": [
    "def calc_c_tdresolved(z,T=25,S=35):\n",
    "# returns time-depth resolved c, sound speed in m/s\n",
    "# TO DO: z is time-depth resolved, but make T and S that way also\n",
    "    c = 1448.96 + 4.591*T - 0.05304*T**2 + (2.374*10**-4)*T**3 \\\n",
    "        + 1.34*(S-35) + 0.0163*z + (1.675*10**-7)*z**2 - 0.01025*T*(S-35) \\\n",
    "        - (7.139*10**-13)*T*z**3\n",
    "    return c\n",
    "\n",
    "def calc_alpha_tdresolved(row,z,c=1475.1,T=25,S=35,pH=8.1):\n",
    "# returns time-depth alpha, absorption coefficient in dB/m\n",
    "# TO DO: z is time-depth resolved, but make T and S that way also\n",
    "    A1 = (8.86/c)*10**(0.78*pH-5)\n",
    "    f1 = 2.8*(S/35)**0.5 * 10**(4-1245/(T+273))\n",
    "    P1 = 1\n",
    "    A2 = 21.44*S/c*(1+0.025*T)\n",
    "    P2 = 1 - (1.37*10**-4)*z + (6.2*10**-9)*z**2\n",
    "    f2 = 8.17*10**(8-1990/(T+273)) / (1 + 0.0018*(S-35))\n",
    "    P3 = 1 - (3.83*10**-5)*z + (4.9*10**-10)*z**2\n",
    "    if (len(T)==1) & (T<=20):\n",
    "        A3 = 4.937*10**-4 - (2.59*10**-5)*T + (9.11*10**-7)*T**2 - (1.5*10**-8)*T**3\n",
    "    elif (len(T)==1) & (T>20):\n",
    "        A3 = 3.964*10**-4 - (1.146*10**-5)*T + (1.45*10**-7)*T**2 - (6.5*10**-10)*T**3\n",
    "    #elif # where T>20, set A3 = ...; etc.\n",
    "    #    A3 = np.nan*T\n",
    "    f = row['freq_round_kHz']\n",
    "    alpha = A1*P1*f1*f**2 / (f**2 + f1**2) \\\n",
    "            + A2*P2*f2*f**2 / (f**2 + f2**2) \\\n",
    "            + A3*P3*f**2\n",
    "    return alpha"
   ]
  },
  {
   "cell_type": "code",
   "execution_count": 224,
   "metadata": {},
   "outputs": [],
   "source": [
    "def get_C_constant(row):\n",
    "# returns constant C in dB\n",
    "    if row['bandwidth']=='narrowband':\n",
    "        Cnow = 'C_6%'\n",
    "    elif row['bandwidth']=='broadband':\n",
    "        Cnow = 'C_25%'\n",
    "        \n",
    "    if 'OS' in row['instrument_name']:\n",
    "        values_tablenow = OS_C_PDBW_Kc_Er_values\n",
    "        if 'OS-II' in row['instrument_name']:\n",
    "            instrument_prefixnow = 'OS-II'\n",
    "        else:\n",
    "            instrument_prefixnow = 'OS'\n",
    "    elif 'WH' in row['instrument_name']:\n",
    "        values_tablenow = WH_C_PDBW_Kc_Er_values\n",
    "        if 'WH-Mariner' in row['instrument_name']:\n",
    "            instrument_prefixnow = 'WH-Mariner'\n",
    "        else:\n",
    "            instrument_prefixnow = 'WH'\n",
    "    elif 'BB' in row['instrument_name']:\n",
    "        values_tablenow = BB_C_PDBW_Kc_Er_values\n",
    "        instrument_prefixnow = 'BB-VM'\n",
    "        \n",
    "    return values_tablenow[\n",
    "        (values_tablenow['instrument_prefix']==instrument_prefixnow)\n",
    "        & (values_tablenow['freq_round_kHz']==row['freq_round_kHz'])\n",
    "        ][Cnow]\n",
    "    \n",
    "def get_C_tdresolved(row,c):\n",
    "# returns time-depth resolved C in dB\n",
    "    if 'NB' in row['instrument_name']:\n",
    "        if 'NB-VM' in row['instrument_name']:\n",
    "            instrument_prefixnow = 'NB-VM'\n",
    "        elif 'NB-DR' in row['instrument_name']:\n",
    "            instrument_prefixnow = 'NB-DR'\n",
    "        K2 = NB_K2_values[(NB_K2_values['instrument_prefix']==instrument_prefixnow)\n",
    "                          & (NB_K2_values['freq_round_kHz']==row['freq_round_kHz'])\n",
    "                         ]['K2']\n",
    "        Ks = NB_Ks_values[(NB_Ks_values['freq_round_kHz']==row['freq_round_kHz'])\n",
    "                         ]['Ks']\n",
    "        C = 10*np.log10(4.47*10^(-20)*K2*Ks/c)\n",
    "        return C"
   ]
  },
  {
   "cell_type": "code",
   "execution_count": 139,
   "metadata": {},
   "outputs": [],
   "source": [
    "def get_R_tdresolved(row, depth, method_num=5, c_wtavg=1475.1): # m\n",
    "# returns time-depth resolved R in m\n",
    "    if method_num==4:\n",
    "        return depth\n",
    "    if method_num==5:\n",
    "        return depth/np.cos(row['theta']*np.pi/180)\n",
    "    if method_num==6:\n",
    "        # c_wtavg can be time-depth resolved, just like depth\n",
    "        return depth/np.cos(row['theta']*np.pi/180)*c_wtavg/1475.1"
   ]
  },
  {
   "cell_type": "code",
   "execution_count": 140,
   "metadata": {},
   "outputs": [],
   "source": [
    "def get_LDBM_constant(row): \n",
    "# returns constant LDBM in dB \n",
    "# TO DO: eventually write a tdresolved version of this fxn\n",
    "    return np.log10(row['tpl'])"
   ]
  },
  {
   "cell_type": "code",
   "execution_count": 207,
   "metadata": {},
   "outputs": [],
   "source": [
    "def get_PDBW_constant(row): \n",
    "# returns constant PDBW in dB \n",
    "# assumes power supply rather than battery\n",
    "# assumes 220V voltage supply level for NB-VM and NB-DR --> NO REASON FOR THIS!\n",
    "# TO DO: maybe eventually write a tdresolved version of this fxn\n",
    "    if 'NB' not in row['instrument_name']:\n",
    "        #if row['power_type']=='battery':\n",
    "        #    PDBWnow = 'PDBW_battery'\n",
    "        #elif row['power_type']=='power-supply':\n",
    "        #    PDBWnow = 'PDBW_power_supply'\n",
    "        PDBWnow = 'PDBW_power_supply' \n",
    "        if 'OS' in row['instrument_name']:\n",
    "            values_tablenow = OS_C_PDBW_Kc_Er_values\n",
    "            if 'OS-II' in row['instrument_name']:\n",
    "                instrument_prefixnow = 'OS-II'\n",
    "            else:\n",
    "                instrument_prefixnow = 'OS'\n",
    "        elif 'WH' in row['instrument_name']:\n",
    "            values_tablenow = WH_C_PDBW_Kc_Er_values\n",
    "            if 'WH-Mariner' in row['instrument_name']:\n",
    "                instrument_prefixnow = 'WH-Mariner'\n",
    "            else:\n",
    "                instrument_prefixnow = 'WH'\n",
    "        elif 'BB' in row['instrument_name']:\n",
    "            values_tablenow = BB_C_PDBW_Kc_Er_values\n",
    "            instrument_prefixnow = 'BB-VM'\n",
    "        return values_tablenow[\n",
    "            (values_tablenow['instrument_prefix']==instrument_prefixnow)\n",
    "            & (values_tablenow['freq_round_kHz']==row['freq_round_kHz'])\n",
    "            ][PDBWnow]\n",
    "\n",
    "    elif 'NB' in row['instrument_name']:\n",
    "        # - Check diff btwn assuming 110V and 220V voltage supply level\n",
    "        # w/ NB-VM instrument, 150kHz freq\n",
    "        # K1_110 = np.log10(((((110*1.397)-4.27)/37.14)**2)*3.3) \n",
    "        # K1_220 = np.log10(((((220*0.699)-4.27)/37.14)**2)*3.3)\n",
    "        # print(K1_220-K1_110)\n",
    "        # # --> 0.0006 = miniscule difference\n",
    "\n",
    "        #voltage_now = row['voltage']\n",
    "        voltage_now = 220\n",
    "        if 'NB-VM' in row['instrument_name']:\n",
    "            instrument_prefixnow = 'NB-VM-' + str(voltage_now)\n",
    "        elif 'NB-DR' in row['instrument_name']:\n",
    "            instrument_prefixnow = 'NB-DR'\n",
    "        K1c = NB_K1c_values[\n",
    "            (NB_K1c_values['instrument_prefix']==instrument_prefixnow)\n",
    "            & (NB_K1c_values['freq_round_kHz']==row['freq_round_kHz'])\n",
    "            ]['K1c']\n",
    "        a = NB_abc_values[\n",
    "            (NB_abc_values['instrument_prefix_voltage']==instrument_prefixnow)\n",
    "            ]['a']\n",
    "        b = NB_abc_values[\n",
    "            (NB_abc_values['instrument_prefix_voltage']==instrument_prefixnow)\n",
    "            ]['b']\n",
    "        c = NB_abc_values[\n",
    "            (NB_abc_values['instrument_prefix_voltage']==instrument_prefixnow)\n",
    "            ]['c']\n",
    "        K1 = (((voltage_now * a) - b)/c)**2 * K1c\n",
    "        return np.log10(K1) "
   ]
  },
  {
   "cell_type": "code",
   "execution_count": 156,
   "metadata": {},
   "outputs": [
    {
     "ename": "SyntaxError",
     "evalue": "unexpected EOF while parsing (<ipython-input-156-6086825204b2>, line 5)",
     "output_type": "error",
     "traceback": [
      "\u001b[0;36m  File \u001b[0;32m\"<ipython-input-156-6086825204b2>\"\u001b[0;36m, line \u001b[0;32m5\u001b[0m\n\u001b[0;31m    # alpha*R = add alpha*dR down to each appropriate depth\u001b[0m\n\u001b[0m                                                           ^\u001b[0m\n\u001b[0;31mSyntaxError\u001b[0m\u001b[0;31m:\u001b[0m unexpected EOF while parsing\n"
     ]
    }
   ],
   "source": [
    "def calc_alphaR_tdresolved(alpha,R):\n",
    "# returns time-depth resolved alpha*R in dB\n",
    "    # compute dR = [R[0], R[1]-R[0], R[2]-R[1], ...]\n",
    "    # multiply alpha*dR\n",
    "    # alpha*R = add alpha*dR down to each appropriate depth"
   ]
  },
  {
   "cell_type": "code",
   "execution_count": 189,
   "metadata": {},
   "outputs": [],
   "source": [
    "def get_Kc_constant(row):\n",
    "# returns constant Kc in dB/count\n",
    "    if 'OS' in row['instrument_name']:\n",
    "        values_tablenow = OS_C_PDBW_Kc_Er_values\n",
    "        if 'OS-II' in row['instrument_name']:\n",
    "            instrument_prefixnow = 'OS-II'\n",
    "        else:\n",
    "            instrument_prefixnow = 'OS'\n",
    "    elif 'WH' in row['instrument_name']:\n",
    "        values_tablenow = WH_C_PDBW_Kc_Er_values\n",
    "        if 'WH-Mariner' in row['instrument_name']:\n",
    "            instrument_prefixnow = 'WH-Mariner'\n",
    "        else:\n",
    "            instrument_prefixnow = 'WH'\n",
    "    elif 'BB' in row['instrument_name']:\n",
    "        values_tablenow = BB_C_PDBW_Kc_Er_values\n",
    "        instrument_prefixnow = 'BB-VM'\n",
    "    return values_tablenow[\n",
    "        (values_tablenow['instrument_prefix']==instrument_prefixnow)\n",
    "        & (values_tablenow['freq_round_kHz']==row['freq_round_kHz'])\n",
    "        ]['Kc_mean']\n",
    "\n",
    "def get_Kc_tdresolved(row,amp,Tx):\n",
    "# returns time-depth resolved Kc in dB/count\n",
    "# this assumes that Tx = temp of transducer = Te = temp of system electronics\n",
    "    if 'NB' in row['instrument_name']:\n",
    "        if amp < 200:\n",
    "            Kcnow = 127.3/(Tx+271)\n",
    "        else:\n",
    "            Kcnow = None\n",
    "        return Kcnow"
   ]
  },
  {
   "cell_type": "code",
   "execution_count": 146,
   "metadata": {},
   "outputs": [],
   "source": [
    "def get_Er_constant(row,amp):\n",
    "# returns constant Er in counts\n",
    "    return amp.min()"
   ]
  },
  {
   "cell_type": "markdown",
   "metadata": {},
   "source": [
    "$S_v = \\color{red}{C} + \\color{blue}{10log((T_x + 273.16)*R^2)} - \\color{orange}{L_{DBM}} - \\color{green}{P_{DBW}} + \\color{purple}{2 \\alpha R} + 10log(10^{k_c(E-E_r)/10} - 1)$  \n",
    "$S_v = \\color{red}{10log(\\frac{4.47 \\times 10^{-20} K_2 K_S}{c})} + \\color{blue}{10log((T_x + 273.16)*R^2)} - \\color{orange}{10log(P)} - \\color{green}{10log(K_1)} + \\color{purple}{2 \\alpha R} + 10log(10^{k_c(E-E_r)/10} - 1)$"
   ]
  },
  {
   "cell_type": "markdown",
   "metadata": {},
   "source": [
    "# Compute Sv, for OS samples at first "
   ]
  },
  {
   "cell_type": "code",
   "execution_count": 150,
   "metadata": {},
   "outputs": [],
   "source": [
    "pd.options.display.max_rows = 999\n",
    "dfnow = df[df['geo_region'].notnull()]\n",
    "dfnow = dfnow[dfnow['geo_region'].str.contains('acific')]\n",
    "#dfnow[dfnow['geo_region'].str.contains('acific')][['fname','geo_region']]\n",
    "# --> I like \"central equatorial pacific\" --> choose 00890_short.nc"
   ]
  },
  {
   "cell_type": "code",
   "execution_count": 195,
   "metadata": {},
   "outputs": [],
   "source": [
    "fnamenow = '00890_short.nc'"
   ]
  },
  {
   "cell_type": "code",
   "execution_count": null,
   "metadata": {},
   "outputs": [],
   "source": [
    "ncfile = dpath + 'JASADCP/ncfiles/' + fnamenow\n",
    "nc = xr.open_dataset(ncfile)\n",
    "#strnow = nc.attrs['cruise_sonar_summary']\n",
    "#re.findall('arro', strnow, re.IGNORECASE)\n",
    "nc.attrs['cruise_sonar_summary'].split('\\n')\n",
    "#nc\n",
    "#print(nc['depth'])\n",
    "#nc['amp']\n",
    "#nc['amp'].plot()\n",
    "#nc['depth'].values\n",
    "#nc['ADCP_CONFIG'].attrs['model_name']\n",
    "#nc['ADCP_CONFIG'].attrs"
   ]
  },
  {
   "cell_type": "code",
   "execution_count": null,
   "metadata": {},
   "outputs": [],
   "source": [
    "nc"
   ]
  },
  {
   "cell_type": "code",
   "execution_count": 220,
   "metadata": {},
   "outputs": [],
   "source": [
    "amp = nc['amp']\n",
    "Tx = nc['tr_temp']\n",
    "depth = nc['depth']"
   ]
  },
  {
   "cell_type": "code",
   "execution_count": 197,
   "metadata": {},
   "outputs": [],
   "source": [
    "row = df[df['fname']==fnamenow].iloc[0]"
   ]
  },
  {
   "cell_type": "code",
   "execution_count": 230,
   "metadata": {},
   "outputs": [],
   "source": [
    "# - Testing each fxn\n",
    "Er = get_Er_constant(row,amp)\n",
    "print(Er)\n",
    "\n",
    "if 'NB' not in row['instrument_name']:\n",
    "    Kc = get_Kc_constant(row)\n",
    "elif 'NB' in row['instrument_name']:\n",
    "    Kc = get_Kc_tdresolved(row,amp,Tx)\n",
    "print(Kc)\n",
    "\n",
    "LDBM = get_LDBM_constant(row)\n",
    "print(LDBM)\n",
    "\n",
    "if 'NB' not in row['instrument_name']:\n",
    "    PDBW = get_PDBW_constant(row)\n",
    "elif 'NB' in row['instrument_name']:\n",
    "    PDBW = get_PDBW_tdresolved(row)\n",
    "print(PDBW)\n",
    "\n",
    "R = get_R_tdresolved(row, depth, method_num=5)\n",
    "#print(R)\n",
    "\n",
    "# no bandwidth for this file; pretend it's narrowband for now\n",
    "row['bandwidth']='narrowband'\n",
    "\n",
    "if 'NB' not in row['instrument_name']:\n",
    "    C = get_C_constant(row)\n",
    "elif 'NB' in row['instrument_name']:\n",
    "    C = get_C_tdresolved(row,c)\n",
    "print(C)\n",
    "\n",
    "c = calc_c_tdresolved(depth,T=25,S=35)\n",
    "#print(c)"
   ]
  },
  {
   "cell_type": "code",
   "execution_count": 234,
   "metadata": {},
   "outputs": [
    {
     "ename": "TypeError",
     "evalue": "object of type 'int' has no len()",
     "output_type": "error",
     "traceback": [
      "\u001b[0;31m---------------------------------------------------------------------------\u001b[0m",
      "\u001b[0;31mTypeError\u001b[0m                                 Traceback (most recent call last)",
      "\u001b[0;32m<ipython-input-234-cb39e4e4f200>\u001b[0m in \u001b[0;36m<module>\u001b[0;34m\u001b[0m\n\u001b[0;32m----> 1\u001b[0;31m \u001b[0malpha\u001b[0m \u001b[0;34m=\u001b[0m \u001b[0mcalc_alpha_tdresolved\u001b[0m\u001b[0;34m(\u001b[0m\u001b[0mrow\u001b[0m\u001b[0;34m,\u001b[0m\u001b[0mdepth\u001b[0m\u001b[0;34m,\u001b[0m\u001b[0mc\u001b[0m\u001b[0;34m,\u001b[0m\u001b[0mT\u001b[0m\u001b[0;34m=\u001b[0m\u001b[0;36m25\u001b[0m\u001b[0;34m,\u001b[0m\u001b[0mS\u001b[0m\u001b[0;34m=\u001b[0m\u001b[0;36m35\u001b[0m\u001b[0;34m,\u001b[0m\u001b[0mpH\u001b[0m\u001b[0;34m=\u001b[0m\u001b[0;36m8.1\u001b[0m\u001b[0;34m)\u001b[0m\u001b[0;34m\u001b[0m\u001b[0;34m\u001b[0m\u001b[0m\n\u001b[0m",
      "\u001b[0;32m<ipython-input-137-0256143ee322>\u001b[0m in \u001b[0;36mcalc_alpha_tdresolved\u001b[0;34m(row, z, c, T, S, pH)\u001b[0m\n\u001b[1;32m     17\u001b[0m     \u001b[0mf2\u001b[0m \u001b[0;34m=\u001b[0m \u001b[0;36m8.17\u001b[0m\u001b[0;34m*\u001b[0m\u001b[0;36m10\u001b[0m\u001b[0;34m**\u001b[0m\u001b[0;34m(\u001b[0m\u001b[0;36m8\u001b[0m\u001b[0;34m-\u001b[0m\u001b[0;36m1990\u001b[0m\u001b[0;34m/\u001b[0m\u001b[0;34m(\u001b[0m\u001b[0mT\u001b[0m\u001b[0;34m+\u001b[0m\u001b[0;36m273\u001b[0m\u001b[0;34m)\u001b[0m\u001b[0;34m)\u001b[0m \u001b[0;34m/\u001b[0m \u001b[0;34m(\u001b[0m\u001b[0;36m1\u001b[0m \u001b[0;34m+\u001b[0m \u001b[0;36m0.0018\u001b[0m\u001b[0;34m*\u001b[0m\u001b[0;34m(\u001b[0m\u001b[0mS\u001b[0m\u001b[0;34m-\u001b[0m\u001b[0;36m35\u001b[0m\u001b[0;34m)\u001b[0m\u001b[0;34m)\u001b[0m\u001b[0;34m\u001b[0m\u001b[0;34m\u001b[0m\u001b[0m\n\u001b[1;32m     18\u001b[0m     \u001b[0mP3\u001b[0m \u001b[0;34m=\u001b[0m \u001b[0;36m1\u001b[0m \u001b[0;34m-\u001b[0m \u001b[0;34m(\u001b[0m\u001b[0;36m3.83\u001b[0m\u001b[0;34m*\u001b[0m\u001b[0;36m10\u001b[0m\u001b[0;34m**\u001b[0m\u001b[0;34m-\u001b[0m\u001b[0;36m5\u001b[0m\u001b[0;34m)\u001b[0m\u001b[0;34m*\u001b[0m\u001b[0mz\u001b[0m \u001b[0;34m+\u001b[0m \u001b[0;34m(\u001b[0m\u001b[0;36m4.9\u001b[0m\u001b[0;34m*\u001b[0m\u001b[0;36m10\u001b[0m\u001b[0;34m**\u001b[0m\u001b[0;34m-\u001b[0m\u001b[0;36m10\u001b[0m\u001b[0;34m)\u001b[0m\u001b[0;34m*\u001b[0m\u001b[0mz\u001b[0m\u001b[0;34m**\u001b[0m\u001b[0;36m2\u001b[0m\u001b[0;34m\u001b[0m\u001b[0;34m\u001b[0m\u001b[0m\n\u001b[0;32m---> 19\u001b[0;31m     \u001b[0;32mif\u001b[0m \u001b[0;34m(\u001b[0m\u001b[0mlen\u001b[0m\u001b[0;34m(\u001b[0m\u001b[0mT\u001b[0m\u001b[0;34m)\u001b[0m\u001b[0;34m==\u001b[0m\u001b[0;36m1\u001b[0m\u001b[0;34m)\u001b[0m \u001b[0;34m&\u001b[0m \u001b[0;34m(\u001b[0m\u001b[0mT\u001b[0m\u001b[0;34m<=\u001b[0m\u001b[0;36m20\u001b[0m\u001b[0;34m)\u001b[0m\u001b[0;34m:\u001b[0m\u001b[0;34m\u001b[0m\u001b[0;34m\u001b[0m\u001b[0m\n\u001b[0m\u001b[1;32m     20\u001b[0m         \u001b[0mA3\u001b[0m \u001b[0;34m=\u001b[0m \u001b[0;36m4.937\u001b[0m\u001b[0;34m*\u001b[0m\u001b[0;36m10\u001b[0m\u001b[0;34m**\u001b[0m\u001b[0;34m-\u001b[0m\u001b[0;36m4\u001b[0m \u001b[0;34m-\u001b[0m \u001b[0;34m(\u001b[0m\u001b[0;36m2.59\u001b[0m\u001b[0;34m*\u001b[0m\u001b[0;36m10\u001b[0m\u001b[0;34m**\u001b[0m\u001b[0;34m-\u001b[0m\u001b[0;36m5\u001b[0m\u001b[0;34m)\u001b[0m\u001b[0;34m*\u001b[0m\u001b[0mT\u001b[0m \u001b[0;34m+\u001b[0m \u001b[0;34m(\u001b[0m\u001b[0;36m9.11\u001b[0m\u001b[0;34m*\u001b[0m\u001b[0;36m10\u001b[0m\u001b[0;34m**\u001b[0m\u001b[0;34m-\u001b[0m\u001b[0;36m7\u001b[0m\u001b[0;34m)\u001b[0m\u001b[0;34m*\u001b[0m\u001b[0mT\u001b[0m\u001b[0;34m**\u001b[0m\u001b[0;36m2\u001b[0m \u001b[0;34m-\u001b[0m \u001b[0;34m(\u001b[0m\u001b[0;36m1.5\u001b[0m\u001b[0;34m*\u001b[0m\u001b[0;36m10\u001b[0m\u001b[0;34m**\u001b[0m\u001b[0;34m-\u001b[0m\u001b[0;36m8\u001b[0m\u001b[0;34m)\u001b[0m\u001b[0;34m*\u001b[0m\u001b[0mT\u001b[0m\u001b[0;34m**\u001b[0m\u001b[0;36m3\u001b[0m\u001b[0;34m\u001b[0m\u001b[0;34m\u001b[0m\u001b[0m\n\u001b[1;32m     21\u001b[0m     \u001b[0;32melif\u001b[0m \u001b[0;34m(\u001b[0m\u001b[0mlen\u001b[0m\u001b[0;34m(\u001b[0m\u001b[0mT\u001b[0m\u001b[0;34m)\u001b[0m\u001b[0;34m==\u001b[0m\u001b[0;36m1\u001b[0m\u001b[0;34m)\u001b[0m \u001b[0;34m&\u001b[0m \u001b[0;34m(\u001b[0m\u001b[0mT\u001b[0m\u001b[0;34m>\u001b[0m\u001b[0;36m20\u001b[0m\u001b[0;34m)\u001b[0m\u001b[0;34m:\u001b[0m\u001b[0;34m\u001b[0m\u001b[0;34m\u001b[0m\u001b[0m\n",
      "\u001b[0;31mTypeError\u001b[0m: object of type 'int' has no len()"
     ]
    }
   ],
   "source": [
    "alpha = calc_alpha_tdresolved(row,depth,c,T=25,S=35,pH=8.1)\n",
    "# CONTINUE HERE!!!!!!!"
   ]
  },
  {
   "cell_type": "code",
   "execution_count": 238,
   "metadata": {},
   "outputs": [],
   "source": [
    "T=[25, 26]"
   ]
  },
  {
   "cell_type": "code",
   "execution_count": 240,
   "metadata": {},
   "outputs": [
    {
     "data": {
      "text/plain": [
       "list"
      ]
     },
     "execution_count": 240,
     "metadata": {},
     "output_type": "execute_result"
    }
   ],
   "source": [
    "type(T)"
   ]
  },
  {
   "cell_type": "code",
   "execution_count": 217,
   "metadata": {},
   "outputs": [
    {
     "data": {
      "text/plain": [
       "array([ 0,  5, 10, 15])"
      ]
     },
     "execution_count": 217,
     "metadata": {},
     "output_type": "execute_result"
    }
   ],
   "source": [
    "#calc_alphaR_tdresolved(alpha,R)"
   ]
  },
  {
   "cell_type": "markdown",
   "metadata": {},
   "source": [
    "# Load WOD data (T,S)"
   ]
  },
  {
   "cell_type": "markdown",
   "metadata": {},
   "source": [
    "# TESTING/OLD"
   ]
  },
  {
   "cell_type": "code",
   "execution_count": null,
   "metadata": {},
   "outputs": [],
   "source": [
    "fnames = sorted(os.listdir(dpath + 'JASADCP/ncfiles'))"
   ]
  },
  {
   "cell_type": "code",
   "execution_count": null,
   "metadata": {},
   "outputs": [],
   "source": [
    "nc_counter = len(fnames)\n",
    "geo_region = [None]*nc_counter"
   ]
  },
  {
   "cell_type": "code",
   "execution_count": null,
   "metadata": {},
   "outputs": [],
   "source": [
    "ifile = 0\n",
    "for fname in fnames:\n",
    "    ncfile = dpath + 'JASADCP/ncfiles/' + fname\n",
    "    ncnow = xr.open_dataset(ncfile)\n",
    "    strnow = ncnow.attrs['cruise_sonar_summary']\n",
    "    geo_regionnow = re.findall(\"GEOGRAPHIC_REGION *: *((?:\\S+ )*\\S+)\", strnow)\n",
    "    if geo_regionnow:\n",
    "        geo_region[ifile] = geo_regionnow[0]\n",
    "    ifile = ifile+1"
   ]
  },
  {
   "cell_type": "code",
   "execution_count": null,
   "metadata": {},
   "outputs": [],
   "source": [
    "df = pd.concat(\n",
    "    [pd.Series(fnames,name='fname'), pd.Series(geo_region,name='geo_region')],\n",
    "    axis=1)"
   ]
  },
  {
   "cell_type": "code",
   "execution_count": null,
   "metadata": {},
   "outputs": [],
   "source": [
    "print(df['geo_region'].isnull().sum())\n",
    "print(len(df))\n",
    "dfnow = df.dropna(subset=['geo_region'])\n",
    "print(len(dfnow))\n",
    "dfnow = dfnow[dfnow['geo_region'].str.contains('acific')]\n",
    "print(len(dfnow))\n",
    "dfnow = dfnow[dfnow['instrument_name'].str.contains('OS')]\n",
    "print(len(dfnow))\n",
    "dfnow = dfnow[(dfnow['instrument_name']!='OS-II-38')&(dfnow['instrument_name']!='OS-II-75')] "
   ]
  },
  {
   "cell_type": "markdown",
   "metadata": {},
   "source": [
    "## Load table of C, PDBW values"
   ]
  },
  {
   "cell_type": "code",
   "execution_count": null,
   "metadata": {},
   "outputs": [],
   "source": [
    "cpdbw = pd.read_csv(dpath + 'typical_system_characteristics_table2_mullison2017.csv')"
   ]
  },
  {
   "cell_type": "code",
   "execution_count": null,
   "metadata": {},
   "outputs": [],
   "source": [
    "cpdbw.head()"
   ]
  },
  {
   "cell_type": "markdown",
   "metadata": {},
   "source": [
    "## Load table of kc, Er values"
   ]
  },
  {
   "cell_type": "markdown",
   "metadata": {},
   "source": [
    "#### Nominal Kc values from TRDI field service email:\n",
    "BBADCP: 0.45 dB/count  \n",
    "WHADCP: 0.42 dB/count  \n",
    "OS-II-75, SN1508: 0.373 (beam 1), 0.386 (beam 2), 0.388 (beam 3), 0.384 (beam 4) = 0.38275 (avg)  \n",
    "OS-II-75, SN10656: 0.398 (beam 1), 0.389 (beam 2), 0.3988 (beam 3), 0.395 (beam 4) = 0.395 (avg)  \n",
    "#### Nominal Kc values from Jerry Mullison email:\n",
    "Format: min-max, avg, stdev  \n",
    "OS150: 0.41-0.44, 0.42, 0.012   \n",
    "OS75: 0.36-0.42, 0.39, 0.019  \n",
    "OS38: 0.36-0.37, 0.37, 0.004  "
   ]
  },
  {
   "cell_type": "markdown",
   "metadata": {},
   "source": [
    "#### Nominal Er values from Jerry Mullison email:\n",
    "Format: min-max, avg, stdev  \n",
    "OS150: 18-28, 22, 2.08  \n",
    "OS75: 11-25, 19, 2.93  \n",
    "OS38: 5-33, 14, 4.83  "
   ]
  },
  {
   "cell_type": "code",
   "execution_count": null,
   "metadata": {},
   "outputs": [],
   "source": [
    "# - Calc avg Kc for OS-II w/ SNs\n",
    "print(np.mean([0.373, 0.386, 0.388, 0.384]))\n",
    "print(np.mean([0.398, 0.389, 0.398, 0.395]))"
   ]
  }
 ],
 "metadata": {
  "kernelspec": {
   "display_name": "Python 3",
   "language": "python",
   "name": "python3"
  },
  "language_info": {
   "codemirror_mode": {
    "name": "ipython",
    "version": 3
   },
   "file_extension": ".py",
   "mimetype": "text/x-python",
   "name": "python",
   "nbconvert_exporter": "python",
   "pygments_lexer": "ipython3",
   "version": "3.7.3"
  }
 },
 "nbformat": 4,
 "nbformat_minor": 4
}
