{
 "cells": [
  {
   "cell_type": "code",
   "execution_count": 1,
   "metadata": {},
   "outputs": [
    {
     "name": "stdout",
     "output_type": "stream",
     "text": [
      "# of files w/o bandwidth: 57\n",
      "NB-VM-150         1088\n",
      "OS-38              519\n",
      "OS-75              363\n",
      "WH-300             188\n",
      "OS-150              26\n",
      "NB-VM-300           25\n",
      "NB-VM-75            14\n",
      "BB-VM-150           13\n",
      "OS-II-38             6\n",
      "WH-Mariner-300       3\n",
      "NB-DR-150            3\n",
      "OS-II-75             1\n",
      "WH-Mariner-600       1\n",
      "WH-1200              1\n",
      "DCP4400A             1\n",
      "Name: instrument_name, dtype: int64\n"
     ]
    }
   ],
   "source": [
    "%run setup_Sv_compute.ipynb"
   ]
  },
  {
   "cell_type": "code",
   "execution_count": 2,
   "metadata": {},
   "outputs": [],
   "source": [
    "%run fxns_Sv_compute.ipynb"
   ]
  },
  {
   "cell_type": "code",
   "execution_count": 3,
   "metadata": {},
   "outputs": [],
   "source": [
    "import cartopy.crs as ccrs\n",
    "from cartopy.mpl.gridliner import LONGITUDE_FORMATTER, LATITUDE_FORMATTER\n",
    "from cartopy.mpl.ticker import LongitudeFormatter, LatitudeFormatter\n",
    "from datetime import datetime\n",
    "from datetime import time, timedelta\n",
    "import itertools\n",
    "from math import pi, cos, sin, acos\n",
    "import matplotlib.dates as mdates\n",
    "import matplotlib.ticker as mticker\n",
    "from scipy.interpolate import interp1d\n",
    "import warnings"
   ]
  },
  {
   "cell_type": "code",
   "execution_count": 4,
   "metadata": {},
   "outputs": [],
   "source": [
    "warnings.filterwarnings('ignore')"
   ]
  },
  {
   "cell_type": "markdown",
   "metadata": {},
   "source": [
    "# Get Tropical Pacific cruises only + map them"
   ]
  },
  {
   "cell_type": "code",
   "execution_count": 5,
   "metadata": {},
   "outputs": [
    {
     "name": "stdout",
     "output_type": "stream",
     "text": [
      "# Tropical Pacific files: 548\n"
     ]
    }
   ],
   "source": [
    "lat_abs_lim = 20\n",
    "lon_w_lim = 120 # 120E, had 100E before but got too many Ind Oc\n",
    "lon_e_lim = 285 # 75W \n",
    "df['in_tp'] = \"\" # 0 = in tropical pac, 1 = not\n",
    "df.reset_index(inplace=True, drop=True)\n",
    "for ifile in np.arange(0,len(df)):\n",
    "    fname = df['fname'][ifile]\n",
    "    ncfile = dpath + 'JASADCP/ncfiles/' + fname\n",
    "    nc = xr.open_dataset(ncfile)\n",
    "    lon = nc['lon'].dropna(dim='time').values\n",
    "    lat = nc['lat'].dropna(dim='time').values\n",
    "    lon[lon<0] = lon[lon<0] + 360\n",
    "    if (abs(lat) <= lat_abs_lim).any() and ((lon > lon_w_lim) & (lon < lon_e_lim)).any():\n",
    "    # if any of the cruises profs are within the TP limits\n",
    "        df.at[ifile,'in_tp'] = 1\n",
    "    else:\n",
    "        df.at[ifile,'in_tp'] = 0\n",
    "dfnow = df[df['in_tp']==1]\n",
    "# - Test\n",
    "#pd.set_option('max_rows',10)\n",
    "#dfnow['geo_region'].value_counts()\n",
    "# --> dfnow looks good, but has a few Atl/Ind Oc files that are within the defined box\n",
    "# - Old\n",
    "#dfnow = df[df['geo_region'].notnull()]\n",
    "#dfnow = dfnow[dfnow['geo_region'].str.contains('acific')]\n",
    "dfnow.reset_index(inplace=True, drop=True)\n",
    "fnamesnow = dfnow['fname'].values\n",
    "print('# Tropical Pacific files:',len(fnamesnow))"
   ]
  },
  {
   "cell_type": "code",
   "execution_count": 6,
   "metadata": {},
   "outputs": [],
   "source": [
    "%%script false --no-raise-error\n",
    "fig = plt.figure(figsize=(12,12))\n",
    "#ax0 = plt.subplot(1, 3, 1, projection=ccrs.PlateCarree(central_longitude=200))\n",
    "ax0 = plt.subplot2grid((3,2), (0,0), colspan=2, rowspan=2, projection=ccrs.PlateCarree(central_longitude=200))\n",
    "ax = ax0; exec(open(\"create_map_bgs.py\").read()) # make map pretty\n",
    "#for fname in np.concatenate((fnamesnow[0:10],fnamesnow[1000:1100])):\n",
    "for fname in fnamesnow:\n",
    "    ncfile = dpath + 'JASADCP/ncfiles/' + fname\n",
    "    nc = xr.open_dataset(ncfile)\n",
    "    ax0.scatter(nc['lon'] ,nc['lat'], c='blue', s=0.5, alpha=0.1, transform=ccrs.PlateCarree());\n",
    "    ax0.set_xlabel(''); ax0.set_ylabel(''); ax0.set_title('JASADCP Tropical Pacific cruises')\n",
    "    #ax1 = plt.subplot(1, 3, 2)\n",
    "    ax1 = plt.subplot2grid((3,2), (2,0))\n",
    "    ax1.hist(dfnow['cruise_beg_date'].dt.year,\n",
    "             bins=np.arange(dfnow['cruise_beg_date'].dt.year.min()-\n",
    "                            0.5,dfnow['cruise_beg_date'].dt.year.max()+0.5), rwidth=0.8)\n",
    "    ax1.set_title('JASADCP Tropical Pacific cruises years')\n",
    "    ax1.set_xlabel('Year'); ax1.set_ylabel('# of cruises')\n",
    "    #ax2 = plt.subplot(1, 3, 3)\n",
    "    ax2 = plt.subplot2grid((3,2), (2,1))\n",
    "    ax2.hist(dfnow['cruise_beg_date'].dt.month, bins=np.arange(0.5,13), rwidth=0.8)\n",
    "    ax2.set_title('JASADCP Tropical Pacific cruises months')\n",
    "    ax2.set_xlabel('Month'); ax2.set_ylabel('# of cruises')\n",
    "fig.savefig(figpath + 'JASADCP_Tropical_Pacific_cruises_info.png',\n",
    "            bbox_inches='tight', pad_inches = 0, dpi = 200)"
   ]
  },
  {
   "cell_type": "markdown",
   "metadata": {},
   "source": [
    "# Prepare variables and params"
   ]
  },
  {
   "cell_type": "code",
   "execution_count": 7,
   "metadata": {},
   "outputs": [],
   "source": [
    "pg_thresh = 0 # % good pings threshold (get rid of pts w/ pg<pg_thresh)\n",
    "lat_nmost = 20 \n",
    "lat_smost = -20 \n",
    "lon_w_wmost = 100 # 100 = 100E\n",
    "lon_w_emost = 190 # 190 = 150W \n",
    "lon_e_wmost = 220 # 220 = 140W\n",
    "lon_e_emost = 285 # 190 = 75W \n",
    "std_depths = np.arange(0,1000+25,25)\n",
    "timemin = dfnow['cruise_beg_date'].min()\n",
    "timemax = dfnow['cruise_beg_date'].max()\n",
    "# Svcd = Sv cruise days\n",
    "Svcd_en_w = np.full([24,len(std_depths)], np.nan)\n",
    "Svcd_en_e = np.full([24,len(std_depths)], np.nan)\n",
    "Svcd_ln_w = np.full([24,len(std_depths)], np.nan)\n",
    "Svcd_ln_e = np.full([24,len(std_depths)], np.nan)\n",
    "Svcd_na_w = np.full([24,len(std_depths)], np.nan)\n",
    "Svcd_na_e = np.full([24,len(std_depths)], np.nan)\n",
    "Svcd_all = [Svcd_en_w, Svcd_en_e, Svcd_ln_w, Svcd_ln_e, Svcd_na_w, Svcd_na_e]\n",
    "Svcd_icd = np.asarray([0,0,0,0,0,0])"
   ]
  },
  {
   "cell_type": "markdown",
   "metadata": {},
   "source": [
    "# Load/calc monthly ENSO time series"
   ]
  },
  {
   "cell_type": "code",
   "execution_count": 8,
   "metadata": {},
   "outputs": [
    {
     "data": {
      "image/png": "[encoded data removed]",
      "text/plain": [
       "<Figure size 792x288 with 1 Axes>"
      ]
     },
     "metadata": {
      "needs_background": "light"
     },
     "output_type": "display_data"
    }
   ],
   "source": [
    "# - Load ONI \n",
    "dfoni = pd.read_csv(dpath+'oniindex1950_2018.txt',names=['Date','ONI']);\n",
    "#dfoni.head(2)\n",
    "# - Month fractions corresp to jan, feb, mar, etc. in the ONI txt file\n",
    "monthfracs = [0,0.0834,0.1666,0.25,0.3334,0.4166,0.5,0.5834,0.6666,0.75,0.8334,0.9166];\n",
    "# - Get ONI ts over desired timeframe\n",
    "onibegmoidx = dfoni.index[dfoni['Date'] == (timemin.year + monthfracs[timemin.month-1])][0]\n",
    "oniendmoidx = dfoni.index[dfoni['Date'] == (timemax.year + monthfracs[timemax.month-1])][0]\n",
    "oni = dfoni['ONI'].iloc[onibegmoidx:(oniendmoidx+1)].values\n",
    "onitime = pd.date_range(timemin.strftime('%Y-%m-01'), timemax.strftime('%Y-%m-01'), freq='MS') # should be 612 months long\n",
    "# - Create EN/LN month classifications\n",
    "onien = [0]*len(oni) # 1 = el nino month\n",
    "oniln = [0]*len(oni) # 1 = la nina month\n",
    "# - Classify El Nino months\n",
    "cmcounter = 0; # consecutive months counter\n",
    "for imonth in range(len(oni)):\n",
    "    if oni[imonth]>=0.5:\n",
    "        cmcounter=cmcounter+1;\n",
    "    elif oni[imonth]<0.5:\n",
    "        cmcounter=0;\n",
    "    if cmcounter>=5:\n",
    "        onien[imonth-cmcounter:imonth]=[1]*cmcounter;\n",
    "# - Classify La Nina months\n",
    "cmcounter = 0; # consecutive months counter\n",
    "for imonth in range(len(oni)):\n",
    "    if oni[imonth]<=-0.5:\n",
    "        cmcounter=cmcounter+1;\n",
    "    elif oni[imonth]>-0.5:\n",
    "        cmcounter=0;\n",
    "    if cmcounter>=5:\n",
    "        oniln[imonth-cmcounter:imonth]=[1]*cmcounter;\n",
    "# - Create everything to DataArrays\n",
    "oni = xr.DataArray(oni, dims=('time'), coords={'time': onitime})\n",
    "onien = xr.DataArray(onien, dims=('time'), coords={'time': onitime})\n",
    "oniln = xr.DataArray(oniln, dims=('time'), coords={'time': onitime})\n",
    "onienln = xr.zeros_like(onien, dtype='int')\n",
    "onienln[onien==1] = 1 # el nino = 1\n",
    "onienln[oniln==1] = -1 # la nina = -1\n",
    "plotensoidx=1\n",
    "if plotensoidx==1:\n",
    "    fig = plt.figure(figsize=(11,4))\n",
    "    plt.plot(onitime,oni)\n",
    "    plt.plot(onitime,onien)\n",
    "    plt.plot(onitime,oniln)\n",
    "    plt.plot(onitime,onienln)\n",
    "    plt.legend([\"oni\",\"onien\",\"oniln\",\"onienln\"])"
   ]
  },
  {
   "cell_type": "markdown",
   "metadata": {},
   "source": [
    "# Compile Sv cruise days"
   ]
  },
  {
   "cell_type": "code",
   "execution_count": null,
   "metadata": {},
   "outputs": [],
   "source": [
    "print(datetime.now().strftime(\"%H:%M:%S\"))\n",
    "for ifile in np.arange(0,len(fnamesnow)):\n",
    "\n",
    "    # - Calculate Sv + get rid of times w/o lon and lat\n",
    "    fname = fnamesnow[ifile]\n",
    "    print(ifile,fname)\n",
    "    ncfile = dpath + 'JASADCP/ncfiles/' + fname\n",
    "    nc = xr.open_dataset(ncfile)\n",
    "    exec(open('calc_Sv.py').read()) # var calced = Sv\n",
    "    \n",
    "    # - Compute solar time\n",
    "    solar_time = [None]*len(Sv['time'])\n",
    "    for itime in range(0,len(Sv['time'])):\n",
    "        lon = float(Sv_lon[itime])\n",
    "        lat = float(Sv_lat[itime])\n",
    "        utc_time = pd.to_datetime(Sv['time'].values[itime])\n",
    "        solar_time[itime], _ = get_solar_time_and_angles(utc_time,lon,lat)\n",
    "    Sv['time'] = solar_time; Sv_pflag['time'] = solar_time\n",
    "    Sv_pg['time'] = solar_time; Sv_depth['time'] = solar_time\n",
    "    Sv_lon['time'] = solar_time; Sv_lat['time'] = solar_time\n",
    "    \n",
    "    # - See how many days the cruise spans\n",
    "    all_days = pd.to_datetime(Sv['time'].values).normalize().unique()\n",
    "    print('# of days:',len(all_days))\n",
    "    \n",
    "    # - Append cruise day to appropriate matrix w/ standardized depths\n",
    "    tot_cdays = len(all_days)\n",
    "    daynow = pd.to_datetime(Sv['time'][0].values)\n",
    "    for iday in range(0,tot_cdays):\n",
    "        daynow = all_days[iday]\n",
    "        daystrnow = daynow.strftime('%Y-%m-%d') \n",
    "        Svnow = Sv.where((Sv_pg>pg_thresh) & (Sv_pflag==0)).sel(time=daystrnow)\n",
    "        Svhrnow = Svnow.groupby('time.hour').mean(dim='time') \n",
    "        Svdepthhrnow = Sv_depth.sel(time=daystrnow).groupby('time.hour').mean(dim='time')\n",
    "        # - Standardize depths throughout\n",
    "        Svhrnew = np.full([len(Svhrnow['hour']), len(std_depths)], np.nan)\n",
    "        ihr = 0\n",
    "        for hrnow in Svhrnow['hour']:\n",
    "            old_depths = Svdepthhrnow.sel(hour=hrnow)\n",
    "            old_Sv = Svhrnow.sel(hour=hrnow)\n",
    "            good_idxs = np.where(~((std_depths>old_depths.max().values) | (std_depths<old_depths.min().values)))\n",
    "            f = interp1d(old_depths, old_Sv)\n",
    "            new_Sv = np.array([None]*len(std_depths))\n",
    "            new_Sv[good_idxs] = f(std_depths[good_idxs])\n",
    "            new_Sv = new_Sv.astype(float)\n",
    "            Svhrnew[ihr,:] = new_Sv \n",
    "            ihr = ihr+1\n",
    "        # - Append to appropriate matrix\n",
    "        Svlonnow = Sv_lon.sel(time=daystrnow).mean()\n",
    "        Svlatnow = Sv_lat.sel(time=daystrnow).mean()\n",
    "        onitidxnow = (onienln['time'].dt.year==daynow.year) & (onienln['time'].dt.month==daynow.month)\n",
    "        enlnnow = onienln[onitidxnow] # 1=EN, -1=LN, 0=nothing\n",
    "        in_w = (Svlonnow>lon_w_wmost) & (Svlonnow<lon_w_emost) & (Svlatnow<lat_nmost) & (Svlatnow>lat_smost)\n",
    "        in_e = (Svlonnow>lon_e_wmost) & (Svlonnow<lon_e_emost) & (Svlatnow<lat_nmost) & (Svlatnow>lat_smost)\n",
    "        # Svcd_all order: Svcd_en_w, Svcd_en_e, Svcd_ln_w, Svcd_ln_e, Svcd_na_w, Svcd_na_e\n",
    "        if in_w | in_e:\n",
    "            if enlnnow==1: # EN\n",
    "                midx = 0 if in_w else 1\n",
    "            elif enlnnow==-1: # LN\n",
    "                midx = 2 if in_w else 3\n",
    "            elif enlnnow==0: # NA\n",
    "                midx = 4 if in_w else 5\n",
    "        Svcdnow = np.full([24, len(std_depths)], np.nan)\n",
    "        Svcdnow[Svhrnow['hour'].values, :] = Svhrnew\n",
    "        if Svcd_icd[midx]==0:\n",
    "            Svcd_all[midx] = Svcdnow \n",
    "        else:\n",
    "            Svcd_all[midx] = np.dstack([Svcd_all[midx], Svcdnow])\n",
    "        Svcd_icd[midx] += 1\n",
    "print(datetime.now().strftime(\"%H:%M:%S\"))"
   ]
  },
  {
   "cell_type": "markdown",
   "metadata": {},
   "source": [
    "# Clean up"
   ]
  },
  {
   "cell_type": "code",
   "execution_count": null,
   "metadata": {},
   "outputs": [],
   "source": [
    "# continue here!!!!!"
   ]
  },
  {
   "cell_type": "code",
   "execution_count": null,
   "metadata": {},
   "outputs": [],
   "source": [
    "all_days = pd.to_datetime(Sv['time'].values).normalize().unique()\n",
    "fig,axes = plt.subplots(nrows=2, ncols=1, figsize=(22,8))\n",
    "pc = axes[0].pcolormesh(Sv['time'].broadcast_like(Sv_depth).values, Sv_depth.values, Sv_pca0, vmax=0)\n",
    "axes[0].set_ylim([Sv_depth.max(),0]);\n",
    "axes[0].set_xlim([all_days[0].strftime('%Y-%m-%d'),all_days[round(len(all_days)/2)].strftime('%Y-%m-%d')])\n",
    "axes[0].xaxis.set_major_formatter(mdates.DateFormatter('%m-%d:%H')); axes[0].set_xlabel('')\n",
    "axes[0].set_title(str(ifile) + ' / ' + fname + ' / ' + str(row['cruise_beg_date'].year) + ' / ' + row['geo_region'] + ' / LOCAL SOLAR TIME' );\n",
    "fig.colorbar(pc, ax=axes[0], orientation='vertical', pad=0.01);\n",
    "pc = axes[1].pcolormesh(Sv['time'].broadcast_like(Sv_depth).values, Sv_depth.values, Sv_pca0, vmax=0)\n",
    "axes[1].set_ylim([Sv_depth.max(),0])\n",
    "axes[1].set_xlim([all_days[round(len(all_days)/2)].strftime('%Y-%m-%d'),all_days[len(all_days)-1].strftime('%Y-%m-%d')])\n",
    "axes[1].xaxis.set_major_formatter(mdates.DateFormatter('%m-%d:%H')); axes[1].set_xlabel('')\n",
    "axes[1].set_title(str(ifile) + ' / ' + fname + ' / ' + str(row['cruise_beg_date'].year) + ' / ' + row['geo_region'] + ' / LOCAL SOLAR TIME' );\n",
    "fig.colorbar(pc, ax=axes[1], orientation='vertical', pad=0.01);"
   ]
  },
  {
   "cell_type": "markdown",
   "metadata": {},
   "source": [
    "# Averaging"
   ]
  },
  {
   "cell_type": "markdown",
   "metadata": {},
   "source": [
    "# PCA"
   ]
  },
  {
   "cell_type": "code",
   "execution_count": null,
   "metadata": {},
   "outputs": [],
   "source": [
    "#Sv_pca0 = Sv.fillna(Sv.min())\n",
    "#print(np.sum(np.isnan(Sv_pca0.values)))\n",
    "#Sv_pca0 = Sv_filled.resample(time='1H').mean()\n",
    "#print(np.sum(np.isnan(Sv_pca0)))\n",
    "all_days = pd.to_datetime(Sv['time'].values).normalize().unique()\n",
    "tot_cdays = len(all_days)\n",
    "daynow = pd.to_datetime(Sv['time'][0].values)\n",
    "Sv_pca = None\n",
    "for iday in range(0,tot_cdays):\n",
    "    daynow = all_days[iday]\n",
    "    day_strnow = daynow.strftime('%Y-%m-%d') \n",
    "    Svhrnow = Sv_pca0.sel(time=day_strnow).groupby('time.hour').mean(dim='time')\n",
    "    #print(Svhrnow.shape)\n",
    "    #print(np.sum(np.isnan(Svhrnow.values)))\n",
    "    #print(np.sum(np.isinf(Svhrnow.values)))\n",
    "    if Svhrnow.shape[0]==24:\n",
    "        if Sv_pca is None:\n",
    "            Sv_pca = Svhrnow.values.ravel()\n",
    "        else:\n",
    "            Sv_pca = np.vstack([Sv_pca, Svhrnow.values.ravel()])\n",
    "print(np.sum(np.isnan(Sv_pca)))\n",
    "print(np.sum(np.isinf(Sv_pca)))"
   ]
  },
  {
   "cell_type": "code",
   "execution_count": null,
   "metadata": {},
   "outputs": [],
   "source": [
    "u, s, v = np.linalg.svd(Sv_pca.transpose())"
   ]
  },
  {
   "cell_type": "code",
   "execution_count": null,
   "metadata": {},
   "outputs": [],
   "source": [
    "num_days = Sv_pca.shape[0]\n",
    "num_depth_cells = Sv_pca0.shape[1]"
   ]
  },
  {
   "cell_type": "code",
   "execution_count": null,
   "metadata": {},
   "outputs": [],
   "source": [
    "for ieof in np.arange(0,3): \n",
    "    uf = u[:,ieof].reshape((24,num_depth_cells))\n",
    "    fig,ax = plt.subplots(nrows=1, ncols=1, figsize=(4,2))\n",
    "    pc = ax.pcolormesh(np.arange(0,24),Sv_depth_arr,uf.transpose())\n",
    "    ax.set_ylim([Sv_depth_arr.max(),0])\n",
    "    plt.colorbar(pc, ax=ax)"
   ]
  },
  {
   "cell_type": "code",
   "execution_count": null,
   "metadata": {},
   "outputs": [],
   "source": [
    "from matplotlib.ticker import AutoMinorLocator\n",
    "fig,ax = plt.subplots(nrows=1, ncols=1, figsize=(10,2))\n",
    "for ieof in np.arange(0,3):\n",
    "    ax.plot(v[:,ieof],label=str(ieof))\n",
    "    ax.plot([0,num_days],[0,0],'k--')\n",
    "ax.legend()\n",
    "ax.xaxis.set_minor_locator(AutoMinorLocator())"
   ]
  },
  {
   "cell_type": "markdown",
   "metadata": {},
   "source": [
    "# Edge detection + averaging"
   ]
  },
  {
   "cell_type": "markdown",
   "metadata": {},
   "source": [
    "# Edge detection + PCA"
   ]
  },
  {
   "cell_type": "code",
   "execution_count": null,
   "metadata": {},
   "outputs": [],
   "source": [
    "#conda install -c conda-forge scikit-image"
   ]
  },
  {
   "cell_type": "code",
   "execution_count": null,
   "metadata": {},
   "outputs": [],
   "source": [
    "#https://scikit-image.org/docs/dev/auto_examples/edges/plot_canny.html\n",
    "from scipy import ndimage as ndi\n",
    "from skimage import feature"
   ]
  },
  {
   "cell_type": "code",
   "execution_count": null,
   "metadata": {},
   "outputs": [],
   "source": [
    "u0 = 10000*u[:,0].reshape((24,num_depth_cells))\n",
    "u1 = 10000*u[:,0].reshape((24,num_depth_cells))\n",
    "edges1 = feature.canny(u0, sigma = 1)\n",
    "edges2 = feature.canny(u0, sigma = 2)\n",
    "edges3 = feature.canny(u1, sigma = 1)\n",
    "edges4 = feature.canny(u1, sigma = 2)\n",
    "fig, (ax1, ax2, ax3, ax4, ax5) = plt.subplots(nrows=1, ncols=5, figsize=(15, 3),\n",
    "                                    sharex=True, sharey=True)\n",
    "ax1.pcolormesh(u1)\n",
    "ax2.pcolormesh(edges1, cmap=plt.cm.gray)\n",
    "ax3.pcolormesh(edges2, cmap=plt.cm.gray)\n",
    "ax4.pcolormesh(edges3, cmap=plt.cm.gray)\n",
    "ax5.pcolormesh(edges4, cmap=plt.cm.gray)\n",
    "fig.tight_layout()"
   ]
  }
 ],
 "metadata": {
  "kernelspec": {
   "display_name": "Python 3",
   "language": "python",
   "name": "python3"
  },
  "language_info": {
   "codemirror_mode": {
    "name": "ipython",
    "version": 3
   },
   "file_extension": ".py",
   "mimetype": "text/x-python",
   "name": "python",
   "nbconvert_exporter": "python",
   "pygments_lexer": "ipython3",
   "version": "3.7.3"
  }
 },
 "nbformat": 4,
 "nbformat_minor": 4
}
