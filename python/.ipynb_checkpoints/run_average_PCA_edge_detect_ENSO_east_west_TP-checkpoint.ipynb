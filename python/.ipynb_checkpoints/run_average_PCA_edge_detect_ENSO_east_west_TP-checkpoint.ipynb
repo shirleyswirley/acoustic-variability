{
 "cells": [
  {
   "cell_type": "code",
   "execution_count": 2,
   "metadata": {},
   "outputs": [
    {
     "name": "stdout",
     "output_type": "stream",
     "text": [
      "# of files w/o bandwidth: 57\n",
      "NB-VM-150         1088\n",
      "OS-38              519\n",
      "OS-75              363\n",
      "WH-300             188\n",
      "OS-150              26\n",
      "NB-VM-300           25\n",
      "NB-VM-75            14\n",
      "BB-VM-150           13\n",
      "OS-II-38             6\n",
      "WH-Mariner-300       3\n",
      "NB-DR-150            3\n",
      "WH-1200              1\n",
      "OS-II-75             1\n",
      "WH-Mariner-600       1\n",
      "DCP4400A             1\n",
      "Name: instrument_name, dtype: int64\n"
     ]
    }
   ],
   "source": [
    "%run setup_Sv_compute.ipynb"
   ]
  },
  {
   "cell_type": "code",
   "execution_count": 3,
   "metadata": {},
   "outputs": [],
   "source": [
    "%run fxns_Sv_compute.ipynb"
   ]
  },
  {
   "cell_type": "code",
   "execution_count": 4,
   "metadata": {},
   "outputs": [],
   "source": [
    "import cartopy.crs as ccrs\n",
    "from cartopy.mpl.gridliner import LONGITUDE_FORMATTER, LATITUDE_FORMATTER\n",
    "from cartopy.mpl.ticker import LongitudeFormatter, LatitudeFormatter\n",
    "from datetime import datetime\n",
    "from datetime import time, timedelta\n",
    "import itertools\n",
    "from math import pi, cos, sin, acos\n",
    "import matplotlib.dates as mdates\n",
    "import matplotlib.ticker as mticker\n",
    "from scipy.interpolate import interp1d\n",
    "import warnings"
   ]
  },
  {
   "cell_type": "code",
   "execution_count": 5,
   "metadata": {},
   "outputs": [],
   "source": [
    "warnings.filterwarnings('ignore')"
   ]
  },
  {
   "cell_type": "markdown",
   "metadata": {},
   "source": [
    "# Get Tropical Pacific cruises only + map them"
   ]
  },
  {
   "cell_type": "code",
   "execution_count": 6,
   "metadata": {},
   "outputs": [
    {
     "name": "stdout",
     "output_type": "stream",
     "text": [
      "# Tropical Pacific files: 547\n"
     ]
    }
   ],
   "source": [
    "lat_abs_lim = 20\n",
    "lon_w_lim = 120 # 120E, had 100E before but got too many Ind Oc\n",
    "lon_e_lim = 285 # 75W \n",
    "df['in_tp'] = \"\" # 0 = in tropical pac, 1 = not\n",
    "df.reset_index(inplace=True, drop=True)\n",
    "for ifile in np.arange(0,len(df)):\n",
    "    fname = df['fname'][ifile]\n",
    "    ncfile = dpath + 'JASADCP/ncfiles/' + fname\n",
    "    nc = xr.open_dataset(ncfile)\n",
    "    lon = nc['lon'].dropna(dim='time').values\n",
    "    lat = nc['lat'].dropna(dim='time').values\n",
    "    lon[lon<0] = lon[lon<0] + 360\n",
    "    if (abs(lat) <= lat_abs_lim).any() and ((lon > lon_w_lim) & (lon < lon_e_lim)).any():\n",
    "    # if any of the cruises profs are within the TP limits\n",
    "        df.at[ifile,'in_tp'] = 1\n",
    "    else:\n",
    "        df.at[ifile,'in_tp'] = 0\n",
    "dfnow = df[df['in_tp']==1]\n",
    "# NOTE: skip ifile = 25 b/c that is weird DCP4400A instrument \n",
    "dfnow = dfnow[dfnow['instrument_name']!='DCP4400A']\n",
    "# - Test\n",
    "#pd.set_option('max_rows',10)\n",
    "#dfnow['geo_region'].value_counts()\n",
    "# --> dfnow looks good, but has a few Atl/Ind Oc files that are within the defined box\n",
    "# - Old\n",
    "#dfnow = df[df['geo_region'].notnull()]\n",
    "#dfnow = dfnow[dfnow['geo_region'].str.contains('acific')]\n",
    "dfnow.reset_index(inplace=True, drop=True)\n",
    "fnamesnow = dfnow['fname'].values\n",
    "print('# Tropical Pacific files:',len(fnamesnow))"
   ]
  },
  {
   "cell_type": "code",
   "execution_count": 7,
   "metadata": {},
   "outputs": [],
   "source": [
    "%%script false --no-raise-error\n",
    "fig = plt.figure(figsize=(12,12))\n",
    "#ax0 = plt.subplot(1, 3, 1, projection=ccrs.PlateCarree(central_longitude=200))\n",
    "ax0 = plt.subplot2grid((3,2), (0,0), colspan=2, rowspan=2, projection=ccrs.PlateCarree(central_longitude=200))\n",
    "ax = ax0; exec(open(\"create_map_bgs.py\").read()) # make map pretty\n",
    "#for fname in np.concatenate((fnamesnow[0:10],fnamesnow[1000:1100])):\n",
    "for fname in fnamesnow:\n",
    "    ncfile = dpath + 'JASADCP/ncfiles/' + fname\n",
    "    nc = xr.open_dataset(ncfile)\n",
    "    ax0.scatter(nc['lon'] ,nc['lat'], c='blue', s=0.5, alpha=0.1, transform=ccrs.PlateCarree());\n",
    "    ax0.set_xlabel(''); ax0.set_ylabel(''); ax0.set_title('JASADCP Tropical Pacific cruises')\n",
    "    #ax1 = plt.subplot(1, 3, 2)\n",
    "    ax1 = plt.subplot2grid((3,2), (2,0))\n",
    "    ax1.hist(dfnow['cruise_beg_date'].dt.year,\n",
    "             bins=np.arange(dfnow['cruise_beg_date'].dt.year.min()-\n",
    "                            0.5,dfnow['cruise_beg_date'].dt.year.max()+0.5), rwidth=0.8)\n",
    "    ax1.set_title('JASADCP Tropical Pacific cruises years')\n",
    "    ax1.set_xlabel('Year'); ax1.set_ylabel('# of cruises')\n",
    "    #ax2 = plt.subplot(1, 3, 3)\n",
    "    ax2 = plt.subplot2grid((3,2), (2,1))\n",
    "    ax2.hist(dfnow['cruise_beg_date'].dt.month, bins=np.arange(0.5,13), rwidth=0.8)\n",
    "    ax2.set_title('JASADCP Tropical Pacific cruises months')\n",
    "    ax2.set_xlabel('Month'); ax2.set_ylabel('# of cruises')\n",
    "fig.savefig(figpath + 'JASADCP_Tropical_Pacific_cruises_info.png',\n",
    "            bbox_inches='tight', pad_inches = 0, dpi = 200)"
   ]
  },
  {
   "cell_type": "markdown",
   "metadata": {},
   "source": [
    "# Prepare variables and params"
   ]
  },
  {
   "cell_type": "code",
   "execution_count": 35,
   "metadata": {},
   "outputs": [],
   "source": [
    "pg_thresh = 0 # % good pings threshold (get rid of pts w/ pg<pg_thresh)\n",
    "lat_nmost = 20 \n",
    "lat_smost = -20 \n",
    "lon_w_wmost = 100 # 100 = 100E\n",
    "lon_w_emost = 190 # 190 = 150W \n",
    "lon_e_wmost = 220 # 220 = 140W\n",
    "lon_e_emost = 285 # 190 = 75W \n",
    "std_depths = np.arange(0,1000+25,25)\n",
    "timemin = dfnow['cruise_beg_date'].min()\n",
    "timemax = dfnow['cruise_beg_date'].max()\n",
    "# Svcd = Sv cruise days\n",
    "#Svcd_en_w = np.full([24,len(std_depths)], np.nan)\n",
    "#Svcd_en_e = np.full([24,len(std_depths)], np.nan)\n",
    "#Svcd_ln_w = np.full([24,len(std_depths)], np.nan)\n",
    "#Svcd_ln_e = np.full([24,len(std_depths)], np.nan)\n",
    "#Svcd_na_w = np.full([24,len(std_depths)], np.nan)\n",
    "#Svcd_na_e = np.full([24,len(std_depths)], np.nan)\n",
    "#Svcd_all = [Svcd_en_w, Svcd_en_e, Svcd_ln_w, Svcd_ln_e, Svcd_na_w, Svcd_na_e]\n",
    "Svcd_all = [None,None,None,None,None,None]\n",
    "Svcd_icd = np.asarray([0,0,0,0,0,0])"
   ]
  },
  {
   "cell_type": "markdown",
   "metadata": {},
   "source": [
    "# Load/calc monthly ENSO time series"
   ]
  },
  {
   "cell_type": "code",
   "execution_count": 9,
   "metadata": {},
   "outputs": [
    {
     "data": {
      "image/png": "[encoded data removed]",
      "text/plain": [
       "<Figure size 792x288 with 1 Axes>"
      ]
     },
     "metadata": {
      "needs_background": "light"
     },
     "output_type": "display_data"
    }
   ],
   "source": [
    "# - Load ONI \n",
    "dfoni = pd.read_csv(dpath+'oniindex1950_2018.txt',names=['Date','ONI']);\n",
    "#dfoni.head(2)\n",
    "# - Month fractions corresp to jan, feb, mar, etc. in the ONI txt file\n",
    "monthfracs = [0,0.0834,0.1666,0.25,0.3334,0.4166,0.5,0.5834,0.6666,0.75,0.8334,0.9166];\n",
    "# - Get ONI ts over desired timeframe\n",
    "onibegmoidx = dfoni.index[dfoni['Date'] == (timemin.year + monthfracs[timemin.month-1])][0]\n",
    "oniendmoidx = dfoni.index[dfoni['Date'] == (timemax.year + monthfracs[timemax.month-1])][0]\n",
    "oni = dfoni['ONI'].iloc[onibegmoidx:(oniendmoidx+1)].values\n",
    "onitime = pd.date_range(timemin.strftime('%Y-%m-01'), timemax.strftime('%Y-%m-01'), freq='MS') # should be 612 months long\n",
    "# - Create EN/LN month classifications\n",
    "onien = [0]*len(oni) # 1 = el nino month\n",
    "oniln = [0]*len(oni) # 1 = la nina month\n",
    "# - Classify El Nino months\n",
    "cmcounter = 0; # consecutive months counter\n",
    "for imonth in range(len(oni)):\n",
    "    if oni[imonth]>=0.5:\n",
    "        cmcounter=cmcounter+1;\n",
    "    elif oni[imonth]<0.5:\n",
    "        cmcounter=0;\n",
    "    if cmcounter>=5:\n",
    "        onien[imonth-cmcounter:imonth]=[1]*cmcounter;\n",
    "# - Classify La Nina months\n",
    "cmcounter = 0; # consecutive months counter\n",
    "for imonth in range(len(oni)):\n",
    "    if oni[imonth]<=-0.5:\n",
    "        cmcounter=cmcounter+1;\n",
    "    elif oni[imonth]>-0.5:\n",
    "        cmcounter=0;\n",
    "    if cmcounter>=5:\n",
    "        oniln[imonth-cmcounter:imonth]=[1]*cmcounter;\n",
    "# - Create everything to DataArrays\n",
    "oni = xr.DataArray(oni, dims=('time'), coords={'time': onitime})\n",
    "onien = xr.DataArray(onien, dims=('time'), coords={'time': onitime})\n",
    "oniln = xr.DataArray(oniln, dims=('time'), coords={'time': onitime})\n",
    "onienln = xr.zeros_like(onien, dtype='int')\n",
    "onienln[onien==1] = 1 # el nino = 1\n",
    "onienln[oniln==1] = -1 # la nina = -1\n",
    "plotensoidx=1\n",
    "if plotensoidx==1:\n",
    "    fig = plt.figure(figsize=(11,4))\n",
    "    plt.plot(onitime,oni)\n",
    "    plt.plot(onitime,onien)\n",
    "    plt.plot(onitime,oniln)\n",
    "    plt.plot(onitime,onienln)\n",
    "    plt.legend([\"oni\",\"onien\",\"oniln\",\"onienln\"])"
   ]
  },
  {
   "cell_type": "markdown",
   "metadata": {},
   "source": [
    "# Compile Sv cruise days"
   ]
  },
  {
   "cell_type": "code",
   "execution_count": 67,
   "metadata": {},
   "outputs": [],
   "source": [
    "#ifile=76\n",
    "ifile=200"
   ]
  },
  {
   "cell_type": "code",
   "execution_count": 68,
   "metadata": {},
   "outputs": [
    {
     "name": "stdout",
     "output_type": "stream",
     "text": [
      "200 00897_short.nc\n",
      "# of days: 16\n"
     ]
    }
   ],
   "source": [
    "# - Calculate Sv + get rid of times w/o lon and lat\n",
    "fname = fnamesnow[ifile]\n",
    "print(ifile,fname)\n",
    "ncfile = dpath + 'JASADCP/ncfiles/' + fname\n",
    "nc = xr.open_dataset(ncfile)\n",
    "exec(open('calc_Sv.py').read()) # var calced = Sv\n",
    "\n",
    "# - Compute solar time\n",
    "solar_time = [None]*len(Sv['time'])\n",
    "for itime in range(0,len(Sv['time'])):\n",
    "    lon = float(Sv_lon[itime])\n",
    "    lat = float(Sv_lat[itime])\n",
    "    utc_time = pd.to_datetime(Sv['time'].values[itime])\n",
    "    solar_time[itime], _ = get_solar_time_and_angles(utc_time,lon,lat)\n",
    "Sv['time'] = solar_time; Sv_pflag['time'] = solar_time\n",
    "Sv_pg['time'] = solar_time; Sv_depth['time'] = solar_time\n",
    "Sv_lon['time'] = solar_time; Sv_lat['time'] = solar_time\n",
    "\n",
    "# - See how many days the cruise spans\n",
    "all_days = pd.to_datetime(Sv['time'].values).normalize().unique()\n",
    "print('# of days:',len(all_days))\n",
    "\n",
    "# - Append cruise day to appropriate matrix w/ standardized depths\n",
    "tot_cdays = len(all_days)\n",
    "daynow = pd.to_datetime(Sv['time'][0].values)\n",
    "for iday in range(0,tot_cdays):\n",
    "    daynow = all_days[iday]\n",
    "    daystrnow = daynow.strftime('%Y-%m-%d') \n",
    "    Svnow = Sv.where((Sv_pg>pg_thresh) & (Sv_pflag==0)).sel(time=daystrnow)\n",
    "    Svhrnow = Svnow.groupby('time.hour').mean(dim='time') \n",
    "    Svdepthhrnow = Sv_depth.sel(time=daystrnow).groupby('time.hour').mean(dim='time')\n",
    "    # - Standardize depths throughout\n",
    "    Svhrnew = np.full([len(Svhrnow['hour']), len(std_depths)], np.nan)\n",
    "    ihr = 0\n",
    "    for hrnow in Svhrnow['hour']:\n",
    "        old_depths = Svdepthhrnow.sel(hour=hrnow)\n",
    "        old_Sv = Svhrnow.sel(hour=hrnow)\n",
    "        good_idxs = np.where(~((std_depths>old_depths.max().values) | (std_depths<old_depths.min().values)))\n",
    "        f = interp1d(old_depths, old_Sv)\n",
    "        new_Sv = np.array([None]*len(std_depths))\n",
    "        new_Sv[good_idxs] = f(std_depths[good_idxs])\n",
    "        new_Sv = new_Sv.astype(float)\n",
    "        Svhrnew[ihr,:] = new_Sv \n",
    "        ihr = ihr+1\n",
    "    # - Append to appropriate matrix\n",
    "    Svlonnow = Sv_lon.sel(time=daystrnow).mean()\n",
    "    Svlatnow = Sv_lat.sel(time=daystrnow).mean()\n",
    "    onitidxnow = (onienln['time'].dt.year==daynow.year) & (onienln['time'].dt.month==daynow.month)\n",
    "    enlnnow = onienln[onitidxnow] # 1=EN, -1=LN, 0=nothing\n",
    "    in_w = (Svlonnow>lon_w_wmost) & (Svlonnow<lon_w_emost) & (Svlatnow<lat_nmost) & (Svlatnow>lat_smost)\n",
    "    in_e = (Svlonnow>lon_e_wmost) & (Svlonnow<lon_e_emost) & (Svlatnow<lat_nmost) & (Svlatnow>lat_smost)\n",
    "    # Svcd_all order: Svcd_en_w, Svcd_en_e, Svcd_ln_w, Svcd_ln_e, Svcd_na_w, Svcd_na_e\n",
    "    if in_w | in_e:\n",
    "        if enlnnow==1: # EN\n",
    "            midx = 0 if in_w else 1\n",
    "        elif enlnnow==-1: # LN\n",
    "            midx = 2 if in_w else 3\n",
    "        elif enlnnow==0: # NA\n",
    "            midx = 4 if in_w else 5\n",
    "        Svcdnow = np.full([24, len(std_depths)], np.nan)\n",
    "        Svcdnow[Svhrnow['hour'].values, :] = Svhrnew\n",
    "        if Svcd_icd[midx]==0:\n",
    "            Svcd_all[midx] = Svcdnow \n",
    "        else:\n",
    "            Svcd_all[midx] = np.dstack([Svcd_all[midx], Svcdnow])\n",
    "        Svcd_icd[midx] += 1"
   ]
  },
  {
   "cell_type": "code",
   "execution_count": 69,
   "metadata": {},
   "outputs": [
    {
     "data": {
      "text/plain": [
       "array([ 0,  0,  0,  0, 26, 42])"
      ]
     },
     "execution_count": 69,
     "metadata": {},
     "output_type": "execute_result"
    }
   ],
   "source": [
    "Svcd_icd"
   ]
  },
  {
   "cell_type": "code",
   "execution_count": 70,
   "metadata": {},
   "outputs": [
    {
     "data": {
      "text/plain": [
       "4"
      ]
     },
     "execution_count": 70,
     "metadata": {},
     "output_type": "execute_result"
    }
   ],
   "source": [
    "midx# = None"
   ]
  },
  {
   "cell_type": "code",
   "execution_count": 75,
   "metadata": {},
   "outputs": [
    {
     "ename": "AttributeError",
     "evalue": "'NoneType' object has no attribute 'shape'",
     "output_type": "error",
     "traceback": [
      "\u001b[0;31m---------------------------------------------------------------------------\u001b[0m",
      "\u001b[0;31mAttributeError\u001b[0m                            Traceback (most recent call last)",
      "\u001b[0;32m<ipython-input-75-5187ffef8a47>\u001b[0m in \u001b[0;36m<module>\u001b[0;34m\u001b[0m\n\u001b[0;32m----> 1\u001b[0;31m \u001b[0mSvcd_all\u001b[0m\u001b[0;34m[\u001b[0m\u001b[0;36m1\u001b[0m\u001b[0;34m]\u001b[0m\u001b[0;34m.\u001b[0m\u001b[0mshape\u001b[0m\u001b[0;34m\u001b[0m\u001b[0;34m\u001b[0m\u001b[0m\n\u001b[0m",
      "\u001b[0;31mAttributeError\u001b[0m: 'NoneType' object has no attribute 'shape'"
     ]
    }
   ],
   "source": [
    "Svcd_all[1].shape"
   ]
  },
  {
   "cell_type": "code",
   "execution_count": null,
   "metadata": {},
   "outputs": [],
   "source": []
  },
  {
   "cell_type": "code",
   "execution_count": 51,
   "metadata": {},
   "outputs": [
    {
     "data": {
      "text/plain": [
       "(array([76]),)"
      ]
     },
     "execution_count": 51,
     "metadata": {},
     "output_type": "execute_result"
    }
   ],
   "source": [
    "np.where(fnamesnow=='00210_short.nc')"
   ]
  },
  {
   "cell_type": "code",
   "execution_count": 50,
   "metadata": {},
   "outputs": [
    {
     "data": {
      "text/plain": [
       "fname                                                       00210_short.nc\n",
       "hardware_model                                                      VM-150\n",
       "instrument_name                                                  NB-VM-150\n",
       "serial_numbers                                                        None\n",
       "transmit_frequency                                                 153 KHz\n",
       "phased_array                                                          None\n",
       "cruise_beg_date                                        1993-08-24 01:45:26\n",
       "blanking_interval                                                      4 m\n",
       "bin_length                                                             8 m\n",
       "transducer_beam_angle                                               30 deg\n",
       "transmit_pulse_length                                                  8 m\n",
       "comments                                                                ok\n",
       "biomass_dtmn                                                          None\n",
       "geo_region                                   E Pacific, tropical E Pacific\n",
       "manufacturer                                                           RDI\n",
       "transducer_config                                            JANUS CONCAVE\n",
       "depth_range                                                    18 to 522 m\n",
       "num_bins                                                                64\n",
       "ens_avg_intvl                                                         60 s\n",
       "ss_calc                                     FUNCTION OF TEMP AT TRANSDUCER\n",
       "project                                               WOCE (Repeat Survey)\n",
       "beam_width                                                            None\n",
       "cruise_name                ship_tag=ep393 woce_tag=PR16 EXPOCODE=31DSEP393\n",
       "platform_name                                               R/V Discoverer\n",
       "comment                                                               None\n",
       "all_text                  #DATA_DATES: 1993/08/24 01:45:00 --- to --- 1...\n",
       "bandwidth                                                       narrowband\n",
       "flag_instrument_name                   hardware_model = VM-150, assumed NB\n",
       "freq_round_kHz                                                         150\n",
       "flag_theta                                                            None\n",
       "theta                                                                   30\n",
       "flag_tpl                                                              None\n",
       "tpl                                                                      8\n",
       "in_tp                                                                    1\n",
       "Name: 76, dtype: object"
      ]
     },
     "execution_count": 50,
     "metadata": {},
     "output_type": "execute_result"
    }
   ],
   "source": [
    "dfnow.iloc[76]"
   ]
  },
  {
   "cell_type": "code",
   "execution_count": 49,
   "metadata": {
    "collapsed": true,
    "jupyter": {
     "outputs_hidden": true
    }
   },
   "outputs": [
    {
     "data": {
      "text/plain": [
       "0                               Western Tropical Pacific\n",
       "1                               Western Tropical Pacific\n",
       "2                               Western Tropical Pacific\n",
       "3                   Central and Western Tropical Pacific\n",
       "4                               Western tropical Pacific\n",
       "5                               western tropical Pacific\n",
       "6                               Western tropical Pacific\n",
       "7                               Western tropical Pacific\n",
       "8                     Western Tropical Pacific,Coral Sea\n",
       "9                               Western tropical Pacific\n",
       "10                                            SE Pacific\n",
       "11                                            SE Pacific\n",
       "12                                            N. Pacific\n",
       "13                                   S. Tropical Pacific\n",
       "14                                            E. Pacific\n",
       "15                                            S. Pacific\n",
       "16                                            C. Pacific\n",
       "17                                            W. Pacific\n",
       "18                                            W. Pacific\n",
       "19                                            W. Pacific\n",
       "20                                             C.Pacific\n",
       "21                           Hawaiian Islands, C.Pacific\n",
       "22                                             C.Pacific\n",
       "23                                             W.Pacific\n",
       "24                  Central and Western Tropical Pacific\n",
       "25                         Coral Sea, W tropical Pacific\n",
       "26                         Coral Sea, W tropical Pacific\n",
       "27                                             E Pacific\n",
       "28                                             E Pacific\n",
       "29                                            S. Pacific\n",
       "30                                          W.EQ.Pacific\n",
       "31                                          W.EQ.Pacific\n",
       "32                                          W.EQ.Pacific\n",
       "33                                          W.EQ.Pacific\n",
       "34                                          W.EQ.Pacific\n",
       "35                                          W.EQ.Pacific\n",
       "36            Hawaiian Islands, C.Pacific, SE Big Island\n",
       "37                                          W.EQ.Pacific\n",
       "38                                          W.EQ.Pacific\n",
       "39                                          W.EQ.Pacific\n",
       "40                                          W.EQ.Pacific\n",
       "41                                          W.EQ.Pacific\n",
       "42                                          W.EQ.Pacific\n",
       "43                                          W.EQ.Pacific\n",
       "44                              Western Tropical Pacific\n",
       "45                       SE Indian Ocean; SW of Tasmania\n",
       "46                                            SE Pacific\n",
       "47                                          W.EQ.Pacific\n",
       "48                                          W.EQ.Pacific\n",
       "49                                          W.EQ.Pacific\n",
       "50                                                    NE\n",
       "51                              Equatorial and W Pacific\n",
       "52               Hawaiian Islands, North Central Pacific\n",
       "53                              Central Tropical Pacific\n",
       "54                  Central Tropical Pacific, NE Pacific\n",
       "55     North Central Pacific to Western tropical Pacific\n",
       "56                              Western Tropical Pacific\n",
       "57                              Central Tropical Pacific\n",
       "58                  Central and Eastern Tropical Pacific\n",
       "59                                C. and W. Equ. Pacific\n",
       "60                                            SW Pacific\n",
       "61              central, equatorial, and eastern Pacific\n",
       "62            W. Equ. Pacific, Solomon and Bismarck Seas\n",
       "63                                       W. Equ. Pacific\n",
       "64          North Central and Equatorial Central Pacific\n",
       "65               North Central Pacific; Hawaiian Islands\n",
       "66                            eastern equatorial Pacific\n",
       "67                eastern and central equatorial Pacific\n",
       "68                           South Pacific, Samoa Trench\n",
       "69                              Tropical Central Pacific\n",
       "70            Hawaiian Islands, Tropical Central Pacific\n",
       "71            Hawaiian Islands, Tropical Central Pacific\n",
       "72          North Central and Equatorial Central Pacific\n",
       "73               North Central Pacific; Hawaiian Islands\n",
       "74                              Tropical Central Pacific\n",
       "75                              Tropical Central Pacific\n",
       "76                         E Pacific, tropical E Pacific\n",
       "77                  tropical central and eastern Pacific\n",
       "78                                            SW Pacific\n",
       "79                  tropical central and eastern Pacific\n",
       "80                  tropical central and eastern Pacific\n",
       "81                              tropical eastern Pacific\n",
       "82                              tropical eastern Pacific\n",
       "83                              tropical central Pacific\n",
       "84                  tropical central and eastern Pacific\n",
       "85        northeast Pacific and tropical central Pacific\n",
       "86        northeast Pacific and tropical central Pacific\n",
       "87                              tropical central Pacific\n",
       "88        northeast Pacific and tropical central Pacific\n",
       "89                              tropical central Pacific\n",
       "90        northeast Pacific and tropical central Pacific\n",
       "91        tropical central Pacific and northeast Pacific\n",
       "92                              tropical eastern Pacific\n",
       "93                              tropical central Pacific\n",
       "94                              tropical central Pacific\n",
       "95                              tropical central Pacific\n",
       "96                              tropical central Pacific\n",
       "97                              tropical central Pacific\n",
       "98         Equatorial eastern Pacific; Galapagos Islands\n",
       "99                            Equatorial Eastern Pacific\n",
       "100                           Equatorial Eastern Pacific\n",
       "101                           Equatorial Eastern Pacific\n",
       "102                           Equatorial Eastern Pacific\n",
       "103                           Equatorial Eastern Pacific\n",
       "104               western and central equatorial Pacific\n",
       "105                           eastern equatorial Pacific\n",
       "106                           eastern equatorial Pacific\n",
       "107                           central equatorial Pacific\n",
       "108               western and central equatorial Pacific\n",
       "109               western and central equatorial Pacific\n",
       "110                           eastern equatorial Pacific\n",
       "111                           central equatorial Pacific\n",
       "112                           central equatorial Pacific\n",
       "113                           eastern equatorial Pacific\n",
       "114               eastern and central equatorial Pacific\n",
       "115                           central equatorial Pacific\n",
       "116               western and central equatorial Pacific\n",
       "117               central and eastern equatorial Pacific\n",
       "118               central and western equatorial Pacific\n",
       "119               central and western equatorial Pacific\n",
       "120               central and eastern equatorial Pacific\n",
       "121                           eastern equatorial Pacific\n",
       "122                           central equatorial Pacific\n",
       "123               western and central equatorial Pacific\n",
       "124              Eastern and Central South Pacific Ocean\n",
       "125              Central and Western South Pacific Ocean\n",
       "126                                           Tasman Sea\n",
       "127                                           Tasman Sea\n",
       "128                                 Tasman and Coral Sea\n",
       "129                                           Tasman Sea\n",
       "130                                           Tasman Sea\n",
       "131                                           Tasman Sea\n",
       "132                Southern Ocean, Southern Indian Ocean\n",
       "133                Southern Ocean, Southern Indian Ocean\n",
       "134                Southern Ocean, Southern Indian Ocean\n",
       "135                Gulf of Mexico; Texas-Louisiana Shelf\n",
       "136                Gulf of Mexico; Texas-Louisiana Shelf\n",
       "137                Gulf of Mexico; Texas-Louisiana Shelf\n",
       "138                Gulf of Mexico; Texas-Louisiana Shelf\n",
       "139                Gulf of Mexico; Texas-Louisiana Shelf\n",
       "140                Gulf of Mexico; Texas-Louisiana Shelf\n",
       "141                Gulf of Mexico; Texas-Louisiana Shelf\n",
       "142                Gulf of Mexico; Texas-Louisiana Shelf\n",
       "143                Gulf of Mexico; Texas-Louisiana Shelf\n",
       "144                Southern Ocean, Southern Indian Ocean\n",
       "145                Southern Ocean, Southern Indian Ocean\n",
       "146                Southern Ocean, Southern Indian Ocean\n",
       "147                Southern Ocean, Southern Indian Ocean\n",
       "148                                       Southern Ocean\n",
       "149                                      western Pacific\n",
       "150                                 Tasman and Coral Sea\n",
       "151                                      western Pacific\n",
       "152                                 Tasman and Coral Sea\n",
       "153               western and central equatorial Pacific\n",
       "154                           central equatorial Pacific\n",
       "155               central and western equatorial Pacific\n",
       "156                           central equatorial Pacific\n",
       "157                   central eastern equatorial Pacific\n",
       "158               eastern and central equatorial Pacific\n",
       "159                                      western Pacific\n",
       "160                                      western Pacific\n",
       "161                                      western Pacific\n",
       "162                                      western Pacific\n",
       "163                                      western Pacific\n",
       "164                                      western Pacific\n",
       "165                                      western Pacific\n",
       "166                                      western Pacific\n",
       "167                                      western Pacific\n",
       "168                                      western Pacific\n",
       "169    Western Tropical Pacific; Vitiaz Strait, Papua...\n",
       "170    Western Tropical Pacific; Vitiaz Strait, Papua...\n",
       "171           Eastern Indian Ocean; Indonesia; Australia\n",
       "172                                      western Pacific\n",
       "173                           central equatorial Pacific\n",
       "174                           central equatorial Pacific\n",
       "175                           central equatorial Pacific\n",
       "176                           central equatorial Pacific\n",
       "177                           central equatorial Pacific\n",
       "178               central and eastern equatorial Pacific\n",
       "179                           eastern equatorial Pacific\n",
       "180                           eastern equatorial Pacific\n",
       "181                         western Atlantic, Caribbean,\n",
       "182                                      Eastern Pacific\n",
       "183                                         Indian Ocean\n",
       "184         Southwest, equatorial, and northwest Pacific\n",
       "185                 north, equatorial, and south Pacific\n",
       "186           Tropical Central Pacific; Hawaiian Islands\n",
       "187              North Central Pacific; Hawaiian Islands\n",
       "188                                              Pacific\n",
       "189              Hawaiian Islands, North Central Pacific\n",
       "190                                        South Pacific\n",
       "191                           eastern equatorial Pacific\n",
       "192                           eastern equatorial Pacific\n",
       "193                           central equatorial Pacific\n",
       "194                           central equatorial Pacific\n",
       "195                           central equatorial Pacific\n",
       "196                           central equatorial Pacific\n",
       "197                           central equatorial Pacific\n",
       "198                           central equatorial Pacific\n",
       "199                           central equatorial Pacific\n",
       "200                           central equatorial Pacific\n",
       "201                           central equatorial Pacific\n",
       "202                           eastern equatorial Pacific\n",
       "203                              North and South Pacific\n",
       "204                              North and South Pacific\n",
       "205                                    Southwest Pacific\n",
       "206                                    Southwest Pacific\n",
       "207                              South and North Pacific\n",
       "208                              South and North Pacific\n",
       "209                              South and North Pacific\n",
       "210                              South and North Pacific\n",
       "211                                    Southwest Pacific\n",
       "212                                    Southwest Pacific\n",
       "213                                    Southwest Pacific\n",
       "214                                    Southwest Pacific\n",
       "215                                    Southwest Pacific\n",
       "216                                    Southwest Pacific\n",
       "217                                    Southwest Pacific\n",
       "218                                      Central Pacific\n",
       "219                                      Central Pacific\n",
       "220                                      Central Pacific\n",
       "221                       Tropical Eastern Pacific Ocean\n",
       "222                                        north Pacific\n",
       "223                                        north Pacific\n",
       "224               eastern tropical and southeast Pacific\n",
       "225                             eastern tropical Pacific\n",
       "226                             eastern tropical Pacific\n",
       "227                             eastern tropical Pacific\n",
       "228                               Central Pacfic, Hawaii\n",
       "229                           central equatorial Pacific\n",
       "230                           central equatorial Pacific\n",
       "231                           central equatorial Pacific\n",
       "232                           central equatorial Pacific\n",
       "233    central and eastern equatorial and tropical Pa...\n",
       "234              eastern equatorial and tropical Pacific\n",
       "235                 eastern and central tropical Pacific\n",
       "236                                      western Pacific\n",
       "237                                      western Pacific\n",
       "238                                      western Pacific\n",
       "239                                      western Pacific\n",
       "240                                      western Pacific\n",
       "241                       Tropical Eastern Pacific Ocean\n",
       "242            North Pacfic; Western Pacific; CNMI; Guam\n",
       "243                                        Pacific Ocean\n",
       "244                                        Pacific Ocean\n",
       "245            North Pacfic; Western Pacific; CNMI; Guam\n",
       "246                      South Pacfic; Samoa; Rose Atoll\n",
       "247       Pacfic; American Samoa; Johnston Atoll; Hawaii\n",
       "248                             eastern tropical Pacific\n",
       "249                             eastern tropical Pacific\n",
       "250     central tropical Pacfic, Hawaii, American Samoa,\n",
       "251     central tropical Pacfic, Hawaii, American Samoa,\n",
       "252     central tropical Pacfic, Hawaii, American Samoa,\n",
       "253     central tropical Pacfic, Hawaii, American Samoa,\n",
       "254              central equatorial and tropical Pacific\n",
       "255              central equatorial and tropical Pacific\n",
       "256                 central and eastern tropical Pacific\n",
       "257                             central tropical Pacific\n",
       "258                             central tropical Pacific\n",
       "259          northeast Pacific, tropical eastern Pacific\n",
       "260                 tropical eastern and central Pacific\n",
       "261                             tropical central Pacific\n",
       "262                             tropical central Pacific\n",
       "263                             tropical central Pacific\n",
       "264          tropical central Pacific; Northeast Pacific\n",
       "265                             tropical central Pacific\n",
       "266                             tropical central Pacific\n",
       "267                 tropical central and eastern Pacific\n",
       "268                 tropical central and eastern Pacific\n",
       "269                             tropical central Pacific\n",
       "270                             tropical central Pacific\n",
       "271     tropical central and eastern Pacific, NE Pacific\n",
       "272                       central north tropical Pacific\n",
       "273                                           NE Pacific\n",
       "274                       central north tropical Pacific\n",
       "275              Hawaiian Islands, North Central Pacific\n",
       "276              Hawaiian Islands, North Central Pacific\n",
       "277                              southwest Pacific, Fiji\n",
       "278                              southwest Pacific, Fiji\n",
       "279                 southwest Pacific, Fiji, New Zealand\n",
       "280                 southwest Pacific, Fiji, New Zealand\n",
       "281                              southwest Pacific, Fiji\n",
       "282                              southwest Pacific, Fiji\n",
       "283                       west Pacific, Papua New Guinea\n",
       "284                       west Pacific, Papua New Guinea\n",
       "285                             southwest Pacific, Samoa\n",
       "286                             southwest Pacific, Samoa\n",
       "287                             southwest Pacific, Samoa\n",
       "288        Papua New Guinea, western equatorial Pacific,\n",
       "289        Papua New Guinea, western equatorial Pacific,\n",
       "290        Papua New Guinea, western equatorial Pacific,\n",
       "291                   central Pacific, southwest Pacific\n",
       "292                   central Pacific, southwest Pacific\n",
       "293                   central Pacific, southwest Pacific\n",
       "294                   central Pacific, southwest Pacific\n",
       "295                   central Pacific, southwest Pacific\n",
       "296                   central Pacific, southwest Pacific\n",
       "297                   central Pacific, southwest Pacific\n",
       "298                   central Pacific, southwest Pacific\n",
       "299                   central Pacific, southwest Pacific\n",
       "300                   central Pacific, southwest Pacific\n",
       "301                   central Pacific, southwest Pacific\n",
       "302                   central Pacific, southwest Pacific\n",
       "303                             tropical eastern Pacific\n",
       "304                                      eastern Pacific\n",
       "305                                      eastern Pacific\n",
       "306                                 southeastern Pacific\n",
       "307                                 southeastern Pacific\n",
       "308                                      eastern Pacific\n",
       "309                                      eastern Pacific\n",
       "310                                      central Pacific\n",
       "311                                      western Pacific\n",
       "312                                      western Pacific\n",
       "313                                      western Pacific\n",
       "314                                      western Pacific\n",
       "315                                      central Pacific\n",
       "316                                      central Pacific\n",
       "317                                 southeastern Pacific\n",
       "318                                 southeastern Pacific\n",
       "319                                 southeastern Pacific\n",
       "320                                      eastern Pacific\n",
       "321                                 southeastern Pacific\n",
       "322                                      eastern Pacific\n",
       "323                                eastern Pacific Ocean\n",
       "324                                central Pacific Ocean\n",
       "325                                central Pacific Ocean\n",
       "326                                 southeastern Pacific\n",
       "327             Pacific Ocean, Caribbean, Gulf of Mexico\n",
       "328                             Pacific Ocean, Caribbean\n",
       "329                     Offshore Peru, Southeast Pacific\n",
       "330                             tropical eastern Pacific\n",
       "331                       tropical and northeast Pacific\n",
       "332                     southwest tropical Pacific, Fiji\n",
       "333                     southwest tropical Pacific, Fiji\n",
       "334                                  SW tropical Pacific\n",
       "335                                  SW tropical Pacific\n",
       "336                                  SW tropical Pacific\n",
       "337                           tropical southwest Pacific\n",
       "338                           tropical southwest Pacific\n",
       "339                           tropical southwest Pacific\n",
       "340                           tropical southwest Pacific\n",
       "341                           tropical southwest Pacific\n",
       "342                           tropical southwest Pacific\n",
       "343                           southwest tropical Pacific\n",
       "344                           southwest tropical Pacific\n",
       "345                           southwest tropical Pacific\n",
       "346                     southwest tropical Pacific Ocean\n",
       "347                     southwest tropical Pacific Ocean\n",
       "348                     southwest tropical Pacific Ocean\n",
       "349                     southwest tropical Pacific Ocean\n",
       "350                                        South Pacific\n",
       "351                                        South Pacific\n",
       "352                      North Pacific; Hawaiian Islands\n",
       "353                      North Pacific; Hawaiian Islands\n",
       "354                             tropical eastern Pacific\n",
       "355                             tropical eastern Pacific\n",
       "356                             tropical eastern Pacific\n",
       "357                       tropical eastern south Pacific\n",
       "358                                     tropical Pacific\n",
       "359                                     tropical Pacific\n",
       "360                             tropical eastern Pacific\n",
       "361                             tropical central Pacific\n",
       "362                             tropical central Pacific\n",
       "363                             tropical central Pacific\n",
       "364                             tropical central Pacific\n",
       "365                             tropical central Pacific\n",
       "366                 tropical central and eastern Pacific\n",
       "367                 tropical central and eastern Pacific\n",
       "368                             tropical central Pacific\n",
       "369                             tropical central Pacific\n",
       "370                             tropical central Pacific\n",
       "371                             tropical central Pacific\n",
       "372                             tropical central Pacific\n",
       "373                                        Pacific Ocean\n",
       "374                                        Pacific Ocean\n",
       "375                                        Pacific Ocean\n",
       "376                      central tropical Pacfic, Hawaii\n",
       "377                              central tropical Pacfic\n",
       "378                              central tropical Pacfic\n",
       "379              Hawaiian Islands, North Central Pacific\n",
       "380              Hawaiian Islands, North Central Pacific\n",
       "381              Hawaiian Islands, North Central Pacific\n",
       "382                                    Southwest Pacific\n",
       "383                                    Southwest Pacific\n",
       "384                                    Southwest Pacific\n",
       "385                             tropical western Pacific\n",
       "386                             tropical western Pacific\n",
       "387                             western tropical Pacific\n",
       "388                             central tropical Pacific\n",
       "389                             tropical central Pacific\n",
       "390                             central tropical Pacific\n",
       "391                             western tropical Pacific\n",
       "392                             western tropical Pacific\n",
       "393                             western tropical Pacific\n",
       "394                             central tropical Pacific\n",
       "395                             central tropical Pacific\n",
       "396                             central tropical Pacific\n",
       "397                             central tropical Pacific\n",
       "398                             central tropical Pacific\n",
       "399                             central tropical Pacific\n",
       "400                             central tropical Pacific\n",
       "401                             central tropical Pacific\n",
       "402                             central tropical Pacific\n",
       "403                             central tropical Pacific\n",
       "404                             central tropical Pacific\n",
       "405                             central tropical Pacific\n",
       "406                             central tropical Pacific\n",
       "407                             central tropical Pacific\n",
       "408                             central tropical Pacific\n",
       "409                             central tropical Pacific\n",
       "410                             central tropical Pacific\n",
       "411                             central tropical Pacific\n",
       "412                             central tropical Pacific\n",
       "413                             central tropical Pacific\n",
       "414                             central tropical Pacific\n",
       "415                             central tropical Pacific\n",
       "416                             central tropical Pacific\n",
       "417                             central tropical Pacific\n",
       "418                             central tropical Pacific\n",
       "419                             central tropical Pacific\n",
       "420                             central tropical Pacific\n",
       "421                             central tropical Pacific\n",
       "422                 eastern and central tropical Pacific\n",
       "423                 eastern and central tropical Pacific\n",
       "424                 eastern and central tropical Pacific\n",
       "425                 eastern and central tropical Pacific\n",
       "426                 eastern and central tropical Pacific\n",
       "427                 eastern and central tropical Pacific\n",
       "428                                       north Atlantic\n",
       "429                                       north Atlantic\n",
       "430                                                 None\n",
       "431                                      eastern Pacific\n",
       "432    eastern tropical Pacific, Panama Canal, Caribb...\n",
       "433    eastern tropical Pacific, Panama Canal, Caribb...\n",
       "434                     southwest tropical Pacific Ocean\n",
       "435                               tropical Pacific Ocean\n",
       "436                               tropical Pacific Ocean\n",
       "437                        tropical and NE Pacific Ocean\n",
       "438                        tropical and NE Pacific Ocean\n",
       "439                                    NE and SE Pacific\n",
       "440                                    NE and SE Pacific\n",
       "441                                      eastern Pacific\n",
       "442                                      eastern Pacific\n",
       "443                                      eastern Pacific\n",
       "444                                      eastern Pacific\n",
       "445                                      eastern Pacific\n",
       "446                         tropical Pacific, NE Pacific\n",
       "447                             tropical central Pacific\n",
       "448                             tropical central Pacific\n",
       "449                             tropical central Pacific\n",
       "450                             tropical central Pacific\n",
       "451                  tropical eastern to central Pacific\n",
       "452                                  NW tropical Pacific\n",
       "453                                  NW tropical Pacific\n",
       "454                        Pacific Ocean, Southern Ocean\n",
       "455                        Pacific Ocean, Southern Ocean\n",
       "456                                        North Pacific\n",
       "457                             western tropical Pacific\n",
       "458                             western tropical Pacific\n",
       "459                             western tropical Pacific\n",
       "460                             western tropical Pacific\n",
       "461                             western tropical Pacific\n",
       "462                             western tropical Pacific\n",
       "463                                      central Pacific\n",
       "464                                      central Pacific\n",
       "465                    north Pacific; equatorial Pacific\n",
       "466                    north Pacific; equatorial Pacific\n",
       "467                           tropical northeast Pacific\n",
       "468                           tropical northeast Pacific\n",
       "469                                tropical east Pacific\n",
       "470                                tropical east Pacific\n",
       "471                                tropical east Pacific\n",
       "472                                tropical east Pacific\n",
       "473                                tropical east Pacific\n",
       "474                                tropical east Pacific\n",
       "475                                         east Pacific\n",
       "476                                         east Pacific\n",
       "477                                tropical east Pacific\n",
       "478                                tropical east Pacific\n",
       "479                                         east Pacific\n",
       "480                                         east Pacific\n",
       "481                                    southeast Pacific\n",
       "482                                         east Pacific\n",
       "483                          eastern Pacific; Costa Rica\n",
       "484                          eastern Pacific; Costa Rica\n",
       "485                          Eastern and Central Pacific\n",
       "486                          Eastern and Central Pacific\n",
       "487                             central tropical Pacific\n",
       "488                             central tropical Pacific\n",
       "489                             central tropical Pacific\n",
       "490                             central tropical Pacific\n",
       "491                             central tropical Pacific\n",
       "492                             central tropical Pacific\n",
       "493                             central tropical Pacific\n",
       "494                             central tropical Pacific\n",
       "495                             central tropical Pacific\n",
       "496                             eastern tropical Pacific\n",
       "497                             eastern tropical Pacific\n",
       "498                                      eastern Pacific\n",
       "499                                      eastern Pacific\n",
       "500                                      eastern Pacific\n",
       "501                                      eastern Pacific\n",
       "502                                      eastern Pacific\n",
       "503                                      eastern Pacific\n",
       "504                                      eastern Pacific\n",
       "505                                      eastern Pacific\n",
       "506                                      eastern Pacific\n",
       "507                                      eastern Pacific\n",
       "508                       tropical western Pacific Ocean\n",
       "509                       tropical western Pacific Ocean\n",
       "510                       tropical central Pacific Ocean\n",
       "511                       tropical central Pacific Ocean\n",
       "512           tropical central and western Pacific Ocean\n",
       "513           tropical central and western Pacific Ocean\n",
       "514           tropical central and western Pacific Ocean\n",
       "515       tropical central Pacific, northeastern Pacific\n",
       "516                                      eastern Pacific\n",
       "517                                      eastern Pacific\n",
       "518                                          Mariana arc\n",
       "519                                      eastern Pacific\n",
       "520                                      eastern Pacific\n",
       "521                                 southeastern Pacific\n",
       "522                                 southeastern Pacific\n",
       "523                                    southwest Pacific\n",
       "524                                    southwest Pacific\n",
       "525                           equatorial central Pacific\n",
       "526                                      central Pacific\n",
       "527                                      central Pacific\n",
       "528                                      central Pacific\n",
       "529                                      central Pacific\n",
       "530                                      central Pacific\n",
       "531                                      central Pacific\n",
       "532                                  SW tropical Pacific\n",
       "533                                  SW tropical Pacific\n",
       "534                                  SW tropical Pacific\n",
       "535                             central tropical Pacific\n",
       "536                             central tropical Pacific\n",
       "537                             central tropical Pacific\n",
       "538                                           NE Pacific\n",
       "539                             central tropical Pacific\n",
       "540                             central tropical Pacific\n",
       "541                                  NW tropical Pacific\n",
       "542                                  NW tropical Pacific\n",
       "543                                  NW tropical Pacific\n",
       "544                                  NW tropical Pacific\n",
       "545                       NW tropical to central Pacific\n",
       "546                       NW tropical to central Pacific\n",
       "Name: geo_region, dtype: object"
      ]
     },
     "execution_count": 49,
     "metadata": {},
     "output_type": "execute_result"
    }
   ],
   "source": [
    "pd.set_option('max_rows',1000)\n",
    "dfnow['geo_region']"
   ]
  },
  {
   "cell_type": "code",
   "execution_count": 43,
   "metadata": {},
   "outputs": [
    {
     "data": {
      "text/plain": [
       "(24, 41, 13)"
      ]
     },
     "execution_count": 43,
     "metadata": {},
     "output_type": "execute_result"
    }
   ],
   "source": [
    "Svcd_all[4].shape"
   ]
  },
  {
   "cell_type": "code",
   "execution_count": 28,
   "metadata": {},
   "outputs": [
    {
     "ename": "AttributeError",
     "evalue": "'NoneType' object has no attribute 'shape'",
     "output_type": "error",
     "traceback": [
      "\u001b[0;31m---------------------------------------------------------------------------\u001b[0m",
      "\u001b[0;31mAttributeError\u001b[0m                            Traceback (most recent call last)",
      "\u001b[0;32m<ipython-input-28-32961adce220>\u001b[0m in \u001b[0;36m<module>\u001b[0;34m\u001b[0m\n\u001b[1;32m      1\u001b[0m \u001b[0;32mfor\u001b[0m \u001b[0mitem\u001b[0m \u001b[0;32min\u001b[0m \u001b[0mSvcd_all\u001b[0m\u001b[0;34m:\u001b[0m\u001b[0;34m\u001b[0m\u001b[0;34m\u001b[0m\u001b[0m\n\u001b[0;32m----> 2\u001b[0;31m     \u001b[0mprint\u001b[0m\u001b[0;34m(\u001b[0m\u001b[0mitem\u001b[0m\u001b[0;34m.\u001b[0m\u001b[0mshape\u001b[0m\u001b[0;34m)\u001b[0m\u001b[0;34m\u001b[0m\u001b[0;34m\u001b[0m\u001b[0m\n\u001b[0m",
      "\u001b[0;31mAttributeError\u001b[0m: 'NoneType' object has no attribute 'shape'"
     ]
    }
   ],
   "source": [
    "for item in Svcd_all:\n",
    "    print(item.shape)"
   ]
  },
  {
   "cell_type": "code",
   "execution_count": 14,
   "metadata": {},
   "outputs": [
    {
     "data": {
      "text/html": [
       "<pre>&lt;xarray.DataArray ()&gt;\n",
       "array(False)</pre>"
      ],
      "text/plain": [
       "<xarray.DataArray ()>\n",
       "array(False)"
      ]
     },
     "execution_count": 14,
     "metadata": {},
     "output_type": "execute_result"
    }
   ],
   "source": [
    "in_w"
   ]
  },
  {
   "cell_type": "markdown",
   "metadata": {},
   "source": [
    "# Clean up + package Svcd variables"
   ]
  },
  {
   "cell_type": "code",
   "execution_count": 10,
   "metadata": {},
   "outputs": [],
   "source": [
    "#Svcd_all = [Svcd_en_w, Svcd_en_e, Svcd_ln_w, Svcd_ln_e, Svcd_na_w, Svcd_na_e]\n",
    "midxnow = 0\n",
    "Svcd_enw_xr = xr.DataArray(Svcd_all[midxnow], dims=(['hour', 'depth', 'cruise_day']),\n",
    "             coords={'hour': np.arange(0,24),\n",
    "                     'depth': std_depths,\n",
    "                     'cruise_day': np.arange(0,Svcd_all[midxnow].shape[2])})\n",
    "#midxnow = 1\n",
    "Svcd_ene_xr = xr.DataArray(Svcd_all[midxnow], dims=(['hour', 'depth', 'cruise_day']),\n",
    "             coords={'hour': np.arange(0,24),\n",
    "                     'depth': std_depths,\n",
    "                     'cruise_day': np.arange(0,Svcd_all[midxnow].shape[2])})\n",
    "midxnow = 2\n",
    "Svcd_lnw_xr = xr.DataArray(Svcd_all[midxnow], dims=(['hour', 'depth', 'cruise_day']),\n",
    "             coords={'hour': np.arange(0,24),\n",
    "                     'depth': std_depths,\n",
    "                     'cruise_day': np.arange(0,Svcd_all[midxnow].shape[2])})\n",
    "#midxnow = 3\n",
    "Svcd_lne_xr = xr.DataArray(Svcd_all[midxnow], dims=(['hour', 'depth', 'cruise_day']),\n",
    "             coords={'hour': np.arange(0,24),\n",
    "                     'depth': std_depths,\n",
    "                     'cruise_day': np.arange(0,Svcd_all[midxnow].shape[2])})\n",
    "midxnow = 4\n",
    "Svcd_naw_xr = xr.DataArray(Svcd_all[midxnow], dims=(['hour', 'depth', 'cruise_day']),\n",
    "             coords={'hour': np.arange(0,24),\n",
    "                     'depth': std_depths,\n",
    "                     'cruise_day': np.arange(0,Svcd_all[midxnow].shape[2])})\n",
    "#midxnow = 5\n",
    "Svcd_nae_xr = xr.DataArray(Svcd_all[midxnow], dims=(['hour', 'depth', 'cruise_day']),\n",
    "             coords={'hour': np.arange(0,24),\n",
    "                     'depth': std_depths,\n",
    "                     'cruise_day': np.arange(0,Svcd_all[midxnow].shape[2])})"
   ]
  },
  {
   "cell_type": "markdown",
   "metadata": {},
   "source": [
    "# Averaging"
   ]
  },
  {
   "cell_type": "code",
   "execution_count": 11,
   "metadata": {},
   "outputs": [],
   "source": [
    "Svcd_xr_plt = [Svcd_enw_xr, Svcd_ene_xr, Svcd_lnw_xr, Svcd_lne_xr, Svcd_naw_xr, Svcd_nae_xr]\n",
    "Svcd_xr_plt_title = ['EN west', 'EN east', 'LN west', 'LN east', 'NA west', 'NA east']"
   ]
  },
  {
   "cell_type": "code",
   "execution_count": 13,
   "metadata": {},
   "outputs": [
    {
     "name": "stdout",
     "output_type": "stream",
     "text": [
      "(24, 41, 846)\n",
      "(24, 41, 846)\n",
      "(24, 41, 1211)\n",
      "(24, 41, 1211)\n",
      "(24, 41, 2030)\n",
      "(24, 41, 2030)\n"
     ]
    }
   ],
   "source": [
    "for item in Svcd_xr_plt:\n",
    "    print(item.shape)"
   ]
  },
  {
   "cell_type": "code",
   "execution_count": 12,
   "metadata": {},
   "outputs": [
    {
     "data": {
      "image/png": "[encoded data removed]",
      "text/plain": [
       "<Figure size 864x864 with 23 Axes>"
      ]
     },
     "metadata": {
      "needs_background": "light"
     },
     "output_type": "display_data"
    }
   ],
   "source": [
    "fig,axes = plt.subplots(nrows=4, ncols=3, figsize=(12,12))\n",
    "isp = 0\n",
    "for yax in np.arange(0,3):\n",
    "    for xax in np.arange(0,2):\n",
    "        Svcd_xr_plt[isp].mean(dim='cruise_day').plot(ax=axes[yax][xax], y='depth', yincrease=False)\n",
    "        axes[yax][xax].set_xlabel('Time of day [hour]')\n",
    "        axes[yax][xax].set_ylabel('Depth [m]')\n",
    "        axes[yax][xax].set_title(Svcd_xr_plt_title[isp])\n",
    "        isp += 1\n",
    "isp = 0\n",
    "for yax in np.arange(0,3):\n",
    "    Svdiffnow = Svcd_xr_plt[isp+1].mean(dim='cruise_day')-Svcd_xr_plt[isp].mean(dim='cruise_day')\n",
    "    Svdiffnow.plot(ax=axes[yax][2], y='depth', yincrease=False)\n",
    "    axes[yax][2].set_xlabel('Time of day [hour]')\n",
    "    axes[yax][2].set_ylabel('Depth [m]')\n",
    "    axes[yax][2].set_title(Svcd_xr_plt_title[isp+1] + ' minus ' + Svcd_xr_plt_title[isp])\n",
    "    isp += 2\n",
    "isp = 0\n",
    "for xax in np.arange(0,2):\n",
    "    Svdiffnow = Svcd_xr_plt[isp].mean(dim='cruise_day')-Svcd_xr_plt[isp+2].mean(dim='cruise_day')\n",
    "    Svdiffnow.plot(ax=axes[3][xax], y='depth', yincrease=False)\n",
    "    axes[3][xax].set_xlabel('Time of day [hour]')\n",
    "    axes[3][xax].set_ylabel('Depth [m]')\n",
    "    axes[3][xax].set_title(Svcd_xr_plt_title[isp] + ' minus ' + Svcd_xr_plt_title[isp+2])\n",
    "    isp += 1\n",
    "axes[3,2].axis('off')\n",
    "fig.tight_layout()"
   ]
  },
  {
   "cell_type": "markdown",
   "metadata": {},
   "source": [
    "# PCA"
   ]
  },
  {
   "cell_type": "code",
   "execution_count": null,
   "metadata": {},
   "outputs": [],
   "source": [
    "# CONTINUE HERE!!!!!\n",
    "#Sv_pca0 = Sv.fillna(Sv.min())\n",
    "#print(np.sum(np.isnan(Sv_pca0.values)))\n",
    "#Sv_pca0 = Sv_filled.resample(time='1H').mean()\n",
    "#print(np.sum(np.isnan(Sv_pca0)))\n",
    "all_days = pd.to_datetime(Sv['time'].values).normalize().unique()\n",
    "tot_cdays = len(all_days)\n",
    "daynow = pd.to_datetime(Sv['time'][0].values)\n",
    "Sv_pca = None\n",
    "for iday in range(0,tot_cdays):\n",
    "    daynow = all_days[iday]\n",
    "    day_strnow = daynow.strftime('%Y-%m-%d') \n",
    "    Svhrnow = Sv_pca0.sel(time=day_strnow).groupby('time.hour').mean(dim='time')\n",
    "    #print(Svhrnow.shape)\n",
    "    #print(np.sum(np.isnan(Svhrnow.values)))\n",
    "    #print(np.sum(np.isinf(Svhrnow.values)))\n",
    "    if Svhrnow.shape[0]==24:\n",
    "        if Sv_pca is None:\n",
    "            Sv_pca = Svhrnow.values.ravel()\n",
    "        else:\n",
    "            Sv_pca = np.vstack([Sv_pca, Svhrnow.values.ravel()])\n",
    "print(np.sum(np.isnan(Sv_pca)))\n",
    "print(np.sum(np.isinf(Sv_pca)))"
   ]
  },
  {
   "cell_type": "code",
   "execution_count": null,
   "metadata": {},
   "outputs": [],
   "source": [
    "u, s, v = np.linalg.svd(Sv_pca.transpose())"
   ]
  },
  {
   "cell_type": "code",
   "execution_count": null,
   "metadata": {},
   "outputs": [],
   "source": [
    "num_days = Sv_pca.shape[0]\n",
    "num_depth_cells = Sv_pca0.shape[1]"
   ]
  },
  {
   "cell_type": "code",
   "execution_count": null,
   "metadata": {},
   "outputs": [],
   "source": [
    "for ieof in np.arange(0,3): \n",
    "    uf = u[:,ieof].reshape((24,num_depth_cells))\n",
    "    fig,ax = plt.subplots(nrows=1, ncols=1, figsize=(4,2))\n",
    "    pc = ax.pcolormesh(np.arange(0,24),Sv_depth_arr,uf.transpose())\n",
    "    ax.set_ylim([Sv_depth_arr.max(),0])\n",
    "    plt.colorbar(pc, ax=ax)"
   ]
  },
  {
   "cell_type": "code",
   "execution_count": null,
   "metadata": {},
   "outputs": [],
   "source": [
    "from matplotlib.ticker import AutoMinorLocator\n",
    "fig,ax = plt.subplots(nrows=1, ncols=1, figsize=(10,2))\n",
    "for ieof in np.arange(0,3):\n",
    "    ax.plot(v[:,ieof],label=str(ieof))\n",
    "    ax.plot([0,num_days],[0,0],'k--')\n",
    "ax.legend()\n",
    "ax.xaxis.set_minor_locator(AutoMinorLocator())"
   ]
  },
  {
   "cell_type": "markdown",
   "metadata": {},
   "source": [
    "# Edge detection + averaging"
   ]
  },
  {
   "cell_type": "markdown",
   "metadata": {},
   "source": [
    "# Edge detection + PCA"
   ]
  },
  {
   "cell_type": "code",
   "execution_count": null,
   "metadata": {},
   "outputs": [],
   "source": [
    "#conda install -c conda-forge scikit-image"
   ]
  },
  {
   "cell_type": "code",
   "execution_count": null,
   "metadata": {},
   "outputs": [],
   "source": [
    "#https://scikit-image.org/docs/dev/auto_examples/edges/plot_canny.html\n",
    "from scipy import ndimage as ndi\n",
    "from skimage import feature"
   ]
  },
  {
   "cell_type": "code",
   "execution_count": null,
   "metadata": {},
   "outputs": [],
   "source": [
    "u0 = 10000*u[:,0].reshape((24,num_depth_cells))\n",
    "u1 = 10000*u[:,0].reshape((24,num_depth_cells))\n",
    "edges1 = feature.canny(u0, sigma = 1)\n",
    "edges2 = feature.canny(u0, sigma = 2)\n",
    "edges3 = feature.canny(u1, sigma = 1)\n",
    "edges4 = feature.canny(u1, sigma = 2)\n",
    "fig, (ax1, ax2, ax3, ax4, ax5) = plt.subplots(nrows=1, ncols=5, figsize=(15, 3),\n",
    "                                    sharex=True, sharey=True)\n",
    "ax1.pcolormesh(u1)\n",
    "ax2.pcolormesh(edges1, cmap=plt.cm.gray)\n",
    "ax3.pcolormesh(edges2, cmap=plt.cm.gray)\n",
    "ax4.pcolormesh(edges3, cmap=plt.cm.gray)\n",
    "ax5.pcolormesh(edges4, cmap=plt.cm.gray)\n",
    "fig.tight_layout()"
   ]
  }
 ],
 "metadata": {
  "kernelspec": {
   "display_name": "Python 3",
   "language": "python",
   "name": "python3"
  },
  "language_info": {
   "codemirror_mode": {
    "name": "ipython",
    "version": 3
   },
   "file_extension": ".py",
   "mimetype": "text/x-python",
   "name": "python",
   "nbconvert_exporter": "python",
   "pygments_lexer": "ipython3",
   "version": "3.7.3"
  }
 },
 "nbformat": 4,
 "nbformat_minor": 4
}
