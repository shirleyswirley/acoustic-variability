{
 "cells": [
  {
   "cell_type": "code",
   "execution_count": 1,
   "metadata": {},
   "outputs": [
    {
     "name": "stdout",
     "output_type": "stream",
     "text": [
      "# of files w/o bandwidth: 57\n",
      "NB-VM-150         1088\n",
      "OS-38              519\n",
      "OS-75              363\n",
      "WH-300             188\n",
      "OS-150              26\n",
      "NB-VM-300           25\n",
      "NB-VM-75            14\n",
      "BB-VM-150           13\n",
      "OS-II-38             6\n",
      "WH-Mariner-300       3\n",
      "NB-DR-150            3\n",
      "WH-1200              1\n",
      "OS-II-75             1\n",
      "DCP4400A             1\n",
      "WH-Mariner-600       1\n",
      "Name: instrument_name, dtype: int64\n"
     ]
    }
   ],
   "source": [
    "%run setup_Sv_compute.ipynb"
   ]
  },
  {
   "cell_type": "code",
   "execution_count": 2,
   "metadata": {},
   "outputs": [],
   "source": [
    "%run fxns_Sv_compute.ipynb"
   ]
  },
  {
   "cell_type": "markdown",
   "metadata": {},
   "source": [
    "# Compute Sv for a few files w/ diff characteristics"
   ]
  },
  {
   "cell_type": "code",
   "execution_count": null,
   "metadata": {},
   "outputs": [],
   "source": [
    "pd.options.display.max_rows = 999\n",
    "dfnow = df[df['geo_region'].notnull()]\n",
    "dfnow = dfnow[dfnow['geo_region'].str.contains('acific')]\n",
    "#dfnow[['fname','geo_region','instrument_name']]"
   ]
  },
  {
   "cell_type": "code",
   "execution_count": null,
   "metadata": {},
   "outputs": [],
   "source": [
    "#fnamenow = '00890_short.nc' # --> Sv computation works for this! Uses OS, in central eq pac\n",
    "fnamenow = '00111_short.nc' # --> Sv computation works for this! Uses NB-VM-150, in w eq pac"
   ]
  },
  {
   "cell_type": "code",
   "execution_count": null,
   "metadata": {},
   "outputs": [],
   "source": [
    "ncfile = dpath + 'JASADCP/ncfiles/' + fnamenow\n",
    "nc = xr.open_dataset(ncfile)\n",
    "#strnow = nc.attrs['cruise_sonar_summary']\n",
    "#re.findall('arro', strnow, re.IGNORECASE)\n",
    "#nc.attrs['cruise_sonar_summary'].split('\\n')\n",
    "#nc\n",
    "#print(nc['depth'])\n",
    "#nc['amp']\n",
    "#nc['amp'].plot()\n",
    "#nc['depth'].values\n",
    "#nc['ADCP_CONFIG'].attrs['model_name']\n",
    "#nc['ADCP_CONFIG'].attrs"
   ]
  },
  {
   "cell_type": "code",
   "execution_count": null,
   "metadata": {},
   "outputs": [],
   "source": [
    "amp = nc['amp']\n",
    "Tx = nc['tr_temp']\n",
    "depth = nc['depth']"
   ]
  },
  {
   "cell_type": "code",
   "execution_count": null,
   "metadata": {},
   "outputs": [],
   "source": [
    "row = df[df['fname']==fnamenow].iloc[0]"
   ]
  },
  {
   "cell_type": "code",
   "execution_count": null,
   "metadata": {},
   "outputs": [],
   "source": [
    "# - Testing each fxn\n",
    "Er = get_Er_constant(row,amp)\n",
    "print('Er: ',Er)\n",
    "\n",
    "if 'NB' not in row['instrument_name']:\n",
    "    Kc = get_Kc_constant(row)\n",
    "elif 'NB' in row['instrument_name']:\n",
    "    Kc = get_Kc_tdresolved(row,amp,Tx)\n",
    "print('Kc: ',Kc)\n",
    "\n",
    "LDBM = get_LDBM_constant(row)\n",
    "print('LDBM: ',LDBM)\n",
    "\n",
    "if 'NB' not in row['instrument_name']:\n",
    "    PDBW = get_PDBW_constant(row)\n",
    "elif 'NB' in row['instrument_name']:\n",
    "    #PDBW = get_PDBW_tdresolved(row)\n",
    "    PDBW = get_PDBW_constant(row)\n",
    "print('PDBW: ',PDBW)\n",
    "\n",
    "R = get_R_tdresolved(row, depth, method_num=5)\n",
    "print('R: ',R)\n",
    "\n",
    "# - no bandwidth for a file; pretend it's narrowband for now\n",
    "#row['bandwidth']='narrowband'\n",
    "\n",
    "c = calc_c_tdresolved(depth,T=25,S=35)\n",
    "print('c: ',c)\n",
    "\n",
    "if 'NB' not in row['instrument_name']:\n",
    "    C = get_C_constant(row)\n",
    "elif 'NB' in row['instrument_name']:\n",
    "    C = get_C_tdresolved(row,c)\n",
    "print('C: ',C)\n",
    "\n",
    "Tnow = depth; Tnow.name = 'temperature'; Tnow[:,:] = 25\n",
    "alpha = calc_alpha_tdresolved(row,depth,c,Tnow,S=35,pH=8.1)\n",
    "print('alpha: ',alpha)\n",
    "\n",
    "alphaR = calc_alphaR_tdresolved(alpha,R)\n",
    "print('alphaR: ',alphaR)"
   ]
  },
  {
   "cell_type": "code",
   "execution_count": null,
   "metadata": {},
   "outputs": [],
   "source": [
    "Sv = C + 10*np.log10((Tx+273.16)*R**2) - LDBM + PDBW \\\n",
    "    + 2*alphaR + 10*np.log10(10**(Kc*(amp-Er)/10) - 1)"
   ]
  },
  {
   "cell_type": "code",
   "execution_count": null,
   "metadata": {},
   "outputs": [],
   "source": [
    "amp.plot(y='depth_cell')\n",
    "plt.gca().invert_yaxis()"
   ]
  },
  {
   "cell_type": "code",
   "execution_count": null,
   "metadata": {},
   "outputs": [],
   "source": [
    "Sv.plot(y='depth_cell', vmax=0)\n",
    "plt.gca().invert_yaxis()"
   ]
  },
  {
   "cell_type": "markdown",
   "metadata": {},
   "source": [
    "# OLD NOTES"
   ]
  },
  {
   "cell_type": "code",
   "execution_count": null,
   "metadata": {},
   "outputs": [],
   "source": [
    "fnames = sorted(os.listdir(dpath + 'JASADCP/ncfiles'))"
   ]
  },
  {
   "cell_type": "code",
   "execution_count": null,
   "metadata": {},
   "outputs": [],
   "source": [
    "nc_counter = len(fnames)\n",
    "geo_region = [None]*nc_counter"
   ]
  },
  {
   "cell_type": "code",
   "execution_count": null,
   "metadata": {},
   "outputs": [],
   "source": [
    "ifile = 0\n",
    "for fname in fnames:\n",
    "    ncfile = dpath + 'JASADCP/ncfiles/' + fname\n",
    "    ncnow = xr.open_dataset(ncfile)\n",
    "    strnow = ncnow.attrs['cruise_sonar_summary']\n",
    "    geo_regionnow = re.findall(\"GEOGRAPHIC_REGION *: *((?:\\S+ )*\\S+)\", strnow)\n",
    "    if geo_regionnow:\n",
    "        geo_region[ifile] = geo_regionnow[0]\n",
    "    ifile = ifile+1"
   ]
  },
  {
   "cell_type": "code",
   "execution_count": null,
   "metadata": {},
   "outputs": [],
   "source": [
    "df = pd.concat(\n",
    "    [pd.Series(fnames,name='fname'), pd.Series(geo_region,name='geo_region')],\n",
    "    axis=1)"
   ]
  },
  {
   "cell_type": "code",
   "execution_count": null,
   "metadata": {},
   "outputs": [],
   "source": [
    "print(df['geo_region'].isnull().sum())\n",
    "print(len(df))\n",
    "dfnow = df.dropna(subset=['geo_region'])\n",
    "print(len(dfnow))\n",
    "dfnow = dfnow[dfnow['geo_region'].str.contains('acific')]\n",
    "print(len(dfnow))\n",
    "dfnow = dfnow[dfnow['instrument_name'].str.contains('OS')]\n",
    "print(len(dfnow))\n",
    "dfnow = dfnow[(dfnow['instrument_name']!='OS-II-38')&(dfnow['instrument_name']!='OS-II-75')] "
   ]
  },
  {
   "cell_type": "markdown",
   "metadata": {},
   "source": [
    "## Load table of kc, Er values"
   ]
  },
  {
   "cell_type": "markdown",
   "metadata": {},
   "source": [
    "#### Nominal Kc values from TRDI field service email:\n",
    "BBADCP: 0.45 dB/count  \n",
    "WHADCP: 0.42 dB/count  \n",
    "OS-II-75, SN1508: 0.373 (beam 1), 0.386 (beam 2), 0.388 (beam 3), 0.384 (beam 4) = 0.38275 (avg)  \n",
    "OS-II-75, SN10656: 0.398 (beam 1), 0.389 (beam 2), 0.3988 (beam 3), 0.395 (beam 4) = 0.395 (avg)  \n",
    "#### Nominal Kc values from Jerry Mullison email:\n",
    "Format: min-max, avg, stdev  \n",
    "OS150: 0.41-0.44, 0.42, 0.012   \n",
    "OS75: 0.36-0.42, 0.39, 0.019  \n",
    "OS38: 0.36-0.37, 0.37, 0.004  "
   ]
  },
  {
   "cell_type": "markdown",
   "metadata": {},
   "source": [
    "#### Nominal Er values from Jerry Mullison email:\n",
    "Format: min-max, avg, stdev  \n",
    "OS150: 18-28, 22, 2.08  \n",
    "OS75: 11-25, 19, 2.93  \n",
    "OS38: 5-33, 14, 4.83  "
   ]
  },
  {
   "cell_type": "code",
   "execution_count": null,
   "metadata": {},
   "outputs": [],
   "source": [
    "# - Calc avg Kc for OS-II w/ SNs\n",
    "print(np.mean([0.373, 0.386, 0.388, 0.384]))\n",
    "print(np.mean([0.398, 0.389, 0.398, 0.395]))"
   ]
  }
 ],
 "metadata": {
  "kernelspec": {
   "display_name": "Python 3",
   "language": "python",
   "name": "python3"
  },
  "language_info": {
   "codemirror_mode": {
    "name": "ipython",
    "version": 3
   },
   "file_extension": ".py",
   "mimetype": "text/x-python",
   "name": "python",
   "nbconvert_exporter": "python",
   "pygments_lexer": "ipython3",
   "version": "3.7.3"
  }
 },
 "nbformat": 4,
 "nbformat_minor": 4
}
