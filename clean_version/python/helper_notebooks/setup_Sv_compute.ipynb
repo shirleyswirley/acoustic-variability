{
 "cells": [
  {
   "cell_type": "code",
   "execution_count": null,
   "metadata": {},
   "outputs": [],
   "source": [
    "# - If you want to run this notebook independently,\n",
    "# run this cell w/ the below line commented out\n",
    "%%script false --no-raise-error\n",
    "\n",
    "import matplotlib.pyplot as plt\n",
    "import numpy as np\n",
    "import os\n",
    "import pandas as pd\n",
    "import re\n",
    "import xarray as xr\n",
    "\n",
    "# - Set data path\n",
    "dpath = '/opt/acoustic-variability/data/'\n",
    "\n",
    "# - Set saved out figure path\n",
    "figpath = '/opt/acoustic-variability/clean_version/figures/'"
   ]
  },
  {
   "cell_type": "code",
   "execution_count": 3,
   "metadata": {},
   "outputs": [
    {
     "name": "stdout",
     "output_type": "stream",
     "text": [
      "# of files w/o bandwidth: 57\n"
     ]
    }
   ],
   "source": [
    "%run create_JASADCP_metadata_df.ipynb"
   ]
  },
  {
   "cell_type": "code",
   "execution_count": 12,
   "metadata": {},
   "outputs": [
    {
     "name": "stdout",
     "output_type": "stream",
     "text": [
      "NB-VM-150         1088\n",
      "OS-38              519\n",
      "OS-75              363\n",
      "WH-300             188\n",
      "OS-150              26\n",
      "NB-VM-300           25\n",
      "NB-VM-75            14\n",
      "BB-VM-150           13\n",
      "OS-II-38             6\n",
      "WH-Mariner-300       3\n",
      "NB-DR-150            3\n",
      "DCP4400A             1\n",
      "WH-Mariner-600       1\n",
      "WH-1200              1\n",
      "OS-II-75             1\n",
      "Name: instrument_name, dtype: int64\n"
     ]
    }
   ],
   "source": [
    "# - How many files for each type of instrument?\n",
    "print(df['instrument_name'].value_counts())"
   ]
  },
  {
   "cell_type": "markdown",
   "metadata": {},
   "source": [
    "# Mean volume backscattering strength eqn **(EQUATION 1)**:  \n",
    "$S_v = \\color{red}{C} + \\color{blue}{10log((T_x + 273.16)*R^2)} - \\color{orange}{L_{DBM}} - \\color{green}{P_{DBW}} + \\color{purple}{2 \\alpha R} + 10log(10^{k_c(E-E_r)/10} - 1)$, where:  \n",
    "- C = constant combining several params specific to each instrument\n",
    "- $T_x$ = temperature measured at the transducer ($^{\\circ}$C)\n",
    "- R = along-beam range to the measurement, taken in the last quarter of the bin for Workhorse, Long Ranger, and Quartermaster, and at midpt of the bin for other instruments\n",
    "- $L_{DBM}$ = 10log(transmit pulse length, meters)\n",
    "- $P_{DBW}$ = 10log(transmit power, Watts)\n",
    "- $\\alpha$ = absorption coefficient of the water\n",
    "- $k_c$ = RSSI slope (dB/count)\n",
    "- $E_r$ = noise floor (counts)\n",
    "- Units = dB, referenced to $[meters × 4π]^{-1}$\n",
    "- From Mullison (2017), meant for newer generation ADCPs\n",
    "- Colors correspond to terms in eqn 2 below"
   ]
  },
  {
   "cell_type": "markdown",
   "metadata": {},
   "source": [
    "# Mean volume backscattering strength eqn (FST-003) **(EQUATION 2)**:  \n",
    "$S_v = \\color{red}{10log(\\frac{4.47 \\times 10^{-20} K_2 K_S}{c})} + \\color{blue}{10log((T_x + 273.16)*R^2)} - \\color{orange}{10log(P)} - \\color{green}{10log(K_1)} + \\color{purple}{2 \\alpha R} + 10log(10^{k_c(E-E_r)/10} - 1)$\n",
    "- $K_2$ = system noise factor (dimensionless)\n",
    "- $K_S$ = system constant, depends on NBADCP frequency\n",
    "- c = speed of sound at the scattering layer being measured\n",
    "- P = transmit pulse length\n",
    "- $K_1$ = real-time power into the water (Watts) \n",
    "- All others the same as Mullison (2017) eqn\n",
    "- Units = dB, referenced to $[meters × 4π]^{-1}$\n",
    "- From FST-003 by TRDI (1998), meant for NBADCPs technically\n",
    "- Colors correspond to terms in eqn 1 above"
   ]
  },
  {
   "cell_type": "markdown",
   "metadata": {},
   "source": [
    "# NBADCP-specific values and calculations (FST-003):"
   ]
  },
  {
   "cell_type": "markdown",
   "metadata": {},
   "source": [
    "**$C$: constant to match eqn 1 to 2 (dB)**  \n",
    "$C = 10log[\\frac{4.47 x 10^{-20} K_2 K_s}{c}]$, where c = speed of sound at the scattering layer being measured"
   ]
  },
  {
   "cell_type": "markdown",
   "metadata": {},
   "source": [
    "**$K_2$: system noise factor (dimensionless)**"
   ]
  },
  {
   "cell_type": "code",
   "execution_count": null,
   "metadata": {},
   "outputs": [],
   "source": [
    "# - From FST-003, pg 6:\n",
    "NB_K2_values = {\n",
    "    'instrument_prefix' : ['NB-VM','NB-VM','NB-VM','NB-VM','NB-VM','NB-DR','NB-DR','NB-DR','NB-DR','NB-DR'],\n",
    "    'freq_round_kHz' : [75, 150, 300, 600, 1200, 75, 150, 300, 600, 1200],\n",
    "    'K2' : [2.5, 4.3, 4.5, 9.1, 10.5, 2.2, 3.6, 4.2, 7.1, 8.1]\n",
    "}\n",
    "NB_K2_values = pd.DataFrame(NB_K2_values)\n",
    "NB_K2_values"
   ]
  },
  {
   "cell_type": "markdown",
   "metadata": {},
   "source": [
    "**$K_S$: system constant, depends on NBADCP freq**"
   ]
  },
  {
   "cell_type": "code",
   "execution_count": 6,
   "metadata": {},
   "outputs": [
    {
     "data": {
      "text/html": [
       "<div>\n",
       "<style scoped>\n",
       "    .dataframe tbody tr th:only-of-type {\n",
       "        vertical-align: middle;\n",
       "    }\n",
       "\n",
       "    .dataframe tbody tr th {\n",
       "        vertical-align: top;\n",
       "    }\n",
       "\n",
       "    .dataframe thead th {\n",
       "        text-align: right;\n",
       "    }\n",
       "</style>\n",
       "<table border=\"1\" class=\"dataframe\">\n",
       "  <thead>\n",
       "    <tr style=\"text-align: right;\">\n",
       "      <th></th>\n",
       "      <th>freq_round_kHz</th>\n",
       "      <th>Ks</th>\n",
       "    </tr>\n",
       "  </thead>\n",
       "  <tbody>\n",
       "    <tr>\n",
       "      <td>0</td>\n",
       "      <td>75</td>\n",
       "      <td>109000.0</td>\n",
       "    </tr>\n",
       "    <tr>\n",
       "      <td>1</td>\n",
       "      <td>150</td>\n",
       "      <td>417000.0</td>\n",
       "    </tr>\n",
       "    <tr>\n",
       "      <td>2</td>\n",
       "      <td>300</td>\n",
       "      <td>769000.0</td>\n",
       "    </tr>\n",
       "    <tr>\n",
       "      <td>3</td>\n",
       "      <td>600</td>\n",
       "      <td>1560000.0</td>\n",
       "    </tr>\n",
       "    <tr>\n",
       "      <td>4</td>\n",
       "      <td>1200</td>\n",
       "      <td>5650000.0</td>\n",
       "    </tr>\n",
       "  </tbody>\n",
       "</table>\n",
       "</div>"
      ],
      "text/plain": [
       "   freq_round_kHz         Ks\n",
       "0              75   109000.0\n",
       "1             150   417000.0\n",
       "2             300   769000.0\n",
       "3             600  1560000.0\n",
       "4            1200  5650000.0"
      ]
     },
     "execution_count": 6,
     "metadata": {},
     "output_type": "execute_result"
    }
   ],
   "source": [
    "# - From FST-003, pg 10:\n",
    "NB_Ks_values = {\n",
    "    'freq_round_kHz' : [75, 150, 300, 600, 1200],\n",
    "    'Ks' : [1.09E5, 4.17E5, 7.69E5, 1.56E6, 5.65E6]\n",
    "}\n",
    "NB_Ks_values = pd.DataFrame(NB_Ks_values)\n",
    "NB_Ks_values"
   ]
  },
  {
   "cell_type": "markdown",
   "metadata": {},
   "source": [
    "**$K_1$: real-time power into the water (Watts)**"
   ]
  },
  {
   "cell_type": "markdown",
   "metadata": {},
   "source": [
    "$K_1 = [\\frac{(V_s \\times a)-b}{c}]^2 \\times K_{1c}$\n",
    "- $V_s$ = real-time supply voltage to NBADCP transmitter (counts, V)\n",
    "- a, b, c constants shown in table below\n",
    "- $K_{1c}$ = power into the water during calibration at RDI factory (Watts), see table below"
   ]
  },
  {
   "cell_type": "code",
   "execution_count": 7,
   "metadata": {},
   "outputs": [
    {
     "data": {
      "text/html": [
       "<div>\n",
       "<style scoped>\n",
       "    .dataframe tbody tr th:only-of-type {\n",
       "        vertical-align: middle;\n",
       "    }\n",
       "\n",
       "    .dataframe tbody tr th {\n",
       "        vertical-align: top;\n",
       "    }\n",
       "\n",
       "    .dataframe thead th {\n",
       "        text-align: right;\n",
       "    }\n",
       "</style>\n",
       "<table border=\"1\" class=\"dataframe\">\n",
       "  <thead>\n",
       "    <tr style=\"text-align: right;\">\n",
       "      <th></th>\n",
       "      <th>instrument_prefix_voltage</th>\n",
       "      <th>a</th>\n",
       "      <th>b</th>\n",
       "      <th>c</th>\n",
       "    </tr>\n",
       "  </thead>\n",
       "  <tbody>\n",
       "    <tr>\n",
       "      <td>0</td>\n",
       "      <td>NB-DR</td>\n",
       "      <td>1.397</td>\n",
       "      <td>6.30</td>\n",
       "      <td>35.10</td>\n",
       "    </tr>\n",
       "    <tr>\n",
       "      <td>1</td>\n",
       "      <td>NB-VM-110</td>\n",
       "      <td>1.397</td>\n",
       "      <td>4.27</td>\n",
       "      <td>37.14</td>\n",
       "    </tr>\n",
       "    <tr>\n",
       "      <td>2</td>\n",
       "      <td>NB-VM-220</td>\n",
       "      <td>0.699</td>\n",
       "      <td>4.27</td>\n",
       "      <td>37.14</td>\n",
       "    </tr>\n",
       "    <tr>\n",
       "      <td>3</td>\n",
       "      <td>NB-SC</td>\n",
       "      <td>0.170</td>\n",
       "      <td>5.76</td>\n",
       "      <td>34.24</td>\n",
       "    </tr>\n",
       "  </tbody>\n",
       "</table>\n",
       "</div>"
      ],
      "text/plain": [
       "  instrument_prefix_voltage      a     b      c\n",
       "0                     NB-DR  1.397  6.30  35.10\n",
       "1                 NB-VM-110  1.397  4.27  37.14\n",
       "2                 NB-VM-220  0.699  4.27  37.14\n",
       "3                     NB-SC  0.170  5.76  34.24"
      ]
     },
     "execution_count": 7,
     "metadata": {},
     "output_type": "execute_result"
    }
   ],
   "source": [
    "NB_abc_values = {\n",
    "    'instrument_prefix_voltage' : ['NB-DR', 'NB-VM-110', 'NB-VM-220', 'NB-SC'],\n",
    "    'a' : [1.397, 1.397, 0.699, 0.170],\n",
    "    'b' : [6.30, 4.27, 4.27, 5.76],\n",
    "    'c' : [35.10, 37.14, 37.14, 34.24]\n",
    "}\n",
    "NB_abc_values = pd.DataFrame(NB_abc_values)\n",
    "NB_abc_values"
   ]
  },
  {
   "cell_type": "markdown",
   "metadata": {},
   "source": [
    "**$K_{1c}$: power into the water during calibration at RDI factory (Watts)**"
   ]
  },
  {
   "cell_type": "code",
   "execution_count": 8,
   "metadata": {},
   "outputs": [
    {
     "data": {
      "text/html": [
       "<div>\n",
       "<style scoped>\n",
       "    .dataframe tbody tr th:only-of-type {\n",
       "        vertical-align: middle;\n",
       "    }\n",
       "\n",
       "    .dataframe tbody tr th {\n",
       "        vertical-align: top;\n",
       "    }\n",
       "\n",
       "    .dataframe thead th {\n",
       "        text-align: right;\n",
       "    }\n",
       "</style>\n",
       "<table border=\"1\" class=\"dataframe\">\n",
       "  <thead>\n",
       "    <tr style=\"text-align: right;\">\n",
       "      <th></th>\n",
       "      <th>instrument_prefix</th>\n",
       "      <th>freq_round_kHz</th>\n",
       "      <th>K1c</th>\n",
       "    </tr>\n",
       "  </thead>\n",
       "  <tbody>\n",
       "    <tr>\n",
       "      <td>0</td>\n",
       "      <td>NB-VM</td>\n",
       "      <td>75</td>\n",
       "      <td>5.5</td>\n",
       "    </tr>\n",
       "    <tr>\n",
       "      <td>1</td>\n",
       "      <td>NB-VM</td>\n",
       "      <td>150</td>\n",
       "      <td>3.3</td>\n",
       "    </tr>\n",
       "    <tr>\n",
       "      <td>2</td>\n",
       "      <td>NB-VM</td>\n",
       "      <td>300</td>\n",
       "      <td>3.6</td>\n",
       "    </tr>\n",
       "    <tr>\n",
       "      <td>3</td>\n",
       "      <td>NB-VM</td>\n",
       "      <td>600</td>\n",
       "      <td>1.7</td>\n",
       "    </tr>\n",
       "    <tr>\n",
       "      <td>4</td>\n",
       "      <td>NB-VM</td>\n",
       "      <td>1200</td>\n",
       "      <td>1.2</td>\n",
       "    </tr>\n",
       "    <tr>\n",
       "      <td>5</td>\n",
       "      <td>NB-DR</td>\n",
       "      <td>75</td>\n",
       "      <td>6.1</td>\n",
       "    </tr>\n",
       "    <tr>\n",
       "      <td>6</td>\n",
       "      <td>NB-DR</td>\n",
       "      <td>150</td>\n",
       "      <td>3.9</td>\n",
       "    </tr>\n",
       "    <tr>\n",
       "      <td>7</td>\n",
       "      <td>NB-DR</td>\n",
       "      <td>300</td>\n",
       "      <td>4.1</td>\n",
       "    </tr>\n",
       "    <tr>\n",
       "      <td>8</td>\n",
       "      <td>NB-DR</td>\n",
       "      <td>600</td>\n",
       "      <td>1.9</td>\n",
       "    </tr>\n",
       "    <tr>\n",
       "      <td>9</td>\n",
       "      <td>NB-DR</td>\n",
       "      <td>1200</td>\n",
       "      <td>1.3</td>\n",
       "    </tr>\n",
       "  </tbody>\n",
       "</table>\n",
       "</div>"
      ],
      "text/plain": [
       "  instrument_prefix  freq_round_kHz  K1c\n",
       "0             NB-VM              75  5.5\n",
       "1             NB-VM             150  3.3\n",
       "2             NB-VM             300  3.6\n",
       "3             NB-VM             600  1.7\n",
       "4             NB-VM            1200  1.2\n",
       "5             NB-DR              75  6.1\n",
       "6             NB-DR             150  3.9\n",
       "7             NB-DR             300  4.1\n",
       "8             NB-DR             600  1.9\n",
       "9             NB-DR            1200  1.3"
      ]
     },
     "execution_count": 8,
     "metadata": {},
     "output_type": "execute_result"
    }
   ],
   "source": [
    "# - From FST-003, pg 10:\n",
    "# K1c = units of Watts\n",
    "NB_K1c_values = {\n",
    "    'instrument_prefix' : ['NB-VM','NB-VM','NB-VM','NB-VM','NB-VM','NB-DR','NB-DR','NB-DR','NB-DR','NB-DR'],\n",
    "    'freq_round_kHz' : [75, 150, 300, 600, 1200, 75, 150, 300, 600, 1200],\n",
    "    'K1c' : [5.5, 3.3, 3.6, 1.7, 1.2, 6.1, 3.9, 4.1, 1.9, 1.3]\n",
    "}\n",
    "NB_K1c_values = pd.DataFrame(NB_K1c_values)\n",
    "NB_K1c_values"
   ]
  },
  {
   "cell_type": "markdown",
   "metadata": {},
   "source": [
    "**$K_c$: conversion factor for echo intensity (dB/counts)**"
   ]
  },
  {
   "cell_type": "markdown",
   "metadata": {},
   "source": [
    "- For E < 200 counts, $K_c = \\frac{127.3}{T_e+271}$  \n",
    "- If E is 200-230 counts, calibration of $K_c$ must be done at RDI.\n",
    "- If E > 230 counts, $K_c$ can't be calibrated.  \n",
    "- $T_e$ = temperature of system electronics\n",
    "- \"$T_e$ is used to calculate $K_c$ and $E_r$. $E_r$...is particularly sensitive to changes in $T_e$, so it is crucial to obtain an accurate record of $T_e$.\"  \n",
    "- \"For DR-NBADCPs in which both system electronics and transducer assembly are immersed, $T_x$ can be substituted for $T_e$.\"  \n",
    "- \"The ambient temp for the sm electronics will generally differ from the temp recorded at the transducer. Therefore, you must independently measure and record the temperature of the system electronics.\""
   ]
  },
  {
   "cell_type": "markdown",
   "metadata": {},
   "source": [
    "**$E_r$: real-time reference level for echo intensity (counts)**\n",
    "\n",
    "- \"Because the reference level for each beam is sensitive to the temperature of the NBADCP electronics, the calibrated reference value $E_{rc}$ must be adjusted for real-time temperatures before being applied...as $E_r$.\"\n",
    "- 3 methods are available: equation method, approximation method, in-situ method\n",
    "- But I can only really use the in-situ method b/c I don't have values for $T_{ec}$ or $T_{xc}$\n",
    "    - $E_{rc}$ = reference thermal noise of NBADCP electronics during calibration in counts\n",
    "    - $T_{ec}$ = temp of sm electronics during calibration of $E_{rc}$ in $^{\\circ}$C\n",
    "    - $T_{xc}$ = temp of transducer during calibration of $E_{rc}$ in $^{\\circ}$C\n",
    "- \"In-situ method - the value for $E_r$ can be obtained from the dataset if the following conditions are met:\n",
    "    - a) Interfering signals that mask the thermal noise level are not present (see step 2).\n",
    "    - b) The range of the profile is long enough so propagation losses reduce the signal-to-noise ratio well below unity. At this point, the output in counts for echo intensity has reached and remains at its minimum value, which is $E_r$.\""
   ]
  },
  {
   "cell_type": "markdown",
   "metadata": {},
   "source": [
    "# OS-specific values and calculations:"
   ]
  },
  {
   "cell_type": "code",
   "execution_count": 9,
   "metadata": {},
   "outputs": [
    {
     "data": {
      "text/html": [
       "<div>\n",
       "<style scoped>\n",
       "    .dataframe tbody tr th:only-of-type {\n",
       "        vertical-align: middle;\n",
       "    }\n",
       "\n",
       "    .dataframe tbody tr th {\n",
       "        vertical-align: top;\n",
       "    }\n",
       "\n",
       "    .dataframe thead th {\n",
       "        text-align: right;\n",
       "    }\n",
       "</style>\n",
       "<table border=\"1\" class=\"dataframe\">\n",
       "  <thead>\n",
       "    <tr style=\"text-align: right;\">\n",
       "      <th></th>\n",
       "      <th>instrument_prefix</th>\n",
       "      <th>freq_round_kHz</th>\n",
       "      <th>C_25%</th>\n",
       "      <th>C_6%</th>\n",
       "      <th>PDBW_battery</th>\n",
       "      <th>PDBW_power_supply</th>\n",
       "      <th>rayleigh_distance</th>\n",
       "      <th>Kc_min</th>\n",
       "      <th>Kc_mean</th>\n",
       "      <th>Kc_max</th>\n",
       "      <th>Kc_sigma</th>\n",
       "      <th>Er_min</th>\n",
       "      <th>Er_mean</th>\n",
       "      <th>Er_max</th>\n",
       "      <th>Er_sigma</th>\n",
       "    </tr>\n",
       "  </thead>\n",
       "  <tbody>\n",
       "    <tr>\n",
       "      <td>0</td>\n",
       "      <td>OS</td>\n",
       "      <td>150</td>\n",
       "      <td>None</td>\n",
       "      <td>-156.01</td>\n",
       "      <td>None</td>\n",
       "      <td>21</td>\n",
       "      <td>1.62</td>\n",
       "      <td>0.41</td>\n",
       "      <td>0.42</td>\n",
       "      <td>0.44</td>\n",
       "      <td>0.012</td>\n",
       "      <td>18</td>\n",
       "      <td>22</td>\n",
       "      <td>28</td>\n",
       "      <td>2.08</td>\n",
       "    </tr>\n",
       "    <tr>\n",
       "      <td>1</td>\n",
       "      <td>OS</td>\n",
       "      <td>75</td>\n",
       "      <td>None</td>\n",
       "      <td>-164.26</td>\n",
       "      <td>None</td>\n",
       "      <td>24</td>\n",
       "      <td>3.24</td>\n",
       "      <td>0.36</td>\n",
       "      <td>0.39</td>\n",
       "      <td>0.42</td>\n",
       "      <td>0.019</td>\n",
       "      <td>11</td>\n",
       "      <td>19</td>\n",
       "      <td>25</td>\n",
       "      <td>2.93</td>\n",
       "    </tr>\n",
       "    <tr>\n",
       "      <td>2</td>\n",
       "      <td>OS</td>\n",
       "      <td>38</td>\n",
       "      <td>None</td>\n",
       "      <td>-172.19</td>\n",
       "      <td>None</td>\n",
       "      <td>24</td>\n",
       "      <td>8.19</td>\n",
       "      <td>0.36</td>\n",
       "      <td>0.37</td>\n",
       "      <td>0.37</td>\n",
       "      <td>0.004</td>\n",
       "      <td>5</td>\n",
       "      <td>14</td>\n",
       "      <td>33</td>\n",
       "      <td>4.83</td>\n",
       "    </tr>\n",
       "    <tr>\n",
       "      <td>3</td>\n",
       "      <td>OS-II</td>\n",
       "      <td>150</td>\n",
       "      <td>None</td>\n",
       "      <td>-156.01</td>\n",
       "      <td>None</td>\n",
       "      <td>21</td>\n",
       "      <td>1.62</td>\n",
       "      <td>0.41</td>\n",
       "      <td>0.42</td>\n",
       "      <td>0.44</td>\n",
       "      <td>0.012</td>\n",
       "      <td>18</td>\n",
       "      <td>22</td>\n",
       "      <td>28</td>\n",
       "      <td>2.08</td>\n",
       "    </tr>\n",
       "    <tr>\n",
       "      <td>4</td>\n",
       "      <td>OS-II</td>\n",
       "      <td>75</td>\n",
       "      <td>None</td>\n",
       "      <td>-164.26</td>\n",
       "      <td>None</td>\n",
       "      <td>24</td>\n",
       "      <td>3.24</td>\n",
       "      <td>0.36</td>\n",
       "      <td>0.39</td>\n",
       "      <td>0.42</td>\n",
       "      <td>0.019</td>\n",
       "      <td>11</td>\n",
       "      <td>19</td>\n",
       "      <td>25</td>\n",
       "      <td>2.93</td>\n",
       "    </tr>\n",
       "    <tr>\n",
       "      <td>5</td>\n",
       "      <td>OS-II</td>\n",
       "      <td>38</td>\n",
       "      <td>None</td>\n",
       "      <td>-172.19</td>\n",
       "      <td>None</td>\n",
       "      <td>24</td>\n",
       "      <td>8.19</td>\n",
       "      <td>0.36</td>\n",
       "      <td>0.37</td>\n",
       "      <td>0.37</td>\n",
       "      <td>0.004</td>\n",
       "      <td>5</td>\n",
       "      <td>14</td>\n",
       "      <td>33</td>\n",
       "      <td>4.83</td>\n",
       "    </tr>\n",
       "  </tbody>\n",
       "</table>\n",
       "</div>"
      ],
      "text/plain": [
       "  instrument_prefix  freq_round_kHz C_25%    C_6% PDBW_battery  \\\n",
       "0                OS             150  None -156.01         None   \n",
       "1                OS              75  None -164.26         None   \n",
       "2                OS              38  None -172.19         None   \n",
       "3             OS-II             150  None -156.01         None   \n",
       "4             OS-II              75  None -164.26         None   \n",
       "5             OS-II              38  None -172.19         None   \n",
       "\n",
       "   PDBW_power_supply  rayleigh_distance  Kc_min  Kc_mean  Kc_max  Kc_sigma  \\\n",
       "0                 21               1.62    0.41     0.42    0.44     0.012   \n",
       "1                 24               3.24    0.36     0.39    0.42     0.019   \n",
       "2                 24               8.19    0.36     0.37    0.37     0.004   \n",
       "3                 21               1.62    0.41     0.42    0.44     0.012   \n",
       "4                 24               3.24    0.36     0.39    0.42     0.019   \n",
       "5                 24               8.19    0.36     0.37    0.37     0.004   \n",
       "\n",
       "   Er_min  Er_mean  Er_max  Er_sigma  \n",
       "0      18       22      28      2.08  \n",
       "1      11       19      25      2.93  \n",
       "2       5       14      33      4.83  \n",
       "3      18       22      28      2.08  \n",
       "4      11       19      25      2.93  \n",
       "5       5       14      33      4.83  "
      ]
     },
     "execution_count": 9,
     "metadata": {},
     "output_type": "execute_result"
    }
   ],
   "source": [
    "# - C, PDBW, rayleigh distance from Mullison (2017);\n",
    "# Kc, Er from Jerry Mullison emails in Jan 2020\n",
    "# -->ASSUMPTION FOR NOW: OS and OS-II have same values\n",
    "# -->ASSUMPTION FOR NOW: C_25% copied from C_6% below\n",
    "OS_C_PDBW_Kc_Er_values = {\n",
    "    'instrument_prefix' : ['OS','OS','OS','OS-II','OS-II','OS-II'],\n",
    "    'freq_round_kHz' : [150, 75, 38, 150, 75, 38],\n",
    "    # -->ASSUMPTION FOR NOW: C_25% copied from C_6% below\n",
    "    'C_25%' : [-156.01, -164.26, -172.19, -156.01, -164.26, -172.19],\n",
    "    'C_6%' : [-156.01, -164.26, -172.19, -156.01, -164.26, -172.19],\n",
    "    'PDBW_battery' : [None, None, None, None, None, None],\n",
    "    'PDBW_power_supply' : [21, 24, 24, 21, 24, 24],\n",
    "    'rayleigh_distance' : [1.62, 3.24, 8.19, 1.62, 3.24, 8.19],\n",
    "    'Kc_min' : [0.41, 0.36, 0.36, 0.41, 0.36, 0.36],\n",
    "    'Kc_mean' : [0.42, 0.39, 0.37, 0.42, 0.39, 0.37],\n",
    "    'Kc_max' : [0.44, 0.42, 0.37, 0.44, 0.42, 0.37],\n",
    "    'Kc_sigma' : [0.012, 0.019, 0.004, 0.012, 0.019, 0.004],\n",
    "    'Er_min' : [18, 11, 5, 18, 11, 5],\n",
    "    'Er_mean' : [22, 19, 14, 22, 19, 14],\n",
    "    'Er_max' : [28, 25, 33, 28, 25, 33],\n",
    "    'Er_sigma' : [2.08, 2.93, 4.83, 2.08, 2.93, 4.83]\n",
    "}\n",
    "OS_C_PDBW_Kc_Er_values = pd.DataFrame(OS_C_PDBW_Kc_Er_values)\n",
    "OS_C_PDBW_Kc_Er_values"
   ]
  },
  {
   "cell_type": "markdown",
   "metadata": {},
   "source": [
    "# WH-specific values and calculations:"
   ]
  },
  {
   "cell_type": "code",
   "execution_count": 10,
   "metadata": {},
   "outputs": [
    {
     "data": {
      "text/html": [
       "<div>\n",
       "<style scoped>\n",
       "    .dataframe tbody tr th:only-of-type {\n",
       "        vertical-align: middle;\n",
       "    }\n",
       "\n",
       "    .dataframe tbody tr th {\n",
       "        vertical-align: top;\n",
       "    }\n",
       "\n",
       "    .dataframe thead th {\n",
       "        text-align: right;\n",
       "    }\n",
       "</style>\n",
       "<table border=\"1\" class=\"dataframe\">\n",
       "  <thead>\n",
       "    <tr style=\"text-align: right;\">\n",
       "      <th></th>\n",
       "      <th>instrument_prefix</th>\n",
       "      <th>freq_round_kHz</th>\n",
       "      <th>C_25%</th>\n",
       "      <th>C_6%</th>\n",
       "      <th>PDBW_battery</th>\n",
       "      <th>PDBW_power_supply</th>\n",
       "      <th>rayleigh_distance</th>\n",
       "      <th>Kc_mean</th>\n",
       "      <th>Er_mean</th>\n",
       "    </tr>\n",
       "  </thead>\n",
       "  <tbody>\n",
       "    <tr>\n",
       "      <td>0</td>\n",
       "      <td>WH</td>\n",
       "      <td>1200</td>\n",
       "      <td>-129.44</td>\n",
       "      <td>-139.57</td>\n",
       "      <td>4.8</td>\n",
       "      <td>8.3</td>\n",
       "      <td>1.71</td>\n",
       "      <td>0.42</td>\n",
       "      <td>None</td>\n",
       "    </tr>\n",
       "    <tr>\n",
       "      <td>1</td>\n",
       "      <td>WH</td>\n",
       "      <td>600</td>\n",
       "      <td>-139.09</td>\n",
       "      <td>-149.14</td>\n",
       "      <td>9.0</td>\n",
       "      <td>12.5</td>\n",
       "      <td>1.75</td>\n",
       "      <td>0.42</td>\n",
       "      <td>None</td>\n",
       "    </tr>\n",
       "    <tr>\n",
       "      <td>2</td>\n",
       "      <td>WH</td>\n",
       "      <td>300</td>\n",
       "      <td>-140.87</td>\n",
       "      <td>-151.64</td>\n",
       "      <td>14.0</td>\n",
       "      <td>17.5</td>\n",
       "      <td>0.87</td>\n",
       "      <td>0.42</td>\n",
       "      <td>None</td>\n",
       "    </tr>\n",
       "    <tr>\n",
       "      <td>3</td>\n",
       "      <td>WH-Mariner</td>\n",
       "      <td>1200</td>\n",
       "      <td>-129.44</td>\n",
       "      <td>-139.57</td>\n",
       "      <td>4.8</td>\n",
       "      <td>8.3</td>\n",
       "      <td>1.71</td>\n",
       "      <td>0.42</td>\n",
       "      <td>None</td>\n",
       "    </tr>\n",
       "    <tr>\n",
       "      <td>4</td>\n",
       "      <td>WH-Mariner</td>\n",
       "      <td>600</td>\n",
       "      <td>-139.09</td>\n",
       "      <td>-149.14</td>\n",
       "      <td>9.0</td>\n",
       "      <td>12.5</td>\n",
       "      <td>1.75</td>\n",
       "      <td>0.42</td>\n",
       "      <td>None</td>\n",
       "    </tr>\n",
       "    <tr>\n",
       "      <td>5</td>\n",
       "      <td>WH-Mariner</td>\n",
       "      <td>300</td>\n",
       "      <td>-140.87</td>\n",
       "      <td>-151.64</td>\n",
       "      <td>14.0</td>\n",
       "      <td>17.5</td>\n",
       "      <td>0.87</td>\n",
       "      <td>0.42</td>\n",
       "      <td>None</td>\n",
       "    </tr>\n",
       "  </tbody>\n",
       "</table>\n",
       "</div>"
      ],
      "text/plain": [
       "  instrument_prefix  freq_round_kHz   C_25%    C_6%  PDBW_battery  \\\n",
       "0                WH            1200 -129.44 -139.57           4.8   \n",
       "1                WH             600 -139.09 -149.14           9.0   \n",
       "2                WH             300 -140.87 -151.64          14.0   \n",
       "3        WH-Mariner            1200 -129.44 -139.57           4.8   \n",
       "4        WH-Mariner             600 -139.09 -149.14           9.0   \n",
       "5        WH-Mariner             300 -140.87 -151.64          14.0   \n",
       "\n",
       "   PDBW_power_supply  rayleigh_distance  Kc_mean Er_mean  \n",
       "0                8.3               1.71     0.42    None  \n",
       "1               12.5               1.75     0.42    None  \n",
       "2               17.5               0.87     0.42    None  \n",
       "3                8.3               1.71     0.42    None  \n",
       "4               12.5               1.75     0.42    None  \n",
       "5               17.5               0.87     0.42    None  "
      ]
     },
     "execution_count": 10,
     "metadata": {},
     "output_type": "execute_result"
    }
   ],
   "source": [
    "# - C, PDBW, rayleigh distance from Mullison (2017);\n",
    "# Kc from TRDI field service emails in Jan 2020\n",
    "# (but they didn't specify a frequency)\n",
    "# -->ASSUMPTION FOR NOW: WH and WH-Mariner have same values (prob good assumption)\n",
    "# -->ASSUMPTION FOR NOW: Kc same for all frequencies\n",
    "WH_C_PDBW_Kc_Er_values = {\n",
    "    'instrument_prefix' : ['WH','WH','WH','WH-Mariner','WH-Mariner','WH-Mariner'],\n",
    "    'freq_round_kHz' : [1200, 600, 300, 1200, 600, 300],\n",
    "    'C_25%' : [-129.44, -139.09, -140.87, -129.44, -139.09, -140.87],\n",
    "    'C_6%' : [-139.57, -149.14, -151.64, -139.57, -149.14, -151.64],\n",
    "    'PDBW_battery' : [4.8, 9, 14, 4.8, 9, 14],\n",
    "    'PDBW_power_supply' : [8.3, 12.5, 17.5, 8.3, 12.5, 17.5],\n",
    "    'rayleigh_distance' : [1.71, 1.75, 0.87, 1.71, 1.75, 0.87],\n",
    "    'Kc_mean' : [0.42, 0.42, 0.42, 0.42, 0.42, 0.42],\n",
    "    'Er_mean' : [None, None, None, None, None, None],\n",
    "}\n",
    "WH_C_PDBW_Kc_Er_values = pd.DataFrame(WH_C_PDBW_Kc_Er_values)\n",
    "WH_C_PDBW_Kc_Er_values"
   ]
  },
  {
   "cell_type": "markdown",
   "metadata": {},
   "source": [
    "# BBADCP-specific values and calculations:"
   ]
  },
  {
   "cell_type": "code",
   "execution_count": 11,
   "metadata": {},
   "outputs": [
    {
     "data": {
      "text/html": [
       "<div>\n",
       "<style scoped>\n",
       "    .dataframe tbody tr th:only-of-type {\n",
       "        vertical-align: middle;\n",
       "    }\n",
       "\n",
       "    .dataframe tbody tr th {\n",
       "        vertical-align: top;\n",
       "    }\n",
       "\n",
       "    .dataframe thead th {\n",
       "        text-align: right;\n",
       "    }\n",
       "</style>\n",
       "<table border=\"1\" class=\"dataframe\">\n",
       "  <thead>\n",
       "    <tr style=\"text-align: right;\">\n",
       "      <th></th>\n",
       "      <th>instrument_prefix</th>\n",
       "      <th>freq_round_kHz</th>\n",
       "      <th>C_25%</th>\n",
       "      <th>C_6%</th>\n",
       "      <th>PDBW_battery</th>\n",
       "      <th>PDBW_power_supply</th>\n",
       "      <th>rayleigh_distance</th>\n",
       "      <th>Kc_mean</th>\n",
       "      <th>Er_mean</th>\n",
       "    </tr>\n",
       "  </thead>\n",
       "  <tbody>\n",
       "    <tr>\n",
       "      <td>0</td>\n",
       "      <td>BB-VM</td>\n",
       "      <td>150</td>\n",
       "      <td>None</td>\n",
       "      <td>None</td>\n",
       "      <td>None</td>\n",
       "      <td>None</td>\n",
       "      <td>None</td>\n",
       "      <td>0.45</td>\n",
       "      <td>None</td>\n",
       "    </tr>\n",
       "  </tbody>\n",
       "</table>\n",
       "</div>"
      ],
      "text/plain": [
       "  instrument_prefix  freq_round_kHz C_25%  C_6% PDBW_battery  \\\n",
       "0             BB-VM             150  None  None         None   \n",
       "\n",
       "  PDBW_power_supply rayleigh_distance  Kc_mean Er_mean  \n",
       "0              None              None     0.45    None  "
      ]
     },
     "execution_count": 11,
     "metadata": {},
     "output_type": "execute_result"
    }
   ],
   "source": [
    "# - Kc from TRDI field service emails in Jan 2020\n",
    "# (but they didn't specify a frequency)\n",
    "BB_C_PDBW_Kc_Er_values = {\n",
    "    'instrument_prefix' : ['BB-VM'],\n",
    "    'freq_round_kHz' : [150],\n",
    "    # -->ASSUMPTION FOR NOW: -156.01 from OS, -140.87 from WH, used avg for BB here\n",
    "    'C_25%' : [-148],\n",
    "    'C_6%' : [None],\n",
    "    'PDBW_battery' : [None],\n",
    "    # -->ASSUMPTION FOR NOW: 21 from OS 150kHz, 17.5 taken from WH 300kHz, used OS for BB here\n",
    "    'PDBW_power_supply' : [21],\n",
    "    'rayleigh_distance' : [None], \n",
    "    'Kc_mean' : [0.45],\n",
    "    'Er_mean' : [None],\n",
    "}\n",
    "BB_C_PDBW_Kc_Er_values = pd.DataFrame(BB_C_PDBW_Kc_Er_values)\n",
    "BB_C_PDBW_Kc_Er_values"
   ]
  },
  {
   "cell_type": "markdown",
   "metadata": {},
   "source": [
    "# Calculations common to all ADCP:"
   ]
  },
  {
   "cell_type": "markdown",
   "metadata": {},
   "source": [
    "## 1.) **$R$: slant range to depth cell (m)**"
   ]
  },
  {
   "cell_type": "markdown",
   "metadata": {},
   "source": [
    "$R = \\frac{B + |(P-D)/2| + (N \\times D) + (D/4)}{cos(\\theta)} \\times \\frac{c'}{1475.1}$\n",
    "**[method 1]**\n",
    "- B = blank beyond transmit (m) (same as blanking interval?)\n",
    "- P = transmit pulse length (m)\n",
    "- D = depth cell length (m)\n",
    "- N = depth cell number of the scattering layer being measured\n",
    "- c' = wted avg of sound speed btwn transducer and depth cell (m/s)\n",
    "- $\\theta$ = angle of transducer beams from vertical (degrees)\n",
    "- NBADCP, BBADCP, and WH sample echo intensity in the last quarter of each depth cell, not the center --> D/4 accts for this\n",
    "- All other instruments sample at midpt of bin --> remove D/4, I think?\n",
    "- NBADCP assumes the speed of sound is 1475.1 m/s in dtmning depth cell size; c'/1475.1 m/s corrects for variations from this value\n",
    "- From FST-003, used in Lee et al. (2004) and Dwinovantyo et al. (2019)"
   ]
  },
  {
   "cell_type": "markdown",
   "metadata": {},
   "source": [
    "$R = \\frac{B + (L+D)/2 + ((N-1) \\times D) + (D/4)}{cos(\\theta)} \\times \\frac{c'}{c_1}$\n",
    "**[method 2]**\n",
    "- B = blank beyond transmit (m) (same as blanking interval?)\n",
    "- D = depth cell length (m)\n",
    "- N = depth cell number of the scattering layer being measured\n",
    "- c' = wted avg of sound speed btwn transducer and depth cell (m/s)\n",
    "- $c_1$ = sound speed used by the instrument (m/s)\n",
    "- $\\theta$ = angle of transducer beams from vertical (degrees)\n",
    "- From Deines (1999)"
   ]
  },
  {
   "cell_type": "markdown",
   "metadata": {},
   "source": [
    "$R = \\frac{B + (L + D + L_a)/2 + D/4 + (n-1)D}{cos(\\theta)}$\n",
    "**[method 3]**\n",
    "- B = blank length (m)\n",
    "- D = depth cell length (m)\n",
    "- n = depth cell number of the scattering layer being measured\n",
    "- L = transmit pulse length\n",
    "- $L_a$ = transmit lag distance (m) \n",
    "- $\\theta$ = angle of transducer beams from vertical (degrees)\n",
    "- This expression differs from Deines (1999), where the transmit lag distance is not included\n",
    "- From Gostiaux and van Haren (2010)"
   ]
  },
  {
   "cell_type": "markdown",
   "metadata": {},
   "source": [
    "$R$ = depth to center of bin\n",
    "**[method 4]**\n",
    "- Can just use the depth to the middle of the bin; errors compared to the complicated R formulas are small"
   ]
  },
  {
   "cell_type": "markdown",
   "metadata": {},
   "source": [
    "$R$ = depth to center of bin/$cos(\\theta)$\n",
    "**[method 5]**\n",
    "- Jerry Mullison said \"for the OS systems you can use the midpoint of the bins for range - still have to divide by cos(Janus) to get the along beam range\""
   ]
  },
  {
   "cell_type": "markdown",
   "metadata": {},
   "source": [
    "$R$ = depth to center of bin/$cos(\\theta) \\times \\frac{c'}{c_1}$\n",
    "**[method 6]**\n",
    "- I added in the sound speed correction, which is technically always needed"
   ]
  },
  {
   "cell_type": "markdown",
   "metadata": {},
   "source": [
    "## 2.) **$2 \\alpha R$: total absorption (dB)**"
   ]
  },
  {
   "cell_type": "markdown",
   "metadata": {},
   "source": [
    "$2 \\alpha R = \\frac{2 \\alpha_p B}{cos(\\theta)} + \\sum_{n=1}^{b} \\alpha_n$\n",
    "- b = range cell number\n",
    "- $\\alpha_n = \\frac{2 \\alpha D}{cos(\\theta)}$\n",
    "- $\\alpha$ = absorption coefficient at that depth\n",
    "- $\\alpha_p$ = absorption at the profiler\n",
    "- B = blank length (m)\n",
    "- D = depth cell length (m)\n",
    "- n = depth cell number of the scattering layer being measured\n",
    "- $\\theta$ = angle of transducer beams from vertical (degrees)\n",
    "- From Deines (1999)"
   ]
  },
  {
   "cell_type": "markdown",
   "metadata": {},
   "source": [
    "## 3.) **$E_r$: real-time reference level for echo intensity (counts)**  \n",
    "\n",
    "If $E_r$ isn't specified, use the minimum echo intensity in all of the received data, as in the following papers:\n",
    "- Lee et al. (2004): \"In the present paper, $E_r$ of each beam was chosen as the minimum echo intensity in all of the received data.\"\n",
    "- Gostiaux and van Haren (2010): \"The term $E_{noise}$ is the tail value of the minimum RSSI profile over the total record.\""
   ]
  },
  {
   "cell_type": "markdown",
   "metadata": {},
   "source": [
    "## 4.) **c: speed of sound (m/s)**  "
   ]
  },
  {
   "cell_type": "markdown",
   "metadata": {},
   "source": [
    "$c = 1448.96 + 4.591T - 0.05304T^2 + 2.374 \\times 10^{-4}T^3 + 1.34(S-35) + 0.0163z + 1.675 \\times 10^{-7}z^2 - 0.01025T(S-35) - 7.139 \\times 10^{-13}Tz^3$ **[method 1]**\n",
    "- T = temp in degC\n",
    "- S = salinity in PSU, parts per thousand\n",
    "- z = depth in meters  \n",
    "- Valid for temps from -2-30degC, salinities from 25-40 ppt, depths from 0-8000m\n",
    "- Std error of the predicted SS is 0.07 m/s\n",
    "- Above 1000m, $Tz^3$ term is very small and may be ignored\n",
    "- From Mackenzie (1981) from Simmonds and MacLennan (2008)"
   ]
  },
  {
   "cell_type": "markdown",
   "metadata": {},
   "source": [
    "$c = 1449.2 + 4.6T - 0.055T^2 + 0.00029T^3 + (1.34-0.01T)(S-35) + 0.016D$ **[method 2]**\n",
    "- T = temp in degC\n",
    "- S = salinity in PSU, parts per thousand\n",
    "- D = depth in meters  \n",
    "- From Urick (1983) from \"ADCP Principles of Operation: A Practical Primer\""
   ]
  },
  {
   "cell_type": "markdown",
   "metadata": {},
   "source": [
    "$c = 1492.9 + 3(T-10) - 0.006(T-10)^2 - 0.04(T-18)^2 + 1.2(S-35) - 0.01(T-18)(S-35) + D/61$\n",
    "- T = temp in degC\n",
    "- S = salinity in PSU, parts per thousand\n",
    "- D = depth in meters  \n",
    "- Predicts c correctly to within 0.1 m/s for temps from -2-23degC, salinities from 30-40ppt, depths above 500m\n",
    "- Less accurate, but simpler formula good enough for many fishery applications\n",
    "- From Leroy (1969) from Simmonds and MacLennan (2008)"
   ]
  },
  {
   "cell_type": "markdown",
   "metadata": {},
   "source": [
    "## 5.) **$\\alpha$: absorption coefficient (dB/km)**"
   ]
  },
  {
   "cell_type": "markdown",
   "metadata": {},
   "source": [
    "$\\alpha = \\frac{A_1 P_1 f_1 f^2}{f^2 + f_1^2} + \\frac{A_2 P_2 f_2 f^2}{f^2 + f_2^2} + A_3 P_3 f^2$  \n",
    "$A_1 = (8.86/c) 10^{0.78pH-5}$  \n",
    "$f_1 = 2.8(S/35)^{0.5} 10^{[4-1245/(T+273)]}$  \n",
    "$P_1 = 1$  \n",
    "$A_2 = 21.44(S/c)(1+0.025T)$  \n",
    "$P_2 = 1-1.37 \\times 10^{-4}z + 6.2 \\times 10^{-9}z^2$  \n",
    "$f_2 = 8.17 \\times 10^{[8-1990/(T+273)]} /[1 + 0.0018(S-35)]$  \n",
    "$P_3 = 1-3.83 \\times 10^{-5}z + 4.9 \\times 10^{-10}z^2$  \n",
    "$A_3 = \\begin{cases}\n",
    "  4.937 \\times 10^{-4} - 2.59 \\times 10^{-5}T + 9.11 \\times 10^{-7}T^2 - 1.5 \\times 10^{-8}T^3, & \\text{if } T \\le 20^{\\circ}C, \\\\\n",
    "  3.964 \\times 10^{-4} - 1.146 \\times 10^{-5}T + 1.45 \\times 10^{-7}T^2 - 6.5 \\times 10^{-10}T^3, & \\text{if } T \\gt 20^{\\circ}C.\n",
    "\\end{cases}$\n",
    "- f = frequency in kHz\n",
    "- T = temp in $^{\\circ}$C\n",
    "- S = salinity in PSU, parts per thousand\n",
    "- z = depth in meters  \n",
    "- pH = pH (unitless)\n",
    "- c = sound speed in m/s\n",
    "- Claimed to predict $\\alpha$ to an accuracy of 5% for temps from -1.8-30$^{\\circ}$C, salinities from 30-35ppt, frequencies from 400Hz-1MHz\n",
    "- pH of sw 7.8-8.2. Reasonable to assume pH=8.\n",
    "- From Francois and Garrison (1982) from Simmonds and MacLennan (2008)"
   ]
  },
  {
   "cell_type": "markdown",
   "metadata": {},
   "source": [
    "# References cited"
   ]
  },
  {
   "cell_type": "markdown",
   "metadata": {},
   "source": [
    "Deines, K. L. (1999). Backscatter estimation using Broadband acoustic Doppler current profilers. In Proceedings of the IEEE Sixth Working Conference on Current Measurement (Cat. No.99CH36331) (pp. 249–253). https://doi.org/10.1109/CCM.1999.755249\n",
    "\n",
    "Dwinovantyo, A., Manik, H. M., Prartono, T., Susilohadi, S., & Mukai, T. (2019). Variation of Zooplankton Mean Volume Backscattering Strength from Moored and Mobile ADCP Instruments for Diel Vertical Migration Observation. Applied Sciences, 9(9), 1851. https://doi.org/10.3390/app9091851\n",
    "\n",
    "Francois, R. E., & Garrison, G. R. (1982). Sound absorption based on ocean measurements. Part II: Boric acid contribution and equation for total absorption. The Journal of the Acoustical Society of America, 72(6), 1879–1890. https://doi.org/10.1121/1.388673\n",
    "\n",
    "Gostiaux, L., & van Haren, H. (2009). Extracting Meaningful Information from Uncalibrated Backscattered Echo Intensity Data. Journal of Atmospheric and Oceanic Technology, 27(5), 943–949. https://doi.org/10.1175/2009JTECHO704.1\n",
    "\n",
    "Lee, K., Mukai, T., Kang, D., & Iida, K. (2004). Application of acoustic Doppler current profiler combined with a scientific echo sounder for krill Euphausia pacifica density estimation. Fisheries Science, 70(6), 1051–1060. https://doi.org/10.1111/j.1444-2906.2004.00905.x\n",
    "\n",
    "Leroy, C. C. (1969). Development of Simple Equations for Accurate and More Realistic Calculation of the Speed of Sound in Seawater. The Journal of the Acoustical Society of America, 46(1B), 216–226. https://doi.org/10.1121/1.1911673\n",
    "\n",
    "Mackenzie, K. V. (1981). Nine‐term equation for sound speed in the oceans. The Journal of the Acoustical Society of America, 70(3), 807–812. https://doi.org/10.1121/1.386920\n",
    "\n",
    "Mullison, J. (2017). Backscatter Estimation Using Broadband Acoustic Doppler Current Profilers - Updated (FSA No. 031). Poway, CA: Teledyne RD Instruments. Retrieved from http://www.teledynemarine.com/Documents/Brand%20Support/RD%20INSTRUMENTS/Technical%20Resources/Technical%20Notes/WorkHorse%20-%20ADCP%20Special%20Applications%20and%20Modes/FSA031.pdf\n",
    "\n",
    "Simmonds, J., & MacLennan, D. N. (2008). Fisheries Acoustics: Theory and Practice. John Wiley & Sons.\n",
    "\n",
    "Teledyne RD Instruments. (1998). FST-003 - Calculating absolute backscatter in narrowband ADCPs (Field Service Technical Paper No. FST-003). Retrieved from http://www.teledynemarine.com/Documents/Brand%20Support/RD%20INSTRUMENTS/Technical%20Resources/Technical%20Notes/Narrowband/FST003.PDF\n",
    "\n",
    "Teledyne RD Instruments. (2011). Acoustic Doppler Current Profiler Principles of Operation: A Practical Primer (No. P/N 951-6069-00). Retrieved from https://www.comm-tec.com/Docs/Manuali/RDI/BBPRIME.pdf\n",
    "\n",
    "Urick, R. (1983). Principles of Underwater Sound, Third edition (Soft and Hard Covers). Peninsula Pub."
   ]
  }
 ],
 "metadata": {
  "kernelspec": {
   "display_name": "Python 3",
   "language": "python",
   "name": "python3"
  },
  "language_info": {
   "codemirror_mode": {
    "name": "ipython",
    "version": 3
   },
   "file_extension": ".py",
   "mimetype": "text/x-python",
   "name": "python",
   "nbconvert_exporter": "python",
   "pygments_lexer": "ipython3",
   "version": "3.7.3"
  }
 },
 "nbformat": 4,
 "nbformat_minor": 4
}
